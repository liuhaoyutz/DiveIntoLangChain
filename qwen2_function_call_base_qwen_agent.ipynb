{
 "cells": [
  {
   "cell_type": "markdown",
   "metadata": {},
   "source": [
    "Function call，简单的理解就是由LLM分析用户的输入，如果需要调用事先定义好的function，LLM返回function名字以及要传递给function的参数。用户空间执行function，再把function执行结果返回给LLM继续分析，如此循环，直到LLM认为得到最终答案，LLM返回最终答案。  \n",
    "  \n",
    "每一种模型对function call的格式有自己的定义，这和训练模型时使用的数据有关，所以对于不同模型，function call的处理可能不同。  \n",
    "  \n",
    "参考 https://qwen.readthedocs.io/en/v2.0/framework/function_call.html"
   ]
  },
  {
   "cell_type": "code",
   "execution_count": 1,
   "metadata": {},
   "outputs": [],
   "source": [
    "import json\n",
    "import re\n",
    "\n",
    "# function call实现函数，用于取得当前温度\n",
    "def get_current_temperature(location: str, unit: str = \"celsius\"):\n",
    "    \"\"\"Get current temperature at a location.\n",
    "\n",
    "    Args:\n",
    "        location: The location to get the temperature for, in the format \"City, State, Country\".\n",
    "        unit: The unit to return the temperature in. Defaults to \"celsius\". (choices: [\"celsius\", \"fahrenheit\"])\n",
    "\n",
    "    Returns:\n",
    "        the temperature, the location, and the unit in a dict\n",
    "    \"\"\"\n",
    "    return {\n",
    "        \"temperature\": 26.1,\n",
    "        \"location\": location,\n",
    "        \"unit\": unit,\n",
    "    }\n",
    "\n",
    "# function call实现函数，用于取得date指定的日期的温度\n",
    "def get_temperature_date(location: str, date: str, unit: str = \"celsius\"):\n",
    "    \"\"\"Get temperature at a location and date.\n",
    "\n",
    "    Args:\n",
    "        location: The location to get the temperature for, in the format \"City, State, Country\".\n",
    "        date: The date to get the temperature for, in the format \"Year-Month-Day\".\n",
    "        unit: The unit to return the temperature in. Defaults to \"celsius\". (choices: [\"celsius\", \"fahrenheit\"])\n",
    "\n",
    "    Returns:\n",
    "        the temperature, the location, the date and the unit in a dict\n",
    "    \"\"\"\n",
    "    return {\n",
    "        \"temperature\": 25.9,\n",
    "        \"location\": location,\n",
    "        \"date\": date,\n",
    "        \"unit\": unit,\n",
    "    }\n",
    "\n",
    "# 根据name返回对应的函数，用法如下：\n",
    "# fn_res: str = json.dumps(get_function_by_name(fn_name)(**fn_args))\n",
    "def get_function_by_name(name):\n",
    "    if name == \"get_current_temperature\":\n",
    "        return get_current_temperature\n",
    "    if name == \"get_temperature_date\":\n",
    "        return get_temperature_date\n",
    "\n",
    "def try_parse_tool_calls(content: str):\n",
    "    \"\"\"Try parse the tool calls.\"\"\"\n",
    "    tool_calls = []\n",
    "    for m in re.finditer(r\"<\\|tool_call_start\\|>(.+)?<\\|tool_call_end\\|>\", content):\n",
    "        try:\n",
    "            func = json.loads(m.group(1))\n",
    "            tool_calls.append({\"type\": \"function\", \"function\": func})\n",
    "            if isinstance(func[\"arguments\"], str):\n",
    "                func[\"arguments\"] = json.loads(func[\"arguments\"])\n",
    "        except json.JSONDecodeError as _:\n",
    "            print(m)\n",
    "            pass\n",
    "    if tool_calls:\n",
    "        return {\"role\": \"assistant\", \"tool_calls\": tool_calls}\n",
    "    return {\"role\": \"assistant\", \"content\": re.sub(r\"<\\|im_end\\|>$\", \"\", content)}\n",
    "\n",
    "# TOOLS是一个列表，这里定义了2个元素，每个元素都是一个function，其用法如下：\n",
    "# functions = [tool[\"function\"] for tool in TOOLS]\n",
    "TOOLS = [\n",
    "    {\n",
    "        \"type\": \"function\",\n",
    "        \"function\": {\n",
    "            \"name\": \"get_current_temperature\",\n",
    "            \"description\": \"Get current temperature at a location.\",\n",
    "            \"parameters\": {\n",
    "                \"type\": \"object\",\n",
    "                \"properties\": {\n",
    "                    \"location\": {\n",
    "                        \"type\": \"string\",\n",
    "                        \"description\": 'The location to get the temperature for, in the format \"City, State, Country\".',\n",
    "                    },\n",
    "                    \"unit\": {\n",
    "                        \"type\": \"string\",\n",
    "                        \"enum\": [\"celsius\", \"fahrenheit\"],\n",
    "                        \"description\": 'The unit to return the temperature in. Defaults to \"celsius\".',\n",
    "                    },\n",
    "                },\n",
    "                \"required\": [\"location\"],\n",
    "            },\n",
    "        },\n",
    "    },\n",
    "    {\n",
    "        \"type\": \"function\",\n",
    "        \"function\": {\n",
    "            \"name\": \"get_temperature_date\",\n",
    "            \"description\": \"Get temperature at a location and date.\",\n",
    "            \"parameters\": {\n",
    "                \"type\": \"object\",\n",
    "                \"properties\": {\n",
    "                    \"location\": {\n",
    "                        \"type\": \"string\",\n",
    "                        \"description\": 'The location to get the temperature for, in the format \"City, State, Country\".',\n",
    "                    },\n",
    "                    \"date\": {\n",
    "                        \"type\": \"string\",\n",
    "                        \"description\": 'The date to get the temperature for, in the format \"Year-Month-Day\".',\n",
    "                    },\n",
    "                    \"unit\": {\n",
    "                        \"type\": \"string\",\n",
    "                        \"enum\": [\"celsius\", \"fahrenheit\"],\n",
    "                        \"description\": 'The unit to return the temperature in. Defaults to \"celsius\".',\n",
    "                    },\n",
    "                },\n",
    "                \"required\": [\"location\", \"date\"],\n",
    "            },\n",
    "        },\n",
    "    },\n",
    "]\n",
    "\n",
    "# 消息列表，初始时包含2条消息，后面与LLM的交互的消息都会追加保存到这个消息列表中\n",
    "MESSAGES = [\n",
    "    {\"role\": \"system\", \"content\": \"You are a helpful assistant.\\n\\nCurrent Date: 2024-08-31\"},\n",
    "    {\"role\": \"user\",  \"content\": \"What's the temperature in San Francisco now? How about tomorrow?\"},\n",
    "]"
   ]
  },
  {
   "cell_type": "code",
   "execution_count": 2,
   "metadata": {},
   "outputs": [],
   "source": [
    "from qwen_agent.llm import get_chat_model\n",
    "\n",
    "# 基于qwen_agent库取得模型，使用ollama本地部署的qwen2\n",
    "llm = get_chat_model({\n",
    "    \"model\": \"qwen2\",\n",
    "    \"model_server\": \"http://127.0.0.1:11434/v1\",\n",
    "    \"api_key\": \"EMPTY\",\n",
    "})"
   ]
  },
  {
   "cell_type": "code",
   "execution_count": 3,
   "metadata": {},
   "outputs": [],
   "source": [
    "# 初始化消息列表和functions列表\n",
    "messages = MESSAGES[:]\n",
    "functions = [tool[\"function\"] for tool in TOOLS]"
   ]
  },
  {
   "cell_type": "code",
   "execution_count": 4,
   "metadata": {},
   "outputs": [],
   "source": [
    "# 与模型交互，传递消息列表和functions列表\n",
    "for responses in llm.chat(\n",
    "    messages=messages,\n",
    "    functions=functions,\n",
    "    extra_generate_cfg=dict(parallel_function_calls=True),    # parallel_function_calls设置为True，表示可以并行处理多个function\n",
    "):\n",
    "    pass\n",
    "messages.extend(responses)    # LLM的返回信息追加到消息列表中"
   ]
  },
  {
   "cell_type": "code",
   "execution_count": 5,
   "metadata": {},
   "outputs": [
    {
     "data": {
      "text/plain": [
       "[{'role': 'system',\n",
       "  'content': 'You are a helpful assistant.\\n\\nCurrent Date: 2024-08-31'},\n",
       " {'role': 'user',\n",
       "  'content': \"What's the temperature in San Francisco now? How about tomorrow?\"},\n",
       " {'role': 'assistant',\n",
       "  'content': '',\n",
       "  'function_call': {'name': 'get_current_temperature',\n",
       "   'arguments': '{\"location\": \"San Francisco, CA, USA\", \"unit\": \"celsius\"}'}},\n",
       " {'role': 'assistant',\n",
       "  'content': '',\n",
       "  'function_call': {'name': 'get_temperature_date',\n",
       "   'arguments': '{\"location\": \"San Francisco, CA, USA\", \"date\": \"2024-08-31\", \"unit\": \"fahrenheit\"}'}}]"
      ]
     },
     "execution_count": 5,
     "metadata": {},
     "output_type": "execute_result"
    }
   ],
   "source": [
    "#查看第一次与LLM交互后的消息列表可以发现，LLM同时返回2条消息，‘role’是assistant，'content'都是空，'function_call'指定了要调用的function的名字，'arguments'指定了要传递给function的参数。\n",
    "messages"
   ]
  },
  {
   "cell_type": "code",
   "execution_count": 6,
   "metadata": {},
   "outputs": [
    {
     "data": {
      "text/plain": [
       "[{'role': 'assistant',\n",
       "  'content': '',\n",
       "  'function_call': {'name': 'get_current_temperature',\n",
       "   'arguments': '{\"location\": \"San Francisco, CA, USA\", \"unit\": \"celsius\"}'}},\n",
       " {'role': 'assistant',\n",
       "  'content': '',\n",
       "  'function_call': {'name': 'get_temperature_date',\n",
       "   'arguments': '{\"location\": \"San Francisco, CA, USA\", \"date\": \"2024-08-31\", \"unit\": \"fahrenheit\"}'}}]"
      ]
     },
     "execution_count": 6,
     "metadata": {},
     "output_type": "execute_result"
    }
   ],
   "source": [
    "# 查看第一次与LLM交互后，LLM返回的消息\n",
    "responses"
   ]
  },
  {
   "cell_type": "code",
   "execution_count": 7,
   "metadata": {},
   "outputs": [],
   "source": [
    "# 执行LLM要求执行的function，并将function执行结果追加到消息列表中\n",
    "\n",
    "for message in responses:\n",
    "    if fn_call := message.get(\"function_call\", None):\n",
    "        fn_name: str = fn_call['name']\n",
    "        fn_args: dict = json.loads(fn_call[\"arguments\"])\n",
    "\n",
    "        fn_res: str = json.dumps(get_function_by_name(fn_name)(**fn_args))\n",
    "\n",
    "        messages.append({\n",
    "            \"role\": \"function\",\n",
    "            \"name\": fn_name,\n",
    "            \"content\": fn_res,\n",
    "        })"
   ]
  },
  {
   "cell_type": "code",
   "execution_count": 8,
   "metadata": {},
   "outputs": [
    {
     "data": {
      "text/plain": [
       "[{'role': 'system',\n",
       "  'content': 'You are a helpful assistant.\\n\\nCurrent Date: 2024-08-31'},\n",
       " {'role': 'user',\n",
       "  'content': \"What's the temperature in San Francisco now? How about tomorrow?\"},\n",
       " {'role': 'assistant',\n",
       "  'content': '',\n",
       "  'function_call': {'name': 'get_current_temperature',\n",
       "   'arguments': '{\"location\": \"San Francisco, CA, USA\", \"unit\": \"celsius\"}'}},\n",
       " {'role': 'assistant',\n",
       "  'content': '',\n",
       "  'function_call': {'name': 'get_temperature_date',\n",
       "   'arguments': '{\"location\": \"San Francisco, CA, USA\", \"date\": \"2024-08-31\", \"unit\": \"fahrenheit\"}'}},\n",
       " {'role': 'function',\n",
       "  'name': 'get_current_temperature',\n",
       "  'content': '{\"temperature\": 26.1, \"location\": \"San Francisco, CA, USA\", \"unit\": \"celsius\"}'},\n",
       " {'role': 'function',\n",
       "  'name': 'get_temperature_date',\n",
       "  'content': '{\"temperature\": 25.9, \"location\": \"San Francisco, CA, USA\", \"date\": \"2024-08-31\", \"unit\": \"fahrenheit\"}'}]"
      ]
     },
     "execution_count": 8,
     "metadata": {},
     "output_type": "execute_result"
    }
   ],
   "source": [
    "# 查看消息列表，function执行结果的'role'是function，'name'是function名字，'content'是function执行返回的结果。这是上一步追加消息时刻意设定的格式。\n",
    "messages"
   ]
  },
  {
   "cell_type": "code",
   "execution_count": 9,
   "metadata": {},
   "outputs": [],
   "source": [
    "# 得到function执行结果后，再再次与LLM交互。消息列表中包含了function执行结果。\n",
    "for responses in llm.chat(messages=messages, functions=functions):\n",
    "    pass\n",
    "messages.extend(responses)"
   ]
  },
  {
   "cell_type": "code",
   "execution_count": 10,
   "metadata": {},
   "outputs": [
    {
     "data": {
      "text/plain": [
       "[{'role': 'assistant',\n",
       "  'content': 'The current temperature in San Francisco is approximately 26.1 degrees Celsius. For tomorrow, the forecast predicts a temperature of about 25.9 degrees Fahrenheit in San Francisco.'}]"
      ]
     },
     "execution_count": 10,
     "metadata": {},
     "output_type": "execute_result"
    }
   ],
   "source": [
    "# 查看LLM的响应信息\n",
    "responses"
   ]
  },
  {
   "cell_type": "code",
   "execution_count": 11,
   "metadata": {},
   "outputs": [
    {
     "data": {
      "text/plain": [
       "[{'role': 'system',\n",
       "  'content': 'You are a helpful assistant.\\n\\nCurrent Date: 2024-08-31'},\n",
       " {'role': 'user',\n",
       "  'content': \"What's the temperature in San Francisco now? How about tomorrow?\"},\n",
       " {'role': 'assistant',\n",
       "  'content': '',\n",
       "  'function_call': {'name': 'get_current_temperature',\n",
       "   'arguments': '{\"location\": \"San Francisco, CA, USA\", \"unit\": \"celsius\"}'}},\n",
       " {'role': 'assistant',\n",
       "  'content': '',\n",
       "  'function_call': {'name': 'get_temperature_date',\n",
       "   'arguments': '{\"location\": \"San Francisco, CA, USA\", \"date\": \"2024-08-31\", \"unit\": \"fahrenheit\"}'}},\n",
       " {'role': 'function',\n",
       "  'name': 'get_current_temperature',\n",
       "  'content': '{\"temperature\": 26.1, \"location\": \"San Francisco, CA, USA\", \"unit\": \"celsius\"}'},\n",
       " {'role': 'function',\n",
       "  'name': 'get_temperature_date',\n",
       "  'content': '{\"temperature\": 25.9, \"location\": \"San Francisco, CA, USA\", \"date\": \"2024-08-31\", \"unit\": \"fahrenheit\"}'},\n",
       " {'role': 'assistant',\n",
       "  'content': 'The current temperature in San Francisco is approximately 26.1 degrees Celsius. For tomorrow, the forecast predicts a temperature of about 25.9 degrees Fahrenheit in San Francisco.'}]"
      ]
     },
     "execution_count": 11,
     "metadata": {},
     "output_type": "execute_result"
    }
   ],
   "source": [
    "# 查看消息列表\n",
    "messages"
   ]
  },
  {
   "cell_type": "code",
   "execution_count": null,
   "metadata": {},
   "outputs": [],
   "source": []
  }
 ],
 "metadata": {
  "kernelspec": {
   "display_name": "yolo",
   "language": "python",
   "name": "python3"
  },
  "language_info": {
   "codemirror_mode": {
    "name": "ipython",
    "version": 3
   },
   "file_extension": ".py",
   "mimetype": "text/x-python",
   "name": "python",
   "nbconvert_exporter": "python",
   "pygments_lexer": "ipython3",
   "version": "3.10.16"
  }
 },
 "nbformat": 4,
 "nbformat_minor": 2
}
