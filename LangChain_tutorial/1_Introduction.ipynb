{
 "cells": [
  {
   "cell_type": "markdown",
   "metadata": {},
   "source": [
    "https://python.langchain.com/docs/introduction/\n",
    "\n",
    "LangChain是一个利用大型语言模型（LLMs）开发应用程序的框架。  \n",
    "\n",
    "LangChain简化了LLM应用程序生命周期的每个阶段：  \n",
    "开发：使用LangChain的开源组件和第三方集成来构建您的应用程序。使用LangGraph构建Agent。  \n",
    "生产化：使用LangSmith检查、监控和评估您的应用程序，以便您可以持续优化并自信地部署。  \n",
    "部署：通过LangGraph平台将您的LangGraph应用程序转化为生产就绪的API和助手。  "
   ]
  },
  {
   "cell_type": "markdown",
   "metadata": {},
   "source": [
    "下面是一个使用LangChain接口与LLM交互的示例：\n",
    "\n",
    "需要安装如下包：  \n",
    "pip install langchain  \n",
    "pip install langgraph  \n",
    "pip install openai  \n",
    "pip install langchain-openai  \n",
    "pip install langchain-community  \n",
    "\n",
    "本地服务搭建：  \n",
    "使用ollama下载qwen2或deepseek-r1:32b  \n",
    "后台启动ollama服务： nohup ollama serve  >/dev/null 2>&1 &  "
   ]
  },
  {
   "cell_type": "code",
   "execution_count": 6,
   "metadata": {},
   "outputs": [],
   "source": [
    "from langchain_openai.chat_models import ChatOpenAI\n",
    "\n",
    "model = ChatOpenAI(\n",
    "    #model_name=\"deepseek-r1:32b\",\n",
    "    model_name=\"qwen2\",\n",
    "    openai_api_base=\"http://127.0.0.1:11434/v1\",\n",
    "    openai_api_key=\"EMPTY\",\n",
    "    streaming=False\n",
    ")"
   ]
  },
  {
   "cell_type": "code",
   "execution_count": 7,
   "metadata": {},
   "outputs": [
    {
     "data": {
      "text/plain": [
       "AIMessage(content=\"Hello! It's nice to meet you. How can I assist you today?\", additional_kwargs={'refusal': None}, response_metadata={'token_usage': {'completion_tokens': 17, 'prompt_tokens': 23, 'total_tokens': 40, 'completion_tokens_details': None, 'prompt_tokens_details': None}, 'model_name': 'qwen2', 'system_fingerprint': 'fp_ollama', 'finish_reason': 'stop', 'logprobs': None}, id='run-268303c4-a0a3-4501-85ee-bd20ac337a0c-0', usage_metadata={'input_tokens': 23, 'output_tokens': 17, 'total_tokens': 40, 'input_token_details': {}, 'output_token_details': {}})"
      ]
     },
     "execution_count": 7,
     "metadata": {},
     "output_type": "execute_result"
    }
   ],
   "source": [
    "model.invoke(\"Hello, world!\")"
   ]
  },
  {
   "cell_type": "markdown",
   "metadata": {},
   "source": [
    "LangChain由多个开源库组成。  \n",
    "\n",
    "langchain-core：为聊天模型和其他组件提供的基础抽象。  \n",
    "Integration packages：例如langchain-openai，langchain-anthropic等，这些重要的集成已被封装为轻量级包，这些包由LangChain团队和integration developers共同维护。  \n",
    "langchain：构成应用程序认知架构的Chains, agents, and retrieval strategies。  \n",
    "langchain-community：由社区维护的第三方集成。  \n",
    "langgraph：一个编排框架，用于将LangChain组件组合成交付就绪的应用程序，支持持久化、流媒体和其他关键特性。详见LangGraph文档。  "
   ]
  },
  {
   "cell_type": "markdown",
   "metadata": {},
   "source": []
  }
 ],
 "metadata": {
  "kernelspec": {
   "display_name": "yolo",
   "language": "python",
   "name": "python3"
  },
  "language_info": {
   "codemirror_mode": {
    "name": "ipython",
    "version": 3
   },
   "file_extension": ".py",
   "mimetype": "text/x-python",
   "name": "python",
   "nbconvert_exporter": "python",
   "pygments_lexer": "ipython3",
   "version": "3.10.16"
  }
 },
 "nbformat": 4,
 "nbformat_minor": 2
}
