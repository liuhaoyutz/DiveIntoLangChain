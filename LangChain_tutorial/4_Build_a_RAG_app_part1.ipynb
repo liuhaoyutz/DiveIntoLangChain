{
 "cells": [
  {
   "cell_type": "markdown",
   "metadata": {},
   "source": [
    "https://python.langchain.com/docs/tutorials/rag/\n",
    "\n",
    "由LLM支持的最强大的应用之一是复杂的问答（Q&A）聊天机器人。这些应用程序能够回答关于特定源信息的问题，它们使用了一种被称为检索增强生成（Retrieval Augmented Generation, RAG）的技术。  \n",
    "  \n",
    "这个教程分为多个部分：  \n",
    "\n",
    "第一部分（本指南） 介绍RAG并 walkthrough 一个最小实现。  \n",
    "第二部分 扩展实现以适应对话风格的交互和多步骤检索过程。  \n",
    "\n",
    "本教程将展示如何在文本数据源上构建一个简单的问答应用程序。在此过程中，我们将介绍典型的问答架构，并突出显示更多高级问答技术的额外资源。我们还将看到LangSmith如何帮助我们追踪和理解我们的应用程序。随着应用程序复杂性的增加，LangSmith将变得越来越有帮助。  \n",
    "  \n",
    "如果你已经熟悉基本的检索技术，你可能也会对不同检索技术的高层次概述感兴趣。  \n",
    "  \n",
    "注意：这里我们专注于非结构化数据的问答。如果你对结构化数据上的RAG感兴趣，请查看我们关于在SQL数据上进行问答的教程。  "
   ]
  },
  {
   "cell_type": "markdown",
   "metadata": {},
   "source": [
    "一个典型的RAG应用程序主要有两个主要组件：  \n",
    "  \n",
    "Indexing：从数据源摄取数据并建立索引的流程。这通常是一个离线过程。  \n",
    "Retrieval and generation：实际的RAG链条，在运行时接收用户查询，从索引中检索相关数据，然后将这些数据传递给模型以生成答案。  "
   ]
  },
  {
   "cell_type": "markdown",
   "metadata": {},
   "source": [
    "索引过程主要包括三个步骤：加载、分割和存储。下面是每个步骤的详细说明：  \n",
    "  \n",
    "1. 加载（Load）  \n",
    "首先，我们需要加载数据。这一步通常通过文档加载器（Document Loaders）完成。文档加载器负责从各种数据源（如文本文件、网站或数据库）中读取原始数据，并将其转换为可以进一步处理的格式。  \n",
    "  \n",
    "2. 分割（Split）  \n",
    "接下来，使用文本分割器（Text Splitters）将大的文档分割成较小的块。这对于索引数据以及将其传递给模型都非常有用，因为较大的数据块难以搜索且可能超出模型的有限上下文窗口。  \n",
    "  \n",
    "3. 存储（Store）  \n",
    "最后，我们需要一个地方来存储和索引这些分割后的数据，以便之后能够对其进行搜索。这通常通过向量存储（VectorStore）和嵌入模型（Embeddings model）实现。向量存储用于保存文本片段的向量表示，这些表示可以通过相似度搜索快速检索。  "
   ]
  },
  {
   "cell_type": "markdown",
   "metadata": {},
   "source": [
    "检索与生成  \n",
    "在RAG应用程序中，检索和生成阶段是核心部分，具体包括两个主要步骤：检索（Retrieve）和生成（Generate）。  \n",
    "  \n",
    "1. 检索（Retrieve）  \n",
    "给定用户输入后，使用检索器（Retriever）从存储中检索相关的分割数据。这一步骤涉及到根据用户的查询，在向量存储中找到最相关的文本片段。  \n",
    "  \n",
    "2. 生成（Generate）  \n",
    "接下来，使用ChatModel或LLM基于包含问题和检索到的数据的提示生成答案。这一步骤不仅依赖于检索到的信息，还结合了语言模型自身的知识来提供准确且自然的回答。  "
   ]
  },
  {
   "cell_type": "code",
   "execution_count": 1,
   "metadata": {},
   "outputs": [],
   "source": [
    "import getpass\n",
    "import os\n",
    "\n",
    "os.environ[\"LANGSMITH_TRACING\"] = \"true\"\n",
    "os.environ[\"LANGSMITH_API_KEY\"] = getpass.getpass()"
   ]
  },
  {
   "cell_type": "code",
   "execution_count": 2,
   "metadata": {},
   "outputs": [],
   "source": [
    "from langchain_openai.chat_models import ChatOpenAI\n",
    "\n",
    "llm = ChatOpenAI(\n",
    "    #model_name=\"deepseek-r1:32b\",\n",
    "    model_name=\"qwen2\",\n",
    "    openai_api_base=\"http://127.0.0.1:11434/v1\",\n",
    "    openai_api_key=\"EMPTY\",\n",
    "    streaming=False\n",
    ")"
   ]
  },
  {
   "cell_type": "code",
   "execution_count": 3,
   "metadata": {},
   "outputs": [
    {
     "name": "stderr",
     "output_type": "stream",
     "text": [
      "/tmp/ipykernel_473520/127560303.py:4: LangChainDeprecationWarning: The class `HuggingFaceEmbeddings` was deprecated in LangChain 0.2.2 and will be removed in 1.0. An updated version of the class exists in the :class:`~langchain-huggingface package and should be used instead. To use it run `pip install -U :class:`~langchain-huggingface` and import as `from :class:`~langchain_huggingface import HuggingFaceEmbeddings``.\n",
      "  embeddings = HuggingFaceEmbeddings()\n",
      "/tmp/ipykernel_473520/127560303.py:4: LangChainDeprecationWarning: Default values for HuggingFaceEmbeddings.model_name were deprecated in LangChain 0.2.16 and will be removed in 0.4.0. Explicitly pass a model_name to the HuggingFaceEmbeddings constructor instead.\n",
      "  embeddings = HuggingFaceEmbeddings()\n",
      "/home/haoyu/anaconda3/envs/yolo/lib/python3.10/site-packages/tqdm/auto.py:21: TqdmWarning: IProgress not found. Please update jupyter and ipywidgets. See https://ipywidgets.readthedocs.io/en/stable/user_install.html\n",
      "  from .autonotebook import tqdm as notebook_tqdm\n"
     ]
    }
   ],
   "source": [
    "from langchain.embeddings import HuggingFaceEmbeddings\n",
    "\n",
    "# 初始化 Hugging Face 嵌入模型\n",
    "embeddings = HuggingFaceEmbeddings()"
   ]
  },
  {
   "cell_type": "markdown",
   "metadata": {},
   "source": [
    "可选的vector store包括：  \n",
    "In-memory, AstraDB, Chroma, FAISS, Milvus, MongoDB, PGVector, Pinecone, Qdrant  \n",
    "\n",
    "使用不同的vector store需要安装不同的库，并进行相应配置。  \n",
    "下面我们使用的是最简单的In-memory方式。  "
   ]
  },
  {
   "cell_type": "code",
   "execution_count": 4,
   "metadata": {},
   "outputs": [],
   "source": [
    "from langchain_core.vectorstores import InMemoryVectorStore\n",
    "\n",
    "vector_store = InMemoryVectorStore(embeddings)"
   ]
  },
  {
   "cell_type": "markdown",
   "metadata": {},
   "source": [
    "在这个指南中，我们将构建一个能够回答关于网站内容问题的应用程序。我们将使用的特定网站是Lilian Weng撰写的《LLM Powered Autonomous Agents》博客文章，我们询问有关该文章内容的问题。  \n",
    "  \n",
    "我们可以创建一个简单的索引管道和RAG链条来实现这一点，大约只需要50行代码。  "
   ]
  },
  {
   "cell_type": "code",
   "execution_count": 5,
   "metadata": {},
   "outputs": [
    {
     "name": "stderr",
     "output_type": "stream",
     "text": [
      "USER_AGENT environment variable not set, consider setting it to identify your requests.\n"
     ]
    }
   ],
   "source": [
    "import bs4\n",
    "from langchain import hub\n",
    "from langchain_community.document_loaders import WebBaseLoader\n",
    "from langchain_core.documents import Document\n",
    "from langchain_text_splitters import RecursiveCharacterTextSplitter\n",
    "from langgraph.graph import START, StateGraph\n",
    "from typing_extensions import List, TypedDict\n",
    "\n",
    "# Load and chunk contents of the blog\n",
    "loader = WebBaseLoader(\n",
    "    web_paths=(\"https://lilianweng.github.io/posts/2023-06-23-agent/\",),\n",
    "    bs_kwargs=dict(\n",
    "        parse_only=bs4.SoupStrainer(\n",
    "            class_=(\"post-content\", \"post-title\", \"post-header\")\n",
    "        )\n",
    "    ),\n",
    ")\n",
    "docs = loader.load()\n",
    "\n",
    "text_splitter = RecursiveCharacterTextSplitter(chunk_size=1000, chunk_overlap=200)\n",
    "all_splits = text_splitter.split_documents(docs)\n",
    "\n",
    "# Index chunks\n",
    "_ = vector_store.add_documents(documents=all_splits)\n",
    "\n",
    "# Define prompt for question-answering\n",
    "prompt = hub.pull(\"rlm/rag-prompt\")\n",
    "\n",
    "\n",
    "# Define state for application\n",
    "class State(TypedDict):\n",
    "    question: str\n",
    "    context: List[Document]\n",
    "    answer: str\n",
    "\n",
    "\n",
    "# Define application steps\n",
    "def retrieve(state: State):\n",
    "    retrieved_docs = vector_store.similarity_search(state[\"question\"])\n",
    "    return {\"context\": retrieved_docs}\n",
    "\n",
    "\n",
    "def generate(state: State):\n",
    "    docs_content = \"\\n\\n\".join(doc.page_content for doc in state[\"context\"])\n",
    "    messages = prompt.invoke({\"question\": state[\"question\"], \"context\": docs_content})\n",
    "    response = llm.invoke(messages)\n",
    "    return {\"answer\": response.content}\n",
    "\n",
    "\n",
    "# Compile application and test\n",
    "graph_builder = StateGraph(State).add_sequence([retrieve, generate])\n",
    "graph_builder.add_edge(START, \"retrieve\")\n",
    "graph = graph_builder.compile()"
   ]
  },
  {
   "cell_type": "code",
   "execution_count": 6,
   "metadata": {},
   "outputs": [
    {
     "name": "stdout",
     "output_type": "stream",
     "text": [
      "Task Decomposition is the process of breaking down complex tasks into simpler steps or sub-tasks. This method enhances problem-solving efficiency by enabling systematic analysis and addressing each part individually.\n",
      "\n",
      "In relation to the task instructions provided:\n",
      "\n",
      "1). Utilizing simple prompting for task decomposition involves initiating steps, such as \"Steps for XYZ.\" It outlines distinct actions required to accomplish a goal.\n",
      "2). Task-specifc instructions guide AI through predefined processes, e.g., creating a story outline for writing novels. This helps in structuring content generation effectively.\n",
      "3). Human input can aid AI by providing guidelines or breaking tasks intuitively, offering more flexible and context-specific solutions.\n",
      "\n",
      "Understanding this process allows the AI system to analyze each part of the task independently, improving execution accuracy and efficiency through methodical problem-solving strategies rather than attempting complex actions all at once.\n"
     ]
    }
   ],
   "source": [
    "response = graph.invoke({\"question\": \"What is Task Decomposition?\"})\n",
    "print(response[\"answer\"])"
   ]
  },
  {
   "cell_type": "markdown",
   "metadata": {},
   "source": [
    "让我们逐步分析上面的代码，以真正理解正在发生的事情。"
   ]
  },
  {
   "cell_type": "code",
   "execution_count": 7,
   "metadata": {},
   "outputs": [
    {
     "name": "stdout",
     "output_type": "stream",
     "text": [
      "Total characters: 43130\n"
     ]
    }
   ],
   "source": [
    "\"\"\"\n",
    "加载文档\n",
    "我们首先需要加载博客文章的内容。为此，我们可以使用document loaders，这些对象从数据源加载数据并返回一个Document对象列表。\n",
    "目前LangChain支持超过150种document loaders，包括PyPDF等12种PDF loader，AWS S3 Directory，Tencent COS File等15种Cloud Providers，\n",
    "Twitter和Reddit 2种Social Platforms，以及CSVLoader，JSONLoader，WebBaseLoader等等。\n",
    "\n",
    "在这个例子中，我们将使用WebBaseLoader，它使用urllib从网页URL加载HTML，并使用BeautifulSoup解析为文本。我们可以通过bs_kwargs向BeautifulSoup解析器传递参数来定制HTML到文本的解析（详见BeautifulSoup文档）。在这种情况下，只有具有“post-content”、“post-title”或“post-header”类的HTML标签是相关的，因此我们将移除所有其他标签。\n",
    "\"\"\"\n",
    "\n",
    "import bs4\n",
    "from langchain_community.document_loaders import WebBaseLoader\n",
    "\n",
    "# Only keep post title, headers, and content from the full HTML.\n",
    "bs4_strainer = bs4.SoupStrainer(class_=(\"post-title\", \"post-header\", \"post-content\"))\n",
    "loader = WebBaseLoader(\n",
    "    web_paths=(\"https://lilianweng.github.io/posts/2023-06-23-agent/\",),\n",
    "    bs_kwargs={\"parse_only\": bs4_strainer},\n",
    ")\n",
    "docs = loader.load()\n",
    "\n",
    "assert len(docs) == 1\n",
    "print(f\"Total characters: {len(docs[0].page_content)}\")"
   ]
  },
  {
   "cell_type": "code",
   "execution_count": 8,
   "metadata": {},
   "outputs": [
    {
     "name": "stdout",
     "output_type": "stream",
     "text": [
      "\n",
      "\n",
      "      LLM Powered Autonomous Agents\n",
      "    \n",
      "Date: June 23, 2023  |  Estimated Reading Time: 31 min  |  Author: Lilian Weng\n",
      "\n",
      "\n",
      "Building agents with LLM (large language model) as its core controller is a cool concept. Several proof-of-concepts demos, such as AutoGPT, GPT-Engineer and BabyAGI, serve as inspiring examples. The potentiality of LLM extends beyond generating well-written copies, stories, essays and programs; it can be framed as a powerful general problem solver.\n",
      "Agent System Overview#\n",
      "In\n"
     ]
    }
   ],
   "source": [
    "print(docs[0].page_content[:500])"
   ]
  },
  {
   "cell_type": "code",
   "execution_count": 9,
   "metadata": {},
   "outputs": [
    {
     "name": "stdout",
     "output_type": "stream",
     "text": [
      "Split blog post into 66 sub-documents.\n"
     ]
    }
   ],
   "source": [
    "\"\"\"\n",
    "分割文档\n",
    "我们加载的文档超过42,000个字符，这对许多模型来说太长了，无法适应其上下文窗口。即使某些模型能够在其上下文窗口中容纳整个帖子，过长的输入也会使模型难以从中找到信息。\n",
    "\n",
    "为了解决这个问题，我们将文档分割成块以便进行嵌入和向量存储。这有助于我们在运行时仅检索博客文章中最相关的部分。\n",
    "\n",
    "如同在语义搜索教程中一样，我们将使用RecursiveCharacterTextSplitter，它会递归地使用常见的分隔符（如换行符）分割文档，直到每个块达到合适的大小。这是推荐用于通用文本用例的文本分割器。\n",
    "\"\"\"\n",
    "\n",
    "from langchain_text_splitters import RecursiveCharacterTextSplitter\n",
    "\n",
    "text_splitter = RecursiveCharacterTextSplitter(\n",
    "    chunk_size=1000,  # chunk size (characters)\n",
    "    chunk_overlap=200,  # chunk overlap (characters)\n",
    "    add_start_index=True,  # track index in original document\n",
    ")\n",
    "all_splits = text_splitter.split_documents(docs)\n",
    "\n",
    "print(f\"Split blog post into {len(all_splits)} sub-documents.\")"
   ]
  },
  {
   "cell_type": "code",
   "execution_count": 10,
   "metadata": {},
   "outputs": [
    {
     "name": "stdout",
     "output_type": "stream",
     "text": [
      "['d8fabef1-e484-4584-a042-fab93e7e351a', 'f3cc24cb-d449-415e-9807-6f808f8df036', 'c88b9426-d2e2-41d3-a92a-e86e7acf550a']\n"
     ]
    }
   ],
   "source": [
    "\"\"\"\n",
    "存储文档\n",
    "现在我们需要对我们分割得到的66个文本块进行索引，以便在运行时能够对它们进行搜索。按照语义搜索教程中的方法，我们的做法是嵌入每个文档分割的内容，并将这些嵌入向量插入到一个向量存储中。这样，在接收到输入查询时，我们可以使用向量搜索来检索相关文档。\n",
    "\n",
    "我们可以使用选定的向量存储和嵌入模型，在一个命令中完成所有文档分割的嵌入和存储。\n",
    "\"\"\"\n",
    "\n",
    "document_ids = vector_store.add_documents(documents=all_splits)\n",
    "\n",
    "print(document_ids[:3])"
   ]
  },
  {
   "cell_type": "markdown",
   "metadata": {},
   "source": [
    "检索与生成  \n",
    "  \n",
    "现在让我们编写实际的应用逻辑。我们希望创建一个简单的应用程序，该程序接收用户的问题，搜索与此问题相关的文档，将检索到的文档和初始问题传递给模型，并返回答案。  \n",
    "  \n",
    "对于生成部分，我们将使用在教程开始时选定的model。我们将使用LangChain prompt hub提供的RAG提示模板。  "
   ]
  },
  {
   "cell_type": "code",
   "execution_count": 11,
   "metadata": {},
   "outputs": [
    {
     "name": "stdout",
     "output_type": "stream",
     "text": [
      "You are an assistant for question-answering tasks. Use the following pieces of retrieved context to answer the question. If you don't know the answer, just say that you don't know. Use three sentences maximum and keep the answer concise.\n",
      "Question: (question goes here) \n",
      "Context: (context goes here) \n",
      "Answer:\n"
     ]
    }
   ],
   "source": [
    "from langchain import hub\n",
    "\n",
    "prompt = hub.pull(\"rlm/rag-prompt\")\n",
    "\n",
    "example_messages = prompt.invoke(\n",
    "    {\"context\": \"(context goes here)\", \"question\": \"(question goes here)\"}\n",
    ").to_messages()\n",
    "\n",
    "assert len(example_messages) == 1\n",
    "print(example_messages[0].content)"
   ]
  },
  {
   "cell_type": "markdown",
   "metadata": {},
   "source": [
    "我们使用LangGraph将检索和生成步骤整合到一个应用程序中，这具有如下好处：  \n",
    "\n",
    "我们可以定义一次应用程序逻辑，并自动支持多种调用模式，包括流式传输、异步和批处理调用。  \n",
    "通过LangGraph平台实现简化的部署流程。  \n",
    "LangSmith会自动追踪应用程序的各个步骤。  \n",
    "我们可以通过最小的代码更改轻松地向应用程序添加关键特性，如持久化和人工审核。  \n",
    "  \n",
    "要使用LangGraph，我们需要定义三件事：  \n",
    "  \n",
    "应用程序的状态；  \n",
    "应用程序的节点（即应用程序步骤）；  \n",
    "应用程序的“控制流”（例如步骤的顺序）。  "
   ]
  },
  {
   "cell_type": "code",
   "execution_count": 12,
   "metadata": {},
   "outputs": [],
   "source": [
    "\"\"\"\n",
    "状态  \n",
    "应用程序的状态控制哪些数据被输入到应用程序中，哪些数据在步骤之间传递，以及哪些数据作为输出。它通常是一个TypedDict，也可以是一个Pydantic的BaseModel。  \n",
    "对于一个简单的RAG应用程序，我们可以只跟踪输入的问题、检索到的上下文和生成的答案。\n",
    "\"\"\"\n",
    "\n",
    "from langchain_core.documents import Document\n",
    "from typing_extensions import List, TypedDict\n",
    "\n",
    "\n",
    "class State(TypedDict):\n",
    "    question: str\n",
    "    context: List[Document]\n",
    "    answer: str"
   ]
  },
  {
   "cell_type": "code",
   "execution_count": 13,
   "metadata": {},
   "outputs": [],
   "source": [
    "\"\"\"\n",
    "节点 (application steps)\n",
    "我们有程序具有2个顺序执行的steps: retrieval and generation.\n",
    "\n",
    "我们的retrieve步骤仅仅是使用输入的问题进行相似度搜索，而generate步骤则是将检索到的上下文和原始问题格式化为聊天模型的提示。\n",
    "\"\"\"\n",
    "\n",
    "def retrieve(state: State):\n",
    "    retrieved_docs = vector_store.similarity_search(state[\"question\"])\n",
    "    return {\"context\": retrieved_docs}\n",
    "\n",
    "\n",
    "def generate(state: State):\n",
    "    docs_content = \"\\n\\n\".join(doc.page_content for doc in state[\"context\"])\n",
    "    messages = prompt.invoke({\"question\": state[\"question\"], \"context\": docs_content})\n",
    "    response = llm.invoke(messages)\n",
    "    return {\"answer\": response.content}"
   ]
  },
  {
   "cell_type": "code",
   "execution_count": 14,
   "metadata": {},
   "outputs": [],
   "source": [
    "\"\"\"\n",
    "控制流\n",
    "最后，我们将应用程序编译成一个单一的Graph对象。在这个例子中，我们只是将检索和生成步骤连接成一个序列。\n",
    "\"\"\"\n",
    "\n",
    "from langgraph.graph import START, StateGraph\n",
    "\n",
    "graph_builder = StateGraph(State).add_sequence([retrieve, generate])\n",
    "graph_builder.add_edge(START, \"retrieve\")\n",
    "graph = graph_builder.compile()"
   ]
  },
  {
   "cell_type": "code",
   "execution_count": 15,
   "metadata": {},
   "outputs": [
    {
     "data": {
      "image/png": "[encoded data removed]",
      "text/plain": [
       "<IPython.core.display.Image object>"
      ]
     },
     "metadata": {},
     "output_type": "display_data"
    }
   ],
   "source": [
    "\"\"\"LangGraph还附带了用于可视化应用程序控制流的内置工具。\"\"\"\n",
    "\n",
    "from IPython.display import Image, display\n",
    "\n",
    "display(Image(graph.get_graph().draw_mermaid_png()))"
   ]
  },
  {
   "cell_type": "markdown",
   "metadata": {},
   "source": [
    "让我们来测试我们的应用程序吧！LangGraph支持多种调用模式，包括同步、异步和流式传输。"
   ]
  },
  {
   "cell_type": "code",
   "execution_count": 16,
   "metadata": {},
   "outputs": [
    {
     "name": "stdout",
     "output_type": "stream",
     "text": [
      "Context: [Document(id='99a0929e-0a2c-4bd5-8d4b-9dd64c313d9e', metadata={'source': 'https://lilianweng.github.io/posts/2023-06-23-agent/', 'start_index': 2192}, page_content='Tree of Thoughts (Yao et al. 2023) extends CoT by exploring multiple reasoning possibilities at each step. It first decomposes the problem into multiple thought steps and generates multiple thoughts per step, creating a tree structure. The search process can be BFS (breadth-first search) or DFS (depth-first search) with each state evaluated by a classifier (via a prompt) or majority vote.\\nTask decomposition can be done (1) by LLM with simple prompting like \"Steps for XYZ.\\\\n1.\", \"What are the subgoals for achieving XYZ?\", (2) by using task-specific instructions; e.g. \"Write a story outline.\" for writing a novel, or (3) with human inputs.'), Document(id='a2ad99e3-6325-4c77-9892-0680365dbe0a', metadata={'source': 'https://lilianweng.github.io/posts/2023-06-23-agent/'}, page_content='Tree of Thoughts (Yao et al. 2023) extends CoT by exploring multiple reasoning possibilities at each step. It first decomposes the problem into multiple thought steps and generates multiple thoughts per step, creating a tree structure. The search process can be BFS (breadth-first search) or DFS (depth-first search) with each state evaluated by a classifier (via a prompt) or majority vote.\\nTask decomposition can be done (1) by LLM with simple prompting like \"Steps for XYZ.\\\\n1.\", \"What are the subgoals for achieving XYZ?\", (2) by using task-specific instructions; e.g. \"Write a story outline.\" for writing a novel, or (3) with human inputs.'), Document(id='ab342ffd-18bc-46ea-962d-763bac980fb4', metadata={'source': 'https://lilianweng.github.io/posts/2023-06-23-agent/', 'start_index': 19372}, page_content=\"(3) Task execution: Expert models execute on the specific tasks and log results.\\nInstruction:\\n\\nWith the input and the inference results, the AI assistant needs to describe the process and results. The previous stages can be formed as - User Input: {{ User Input }}, Task Planning: {{ Tasks }}, Model Selection: {{ Model Assignment }}, Task Execution: {{ Predictions }}. You must first answer the user's request in a straightforward manner. Then describe the task process and show your analysis and model inference results to the user in the first person. If inference results contain a file path, must tell the user the complete file path.\"), Document(id='51049ccb-6926-4b74-a97b-e03d1fd13bb8', metadata={'source': 'https://lilianweng.github.io/posts/2023-06-23-agent/'}, page_content=\"(3) Task execution: Expert models execute on the specific tasks and log results.\\nInstruction:\\n\\nWith the input and the inference results, the AI assistant needs to describe the process and results. The previous stages can be formed as - User Input: {{ User Input }}, Task Planning: {{ Tasks }}, Model Selection: {{ Model Assignment }}, Task Execution: {{ Predictions }}. You must first answer the user's request in a straightforward manner. Then describe the task process and show your analysis and model inference results to the user in the first person. If inference results contain a file path, must tell the user the complete file path.\")]\n",
      "\n",
      "\n",
      "Answer: Task Decomposition is the process of breaking down complex tasks into simpler subtasks or steps. This can be achieved through prompting like \"Steps for XYZ.\\n1.\", using task-specific instructions such as providing an outline, or through human inputs.\n",
      "\n",
      "In the context of Tree of Thoughts (Yao et al., 2023), task decomposition involves initially dissecting a problem into multiple thought steps and generating numerous thoughts per step to create a tree structure. The search process can be conducted using either Breadth-First Search (BFS) or Depth-First Search (DFS). Each state is evaluated by applying prompts to classifiers or adopting majority vote.\n",
      "\n",
      "In this framework, the AI first receives User Input followed by Task Planning where several reasoning possibilities are explored under each step. Model Selection comes next based on predefined criteria,而后执行具体的任务并记录结果，即Task Execution阶段。The task completion process includes executing expert models on specific tasks and logging outcomes.\n",
      "\n",
      "To sum up, task decomposition enables efficient problem-solving through a hierarchical breakdown and organization of efforts into manageable components for easier analysis and resolution.\n",
      "\n",
      "As for the description format:\n",
      "\n",
      "- User Input: Provided in question\n",
      "- Task Planning:分解任务为多个思考步骤和每步生成多种想法，创建树结构。搜索过程采用BFS或DFS方式。\n",
      "- Model Selection: 根据特定准则选择AI模型（未具体说明）\n",
      "- Task Execution: 根据模型执行具体的任务，并记录结果。\n",
      "\n",
      "请注意文件路径信息在本示例中并未给出，若包含文件路径，则需提供完整的文件路径以便正确识别和访问。\n"
     ]
    }
   ],
   "source": [
    "# invoke\n",
    "\n",
    "result = graph.invoke({\"question\": \"What is Task Decomposition?\"})\n",
    "\n",
    "print(f'Context: {result[\"context\"]}\\n\\n')\n",
    "print(f'Answer: {result[\"answer\"]}')"
   ]
  },
  {
   "cell_type": "code",
   "execution_count": 17,
   "metadata": {},
   "outputs": [
    {
     "name": "stdout",
     "output_type": "stream",
     "text": [
      "{'retrieve': {'context': [Document(id='99a0929e-0a2c-4bd5-8d4b-9dd64c313d9e', metadata={'source': 'https://lilianweng.github.io/posts/2023-06-23-agent/', 'start_index': 2192}, page_content='Tree of Thoughts (Yao et al. 2023) extends CoT by exploring multiple reasoning possibilities at each step. It first decomposes the problem into multiple thought steps and generates multiple thoughts per step, creating a tree structure. The search process can be BFS (breadth-first search) or DFS (depth-first search) with each state evaluated by a classifier (via a prompt) or majority vote.\\nTask decomposition can be done (1) by LLM with simple prompting like \"Steps for XYZ.\\\\n1.\", \"What are the subgoals for achieving XYZ?\", (2) by using task-specific instructions; e.g. \"Write a story outline.\" for writing a novel, or (3) with human inputs.'), Document(id='a2ad99e3-6325-4c77-9892-0680365dbe0a', metadata={'source': 'https://lilianweng.github.io/posts/2023-06-23-agent/'}, page_content='Tree of Thoughts (Yao et al. 2023) extends CoT by exploring multiple reasoning possibilities at each step. It first decomposes the problem into multiple thought steps and generates multiple thoughts per step, creating a tree structure. The search process can be BFS (breadth-first search) or DFS (depth-first search) with each state evaluated by a classifier (via a prompt) or majority vote.\\nTask decomposition can be done (1) by LLM with simple prompting like \"Steps for XYZ.\\\\n1.\", \"What are the subgoals for achieving XYZ?\", (2) by using task-specific instructions; e.g. \"Write a story outline.\" for writing a novel, or (3) with human inputs.'), Document(id='ab342ffd-18bc-46ea-962d-763bac980fb4', metadata={'source': 'https://lilianweng.github.io/posts/2023-06-23-agent/', 'start_index': 19372}, page_content=\"(3) Task execution: Expert models execute on the specific tasks and log results.\\nInstruction:\\n\\nWith the input and the inference results, the AI assistant needs to describe the process and results. The previous stages can be formed as - User Input: {{ User Input }}, Task Planning: {{ Tasks }}, Model Selection: {{ Model Assignment }}, Task Execution: {{ Predictions }}. You must first answer the user's request in a straightforward manner. Then describe the task process and show your analysis and model inference results to the user in the first person. If inference results contain a file path, must tell the user the complete file path.\"), Document(id='51049ccb-6926-4b74-a97b-e03d1fd13bb8', metadata={'source': 'https://lilianweng.github.io/posts/2023-06-23-agent/'}, page_content=\"(3) Task execution: Expert models execute on the specific tasks and log results.\\nInstruction:\\n\\nWith the input and the inference results, the AI assistant needs to describe the process and results. The previous stages can be formed as - User Input: {{ User Input }}, Task Planning: {{ Tasks }}, Model Selection: {{ Model Assignment }}, Task Execution: {{ Predictions }}. You must first answer the user's request in a straightforward manner. Then describe the task process and show your analysis and model inference results to the user in the first person. If inference results contain a file path, must tell the user the complete file path.\")]}}\n",
      "\n",
      "----------------\n",
      "\n",
      "{'generate': {'answer': 'Task Decomposition is the process of breaking down a complex problem into simpler sub-problems or smaller tasks that are easier to manage and solve. This strategy can be implemented by employing large language models (LLMs) with guiding prompts, using task-specific instructions tailored for precise tasks, or integrating human input for guidance.\\n\\nFor example, if we\\'re asked \"Steps required for XYZ\", an AI might generate responses like:\\n1. Collect necessary resources\\n2. Plan and design system  \\nAnd so on.\\n\\nSimilarly, specifying a task for writing stories could inspire suggestions akin to creating outlines, developing characters, setting, and plot development.\\n\\nThe task execution phase involves executing specific tasks with expert models and logging the outcomes. For instance, after decomposition, tasks like analyzing data or crafting content might be handled by distinct algorithms or AI systems based on their expertise suited to those sub-tasks.'}}\n",
      "\n",
      "----------------\n",
      "\n"
     ]
    }
   ],
   "source": [
    "# Stream steps\n",
    "\n",
    "for step in graph.stream(\n",
    "    {\"question\": \"What is Task Decomposition?\"}, stream_mode=\"updates\"\n",
    "):\n",
    "    print(f\"{step}\\n\\n----------------\\n\")"
   ]
  },
  {
   "cell_type": "code",
   "execution_count": 18,
   "metadata": {},
   "outputs": [
    {
     "name": "stdout",
     "output_type": "stream",
     "text": [
      "Task| Decom|position| is| the| process| of| breaking| down| complex| tasks| into| more| manageable| sub|-t|asks| or| steps|.| This| can| be| achieved| through| various| methods| including| prompting| an| L|LM| (|like| \"|Steps| for| XYZ|\"),| using| task|-specific| instructions| (|like| writing| a| story| outline|),| or| with| human| input|.| When| it| comes| to| Task| Execution|,| expert| models| are| utilized| to| carry| out| these| individual| tasks| and| log| the| results|.\n",
      "\n",
      "|To| illustrate| this| process| step|-by|-step|:\n",
      "|1|)| **|User| Input|:**| The| user| asks| to| solve| a| complex| problem|.\n",
      "|2|)| **|Task| Planning|:**| This| involves| devis|ing| multiple| potential| ways| of| approaching| the| task| at| each| step| using| thought| decomposition|.| Tasks| are| divided| into| separate|,| more| straightforward| parts| (|like| components| or| steps| required|).\n",
      "|3|)| **|Model| Selection|:**| Depending| on| the| nature| of| the| tasks| and| goals| set| out| in| Task| Planning|,| various| models| are| chosen| and| assigned| roles| to| execute| according| to| their| capabilities|.\n",
      "|4|)| **|Task| Execution|:**| The| execution| step| sees| these| models| working| on| their| allocated| tasks|.| Each| task| is| carried| out| individually| based| on| its| plan|.\n",
      "\n",
      "|As| an| example|:| User| might| input| a| complex| math| problem| or| writing| assignment|;| the| system| breaks| it| down| into| steps| like| identifying| the| question|,| selecting| equations|/s|imilar| works|,| setting| up| a| narrative| structure| etc|.| Depending| on| specifics| of| the| problem| (|e|.g|.,| needing| numerical| calculations| vs| requiring| creative| storytelling|),| different| models| (|like| mathematical| calculation| tools|,| writing| AI|)| are| selected| to| execute| those| parts| and| return| results|.| If| there| were| files| associated| with| this| process| (|data| logs|,| solutions| generated| etc|.),| they| would| be| found| by| navigating| through| system| directories| leading| up| to| their| exact| locations| on| the| file| system|.\n",
      "\n",
      "|The| above| answers| cover| core| aspects| of| Task| Decom|position| as| a| process|,| alongside| an| outlined| sequence| detailing| how| tasks| would| ideally| flow| from| user| inquiry| through| to| model| execution| and| results|.||"
     ]
    }
   ],
   "source": [
    "# Stream tokens\n",
    "\n",
    "for message, metadata in graph.stream(\n",
    "    {\"question\": \"What is Task Decomposition?\"}, stream_mode=\"messages\"\n",
    "):\n",
    "    print(message.content, end=\"|\")"
   ]
  },
  {
   "cell_type": "code",
   "execution_count": 19,
   "metadata": {},
   "outputs": [],
   "source": [
    "\"\"\"如上所示，我们可以从prompt hub加载提示（例如，这个RAG提示）。提示也可以很容易地进行自定义。例如：\"\"\"\n",
    "\n",
    "from langchain_core.prompts import PromptTemplate\n",
    "\n",
    "template = \"\"\"Use the following pieces of context to answer the question at the end.\n",
    "If you don't know the answer, just say that you don't know, don't try to make up an answer.\n",
    "Use three sentences maximum and keep the answer as concise as possible.\n",
    "Always say \"thanks for asking!\" at the end of the answer.\n",
    "\n",
    "{context}\n",
    "\n",
    "Question: {question}\n",
    "\n",
    "Helpful Answer:\"\"\"\n",
    "custom_rag_prompt = PromptTemplate.from_template(template)"
   ]
  },
  {
   "cell_type": "markdown",
   "metadata": {},
   "source": [
    "查询分析  \n",
    "到目前为止，我们是使用原始输入查询来执行检索的。然而，允许模型为检索目的生成查询有一些优势。例如：  \n",
    "  \n",
    "除了语义搜索之外，我们还可以构建结构化的过滤器（例如，“查找2020年以来的文档”）；  \n",
    "模型可以重写用户的查询，这些查询可能是多方面的或包含不相关的语言，从而生成更有效的搜索查询。  \n",
    "  \n",
    "查询分析利用模型从原始用户输入中转换或构建优化的搜索查询。我们可以轻松地将查询分析步骤整合到我们的应用程序中。为了说明这一点，让我们向向量存储中的文档添加一些元数据。我们将添加一些（人为的）部分到文档中，以便日后可以根据这些部分进行过滤。  "
   ]
  },
  {
   "cell_type": "code",
   "execution_count": 20,
   "metadata": {},
   "outputs": [
    {
     "data": {
      "text/plain": [
       "{'source': 'https://lilianweng.github.io/posts/2023-06-23-agent/',\n",
       " 'start_index': 8,\n",
       " 'section': 'beginning'}"
      ]
     },
     "execution_count": 20,
     "metadata": {},
     "output_type": "execute_result"
    }
   ],
   "source": [
    "total_documents = len(all_splits)\n",
    "third = total_documents // 3\n",
    "\n",
    "for i, document in enumerate(all_splits):\n",
    "    if i < third:\n",
    "        document.metadata[\"section\"] = \"beginning\"\n",
    "    elif i < 2 * third:\n",
    "        document.metadata[\"section\"] = \"middle\"\n",
    "    else:\n",
    "        document.metadata[\"section\"] = \"end\"\n",
    "\n",
    "\n",
    "all_splits[0].metadata"
   ]
  },
  {
   "cell_type": "markdown",
   "metadata": {},
   "source": [
    "我们需要更新向量存储中的文档。为此，我们将使用一个简单的InMemoryVectorStore，因为我们将利用它的一些特定功能（例如元数据过滤）。  \n",
    "有关您所选择的向量存储的相关特性，请参阅向量存储集成文档。  "
   ]
  },
  {
   "cell_type": "code",
   "execution_count": 21,
   "metadata": {},
   "outputs": [],
   "source": [
    "from langchain_core.vectorstores import InMemoryVectorStore\n",
    "\n",
    "vector_store = InMemoryVectorStore(embeddings)\n",
    "_ = vector_store.add_documents(all_splits)"
   ]
  },
  {
   "cell_type": "markdown",
   "metadata": {},
   "source": [
    "接下来，让我们为我们的搜索查询定义一个模式。我们将使用结构化输出来实现这一目的。这里我们定义一个查询包含一个字符串查询和一个文档部分（可以是“beginning”、“middle”或“end”），但你可以根据需要自行定义。"
   ]
  },
  {
   "cell_type": "code",
   "execution_count": 22,
   "metadata": {},
   "outputs": [],
   "source": [
    "from typing import Literal\n",
    "\n",
    "from typing_extensions import Annotated\n",
    "\n",
    "\n",
    "class Search(TypedDict):\n",
    "    \"\"\"Search query.\"\"\"\n",
    "\n",
    "    query: Annotated[str, ..., \"Search query to run.\"]\n",
    "    section: Annotated[\n",
    "        Literal[\"beginning\", \"middle\", \"end\"],\n",
    "        ...,\n",
    "        \"Section to query.\",\n",
    "    ]"
   ]
  },
  {
   "cell_type": "markdown",
   "metadata": {},
   "source": [
    "最后，我们在LangGraph应用程序中添加一个步骤，以便从用户的原始输入生成查询："
   ]
  },
  {
   "cell_type": "code",
   "execution_count": 23,
   "metadata": {},
   "outputs": [],
   "source": [
    "class State(TypedDict):\n",
    "    question: str\n",
    "    query: Search\n",
    "    context: List[Document]\n",
    "    answer: str\n",
    "\n",
    "\n",
    "def analyze_query(state: State):\n",
    "    structured_llm = llm.with_structured_output(Search)\n",
    "    query = structured_llm.invoke(state[\"question\"])\n",
    "    return {\"query\": query}\n",
    "\n",
    "\n",
    "def retrieve(state: State):\n",
    "    query = state[\"query\"]\n",
    "    retrieved_docs = vector_store.similarity_search(\n",
    "        query[\"query\"],\n",
    "        filter=lambda doc: doc.metadata.get(\"section\") == query[\"section\"],\n",
    "    )\n",
    "    return {\"context\": retrieved_docs}\n",
    "\n",
    "\n",
    "def generate(state: State):\n",
    "    docs_content = \"\\n\\n\".join(doc.page_content for doc in state[\"context\"])\n",
    "    messages = prompt.invoke({\"question\": state[\"question\"], \"context\": docs_content})\n",
    "    response = llm.invoke(messages)\n",
    "    return {\"answer\": response.content}\n",
    "\n",
    "\n",
    "graph_builder = StateGraph(State).add_sequence([analyze_query, retrieve, generate])\n",
    "graph_builder.add_edge(START, \"analyze_query\")\n",
    "graph = graph_builder.compile()"
   ]
  },
  {
   "cell_type": "code",
   "execution_count": 24,
   "metadata": {},
   "outputs": [
    {
     "data": {
      "image/png": "[encoded data removed]",
      "text/plain": [
       "<IPython.core.display.Image object>"
      ]
     },
     "metadata": {},
     "output_type": "display_data"
    }
   ],
   "source": [
    "display(Image(graph.get_graph().draw_mermaid_png()))"
   ]
  },
  {
   "cell_type": "markdown",
   "metadata": {},
   "source": [
    "我们可以通过专门要求提供帖子末尾的上下文来测试我们的实现。请注意，模型在其回答中包含了不同的信息。"
   ]
  },
  {
   "cell_type": "code",
   "execution_count": 25,
   "metadata": {},
   "outputs": [
    {
     "name": "stdout",
     "output_type": "stream",
     "text": [
      "{'analyze_query': {'query': {'query': 'What does the end of the post say about Task Decomposition?', 'section': 'end'}}}\n",
      "\n",
      "----------------\n",
      "\n",
      "{'retrieve': {'context': [Document(id='b2b729af-a84b-4b06-9a42-73c12935b296', metadata={'source': 'https://lilianweng.github.io/posts/2023-06-23-agent/', 'start_index': 39220, 'section': 'end'}, page_content='Finite context length: The restricted context capacity limits the inclusion of historical information, detailed instructions, API call context, and responses. The design of the system has to work with this limited communication bandwidth, while mechanisms like self-reflection to learn from past mistakes would benefit a lot from long or infinite context windows. Although vector stores and retrieval can provide access to a larger knowledge pool, their representation power is not as powerful as full attention.\\n\\n\\nChallenges in long-term planning and task decomposition: Planning over a lengthy history and effectively exploring the solution space remain challenging. LLMs struggle to adjust plans when faced with unexpected errors, making them less robust compared to humans who learn from trial and error.'), Document(id='f0240598-5a41-41c8-a46c-422eb25019df', metadata={'source': 'https://lilianweng.github.io/posts/2023-06-23-agent/', 'start_index': 30951, 'section': 'end'}, page_content='Here are a sample conversation for task clarification sent to OpenAI ChatCompletion endpoint used by GPT-Engineer. The user inputs are wrapped in {{user input text}}.\\n[\\n  {\\n    \"role\": \"system\",\\n    \"content\": \"You will read instructions and not carry them out, only seek to clarify them.\\\\nSpecifically you will first summarise a list of super short bullets of areas that need clarification.\\\\nThen you will pick one clarifying question, and wait for an answer from the user.\\\\n\"\\n  },\\n  {\\n    \"role\": \"user\",\\n    \"content\": \"We are writing {{a Super Mario game in python. MVC components split in separate files. Keyboard control.}}\\\\n\"\\n  },\\n  {\\n    \"role\": \"assistant\",'), Document(id='a30de528-a9fb-4f20-84e7-508ee9805458', metadata={'source': 'https://lilianweng.github.io/posts/2023-06-23-agent/', 'start_index': 32069, 'section': 'end'}, page_content='},\\n  {\\n    \"role\": \"user\",\\n    \"content\": \"{{There are 10 levels in total. The main character is a plumber named Mario, who can walk and jump. It is a classical platform game just like Super Mario. The main character moves from left to right, trying to get to the destination, where there are many obstacles and attacks from enemies in the process.}}\\\\n\\\\nIs anything else unclear? If yes, only answer in the form:\\\\n{remaining unclear areas} remaining questions.\\\\n{Next question}\\\\nIf everything is sufficiently clear, only answer \\\\\"Nothing more to clarify.\\\\\".\"\\n  },\\n  {\\n    \"role\": \"assistant\",\\n    \"content\": \"Remaining unclear areas: 2 remaining questions.\\\\nCan you provide more information about how the MVC components are split into separate files?\"\\n  },\\n  {\\n    \"role\": \"user\",\\n    \"content\": \"{{Make your own assumptions and state them explicitly before starting}}\"\\n  }\\n]\\nThen after these clarification, the agent moved into the code writing mode with a different system message.'), Document(id='61f31bc1-1908-4a5a-9493-91997e17444d', metadata={'source': 'https://lilianweng.github.io/posts/2023-06-23-agent/', 'start_index': 32941, 'section': 'end'}, page_content='}\\n]\\nThen after these clarification, the agent moved into the code writing mode with a different system message.\\nSystem message:')]}}\n",
      "\n",
      "----------------\n",
      "\n",
      "{'generate': {'answer': \"The end of the provided context does not specifically discuss Task Decomposition. It focuses on challenges in long-term planning and how they affect Large Language Models (LLMs) compared to human learning from trial and error. If you're seeking an answer related to Task Decomposition, additional information may be needed as the given text doesn't directly address it within the provided snippets.\"}}\n",
      "\n",
      "----------------\n",
      "\n"
     ]
    }
   ],
   "source": [
    "for step in graph.stream(\n",
    "    {\"question\": \"What does the end of the post say about Task Decomposition?\"},\n",
    "    stream_mode=\"updates\",\n",
    "):\n",
    "    print(f\"{step}\\n\\n----------------\\n\")"
   ]
  },
  {
   "cell_type": "code",
   "execution_count": null,
   "metadata": {},
   "outputs": [],
   "source": []
  }
 ],
 "metadata": {
  "kernelspec": {
   "display_name": "yolo",
   "language": "python",
   "name": "python3"
  },
  "language_info": {
   "codemirror_mode": {
    "name": "ipython",
    "version": 3
   },
   "file_extension": ".py",
   "mimetype": "text/x-python",
   "name": "python",
   "nbconvert_exporter": "python",
   "pygments_lexer": "ipython3",
   "version": "3.10.16"
  }
 },
 "nbformat": 4,
 "nbformat_minor": 2
}
