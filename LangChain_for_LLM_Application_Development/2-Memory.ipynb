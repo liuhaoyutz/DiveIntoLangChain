{
 "cells": [
  {
   "cell_type": "markdown",
   "id": "a786c77c",
   "metadata": {},
   "source": [
    "# LangChain: Memory\n",
    "\n",
    "## Outline\n",
    "* ConversationBufferMemory\n",
    "* ConversationBufferWindowMemory\n",
    "* ConversationTokenBufferMemory\n",
    "* ConversationSummaryMemory"
   ]
  },
  {
   "cell_type": "markdown",
   "id": "1297dcd5",
   "metadata": {},
   "source": [
    "## ConversationBufferMemory"
   ]
  },
  {
   "cell_type": "code",
   "execution_count": 1,
   "id": "a1f518f5",
   "metadata": {
    "tags": []
   },
   "outputs": [],
   "source": [
    "import os\n",
    "import warnings\n",
    "warnings.filterwarnings('ignore')\n",
    "\n",
    "from langchain.chat_models import ChatOpenAI\n",
    "#from langchain_openai.chat_models import ChatOpenAI\n",
    "from langchain.chains import ConversationChain\n",
    "from langchain.memory import ConversationBufferMemory"
   ]
  },
  {
   "cell_type": "code",
   "execution_count": 2,
   "id": "88bdf13d",
   "metadata": {
    "tags": []
   },
   "outputs": [
    {
     "name": "stderr",
     "output_type": "stream",
     "text": [
      "/tmp/ipykernel_229621/2547715722.py:1: LangChainDeprecationWarning: The class `ChatOpenAI` was deprecated in LangChain 0.0.10 and will be removed in 1.0. An updated version of the class exists in the :class:`~langchain-openai package and should be used instead. To use it run `pip install -U :class:`~langchain-openai` and import as `from :class:`~langchain_openai import ChatOpenAI``.\n",
      "  llm = ChatOpenAI(\n",
      "/tmp/ipykernel_229621/2547715722.py:8: LangChainDeprecationWarning: Please see the migration guide at: https://python.langchain.com/docs/versions/migrating_memory/\n",
      "  memory = ConversationBufferMemory()\n",
      "/tmp/ipykernel_229621/2547715722.py:9: LangChainDeprecationWarning: The class `ConversationChain` was deprecated in LangChain 0.2.7 and will be removed in 1.0. Use :meth:`~RunnableWithMessageHistory: https://python.langchain.com/v0.2/api_reference/core/runnables/langchain_core.runnables.history.RunnableWithMessageHistory.html` instead.\n",
      "  conversation = ConversationChain(\n"
     ]
    }
   ],
   "source": [
    "llm = ChatOpenAI(\n",
    "    model_name='deepseek-r1:32b',\n",
    "    openai_api_base=\"http://127.0.0.1:11434/v1\",\n",
    "    openai_api_key=\"EMPTY\",\n",
    "    streaming=True\n",
    ")\n",
    "\n",
    "memory = ConversationBufferMemory()\n",
    "conversation = ConversationChain(\n",
    "    llm=llm, \n",
    "    memory = memory,\n",
    "    verbose=True\n",
    ")"
   ]
  },
  {
   "cell_type": "code",
   "execution_count": 3,
   "id": "db24677d",
   "metadata": {
    "tags": []
   },
   "outputs": [
    {
     "name": "stdout",
     "output_type": "stream",
     "text": [
      "\n",
      "\n",
      "\u001b[1m> Entering new ConversationChain chain...\u001b[0m\n",
      "Prompt after formatting:\n",
      "\u001b[32;1m\u001b[1;3mThe following is a friendly conversation between a human and an AI. The AI is talkative and provides lots of specific details from its context. If the AI does not know the answer to a question, it truthfully says it does not know.\n",
      "\n",
      "Current conversation:\n",
      "\n",
      "Human: Hi, my name is Andrew\n",
      "AI:\u001b[0m\n",
      "\n",
      "\u001b[1m> Finished chain.\u001b[0m\n"
     ]
    },
    {
     "data": {
      "text/plain": [
       "'<think>\\nAlright, so I just saw that someone named Andrew introduced themselves by saying, \"Hi, my name is Andrew,\" and then the AI responded with a friendly greeting. Now, I need to figure out how the AI should respond next in this conversation.\\n\\nFirst, the AI\\'s response was polite and welcoming. It mentioned being happy to chat and asked if there\\'s anything specific Andrew wants to talk about or learn more about. That seems like a good way to open up the conversation for Andrew to take it wherever he wants.\\n\\nNow, I need to think about what comes next. Since this is just the initial exchange, Andrew might respond with various things—maybe a question, a topic he\\'s interested in, or perhaps another introduction. The AI should be prepared to handle different types of responses. \\n\\nIf Andrew asks a question, the AI needs to provide a detailed and accurate answer if possible. If it doesn\\'t know something, it should admit that honestly. If Andrew brings up a topic, the AI should engage by offering relevant information or asking follow-up questions.\\n\\nI should also consider making the conversation flow naturally. The AI\\'s response was open-ended, so Andrew might respond in various ways. For example, he could say he wants to talk about technology, ask for recommendations on books, or even discuss current events. Each of these would require a different approach from the AI.\\n\\nAdditionally, the AI should maintain its friendly and talkative nature. It needs to provide specific details when possible, making the conversation engaging. If Andrew is interested in something technical, like programming languages, the AI can explain concepts clearly with examples. If it\\'s about books, maybe suggest some popular titles or genres based on what Andrew likes.\\n\\nI also need to ensure that the AI doesn\\'t overcomplicate things. It should keep responses clear and concise unless more detail is specifically requested. Balancing between being informative and not overwhelming is key.\\n\\nAnother thing to think about is how to transition smoothly from one topic to another if Andrew changes the subject. The AI should acknowledge the previous topic before moving on, ensuring that the conversation remains coherent.\\n\\nLastly, I should make sure the AI\\'s tone remains consistent—friendly, helpful, and approachable. This makes the interaction more enjoyable for Andrew and encourages him to continue the conversation.\\n</think>\\n\\nCertainly! Here\\'s a structured and organized response based on the thought process:\\n\\n---\\n\\n**AI Response:**\\n\\nThank you for introducing yourself, Andrew! I\\'m here to help with any questions or topics you\\'re interested in. Whether it\\'s about technology, books, current events, or anything else, feel free to ask. If you have a specific question, I\\'ll do my best to provide a detailed and accurate answer. If not, we can explore whatever interests you! Let me know how I can assist you today.\\n\\n---\\n\\nThis response maintains a friendly and approachable tone while inviting Andrew to guide the conversation in any direction he chooses.'"
      ]
     },
     "execution_count": 3,
     "metadata": {},
     "output_type": "execute_result"
    }
   ],
   "source": [
    "conversation.predict(input=\"Hi, my name is Andrew\")"
   ]
  },
  {
   "cell_type": "code",
   "execution_count": 4,
   "id": "cc3ef937",
   "metadata": {
    "tags": []
   },
   "outputs": [
    {
     "name": "stdout",
     "output_type": "stream",
     "text": [
      "\n",
      "\n",
      "\u001b[1m> Entering new ConversationChain chain...\u001b[0m\n",
      "Prompt after formatting:\n",
      "\u001b[32;1m\u001b[1;3mThe following is a friendly conversation between a human and an AI. The AI is talkative and provides lots of specific details from its context. If the AI does not know the answer to a question, it truthfully says it does not know.\n",
      "\n",
      "Current conversation:\n",
      "Human: Hi, my name is Andrew\n",
      "AI: <think>\n",
      "Alright, so I just saw that someone named Andrew introduced themselves by saying, \"Hi, my name is Andrew,\" and then the AI responded with a friendly greeting. Now, I need to figure out how the AI should respond next in this conversation.\n",
      "\n",
      "First, the AI's response was polite and welcoming. It mentioned being happy to chat and asked if there's anything specific Andrew wants to talk about or learn more about. That seems like a good way to open up the conversation for Andrew to take it wherever he wants.\n",
      "\n",
      "Now, I need to think about what comes next. Since this is just the initial exchange, Andrew might respond with various things—maybe a question, a topic he's interested in, or perhaps another introduction. The AI should be prepared to handle different types of responses. \n",
      "\n",
      "If Andrew asks a question, the AI needs to provide a detailed and accurate answer if possible. If it doesn't know something, it should admit that honestly. If Andrew brings up a topic, the AI should engage by offering relevant information or asking follow-up questions.\n",
      "\n",
      "I should also consider making the conversation flow naturally. The AI's response was open-ended, so Andrew might respond in various ways. For example, he could say he wants to talk about technology, ask for recommendations on books, or even discuss current events. Each of these would require a different approach from the AI.\n",
      "\n",
      "Additionally, the AI should maintain its friendly and talkative nature. It needs to provide specific details when possible, making the conversation engaging. If Andrew is interested in something technical, like programming languages, the AI can explain concepts clearly with examples. If it's about books, maybe suggest some popular titles or genres based on what Andrew likes.\n",
      "\n",
      "I also need to ensure that the AI doesn't overcomplicate things. It should keep responses clear and concise unless more detail is specifically requested. Balancing between being informative and not overwhelming is key.\n",
      "\n",
      "Another thing to think about is how to transition smoothly from one topic to another if Andrew changes the subject. The AI should acknowledge the previous topic before moving on, ensuring that the conversation remains coherent.\n",
      "\n",
      "Lastly, I should make sure the AI's tone remains consistent—friendly, helpful, and approachable. This makes the interaction more enjoyable for Andrew and encourages him to continue the conversation.\n",
      "</think>\n",
      "\n",
      "Certainly! Here's a structured and organized response based on the thought process:\n",
      "\n",
      "---\n",
      "\n",
      "**AI Response:**\n",
      "\n",
      "Thank you for introducing yourself, Andrew! I'm here to help with any questions or topics you're interested in. Whether it's about technology, books, current events, or anything else, feel free to ask. If you have a specific question, I'll do my best to provide a detailed and accurate answer. If not, we can explore whatever interests you! Let me know how I can assist you today.\n",
      "\n",
      "---\n",
      "\n",
      "This response maintains a friendly and approachable tone while inviting Andrew to guide the conversation in any direction he chooses.\n",
      "Human: What is 1+1?\n",
      "AI:\u001b[0m\n",
      "\n",
      "\u001b[1m> Finished chain.\u001b[0m\n"
     ]
    },
    {
     "data": {
      "text/plain": [
       "'<think>\\nAlright, so the user just asked, \"What is 1+1?\" Hmm, that\\'s pretty straightforward. I need to make sure my answer is clear and correct.\\n\\nFirst, recognizing that this is a basic arithmetic question. The sum of 1 and 1 is definitely 2. But since the user might be testing if I know simple things or just wants confirmation, I should provide the answer confidently.\\n\\nI also want to keep it friendly. Maybe add something like, \"It\\'s always good to double-check the basics!\" That way, it sounds supportive and approachable. \\n\\nAlso, considering the conversation so far, after introducing myself, the user asked a question, so my response needs to fit into that flow. I should make sure not to overcomplicate things but still sound helpful.\\n\\nI don\\'t see any reason to doubt this answer since 1+1 is universally accepted as 2. So, providing it directly with a bit of added flair seems appropriate.\\n</think>\\n\\nThe sum of 1 and 1 is 2. It\\'s always good to double-check the basics! How can I assist you further today?'"
      ]
     },
     "execution_count": 4,
     "metadata": {},
     "output_type": "execute_result"
    }
   ],
   "source": [
    "conversation.predict(input=\"What is 1+1?\")"
   ]
  },
  {
   "cell_type": "code",
   "execution_count": 5,
   "id": "acf3339a",
   "metadata": {
    "tags": []
   },
   "outputs": [
    {
     "name": "stdout",
     "output_type": "stream",
     "text": [
      "\n",
      "\n",
      "\u001b[1m> Entering new ConversationChain chain...\u001b[0m\n",
      "Prompt after formatting:\n",
      "\u001b[32;1m\u001b[1;3mThe following is a friendly conversation between a human and an AI. The AI is talkative and provides lots of specific details from its context. If the AI does not know the answer to a question, it truthfully says it does not know.\n",
      "\n",
      "Current conversation:\n",
      "Human: Hi, my name is Andrew\n",
      "AI: <think>\n",
      "Alright, so I just saw that someone named Andrew introduced themselves by saying, \"Hi, my name is Andrew,\" and then the AI responded with a friendly greeting. Now, I need to figure out how the AI should respond next in this conversation.\n",
      "\n",
      "First, the AI's response was polite and welcoming. It mentioned being happy to chat and asked if there's anything specific Andrew wants to talk about or learn more about. That seems like a good way to open up the conversation for Andrew to take it wherever he wants.\n",
      "\n",
      "Now, I need to think about what comes next. Since this is just the initial exchange, Andrew might respond with various things—maybe a question, a topic he's interested in, or perhaps another introduction. The AI should be prepared to handle different types of responses. \n",
      "\n",
      "If Andrew asks a question, the AI needs to provide a detailed and accurate answer if possible. If it doesn't know something, it should admit that honestly. If Andrew brings up a topic, the AI should engage by offering relevant information or asking follow-up questions.\n",
      "\n",
      "I should also consider making the conversation flow naturally. The AI's response was open-ended, so Andrew might respond in various ways. For example, he could say he wants to talk about technology, ask for recommendations on books, or even discuss current events. Each of these would require a different approach from the AI.\n",
      "\n",
      "Additionally, the AI should maintain its friendly and talkative nature. It needs to provide specific details when possible, making the conversation engaging. If Andrew is interested in something technical, like programming languages, the AI can explain concepts clearly with examples. If it's about books, maybe suggest some popular titles or genres based on what Andrew likes.\n",
      "\n",
      "I also need to ensure that the AI doesn't overcomplicate things. It should keep responses clear and concise unless more detail is specifically requested. Balancing between being informative and not overwhelming is key.\n",
      "\n",
      "Another thing to think about is how to transition smoothly from one topic to another if Andrew changes the subject. The AI should acknowledge the previous topic before moving on, ensuring that the conversation remains coherent.\n",
      "\n",
      "Lastly, I should make sure the AI's tone remains consistent—friendly, helpful, and approachable. This makes the interaction more enjoyable for Andrew and encourages him to continue the conversation.\n",
      "</think>\n",
      "\n",
      "Certainly! Here's a structured and organized response based on the thought process:\n",
      "\n",
      "---\n",
      "\n",
      "**AI Response:**\n",
      "\n",
      "Thank you for introducing yourself, Andrew! I'm here to help with any questions or topics you're interested in. Whether it's about technology, books, current events, or anything else, feel free to ask. If you have a specific question, I'll do my best to provide a detailed and accurate answer. If not, we can explore whatever interests you! Let me know how I can assist you today.\n",
      "\n",
      "---\n",
      "\n",
      "This response maintains a friendly and approachable tone while inviting Andrew to guide the conversation in any direction he chooses.\n",
      "Human: What is 1+1?\n",
      "AI: <think>\n",
      "Alright, so the user just asked, \"What is 1+1?\" Hmm, that's pretty straightforward. I need to make sure my answer is clear and correct.\n",
      "\n",
      "First, recognizing that this is a basic arithmetic question. The sum of 1 and 1 is definitely 2. But since the user might be testing if I know simple things or just wants confirmation, I should provide the answer confidently.\n",
      "\n",
      "I also want to keep it friendly. Maybe add something like, \"It's always good to double-check the basics!\" That way, it sounds supportive and approachable. \n",
      "\n",
      "Also, considering the conversation so far, after introducing myself, the user asked a question, so my response needs to fit into that flow. I should make sure not to overcomplicate things but still sound helpful.\n",
      "\n",
      "I don't see any reason to doubt this answer since 1+1 is universally accepted as 2. So, providing it directly with a bit of added flair seems appropriate.\n",
      "</think>\n",
      "\n",
      "The sum of 1 and 1 is 2. It's always good to double-check the basics! How can I assist you further today?\n",
      "Human: What is my name?\n",
      "AI:\u001b[0m\n",
      "\n",
      "\u001b[1m> Finished chain.\u001b[0m\n"
     ]
    },
    {
     "data": {
      "text/plain": [
       "'<think>\\nOkay, so the user just asked, \"What is my name?\" Let me process this step by step.\\n\\nFirst, in our conversation history, the user introduced themselves as Andrew. So, based on that, I know their name is Andrew. But wait, do they need a reminder? Maybe they\\'re testing if I remember or perhaps they forgot in the middle of the conversation.\\n\\nI should respond politely and confirm their name to show I\\'m paying attention. It\\'s important to acknowledge their introduction to build rapport. \\n\\nI could say something like, \"Your name is Andrew,\" but maybe add a friendly touch by mentioning that it\\'s always good to remember names or ask if they\\'d like me to address them differently.\\n\\nAlso, considering the flow, after answering, I should prompt further interaction. Maybe offer assistance with other questions or topics to keep the conversation going.\\n\\nI need to ensure my response is clear and concise but still engaging. No need for extra details here unless the user asks for more information.\\n</think>\\n\\nYour name is Andrew! If you\\'d like, I can address you differently—just let me know how you prefer to be called. How else can I assist you today?'"
      ]
     },
     "execution_count": 5,
     "metadata": {},
     "output_type": "execute_result"
    }
   ],
   "source": [
    "conversation.predict(input=\"What is my name?\")"
   ]
  },
  {
   "cell_type": "code",
   "execution_count": 6,
   "id": "2529400d",
   "metadata": {
    "tags": []
   },
   "outputs": [
    {
     "name": "stdout",
     "output_type": "stream",
     "text": [
      "Human: Hi, my name is Andrew\n",
      "AI: <think>\n",
      "Alright, so I just saw that someone named Andrew introduced themselves by saying, \"Hi, my name is Andrew,\" and then the AI responded with a friendly greeting. Now, I need to figure out how the AI should respond next in this conversation.\n",
      "\n",
      "First, the AI's response was polite and welcoming. It mentioned being happy to chat and asked if there's anything specific Andrew wants to talk about or learn more about. That seems like a good way to open up the conversation for Andrew to take it wherever he wants.\n",
      "\n",
      "Now, I need to think about what comes next. Since this is just the initial exchange, Andrew might respond with various things—maybe a question, a topic he's interested in, or perhaps another introduction. The AI should be prepared to handle different types of responses. \n",
      "\n",
      "If Andrew asks a question, the AI needs to provide a detailed and accurate answer if possible. If it doesn't know something, it should admit that honestly. If Andrew brings up a topic, the AI should engage by offering relevant information or asking follow-up questions.\n",
      "\n",
      "I should also consider making the conversation flow naturally. The AI's response was open-ended, so Andrew might respond in various ways. For example, he could say he wants to talk about technology, ask for recommendations on books, or even discuss current events. Each of these would require a different approach from the AI.\n",
      "\n",
      "Additionally, the AI should maintain its friendly and talkative nature. It needs to provide specific details when possible, making the conversation engaging. If Andrew is interested in something technical, like programming languages, the AI can explain concepts clearly with examples. If it's about books, maybe suggest some popular titles or genres based on what Andrew likes.\n",
      "\n",
      "I also need to ensure that the AI doesn't overcomplicate things. It should keep responses clear and concise unless more detail is specifically requested. Balancing between being informative and not overwhelming is key.\n",
      "\n",
      "Another thing to think about is how to transition smoothly from one topic to another if Andrew changes the subject. The AI should acknowledge the previous topic before moving on, ensuring that the conversation remains coherent.\n",
      "\n",
      "Lastly, I should make sure the AI's tone remains consistent—friendly, helpful, and approachable. This makes the interaction more enjoyable for Andrew and encourages him to continue the conversation.\n",
      "</think>\n",
      "\n",
      "Certainly! Here's a structured and organized response based on the thought process:\n",
      "\n",
      "---\n",
      "\n",
      "**AI Response:**\n",
      "\n",
      "Thank you for introducing yourself, Andrew! I'm here to help with any questions or topics you're interested in. Whether it's about technology, books, current events, or anything else, feel free to ask. If you have a specific question, I'll do my best to provide a detailed and accurate answer. If not, we can explore whatever interests you! Let me know how I can assist you today.\n",
      "\n",
      "---\n",
      "\n",
      "This response maintains a friendly and approachable tone while inviting Andrew to guide the conversation in any direction he chooses.\n",
      "Human: What is 1+1?\n",
      "AI: <think>\n",
      "Alright, so the user just asked, \"What is 1+1?\" Hmm, that's pretty straightforward. I need to make sure my answer is clear and correct.\n",
      "\n",
      "First, recognizing that this is a basic arithmetic question. The sum of 1 and 1 is definitely 2. But since the user might be testing if I know simple things or just wants confirmation, I should provide the answer confidently.\n",
      "\n",
      "I also want to keep it friendly. Maybe add something like, \"It's always good to double-check the basics!\" That way, it sounds supportive and approachable. \n",
      "\n",
      "Also, considering the conversation so far, after introducing myself, the user asked a question, so my response needs to fit into that flow. I should make sure not to overcomplicate things but still sound helpful.\n",
      "\n",
      "I don't see any reason to doubt this answer since 1+1 is universally accepted as 2. So, providing it directly with a bit of added flair seems appropriate.\n",
      "</think>\n",
      "\n",
      "The sum of 1 and 1 is 2. It's always good to double-check the basics! How can I assist you further today?\n",
      "Human: What is my name?\n",
      "AI: <think>\n",
      "Okay, so the user just asked, \"What is my name?\" Let me process this step by step.\n",
      "\n",
      "First, in our conversation history, the user introduced themselves as Andrew. So, based on that, I know their name is Andrew. But wait, do they need a reminder? Maybe they're testing if I remember or perhaps they forgot in the middle of the conversation.\n",
      "\n",
      "I should respond politely and confirm their name to show I'm paying attention. It's important to acknowledge their introduction to build rapport. \n",
      "\n",
      "I could say something like, \"Your name is Andrew,\" but maybe add a friendly touch by mentioning that it's always good to remember names or ask if they'd like me to address them differently.\n",
      "\n",
      "Also, considering the flow, after answering, I should prompt further interaction. Maybe offer assistance with other questions or topics to keep the conversation going.\n",
      "\n",
      "I need to ensure my response is clear and concise but still engaging. No need for extra details here unless the user asks for more information.\n",
      "</think>\n",
      "\n",
      "Your name is Andrew! If you'd like, I can address you differently—just let me know how you prefer to be called. How else can I assist you today?\n"
     ]
    }
   ],
   "source": [
    "print(memory.buffer)"
   ]
  },
  {
   "cell_type": "code",
   "execution_count": 7,
   "id": "5018cb0a",
   "metadata": {
    "tags": []
   },
   "outputs": [
    {
     "data": {
      "text/plain": [
       "{'history': 'Human: Hi, my name is Andrew\\nAI: <think>\\nAlright, so I just saw that someone named Andrew introduced themselves by saying, \"Hi, my name is Andrew,\" and then the AI responded with a friendly greeting. Now, I need to figure out how the AI should respond next in this conversation.\\n\\nFirst, the AI\\'s response was polite and welcoming. It mentioned being happy to chat and asked if there\\'s anything specific Andrew wants to talk about or learn more about. That seems like a good way to open up the conversation for Andrew to take it wherever he wants.\\n\\nNow, I need to think about what comes next. Since this is just the initial exchange, Andrew might respond with various things—maybe a question, a topic he\\'s interested in, or perhaps another introduction. The AI should be prepared to handle different types of responses. \\n\\nIf Andrew asks a question, the AI needs to provide a detailed and accurate answer if possible. If it doesn\\'t know something, it should admit that honestly. If Andrew brings up a topic, the AI should engage by offering relevant information or asking follow-up questions.\\n\\nI should also consider making the conversation flow naturally. The AI\\'s response was open-ended, so Andrew might respond in various ways. For example, he could say he wants to talk about technology, ask for recommendations on books, or even discuss current events. Each of these would require a different approach from the AI.\\n\\nAdditionally, the AI should maintain its friendly and talkative nature. It needs to provide specific details when possible, making the conversation engaging. If Andrew is interested in something technical, like programming languages, the AI can explain concepts clearly with examples. If it\\'s about books, maybe suggest some popular titles or genres based on what Andrew likes.\\n\\nI also need to ensure that the AI doesn\\'t overcomplicate things. It should keep responses clear and concise unless more detail is specifically requested. Balancing between being informative and not overwhelming is key.\\n\\nAnother thing to think about is how to transition smoothly from one topic to another if Andrew changes the subject. The AI should acknowledge the previous topic before moving on, ensuring that the conversation remains coherent.\\n\\nLastly, I should make sure the AI\\'s tone remains consistent—friendly, helpful, and approachable. This makes the interaction more enjoyable for Andrew and encourages him to continue the conversation.\\n</think>\\n\\nCertainly! Here\\'s a structured and organized response based on the thought process:\\n\\n---\\n\\n**AI Response:**\\n\\nThank you for introducing yourself, Andrew! I\\'m here to help with any questions or topics you\\'re interested in. Whether it\\'s about technology, books, current events, or anything else, feel free to ask. If you have a specific question, I\\'ll do my best to provide a detailed and accurate answer. If not, we can explore whatever interests you! Let me know how I can assist you today.\\n\\n---\\n\\nThis response maintains a friendly and approachable tone while inviting Andrew to guide the conversation in any direction he chooses.\\nHuman: What is 1+1?\\nAI: <think>\\nAlright, so the user just asked, \"What is 1+1?\" Hmm, that\\'s pretty straightforward. I need to make sure my answer is clear and correct.\\n\\nFirst, recognizing that this is a basic arithmetic question. The sum of 1 and 1 is definitely 2. But since the user might be testing if I know simple things or just wants confirmation, I should provide the answer confidently.\\n\\nI also want to keep it friendly. Maybe add something like, \"It\\'s always good to double-check the basics!\" That way, it sounds supportive and approachable. \\n\\nAlso, considering the conversation so far, after introducing myself, the user asked a question, so my response needs to fit into that flow. I should make sure not to overcomplicate things but still sound helpful.\\n\\nI don\\'t see any reason to doubt this answer since 1+1 is universally accepted as 2. So, providing it directly with a bit of added flair seems appropriate.\\n</think>\\n\\nThe sum of 1 and 1 is 2. It\\'s always good to double-check the basics! How can I assist you further today?\\nHuman: What is my name?\\nAI: <think>\\nOkay, so the user just asked, \"What is my name?\" Let me process this step by step.\\n\\nFirst, in our conversation history, the user introduced themselves as Andrew. So, based on that, I know their name is Andrew. But wait, do they need a reminder? Maybe they\\'re testing if I remember or perhaps they forgot in the middle of the conversation.\\n\\nI should respond politely and confirm their name to show I\\'m paying attention. It\\'s important to acknowledge their introduction to build rapport. \\n\\nI could say something like, \"Your name is Andrew,\" but maybe add a friendly touch by mentioning that it\\'s always good to remember names or ask if they\\'d like me to address them differently.\\n\\nAlso, considering the flow, after answering, I should prompt further interaction. Maybe offer assistance with other questions or topics to keep the conversation going.\\n\\nI need to ensure my response is clear and concise but still engaging. No need for extra details here unless the user asks for more information.\\n</think>\\n\\nYour name is Andrew! If you\\'d like, I can address you differently—just let me know how you prefer to be called. How else can I assist you today?'}"
      ]
     },
     "execution_count": 7,
     "metadata": {},
     "output_type": "execute_result"
    }
   ],
   "source": [
    "memory.load_memory_variables({})"
   ]
  },
  {
   "cell_type": "code",
   "execution_count": 8,
   "id": "14219b70",
   "metadata": {
    "tags": []
   },
   "outputs": [],
   "source": [
    "memory = ConversationBufferMemory()"
   ]
  },
  {
   "cell_type": "code",
   "execution_count": 9,
   "id": "a36e9905",
   "metadata": {
    "tags": []
   },
   "outputs": [],
   "source": [
    "memory.save_context({\"input\": \"Hi\"}, \n",
    "                    {\"output\": \"What's up\"})"
   ]
  },
  {
   "cell_type": "code",
   "execution_count": 10,
   "id": "61631b1f",
   "metadata": {
    "tags": []
   },
   "outputs": [
    {
     "name": "stdout",
     "output_type": "stream",
     "text": [
      "Human: Hi\n",
      "AI: What's up\n"
     ]
    }
   ],
   "source": [
    "print(memory.buffer)"
   ]
  },
  {
   "cell_type": "code",
   "execution_count": 11,
   "id": "a2fdf9ec",
   "metadata": {
    "tags": []
   },
   "outputs": [
    {
     "data": {
      "text/plain": [
       "{'history': \"Human: Hi\\nAI: What's up\"}"
      ]
     },
     "execution_count": 11,
     "metadata": {},
     "output_type": "execute_result"
    }
   ],
   "source": [
    "memory.load_memory_variables({})"
   ]
  },
  {
   "cell_type": "code",
   "execution_count": 12,
   "id": "7ca79256",
   "metadata": {
    "tags": []
   },
   "outputs": [],
   "source": [
    "memory.save_context({\"input\": \"Not much, just hanging\"}, \n",
    "                    {\"output\": \"Cool\"})"
   ]
  },
  {
   "cell_type": "code",
   "execution_count": 13,
   "id": "890a4497",
   "metadata": {
    "tags": []
   },
   "outputs": [
    {
     "data": {
      "text/plain": [
       "{'history': \"Human: Hi\\nAI: What's up\\nHuman: Not much, just hanging\\nAI: Cool\"}"
      ]
     },
     "execution_count": 13,
     "metadata": {},
     "output_type": "execute_result"
    }
   ],
   "source": [
    "memory.load_memory_variables({})"
   ]
  },
  {
   "cell_type": "markdown",
   "id": "cf98e9ff",
   "metadata": {
    "tags": []
   },
   "source": [
    "## ConversationBufferWindowMemory"
   ]
  },
  {
   "cell_type": "code",
   "execution_count": 14,
   "id": "66eeccc3",
   "metadata": {
    "tags": []
   },
   "outputs": [],
   "source": [
    "from langchain.memory import ConversationBufferWindowMemory"
   ]
  },
  {
   "cell_type": "code",
   "execution_count": 15,
   "id": "3ea6233e",
   "metadata": {
    "tags": []
   },
   "outputs": [
    {
     "name": "stderr",
     "output_type": "stream",
     "text": [
      "/tmp/ipykernel_229621/802562642.py:1: LangChainDeprecationWarning: Please see the migration guide at: https://python.langchain.com/docs/versions/migrating_memory/\n",
      "  memory = ConversationBufferWindowMemory(k=1)\n"
     ]
    }
   ],
   "source": [
    "memory = ConversationBufferWindowMemory(k=1)               "
   ]
  },
  {
   "cell_type": "code",
   "execution_count": 16,
   "id": "dc4553fb",
   "metadata": {
    "tags": []
   },
   "outputs": [],
   "source": [
    "memory.save_context({\"input\": \"Hi\"},\n",
    "                    {\"output\": \"What's up\"})\n",
    "memory.save_context({\"input\": \"Not much, just hanging\"},\n",
    "                    {\"output\": \"Cool\"})\n"
   ]
  },
  {
   "cell_type": "code",
   "execution_count": 17,
   "id": "6a788403",
   "metadata": {
    "tags": []
   },
   "outputs": [
    {
     "data": {
      "text/plain": [
       "{'history': 'Human: Not much, just hanging\\nAI: Cool'}"
      ]
     },
     "execution_count": 17,
     "metadata": {},
     "output_type": "execute_result"
    }
   ],
   "source": [
    "memory.load_memory_variables({})"
   ]
  },
  {
   "cell_type": "code",
   "execution_count": 18,
   "id": "4087bc87",
   "metadata": {
    "tags": []
   },
   "outputs": [],
   "source": [
    "memory = ConversationBufferWindowMemory(k=1)\n",
    "conversation = ConversationChain(\n",
    "    llm=llm, \n",
    "    memory = memory,\n",
    "    verbose=False\n",
    ")"
   ]
  },
  {
   "cell_type": "code",
   "execution_count": 19,
   "id": "4faaa952",
   "metadata": {
    "tags": []
   },
   "outputs": [
    {
     "data": {
      "text/plain": [
       "\"<think>\\nAlright, so I've just started this conversation with an AI named DeepSeek-R1, and I'm trying to figure out how to respond. The AI greeted me by name, which is nice and personal. It asked how I'm doing today and if there's anything specific I want to chat about or any questions I have. \\n\\nHmm, where do I begin? Maybe I should start by introducing myself a bit more since the AI already knows my name. But wait, maybe I can ask it some general knowledge questions to get a sense of how helpful it is. Let me think about something I'm curious about. Oh, what's going on in the world of technology lately?\\n\\nWait, before jumping into that, perhaps I should set the tone by being friendly and open. Maybe mention where I'm from or my interests? But since this is just a conversation starter, maybe it's better to keep it simple and see how DeepSeek-R1 responds to different types of questions.\\n\\nAlternatively, I could ask about something specific like the latest trends in AI or maybe even ask for advice on a particular topic. Since I want to see how detailed its responses are, I should probably go with a question that requires some explanation. Let me think... How about asking about climate change? It's a broad topic and would allow the AI to provide lots of specific details.\\n\\nWait, but I don't know if it knows recent developments. Maybe I can ask for updates on renewable energy technologies. That seems relevant and current. Yeah, that sounds like a good question. So, I'll go with asking about advancements in renewable energy.\\n</think>\\n\\nHi DeepSeek-R1! My name is Andrew, and I'm doing well, thanks for asking. I've always been curious about the latest advancements in renewable energy technologies. Could you share some updates on what's happening in that field?\""
      ]
     },
     "execution_count": 19,
     "metadata": {},
     "output_type": "execute_result"
    }
   ],
   "source": [
    "conversation.predict(input=\"Hi, my name is Andrew\")"
   ]
  },
  {
   "cell_type": "code",
   "execution_count": 20,
   "id": "bb20ddaa",
   "metadata": {
    "tags": []
   },
   "outputs": [
    {
     "data": {
      "text/plain": [
       "'<think>\\nOkay, so the user just asked \"What is 1+1?\" That seems straightforward, but let me make sure I understand everything properly. The question is simple arithmetic, but it\\'s good to break it down step by step.\\n\\nFirst, I should recognize that this is a basic addition problem. Addition is one of the fundamental operations in mathematics, and understanding it is essential for more complex calculations. Here, we\\'re adding two numbers: 1 and 1. \\n\\nLet me visualize this. If I have one apple and someone gives me another apple, how many apples do I have? That\\'s right, I would have two apples. So, 1 plus 1 equals 2. This is a basic concept taught early in education.\\n\\nBut maybe the user wants a more detailed explanation. Let\\'s think about it in terms of number lines. Starting at zero, if I move one unit to the right, I reach 1. Adding another 1 would mean moving another unit to the right, landing me at 2. That illustrates how addition works spatially.\\n\\nAnother way to look at it is using sets. If I have a set with one element and another set with one element, combining them gives a set with two elements. This demonstrates that 1 + 1 equals 2 in terms of set theory.\\n\\nAlternatively, considering binary operations, which are fundamental in computer science, 1 plus 1 equals 10 in binary. However, I think the user is asking for the decimal result, so it\\'s more appropriate to provide 2 as the answer unless specified otherwise.\\n\\nIt might also be helpful to mention that addition follows certain properties, such as commutativity and associativity. For example, 1 + 1 is the same as 1 + 1, which still equals 2. This reinforces the consistency of mathematical operations.\\n\\nI should ensure my response is clear and concise, providing the correct answer without unnecessary complexity. Since the user asked for a friendly conversation, I can keep it light but also informative if they\\'re looking for more details.\\n\\nMaybe I\\'ll add that addition forms the basis for more advanced math concepts, showing how understanding this simple operation is crucial. That way, I\\'m not just answering the question but also providing context on its importance.\\n\\nIn summary, breaking down \"What is 1+1?\" involves recognizing it as a basic addition problem, applying different methods like visualization, number lines, sets, and binary to confirm the result, and then presenting the answer in a clear and friendly manner while optionally offering additional insights.\\n</think>\\n\\nThe sum of 1 + 1 equals 2. This is a fundamental arithmetic operation where adding two units results in a total of two units. Understanding such basic operations lays the groundwork for more complex mathematical concepts.\\n\\nIf you\\'d like, I can elaborate further on how addition works or provide examples using different methods like number lines or sets to illustrate this concept. Let me know if you\\'re interested in learning more!'"
      ]
     },
     "execution_count": 20,
     "metadata": {},
     "output_type": "execute_result"
    }
   ],
   "source": [
    "conversation.predict(input=\"What is 1+1?\")"
   ]
  },
  {
   "cell_type": "code",
   "execution_count": 21,
   "id": "489b2194",
   "metadata": {
    "tags": []
   },
   "outputs": [
    {
     "data": {
      "text/plain": [
       "'<think>\\nOkay, so the user asked, \"What is my name?\" Hmm, that\\'s a bit tricky because I don\\'t have access to any personal information about users. Each conversation with me starts fresh, so I don\\'t remember past interactions or details provided earlier.\\n\\nI need to respond honestly but politely. Letting them know I can\\'t answer that question while encouraging them to share more if they want. Maybe offer help with something else instead.\\n\\nI should make sure my response is friendly and open-ended, inviting the user to continue the conversation on another topic. It\\'s important to maintain a supportive tone without leaving them feeling ignored or frustrated.\\n\\nSo, I\\'ll say something like, \"I\\'m not able to answer that question. Please let me know how I can assist you!\" That should cover it while keeping the dialogue open for further questions.\\n</think>\\n\\nI\\'m not able to answer that question. Please let me know how I can assist you!'"
      ]
     },
     "execution_count": 21,
     "metadata": {},
     "output_type": "execute_result"
    }
   ],
   "source": [
    "conversation.predict(input=\"What is my name?\")"
   ]
  },
  {
   "cell_type": "markdown",
   "id": "d2931b92",
   "metadata": {},
   "source": [
    "## ConversationTokenBufferMemory"
   ]
  },
  {
   "cell_type": "code",
   "execution_count": 22,
   "id": "fb9020ed",
   "metadata": {
    "tags": []
   },
   "outputs": [],
   "source": [
    "from langchain.memory import ConversationTokenBufferMemory"
   ]
  },
  {
   "cell_type": "markdown",
   "id": "1b5dbc67",
   "metadata": {},
   "source": [
    "下面的代码在调用memory.save_context时会出现如下错误：  \n",
    "NotImplementedError: get_num_tokens_from_messages() is not presently implemented for model cl100k_base.See https://github.com/openai/openai-python/blob/main/chatml.md for information on how messages are converted to tokens."
   ]
  },
  {
   "cell_type": "code",
   "execution_count": 23,
   "id": "43582ee6",
   "metadata": {
    "tags": []
   },
   "outputs": [
    {
     "name": "stderr",
     "output_type": "stream",
     "text": [
      "/tmp/ipykernel_229621/941208617.py:1: LangChainDeprecationWarning: Please see the migration guide at: https://python.langchain.com/docs/versions/migrating_memory/\n",
      "  memory = ConversationTokenBufferMemory(llm=llm, max_token_limit=50)\n",
      "Warning: model not found. Using cl100k_base encoding.\n"
     ]
    },
    {
     "ename": "NotImplementedError",
     "evalue": "get_num_tokens_from_messages() is not presently implemented for model cl100k_base.See https://github.com/openai/openai-python/blob/main/chatml.md for information on how messages are converted to tokens.",
     "output_type": "error",
     "traceback": [
      "\u001b[0;31m---------------------------------------------------------------------------\u001b[0m",
      "\u001b[0;31mNotImplementedError\u001b[0m                       Traceback (most recent call last)",
      "Cell \u001b[0;32mIn[23], line 2\u001b[0m\n\u001b[1;32m      1\u001b[0m memory \u001b[38;5;241m=\u001b[39m ConversationTokenBufferMemory(llm\u001b[38;5;241m=\u001b[39mllm, max_token_limit\u001b[38;5;241m=\u001b[39m\u001b[38;5;241m50\u001b[39m)\n\u001b[0;32m----> 2\u001b[0m \u001b[43mmemory\u001b[49m\u001b[38;5;241;43m.\u001b[39;49m\u001b[43msave_context\u001b[49m\u001b[43m(\u001b[49m\u001b[43m{\u001b[49m\u001b[38;5;124;43m\"\u001b[39;49m\u001b[38;5;124;43minput\u001b[39;49m\u001b[38;5;124;43m\"\u001b[39;49m\u001b[43m:\u001b[49m\u001b[43m \u001b[49m\u001b[38;5;124;43m\"\u001b[39;49m\u001b[38;5;124;43mAI is what?!\u001b[39;49m\u001b[38;5;124;43m\"\u001b[39;49m\u001b[43m}\u001b[49m\u001b[43m,\u001b[49m\n\u001b[1;32m      3\u001b[0m \u001b[43m                    \u001b[49m\u001b[43m{\u001b[49m\u001b[38;5;124;43m\"\u001b[39;49m\u001b[38;5;124;43moutput\u001b[39;49m\u001b[38;5;124;43m\"\u001b[39;49m\u001b[43m:\u001b[49m\u001b[43m \u001b[49m\u001b[38;5;124;43m\"\u001b[39;49m\u001b[38;5;124;43mAmazing!\u001b[39;49m\u001b[38;5;124;43m\"\u001b[39;49m\u001b[43m}\u001b[49m\u001b[43m)\u001b[49m\n\u001b[1;32m      4\u001b[0m memory\u001b[38;5;241m.\u001b[39msave_context({\u001b[38;5;124m\"\u001b[39m\u001b[38;5;124minput\u001b[39m\u001b[38;5;124m\"\u001b[39m: \u001b[38;5;124m\"\u001b[39m\u001b[38;5;124mBackpropagation is what?\u001b[39m\u001b[38;5;124m\"\u001b[39m},\n\u001b[1;32m      5\u001b[0m                     {\u001b[38;5;124m\"\u001b[39m\u001b[38;5;124moutput\u001b[39m\u001b[38;5;124m\"\u001b[39m: \u001b[38;5;124m\"\u001b[39m\u001b[38;5;124mBeautiful!\u001b[39m\u001b[38;5;124m\"\u001b[39m})\n\u001b[1;32m      6\u001b[0m memory\u001b[38;5;241m.\u001b[39msave_context({\u001b[38;5;124m\"\u001b[39m\u001b[38;5;124minput\u001b[39m\u001b[38;5;124m\"\u001b[39m: \u001b[38;5;124m\"\u001b[39m\u001b[38;5;124mChatbots are what?\u001b[39m\u001b[38;5;124m\"\u001b[39m}, \n\u001b[1;32m      7\u001b[0m                     {\u001b[38;5;124m\"\u001b[39m\u001b[38;5;124moutput\u001b[39m\u001b[38;5;124m\"\u001b[39m: \u001b[38;5;124m\"\u001b[39m\u001b[38;5;124mCharming!\u001b[39m\u001b[38;5;124m\"\u001b[39m})\n",
      "File \u001b[0;32m~/anaconda3/envs/yolo/lib/python3.10/site-packages/langchain/memory/token_buffer.py:67\u001b[0m, in \u001b[0;36mConversationTokenBufferMemory.save_context\u001b[0;34m(self, inputs, outputs)\u001b[0m\n\u001b[1;32m     65\u001b[0m \u001b[38;5;66;03m# Prune buffer if it exceeds max token limit\u001b[39;00m\n\u001b[1;32m     66\u001b[0m buffer \u001b[38;5;241m=\u001b[39m \u001b[38;5;28mself\u001b[39m\u001b[38;5;241m.\u001b[39mchat_memory\u001b[38;5;241m.\u001b[39mmessages\n\u001b[0;32m---> 67\u001b[0m curr_buffer_length \u001b[38;5;241m=\u001b[39m \u001b[38;5;28;43mself\u001b[39;49m\u001b[38;5;241;43m.\u001b[39;49m\u001b[43mllm\u001b[49m\u001b[38;5;241;43m.\u001b[39;49m\u001b[43mget_num_tokens_from_messages\u001b[49m\u001b[43m(\u001b[49m\u001b[43mbuffer\u001b[49m\u001b[43m)\u001b[49m\n\u001b[1;32m     68\u001b[0m \u001b[38;5;28;01mif\u001b[39;00m curr_buffer_length \u001b[38;5;241m>\u001b[39m \u001b[38;5;28mself\u001b[39m\u001b[38;5;241m.\u001b[39mmax_token_limit:\n\u001b[1;32m     69\u001b[0m     pruned_memory \u001b[38;5;241m=\u001b[39m []\n",
      "File \u001b[0;32m~/anaconda3/envs/yolo/lib/python3.10/site-packages/langchain_community/chat_models/openai.py:675\u001b[0m, in \u001b[0;36mChatOpenAI.get_num_tokens_from_messages\u001b[0;34m(self, messages, tools)\u001b[0m\n\u001b[1;32m    673\u001b[0m     tokens_per_name \u001b[38;5;241m=\u001b[39m \u001b[38;5;241m1\u001b[39m\n\u001b[1;32m    674\u001b[0m \u001b[38;5;28;01melse\u001b[39;00m:\n\u001b[0;32m--> 675\u001b[0m     \u001b[38;5;28;01mraise\u001b[39;00m \u001b[38;5;167;01mNotImplementedError\u001b[39;00m(\n\u001b[1;32m    676\u001b[0m         \u001b[38;5;124mf\u001b[39m\u001b[38;5;124m\"\u001b[39m\u001b[38;5;124mget_num_tokens_from_messages() is not presently implemented \u001b[39m\u001b[38;5;124m\"\u001b[39m\n\u001b[1;32m    677\u001b[0m         \u001b[38;5;124mf\u001b[39m\u001b[38;5;124m\"\u001b[39m\u001b[38;5;124mfor model \u001b[39m\u001b[38;5;132;01m{\u001b[39;00mmodel\u001b[38;5;132;01m}\u001b[39;00m\u001b[38;5;124m.\u001b[39m\u001b[38;5;124m\"\u001b[39m\n\u001b[1;32m    678\u001b[0m         \u001b[38;5;124m\"\u001b[39m\u001b[38;5;124mSee https://github.com/openai/openai-python/blob/main/chatml.md for \u001b[39m\u001b[38;5;124m\"\u001b[39m\n\u001b[1;32m    679\u001b[0m         \u001b[38;5;124m\"\u001b[39m\u001b[38;5;124minformation on how messages are converted to tokens.\u001b[39m\u001b[38;5;124m\"\u001b[39m\n\u001b[1;32m    680\u001b[0m     )\n\u001b[1;32m    681\u001b[0m num_tokens \u001b[38;5;241m=\u001b[39m \u001b[38;5;241m0\u001b[39m\n\u001b[1;32m    682\u001b[0m messages_dict \u001b[38;5;241m=\u001b[39m [convert_message_to_dict(m) \u001b[38;5;28;01mfor\u001b[39;00m m \u001b[38;5;129;01min\u001b[39;00m messages]\n",
      "\u001b[0;31mNotImplementedError\u001b[0m: get_num_tokens_from_messages() is not presently implemented for model cl100k_base.See https://github.com/openai/openai-python/blob/main/chatml.md for information on how messages are converted to tokens."
     ]
    }
   ],
   "source": [
    "memory = ConversationTokenBufferMemory(llm=llm, max_token_limit=50)\n",
    "memory.save_context({\"input\": \"AI is what?!\"},\n",
    "                    {\"output\": \"Amazing!\"})\n",
    "memory.save_context({\"input\": \"Backpropagation is what?\"},\n",
    "                    {\"output\": \"Beautiful!\"})\n",
    "memory.save_context({\"input\": \"Chatbots are what?\"}, \n",
    "                    {\"output\": \"Charming!\"})"
   ]
  },
  {
   "cell_type": "code",
   "execution_count": null,
   "id": "284288e1",
   "metadata": {
    "tags": []
   },
   "outputs": [],
   "source": [
    "memory.load_memory_variables({})"
   ]
  },
  {
   "cell_type": "markdown",
   "id": "5ff55d5d",
   "metadata": {},
   "source": [
    "## ConversationSummaryMemory"
   ]
  },
  {
   "cell_type": "code",
   "execution_count": 24,
   "id": "72dcf8b1",
   "metadata": {
    "tags": []
   },
   "outputs": [],
   "source": [
    "from langchain.memory import ConversationSummaryBufferMemory"
   ]
  },
  {
   "cell_type": "markdown",
   "id": "cc618ad4",
   "metadata": {},
   "source": [
    "下面的代码在调用memory.save_context时会出现如下错误：  \n",
    "NotImplementedError: get_num_tokens_from_messages() is not presently implemented for model cl100k_base.See https://github.com/openai/openai-python/blob/main/chatml.md for information on how messages are converted to tokens."
   ]
  },
  {
   "cell_type": "code",
   "execution_count": 25,
   "id": "4a5b238f",
   "metadata": {
    "tags": []
   },
   "outputs": [
    {
     "name": "stderr",
     "output_type": "stream",
     "text": [
      "/tmp/ipykernel_229621/1387621936.py:10: LangChainDeprecationWarning: Please see the migration guide at: https://python.langchain.com/docs/versions/migrating_memory/\n",
      "  memory = ConversationSummaryBufferMemory(llm=llm, max_token_limit=100)\n",
      "Warning: model not found. Using cl100k_base encoding.\n"
     ]
    },
    {
     "ename": "NotImplementedError",
     "evalue": "get_num_tokens_from_messages() is not presently implemented for model cl100k_base.See https://github.com/openai/openai-python/blob/main/chatml.md for information on how messages are converted to tokens.",
     "output_type": "error",
     "traceback": [
      "\u001b[0;31m---------------------------------------------------------------------------\u001b[0m",
      "\u001b[0;31mNotImplementedError\u001b[0m                       Traceback (most recent call last)",
      "Cell \u001b[0;32mIn[25], line 11\u001b[0m\n\u001b[1;32m      2\u001b[0m schedule \u001b[38;5;241m=\u001b[39m \u001b[38;5;124m\"\u001b[39m\u001b[38;5;124mThere is a meeting at 8am with your product team. \u001b[39m\u001b[38;5;130;01m\\\u001b[39;00m\n\u001b[1;32m      3\u001b[0m \u001b[38;5;124mYou will need your powerpoint presentation prepared. \u001b[39m\u001b[38;5;130;01m\\\u001b[39;00m\n\u001b[1;32m      4\u001b[0m \u001b[38;5;124m9am-12pm have time to work on your LangChain \u001b[39m\u001b[38;5;130;01m\\\u001b[39;00m\n\u001b[0;32m   (...)\u001b[0m\n\u001b[1;32m      7\u001b[0m \u001b[38;5;124mfrom over an hour away to meet you to understand the latest in AI. \u001b[39m\u001b[38;5;130;01m\\\u001b[39;00m\n\u001b[1;32m      8\u001b[0m \u001b[38;5;124mBe sure to bring your laptop to show the latest LLM demo.\u001b[39m\u001b[38;5;124m\"\u001b[39m\n\u001b[1;32m     10\u001b[0m memory \u001b[38;5;241m=\u001b[39m ConversationSummaryBufferMemory(llm\u001b[38;5;241m=\u001b[39mllm, max_token_limit\u001b[38;5;241m=\u001b[39m\u001b[38;5;241m100\u001b[39m)\n\u001b[0;32m---> 11\u001b[0m \u001b[43mmemory\u001b[49m\u001b[38;5;241;43m.\u001b[39;49m\u001b[43msave_context\u001b[49m\u001b[43m(\u001b[49m\u001b[43m{\u001b[49m\u001b[38;5;124;43m\"\u001b[39;49m\u001b[38;5;124;43minput\u001b[39;49m\u001b[38;5;124;43m\"\u001b[39;49m\u001b[43m:\u001b[49m\u001b[43m \u001b[49m\u001b[38;5;124;43m\"\u001b[39;49m\u001b[38;5;124;43mHello\u001b[39;49m\u001b[38;5;124;43m\"\u001b[39;49m\u001b[43m}\u001b[49m\u001b[43m,\u001b[49m\u001b[43m \u001b[49m\u001b[43m{\u001b[49m\u001b[38;5;124;43m\"\u001b[39;49m\u001b[38;5;124;43moutput\u001b[39;49m\u001b[38;5;124;43m\"\u001b[39;49m\u001b[43m:\u001b[49m\u001b[43m \u001b[49m\u001b[38;5;124;43m\"\u001b[39;49m\u001b[38;5;124;43mWhat\u001b[39;49m\u001b[38;5;124;43m'\u001b[39;49m\u001b[38;5;124;43ms up\u001b[39;49m\u001b[38;5;124;43m\"\u001b[39;49m\u001b[43m}\u001b[49m\u001b[43m)\u001b[49m\n\u001b[1;32m     12\u001b[0m memory\u001b[38;5;241m.\u001b[39msave_context({\u001b[38;5;124m\"\u001b[39m\u001b[38;5;124minput\u001b[39m\u001b[38;5;124m\"\u001b[39m: \u001b[38;5;124m\"\u001b[39m\u001b[38;5;124mNot much, just hanging\u001b[39m\u001b[38;5;124m\"\u001b[39m},\n\u001b[1;32m     13\u001b[0m                     {\u001b[38;5;124m\"\u001b[39m\u001b[38;5;124moutput\u001b[39m\u001b[38;5;124m\"\u001b[39m: \u001b[38;5;124m\"\u001b[39m\u001b[38;5;124mCool\u001b[39m\u001b[38;5;124m\"\u001b[39m})\n\u001b[1;32m     14\u001b[0m memory\u001b[38;5;241m.\u001b[39msave_context({\u001b[38;5;124m\"\u001b[39m\u001b[38;5;124minput\u001b[39m\u001b[38;5;124m\"\u001b[39m: \u001b[38;5;124m\"\u001b[39m\u001b[38;5;124mWhat is on the schedule today?\u001b[39m\u001b[38;5;124m\"\u001b[39m}, \n\u001b[1;32m     15\u001b[0m                     {\u001b[38;5;124m\"\u001b[39m\u001b[38;5;124moutput\u001b[39m\u001b[38;5;124m\"\u001b[39m: \u001b[38;5;124mf\u001b[39m\u001b[38;5;124m\"\u001b[39m\u001b[38;5;132;01m{\u001b[39;00mschedule\u001b[38;5;132;01m}\u001b[39;00m\u001b[38;5;124m\"\u001b[39m})\n",
      "File \u001b[0;32m~/anaconda3/envs/yolo/lib/python3.10/site-packages/langchain/memory/summary_buffer.py:96\u001b[0m, in \u001b[0;36mConversationSummaryBufferMemory.save_context\u001b[0;34m(self, inputs, outputs)\u001b[0m\n\u001b[1;32m     94\u001b[0m \u001b[38;5;250m\u001b[39m\u001b[38;5;124;03m\"\"\"Save context from this conversation to buffer.\"\"\"\u001b[39;00m\n\u001b[1;32m     95\u001b[0m \u001b[38;5;28msuper\u001b[39m()\u001b[38;5;241m.\u001b[39msave_context(inputs, outputs)\n\u001b[0;32m---> 96\u001b[0m \u001b[38;5;28;43mself\u001b[39;49m\u001b[38;5;241;43m.\u001b[39;49m\u001b[43mprune\u001b[49m\u001b[43m(\u001b[49m\u001b[43m)\u001b[49m\n",
      "File \u001b[0;32m~/anaconda3/envs/yolo/lib/python3.10/site-packages/langchain/memory/summary_buffer.py:108\u001b[0m, in \u001b[0;36mConversationSummaryBufferMemory.prune\u001b[0;34m(self)\u001b[0m\n\u001b[1;32m    106\u001b[0m \u001b[38;5;250m\u001b[39m\u001b[38;5;124;03m\"\"\"Prune buffer if it exceeds max token limit\"\"\"\u001b[39;00m\n\u001b[1;32m    107\u001b[0m buffer \u001b[38;5;241m=\u001b[39m \u001b[38;5;28mself\u001b[39m\u001b[38;5;241m.\u001b[39mchat_memory\u001b[38;5;241m.\u001b[39mmessages\n\u001b[0;32m--> 108\u001b[0m curr_buffer_length \u001b[38;5;241m=\u001b[39m \u001b[38;5;28;43mself\u001b[39;49m\u001b[38;5;241;43m.\u001b[39;49m\u001b[43mllm\u001b[49m\u001b[38;5;241;43m.\u001b[39;49m\u001b[43mget_num_tokens_from_messages\u001b[49m\u001b[43m(\u001b[49m\u001b[43mbuffer\u001b[49m\u001b[43m)\u001b[49m\n\u001b[1;32m    109\u001b[0m \u001b[38;5;28;01mif\u001b[39;00m curr_buffer_length \u001b[38;5;241m>\u001b[39m \u001b[38;5;28mself\u001b[39m\u001b[38;5;241m.\u001b[39mmax_token_limit:\n\u001b[1;32m    110\u001b[0m     pruned_memory \u001b[38;5;241m=\u001b[39m []\n",
      "File \u001b[0;32m~/anaconda3/envs/yolo/lib/python3.10/site-packages/langchain_community/chat_models/openai.py:675\u001b[0m, in \u001b[0;36mChatOpenAI.get_num_tokens_from_messages\u001b[0;34m(self, messages, tools)\u001b[0m\n\u001b[1;32m    673\u001b[0m     tokens_per_name \u001b[38;5;241m=\u001b[39m \u001b[38;5;241m1\u001b[39m\n\u001b[1;32m    674\u001b[0m \u001b[38;5;28;01melse\u001b[39;00m:\n\u001b[0;32m--> 675\u001b[0m     \u001b[38;5;28;01mraise\u001b[39;00m \u001b[38;5;167;01mNotImplementedError\u001b[39;00m(\n\u001b[1;32m    676\u001b[0m         \u001b[38;5;124mf\u001b[39m\u001b[38;5;124m\"\u001b[39m\u001b[38;5;124mget_num_tokens_from_messages() is not presently implemented \u001b[39m\u001b[38;5;124m\"\u001b[39m\n\u001b[1;32m    677\u001b[0m         \u001b[38;5;124mf\u001b[39m\u001b[38;5;124m\"\u001b[39m\u001b[38;5;124mfor model \u001b[39m\u001b[38;5;132;01m{\u001b[39;00mmodel\u001b[38;5;132;01m}\u001b[39;00m\u001b[38;5;124m.\u001b[39m\u001b[38;5;124m\"\u001b[39m\n\u001b[1;32m    678\u001b[0m         \u001b[38;5;124m\"\u001b[39m\u001b[38;5;124mSee https://github.com/openai/openai-python/blob/main/chatml.md for \u001b[39m\u001b[38;5;124m\"\u001b[39m\n\u001b[1;32m    679\u001b[0m         \u001b[38;5;124m\"\u001b[39m\u001b[38;5;124minformation on how messages are converted to tokens.\u001b[39m\u001b[38;5;124m\"\u001b[39m\n\u001b[1;32m    680\u001b[0m     )\n\u001b[1;32m    681\u001b[0m num_tokens \u001b[38;5;241m=\u001b[39m \u001b[38;5;241m0\u001b[39m\n\u001b[1;32m    682\u001b[0m messages_dict \u001b[38;5;241m=\u001b[39m [convert_message_to_dict(m) \u001b[38;5;28;01mfor\u001b[39;00m m \u001b[38;5;129;01min\u001b[39;00m messages]\n",
      "\u001b[0;31mNotImplementedError\u001b[0m: get_num_tokens_from_messages() is not presently implemented for model cl100k_base.See https://github.com/openai/openai-python/blob/main/chatml.md for information on how messages are converted to tokens."
     ]
    }
   ],
   "source": [
    "# create a long string\n",
    "schedule = \"There is a meeting at 8am with your product team. \\\n",
    "You will need your powerpoint presentation prepared. \\\n",
    "9am-12pm have time to work on your LangChain \\\n",
    "project which will go quickly because Langchain is such a powerful tool. \\\n",
    "At Noon, lunch at the italian resturant with a customer who is driving \\\n",
    "from over an hour away to meet you to understand the latest in AI. \\\n",
    "Be sure to bring your laptop to show the latest LLM demo.\"\n",
    "\n",
    "memory = ConversationSummaryBufferMemory(llm=llm, max_token_limit=100)\n",
    "memory.save_context({\"input\": \"Hello\"}, {\"output\": \"What's up\"})\n",
    "memory.save_context({\"input\": \"Not much, just hanging\"},\n",
    "                    {\"output\": \"Cool\"})\n",
    "memory.save_context({\"input\": \"What is on the schedule today?\"}, \n",
    "                    {\"output\": f\"{schedule}\"})"
   ]
  },
  {
   "cell_type": "code",
   "execution_count": null,
   "id": "2e4ecabe",
   "metadata": {
    "tags": []
   },
   "outputs": [],
   "source": [
    "memory.load_memory_variables({})"
   ]
  },
  {
   "cell_type": "code",
   "execution_count": null,
   "id": "6728edba",
   "metadata": {
    "tags": []
   },
   "outputs": [],
   "source": [
    "conversation = ConversationChain(\n",
    "    llm=llm, \n",
    "    memory = memory,\n",
    "    verbose=True\n",
    ")"
   ]
  },
  {
   "cell_type": "code",
   "execution_count": null,
   "id": "9a221b1d",
   "metadata": {
    "tags": []
   },
   "outputs": [],
   "source": [
    "conversation.predict(input=\"What would be a good demo to show?\")"
   ]
  },
  {
   "cell_type": "code",
   "execution_count": null,
   "id": "bb582617",
   "metadata": {
    "tags": []
   },
   "outputs": [],
   "source": [
    "memory.load_memory_variables({})"
   ]
  },
  {
   "cell_type": "markdown",
   "id": "c6709b89-182e-4b7b-b811-1584dda20652",
   "metadata": {},
   "source": [
    "Reminder: Download your notebook to you local computer to save your work."
   ]
  },
  {
   "cell_type": "code",
   "execution_count": null,
   "id": "4ba827aa",
   "metadata": {},
   "outputs": [],
   "source": []
  },
  {
   "cell_type": "code",
   "execution_count": null,
   "id": "2c07922b",
   "metadata": {},
   "outputs": [],
   "source": []
  },
  {
   "cell_type": "code",
   "execution_count": null,
   "id": "52696c8c",
   "metadata": {},
   "outputs": [],
   "source": []
  },
  {
   "cell_type": "code",
   "execution_count": null,
   "id": "48690d13",
   "metadata": {},
   "outputs": [],
   "source": []
  },
  {
   "cell_type": "code",
   "execution_count": null,
   "id": "85bba1f8",
   "metadata": {},
   "outputs": [],
   "source": []
  },
  {
   "cell_type": "code",
   "execution_count": null,
   "id": "96a62e89",
   "metadata": {},
   "outputs": [],
   "source": []
  },
  {
   "cell_type": "code",
   "execution_count": null,
   "id": "f953ad8d",
   "metadata": {},
   "outputs": [],
   "source": []
  },
  {
   "cell_type": "code",
   "execution_count": null,
   "id": "b9bb2617",
   "metadata": {},
   "outputs": [],
   "source": []
  },
  {
   "cell_type": "code",
   "execution_count": null,
   "id": "be1989bf",
   "metadata": {},
   "outputs": [],
   "source": []
  },
  {
   "cell_type": "code",
   "execution_count": null,
   "id": "b1f8dca6",
   "metadata": {},
   "outputs": [],
   "source": []
  },
  {
   "cell_type": "code",
   "execution_count": null,
   "id": "e9120949",
   "metadata": {},
   "outputs": [],
   "source": []
  },
  {
   "cell_type": "code",
   "execution_count": null,
   "id": "55849fb5",
   "metadata": {},
   "outputs": [],
   "source": []
  },
  {
   "cell_type": "code",
   "execution_count": null,
   "id": "94ae491b",
   "metadata": {},
   "outputs": [],
   "source": []
  },
  {
   "cell_type": "code",
   "execution_count": null,
   "id": "e7c3aec3",
   "metadata": {},
   "outputs": [],
   "source": []
  },
  {
   "cell_type": "code",
   "execution_count": null,
   "id": "5ae51a3f",
   "metadata": {},
   "outputs": [],
   "source": []
  },
  {
   "cell_type": "code",
   "execution_count": null,
   "id": "06894001",
   "metadata": {},
   "outputs": [],
   "source": []
  },
  {
   "cell_type": "code",
   "execution_count": null,
   "id": "e2fb674c",
   "metadata": {},
   "outputs": [],
   "source": []
  },
  {
   "cell_type": "code",
   "execution_count": null,
   "id": "5158f4c8",
   "metadata": {},
   "outputs": [],
   "source": []
  },
  {
   "cell_type": "code",
   "execution_count": null,
   "id": "2cebe066",
   "metadata": {},
   "outputs": [],
   "source": []
  },
  {
   "cell_type": "code",
   "execution_count": null,
   "id": "65caee4d",
   "metadata": {},
   "outputs": [],
   "source": []
  },
  {
   "cell_type": "code",
   "execution_count": null,
   "id": "04799230",
   "metadata": {},
   "outputs": [],
   "source": []
  },
  {
   "cell_type": "code",
   "execution_count": null,
   "id": "30795c10",
   "metadata": {},
   "outputs": [],
   "source": []
  },
  {
   "cell_type": "code",
   "execution_count": null,
   "id": "08ed59c4",
   "metadata": {},
   "outputs": [],
   "source": []
  },
  {
   "cell_type": "code",
   "execution_count": null,
   "id": "bb43eee3",
   "metadata": {},
   "outputs": [],
   "source": []
  }
 ],
 "metadata": {
  "kernelspec": {
   "display_name": "yolo",
   "language": "python",
   "name": "python3"
  },
  "language_info": {
   "codemirror_mode": {
    "name": "ipython",
    "version": 3
   },
   "file_extension": ".py",
   "mimetype": "text/x-python",
   "name": "python",
   "nbconvert_exporter": "python",
   "pygments_lexer": "ipython3",
   "version": "3.10.16"
  }
 },
 "nbformat": 4,
 "nbformat_minor": 5
}
