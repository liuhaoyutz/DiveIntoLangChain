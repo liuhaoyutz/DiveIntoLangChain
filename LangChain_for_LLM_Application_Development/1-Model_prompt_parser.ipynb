{
 "cells": [
  {
   "cell_type": "markdown",
   "id": "073bf8f9",
   "metadata": {},
   "source": [
    "# LangChain: Models, Prompts and Output Parsers\n",
    "\n",
    "1. 使用ollama下载deepseek-r1:32b  \n",
    "2. 后台启动ollama服务： nohup ollama serve  >/dev/null 2>&1 &  \n",
    "3. 我用的是3090, 共24G显存，占用了21G。"
   ]
  },
  {
   "cell_type": "markdown",
   "id": "a25c5b27",
   "metadata": {},
   "source": [
    "### Model"
   ]
  },
  {
   "cell_type": "code",
   "execution_count": 41,
   "id": "1cc0c8b8",
   "metadata": {
    "tags": []
   },
   "outputs": [
    {
     "data": {
      "text/plain": [
       "ChatOpenAI(client=<openai.resources.chat.completions.completions.Completions object at 0x703363aaf610>, async_client=<openai.resources.chat.completions.completions.AsyncCompletions object at 0x703363ad9630>, root_client=<openai.OpenAI object at 0x703363a3d870>, root_async_client=<openai.AsyncOpenAI object at 0x703363aaf670>, model_name='deepseek-r1:32b', model_kwargs={}, openai_api_key=SecretStr('**********'), openai_api_base='http://127.0.0.1:11434/v1', streaming=True)"
      ]
     },
     "execution_count": 41,
     "metadata": {},
     "output_type": "execute_result"
    }
   ],
   "source": [
    "from langchain_openai.chat_models import ChatOpenAI\n",
    "\n",
    "chat = ChatOpenAI(\n",
    "    model_name='deepseek-r1:32b',\n",
    "    openai_api_base=\"http://127.0.0.1:11434/v1\",\n",
    "    openai_api_key=\"EMPTY\",\n",
    "    streaming=True\n",
    ")\n",
    "chat"
   ]
  },
  {
   "cell_type": "markdown",
   "id": "b4d07256",
   "metadata": {},
   "source": [
    "### Prompt template"
   ]
  },
  {
   "cell_type": "code",
   "execution_count": 49,
   "id": "57bda7d8",
   "metadata": {
    "tags": []
   },
   "outputs": [],
   "source": [
    "template_string = \"\"\"将由三个反引号分隔的文本\\\n",
    "翻译成{style}风格。\\\n",
    "文本：```{text}```\n",
    "\"\"\""
   ]
  },
  {
   "cell_type": "code",
   "execution_count": 50,
   "id": "3a31f246",
   "metadata": {
    "tags": []
   },
   "outputs": [],
   "source": [
    "from langchain.prompts import ChatPromptTemplate\n",
    "\n",
    "prompt_template = ChatPromptTemplate.from_template(template_string)\n"
   ]
  },
  {
   "cell_type": "code",
   "execution_count": 51,
   "id": "cac2cb16",
   "metadata": {
    "tags": []
   },
   "outputs": [
    {
     "data": {
      "text/plain": [
       "PromptTemplate(input_variables=['style', 'text'], input_types={}, partial_variables={}, template='将由三个反引号分隔的文本翻译成{style}风格。文本：```{text}```\\n')"
      ]
     },
     "execution_count": 51,
     "metadata": {},
     "output_type": "execute_result"
    }
   ],
   "source": [
    "prompt_template.messages[0].prompt"
   ]
  },
  {
   "cell_type": "code",
   "execution_count": 52,
   "id": "cdc5566c",
   "metadata": {
    "tags": []
   },
   "outputs": [
    {
     "data": {
      "text/plain": [
       "['style', 'text']"
      ]
     },
     "execution_count": 52,
     "metadata": {},
     "output_type": "execute_result"
    }
   ],
   "source": [
    "prompt_template.messages[0].prompt.input_variables"
   ]
  },
  {
   "cell_type": "code",
   "execution_count": 54,
   "id": "bbd51a93",
   "metadata": {
    "tags": []
   },
   "outputs": [],
   "source": [
    "customer_style = \"\"\"山东方言，\\\n",
    "以平静和尊重的语气\n",
    "\"\"\""
   ]
  },
  {
   "cell_type": "code",
   "execution_count": 55,
   "id": "48989d11",
   "metadata": {
    "tags": []
   },
   "outputs": [],
   "source": [
    "customer_email = \"\"\"\n",
    "唉，我非常生气，因为我的搅拌机盖子飞了出去，把厨房的墙壁溅满了果昔！更糟糕的是，保修单不包括清洁厨房的费用。我现在就需要你的帮助，伙计！\n",
    "\"\"\""
   ]
  },
  {
   "cell_type": "code",
   "execution_count": 56,
   "id": "dff3954f",
   "metadata": {
    "tags": []
   },
   "outputs": [],
   "source": [
    "customer_messages = prompt_template.format_messages(\n",
    "                    style=customer_style,\n",
    "                    text=customer_email)"
   ]
  },
  {
   "cell_type": "code",
   "execution_count": 57,
   "id": "8c09d8b4",
   "metadata": {
    "tags": []
   },
   "outputs": [
    {
     "name": "stdout",
     "output_type": "stream",
     "text": [
      "<class 'list'>\n",
      "<class 'langchain_core.messages.human.HumanMessage'>\n"
     ]
    }
   ],
   "source": [
    "print(type(customer_messages))\n",
    "print(type(customer_messages[0]))"
   ]
  },
  {
   "cell_type": "code",
   "execution_count": 58,
   "id": "e02dafa2",
   "metadata": {
    "tags": []
   },
   "outputs": [
    {
     "name": "stdout",
     "output_type": "stream",
     "text": [
      "content='将由三个反引号分隔的文本翻译成山东方言，以平静和尊重的语气\\n风格。文本：```\\n唉，我非常生气，因为我的搅拌机盖子飞了出去，把厨房的墙壁溅满了果昔！更糟糕的是，保修单不包括清洁厨房的费用。我现在就需要你的帮助，伙计！\\n```\\n' additional_kwargs={} response_metadata={}\n"
     ]
    }
   ],
   "source": [
    "print(customer_messages[0])"
   ]
  },
  {
   "cell_type": "code",
   "execution_count": 59,
   "id": "bd789f9f",
   "metadata": {
    "tags": []
   },
   "outputs": [],
   "source": [
    "# Call the LLM to translate to the style of the customer message\n",
    "customer_response = chat(customer_messages)"
   ]
  },
  {
   "cell_type": "code",
   "execution_count": 60,
   "id": "ad294407",
   "metadata": {
    "tags": []
   },
   "outputs": [
    {
     "name": "stdout",
     "output_type": "stream",
     "text": [
      "<think>\n",
      "嗯，首先我要处理用户的请求，他们想要将一段中文文本翻译成山东方言，并且语气要平静和尊重。这段话原本表达的是说话者对搅拌机盖子飞出去导致墙壁弄脏果昔，同时保修单不包括清洁费用的愤怒情绪。我的任务是转换语气。\n",
      "\n",
      "我需要确保在保持原意的同时，语气变得平和一些。这可能意味着用词上避免显得过于激烈或者抱怨，而是换成更中立或稍微轻松点的表达方式。\n",
      "\n",
      "接着，我要考虑山东方言的特点，这样翻译才能更加地道。比如“伙计”可以替换为更具地方特色的词汇，让整个句子听起来更有地域特色。\n",
      "\n",
      "另外，我还要注意保持条理清晰，让用户容易理解转换后的语言，并且传达出平静而礼貌的感觉。这可能涉及到调整一些句式结构，使其在方言中更自然流畅。\n",
      "\n",
      "最后，我会检查整体语气是否符合用户的要求，确保没有遗漏任何关键信息，并且整个翻译看起来自然、真实，能够让说话者以一种更具亲和力的方式表达他们的困扰。\n",
      "</think>\n",
      "\n",
      "唉，真是让人头疼，我的搅拌机盖子飞出去了，把厨房的墙上溅了一大片果昔。更麻烦的是保修单里不包括清理 Kitchen 的费用。现在我非常需要你的帮助，老哥！\n"
     ]
    }
   ],
   "source": [
    "print(customer_response.content)"
   ]
  },
  {
   "cell_type": "code",
   "execution_count": 61,
   "id": "7c267e5f",
   "metadata": {
    "tags": []
   },
   "outputs": [],
   "source": [
    "service_reply = \"\"\"嘿，伙计，保修条款可不包括你厨房的清洁费用，\\\n",
    "这事儿怪不得别人，只因你使用搅拌机的时候忘了盖上盖子，\\\n",
    "这才导致了这场混乱。\\\n",
    "只能自认倒霉啦！再见喽！\n",
    "\"\"\""
   ]
  },
  {
   "cell_type": "code",
   "execution_count": 77,
   "id": "2ff72bd1",
   "metadata": {
    "tags": []
   },
   "outputs": [],
   "source": [
    "service_style_pirate = \"\"\"\\\n",
    "一种礼貌的语气，\\\n",
    "用上海方言表达\\\n",
    "\"\"\""
   ]
  },
  {
   "cell_type": "code",
   "execution_count": 78,
   "id": "7d9e8f3f",
   "metadata": {
    "tags": []
   },
   "outputs": [
    {
     "name": "stdout",
     "output_type": "stream",
     "text": [
      "将由三个反引号分隔的文本翻译成一种礼貌的语气，用上海方言表达风格。文本：```嘿，伙计，保修条款可不包括你厨房的清洁费用，这事儿怪不得别人，只因你使用搅拌机的时候忘了盖上盖子，这才导致了这场混乱。只能自认倒霉啦！再见喽！\n",
      "```\n",
      "\n"
     ]
    }
   ],
   "source": [
    "service_messages = prompt_template.format_messages(\n",
    "    style=service_style_pirate,\n",
    "    text=service_reply)\n",
    "\n",
    "print(service_messages[0].content)"
   ]
  },
  {
   "cell_type": "code",
   "execution_count": 79,
   "id": "a0ae5552",
   "metadata": {
    "tags": []
   },
   "outputs": [
    {
     "name": "stdout",
     "output_type": "stream",
     "text": [
      "<think>\n",
      "好，我现在得帮用户把一段文本翻译成上海方言，语气要礼貌。首先看看原文：“嘿，伙计，保修条款可不包括你厨房的清洁费用，这事儿怪不得别人，只因你使用搅拌机的时候忘了盖上盖子，这才导致了这场混乱。只能自认倒霉啦！再见喽！”这段话比较直接，语气有点责备的感觉。\n",
      "\n",
      "用户希望翻译成上海方言，但要有礼貌。那我得分析一下原文的结构和信息重点在哪里。首先，“嘿，伙计”可以改成更亲切的称呼，比如“您”。然后，“保修条款可不包括你厨房的清洁费用”这部分需要保留原意，同时用沪语表达。\n",
      "\n",
      "接下来要处理的是责任归属。在原文中说“这事儿怪不得别人”，可以转成“这个情况，我们建议以后使用的时候要小心一些哦”。这样既保持了说明问题的原因，又显得更有建设性。\n",
      "\n",
      "关于搅拌机没盖盖子导致的混乱，我可以解释为操作上的失误，并强调这是为了机器的正常运行和使用安全。“请记得每次使用后都要把盖子盖好，这样不仅能延长使用寿命，也能保证使用的安全性。”\n",
      "\n",
      "最后，结尾部分要礼貌道别。可以加上“如果有任何其他问题或需要帮助的地方，随时联系我们，我们会尽力协助您的。”这样不仅礼貌还提供了进一步的帮助途径。\n",
      "\n",
      "整体上来回调整表达，确保用词亲切，语气柔和，同时准确传达原信息和建议用户以后注意使用细节。沪语的转换也要自然，让人听起来既熟悉又专业。\n",
      "</think>\n",
      "\n",
      "侬好呀！这里跟您说一声啊，咱这保修条款里面不包含厨房清洁费用哦！这情况嘛，主要是您在用搅拌机的时候忘记盖上盖子了才会有这样的状况出现啊！以后使用的时候要小心一些哦！记得每次使用后都要把盖子盖好了，这样不仅可以延长使用寿命，还能保证使用的安全性呢！\n",
      "\n",
      "如果以后还有什么问题或者需要帮助的地方，尽管联系我们哈！我们会全力帮忙的。再见啦！\n",
      "\n",
      "（注：这段话在保留原意的基础上，采用了更加温和、贴心的沪语表达方式，并且避免了可能带来的冲突感。）\n"
     ]
    }
   ],
   "source": [
    "service_response = chat(service_messages)\n",
    "print(service_response.content)"
   ]
  },
  {
   "cell_type": "markdown",
   "id": "36536e79",
   "metadata": {},
   "source": [
    "## Output Parsers\n",
    "\n",
    "Let's start with defining how we would like the LLM output to look like:"
   ]
  },
  {
   "cell_type": "code",
   "execution_count": 80,
   "id": "f1ccdff5",
   "metadata": {
    "tags": []
   },
   "outputs": [
    {
     "data": {
      "text/plain": [
       "{'gift': False, 'delivery_days': 5, 'price_value': 'pretty affordable!'}"
      ]
     },
     "execution_count": 80,
     "metadata": {},
     "output_type": "execute_result"
    }
   ],
   "source": [
    "{\n",
    "  \"gift\": False,\n",
    "  \"delivery_days\": 5,\n",
    "  \"price_value\": \"pretty affordable!\"\n",
    "}"
   ]
  },
  {
   "cell_type": "code",
   "execution_count": 81,
   "id": "df0f4680",
   "metadata": {
    "tags": []
   },
   "outputs": [],
   "source": [
    "customer_review = \"\"\"\\\n",
    "这款吹叶机真的很棒。它有四种设置：\\\n",
    "烛火吹拂、微风轻拂、风城强风和龙卷风。\\\n",
    "它在两天内就到了，正好赶上我妻子的\\\n",
    "周年纪念礼物。\\\n",
    "我觉得我的妻子非常喜欢它，甚至惊讶得说不出话来。\\\n",
    "到目前为止，只有我在使用它，每隔一个早上我都会用它\\\n",
    "清理我们草坪上的落叶。\\\n",
    "它的价格比其他吹叶机稍贵一些，但我认为为了这些额外的功能，这是值得的。\n",
    "\"\"\"\n",
    "\n",
    "review_template = \"\"\"\\\n",
    "对于以下文本，请提取以下信息：\n",
    "\n",
    "gift: 该物品是否作为礼物购买给其他人？如果是，回答 True；如果不是或未知，回答 False。\n",
    "\n",
    "delivery_days: 产品送达需要多少天？如果找不到此信息，输出 -1。\n",
    "\n",
    "price_value: 提取任何关于价值或价格的句子，并将它们作为逗号分隔的 Python 列表输出。\n",
    "\n",
    "以 JSON 格式输出，包含以下键：\n",
    "gift\n",
    "delivery_days\n",
    "price_value\n",
    "\n",
    "文本：{text}\n",
    "\"\"\""
   ]
  },
  {
   "cell_type": "code",
   "execution_count": 82,
   "id": "f2386e9c",
   "metadata": {
    "tags": []
   },
   "outputs": [
    {
     "name": "stdout",
     "output_type": "stream",
     "text": [
      "input_variables=['text'] input_types={} partial_variables={} messages=[HumanMessagePromptTemplate(prompt=PromptTemplate(input_variables=['text'], input_types={}, partial_variables={}, template='对于以下文本，请提取以下信息：\\n\\ngift: 该物品是否作为礼物购买给其他人？如果是，回答 True；如果不是或未知，回答 False。\\n\\ndelivery_days: 产品送达需要多少天？如果找不到此信息，输出 -1。\\n\\nprice_value: 提取任何关于价值或价格的句子，并将它们作为逗号分隔的 Python 列表输出。\\n\\n以 JSON 格式输出，包含以下键：\\ngift\\ndelivery_days\\nprice_value\\n\\n文本：{text}\\n'), additional_kwargs={})]\n"
     ]
    }
   ],
   "source": [
    "from langchain.prompts import ChatPromptTemplate\n",
    "\n",
    "prompt_template = ChatPromptTemplate.from_template(review_template)\n",
    "print(prompt_template)"
   ]
  },
  {
   "cell_type": "code",
   "execution_count": 83,
   "id": "121bb0d4",
   "metadata": {
    "tags": []
   },
   "outputs": [
    {
     "name": "stdout",
     "output_type": "stream",
     "text": [
      "<think>\n",
      "好的，我现在需要处理这个用户的查询。用户给了一个任务，要求从一段文本中提取特定信息，并按照指定的JSON格式输出。首先，我要仔细阅读用户的要求，确保我理解每个部分的需求。\n",
      "\n",
      "文本内容是这样的：吹叶机很好，有四种设置，两天送达，作为妻子周年纪念礼物购买。价格比其他吹叶机贵一些，但认为物有所值。那么，我需要提取三个字段：gift, delivery_days 和 price_value。\n",
      "\n",
      "首先处理gift字段。用户问是否为礼物购买给他人，如果是，回答True，否则False或未知时返回False。文本中明确提到“正好赶上我妻子的周年纪念礼物”，所以这里应该是True。\n",
      "\n",
      "接下来是delivery_days，要求提取送达天数。文本里说“两天内就到了”，所以是2天。如果找不到信息则输出-1，但这里是有的，因此填写2。\n",
      "\n",
      "最后是price_value，需要提取所有关于价格或价值的句子，并以逗号分隔为列表。原文中有两个相关句子：“它的价格比其他吹叶机稍贵一些”和“但我认为为了这些额外的功能，这是值得的”。所以这两个都需要包含进去。\n",
      "\n",
      "现在将这三个部分整合成JSON格式。确保键名正确，值对应准确。特别是price_value要用逗号分隔，这里用Python列表的形式呈现比较合适。\n",
      "\n",
      "检查文本是否有其他信息可能影响结果：比如礼物是否明确指向他人？是的，给妻子作为周年纪念，所以True没错。送达时间两天没错。价格部分也提取了所有相关信息。\n",
      "\n",
      "最后，将这些整理成一个JSON结构，确保语法正确，没有遗漏或错误。\n",
      "</think>\n",
      "\n",
      "```json\n",
      "{\n",
      "  \"gift\": True,\n",
      "  \"delivery_days\": 2,\n",
      "  \"price_value\": [\n",
      "    \"它的价格比其他吹叶机稍贵一些\",\n",
      "    \"但我认为为了这些额外的功能，这是值得的\"\n",
      "  ]\n",
      "}\n",
      "```\n"
     ]
    }
   ],
   "source": [
    "messages = prompt_template.format_messages(text=customer_review)\n",
    "#chat = ChatOpenAI(temperature=0.0, model=llm_model)\n",
    "response = chat(messages)\n",
    "print(response.content)"
   ]
  },
  {
   "cell_type": "code",
   "execution_count": 84,
   "id": "10de1d28",
   "metadata": {
    "tags": []
   },
   "outputs": [
    {
     "data": {
      "text/plain": [
       "str"
      ]
     },
     "execution_count": 84,
     "metadata": {},
     "output_type": "execute_result"
    }
   ],
   "source": [
    "type(response.content)"
   ]
  },
  {
   "cell_type": "code",
   "execution_count": 85,
   "id": "3a3c0609",
   "metadata": {
    "tags": []
   },
   "outputs": [
    {
     "ename": "AttributeError",
     "evalue": "'str' object has no attribute 'get'",
     "output_type": "error",
     "traceback": [
      "\u001b[0;31m---------------------------------------------------------------------------\u001b[0m",
      "\u001b[0;31mAttributeError\u001b[0m                            Traceback (most recent call last)",
      "Cell \u001b[0;32mIn[85], line 4\u001b[0m\n\u001b[1;32m      1\u001b[0m \u001b[38;5;66;03m# You will get an error by running this line of code \u001b[39;00m\n\u001b[1;32m      2\u001b[0m \u001b[38;5;66;03m# because'gift' is not a dictionary\u001b[39;00m\n\u001b[1;32m      3\u001b[0m \u001b[38;5;66;03m# 'gift' is a string\u001b[39;00m\n\u001b[0;32m----> 4\u001b[0m \u001b[43mresponse\u001b[49m\u001b[38;5;241;43m.\u001b[39;49m\u001b[43mcontent\u001b[49m\u001b[38;5;241;43m.\u001b[39;49m\u001b[43mget\u001b[49m(\u001b[38;5;124m'\u001b[39m\u001b[38;5;124mgift\u001b[39m\u001b[38;5;124m'\u001b[39m)\n",
      "\u001b[0;31mAttributeError\u001b[0m: 'str' object has no attribute 'get'"
     ]
    }
   ],
   "source": [
    "# You will get an error by running this line of code \n",
    "# because'gift' is not a dictionary\n",
    "# 'gift' is a string\n",
    "response.content.get('gift')"
   ]
  },
  {
   "cell_type": "markdown",
   "id": "5f7de2b8",
   "metadata": {},
   "source": [
    "### Parse the LLM output string into a Python dictionary"
   ]
  },
  {
   "cell_type": "code",
   "execution_count": 86,
   "id": "c2e0ec49",
   "metadata": {
    "tags": []
   },
   "outputs": [],
   "source": [
    "from langchain.output_parsers import ResponseSchema\n",
    "from langchain.output_parsers import StructuredOutputParser"
   ]
  },
  {
   "cell_type": "code",
   "execution_count": 87,
   "id": "9dea24b4",
   "metadata": {
    "tags": []
   },
   "outputs": [],
   "source": [
    "gift_schema = ResponseSchema(name=\"gift\",\n",
    "                             description=\"该物品是否作为礼物购买给其他人？如果是，回答 True；如果不是或未知，回答 False。\")\n",
    "\n",
    "delivery_days_schema = ResponseSchema(name=\"delivery_days\",\n",
    "                                      description=\"产品送达需要多少天？如果找不到此信息，输出 -1。\")\n",
    "\n",
    "price_value_schema = ResponseSchema(name=\"price_value\",\n",
    "                                    description=\"提取任何关于价值或价格的句子，并将它们作为逗号分隔的 Python 列表输出。\")\n",
    "\n",
    "response_schemas = [gift_schema, \n",
    "                    delivery_days_schema,\n",
    "                    price_value_schema]"
   ]
  },
  {
   "cell_type": "code",
   "execution_count": 88,
   "id": "b57e1ba8",
   "metadata": {
    "tags": []
   },
   "outputs": [],
   "source": [
    "output_parser = StructuredOutputParser.from_response_schemas(response_schemas)"
   ]
  },
  {
   "cell_type": "code",
   "execution_count": 89,
   "id": "fdeaf4fc",
   "metadata": {
    "tags": []
   },
   "outputs": [],
   "source": [
    "format_instructions = output_parser.get_format_instructions()"
   ]
  },
  {
   "cell_type": "code",
   "execution_count": 90,
   "id": "1eb176c5",
   "metadata": {
    "tags": []
   },
   "outputs": [
    {
     "name": "stdout",
     "output_type": "stream",
     "text": [
      "The output should be a markdown code snippet formatted in the following schema, including the leading and trailing \"```json\" and \"```\":\n",
      "\n",
      "```json\n",
      "{\n",
      "\t\"gift\": string  // 该物品是否作为礼物购买给其他人？如果是，回答 True；如果不是或未知，回答 False。\n",
      "\t\"delivery_days\": string  // 产品送达需要多少天？如果找不到此信息，输出 -1。\n",
      "\t\"price_value\": string  // 提取任何关于价值或价格的句子，并将它们作为逗号分隔的 Python 列表输出。\n",
      "}\n",
      "```\n"
     ]
    }
   ],
   "source": [
    "print(format_instructions)"
   ]
  },
  {
   "cell_type": "code",
   "execution_count": 91,
   "id": "082947fc",
   "metadata": {
    "tags": []
   },
   "outputs": [],
   "source": [
    "review_template_2 = \"\"\"\\\n",
    "对于以下文本，请提取以下信息：\n",
    "\n",
    "gift: 该物品是否作为礼物购买给其他人？如果是，回答 True；如果不是或未知，回答 False。\n",
    "\n",
    "delivery_days: 产品送达需要多少天？如果找不到此信息，输出 -1。\n",
    "\n",
    "price_value: 提取任何关于价值或价格的句子，并将它们作为逗号分隔的 Python 列表输出。\n",
    "\n",
    "文本：{text}\n",
    "\n",
    "{format_instructions}\n",
    "\"\"\"\n",
    "\n",
    "prompt = ChatPromptTemplate.from_template(template=review_template_2)\n",
    "\n",
    "messages = prompt.format_messages(text=customer_review, \n",
    "                                format_instructions=format_instructions)"
   ]
  },
  {
   "cell_type": "code",
   "execution_count": 92,
   "id": "1f1537a7",
   "metadata": {
    "tags": []
   },
   "outputs": [
    {
     "name": "stdout",
     "output_type": "stream",
     "text": [
      "对于以下文本，请提取以下信息：\n",
      "\n",
      "gift: 该物品是否作为礼物购买给其他人？如果是，回答 True；如果不是或未知，回答 False。\n",
      "\n",
      "delivery_days: 产品送达需要多少天？如果找不到此信息，输出 -1。\n",
      "\n",
      "price_value: 提取任何关于价值或价格的句子，并将它们作为逗号分隔的 Python 列表输出。\n",
      "\n",
      "文本：这款吹叶机真的很棒。它有四种设置：烛火吹拂、微风轻拂、风城强风和龙卷风。它在两天内就到了，正好赶上我妻子的周年纪念礼物。我觉得我的妻子非常喜欢它，甚至惊讶得说不出话来。到目前为止，只有我在使用它，每隔一个早上我都会用它清理我们草坪上的落叶。它的价格比其他吹叶机稍贵一些，但我认为为了这些额外的功能，这是值得的。\n",
      "\n",
      "\n",
      "The output should be a markdown code snippet formatted in the following schema, including the leading and trailing \"```json\" and \"```\":\n",
      "\n",
      "```json\n",
      "{\n",
      "\t\"gift\": string  // 该物品是否作为礼物购买给其他人？如果是，回答 True；如果不是或未知，回答 False。\n",
      "\t\"delivery_days\": string  // 产品送达需要多少天？如果找不到此信息，输出 -1。\n",
      "\t\"price_value\": string  // 提取任何关于价值或价格的句子，并将它们作为逗号分隔的 Python 列表输出。\n",
      "}\n",
      "```\n",
      "\n"
     ]
    }
   ],
   "source": [
    "print(messages[0].content)"
   ]
  },
  {
   "cell_type": "code",
   "execution_count": 93,
   "id": "7b663657",
   "metadata": {
    "tags": []
   },
   "outputs": [],
   "source": [
    "response = chat(messages)"
   ]
  },
  {
   "cell_type": "code",
   "execution_count": 94,
   "id": "b8c3a9fe",
   "metadata": {
    "tags": []
   },
   "outputs": [
    {
     "name": "stdout",
     "output_type": "stream",
     "text": [
      "<think>\n",
      "今天，我收到了用户的查询，要求从一段文本中提取特定的信息。首先，我需要仔细阅读用户的问题，明确每个提取点的要求。\n",
      "\n",
      "用户提供的文本是关于一款吹叶机的评论。我需要解析其中的内容，提取三个关键信息：gift、delivery_days和price_value。具体来说：\n",
      "\n",
      "1. **gift**：判断该物品是否作为礼物购买给其他人。如果是，返回True；否则或未知时返回False。\n",
      "   \n",
      "   文本中提到“正好赶上我妻子的周年纪念礼物”，这明确表明吹叶机是作为礼物送给妻子的，所以这里应该标记为True。\n",
      "\n",
      "2. **delivery_days**：提取产品送达所需的天数，如果找不到相关信息，则输出-1。\n",
      "   \n",
      "   在文本中有句话“它在两天内就到了”，直接说明了送货时间是两天。因此，这个值应该是2。\n",
      "\n",
      "3. **price_value**：提取关于价格或价值的句子，并生成一个逗号分隔的Python列表。\n",
      "   \n",
      "   文本中提到两处与价格相关的内容：“它的价格比其他吹叶机稍贵一些”和“我认为为了这些额外的功能，这是值得的”。这两个句子都需要被提取出来作为price_value的内容。\n",
      "\n",
      "检查文本时，确保没有遗漏任何相关信息。例如，在关于礼物的部分，文本明确指出了购买动机是送给妻子作为纪念礼物，这一点很清晰。送货时间也是直接给出的两天，不存在模棱两可的情况。至于价格部分，虽然有两个相关的句子，但其中第二个句子更多是在表达个人认为物有所值的观点，而不仅仅是描述价格，所以是否需要纳入可能值得考虑。\n",
      "\n",
      "不过，根据用户的要求是提取任何涉及价格或价值的句子，因此即使这些句子不是直接给出价格数字，只要是关于价值评估的内容也应该被包含进去。这样就确保了提取信息的全面性。\n",
      "\n",
      "最后，将这些提取的信息按照指定的JSON格式组织起来，并确认语法正确。在生成过程中，特别注意逗号和引号的使用是否正确，避免出现解析错误。\n",
      "\n",
      "总的来说，整个过程需要细致地梳理文本内容，准确识别出每个关键点，并严格按照用户的要求进行信息抽取和格式化输出。\n",
      "</think>\n",
      "\n",
      "```json\n",
      "{\n",
      "\t\"gift\": \"True\",\n",
      "\t\"delivery_days\": \"2\",\n",
      "\t\"price_value\": \"它的价格比其他吹叶机稍贵一些, 我认为为了这些额外的功能，这是值得的\"\n",
      "}\n",
      "```\n"
     ]
    }
   ],
   "source": [
    "print(response.content)"
   ]
  },
  {
   "cell_type": "code",
   "execution_count": 95,
   "id": "904f1c25",
   "metadata": {
    "tags": []
   },
   "outputs": [],
   "source": [
    "output_dict = output_parser.parse(response.content)"
   ]
  },
  {
   "cell_type": "code",
   "execution_count": 96,
   "id": "d48b647a",
   "metadata": {
    "tags": []
   },
   "outputs": [
    {
     "data": {
      "text/plain": [
       "{'gift': 'True',\n",
       " 'delivery_days': '2',\n",
       " 'price_value': '它的价格比其他吹叶机稍贵一些, 我认为为了这些额外的功能，这是值得的'}"
      ]
     },
     "execution_count": 96,
     "metadata": {},
     "output_type": "execute_result"
    }
   ],
   "source": [
    "output_dict"
   ]
  },
  {
   "cell_type": "code",
   "execution_count": 97,
   "id": "4346150f",
   "metadata": {
    "tags": []
   },
   "outputs": [
    {
     "data": {
      "text/plain": [
       "dict"
      ]
     },
     "execution_count": 97,
     "metadata": {},
     "output_type": "execute_result"
    }
   ],
   "source": [
    "type(output_dict)"
   ]
  },
  {
   "cell_type": "code",
   "execution_count": 98,
   "id": "a833fcea",
   "metadata": {
    "tags": []
   },
   "outputs": [
    {
     "data": {
      "text/plain": [
       "'2'"
      ]
     },
     "execution_count": 98,
     "metadata": {},
     "output_type": "execute_result"
    }
   ],
   "source": [
    "output_dict.get('delivery_days')"
   ]
  },
  {
   "cell_type": "markdown",
   "id": "e802f4fd-7dab-4ad7-8788-c0cd5c02d930",
   "metadata": {},
   "source": [
    "Reminder: Download your notebook to you local computer to save your work."
   ]
  },
  {
   "cell_type": "code",
   "execution_count": null,
   "id": "48af7b8a",
   "metadata": {},
   "outputs": [],
   "source": []
  },
  {
   "cell_type": "code",
   "execution_count": null,
   "id": "7ff0c64f",
   "metadata": {},
   "outputs": [],
   "source": []
  },
  {
   "cell_type": "code",
   "execution_count": null,
   "id": "9b54ebdc",
   "metadata": {},
   "outputs": [],
   "source": []
  },
  {
   "cell_type": "code",
   "execution_count": null,
   "id": "6bde670c",
   "metadata": {},
   "outputs": [],
   "source": []
  },
  {
   "cell_type": "code",
   "execution_count": null,
   "id": "ebeb6959",
   "metadata": {},
   "outputs": [],
   "source": []
  },
  {
   "cell_type": "code",
   "execution_count": null,
   "id": "ba128b9d",
   "metadata": {},
   "outputs": [],
   "source": []
  },
  {
   "cell_type": "code",
   "execution_count": null,
   "id": "2284b4be",
   "metadata": {},
   "outputs": [],
   "source": []
  },
  {
   "cell_type": "code",
   "execution_count": null,
   "id": "38d6a0f7",
   "metadata": {},
   "outputs": [],
   "source": []
  }
 ],
 "metadata": {
  "kernelspec": {
   "display_name": "yolo",
   "language": "python",
   "name": "python3"
  },
  "language_info": {
   "codemirror_mode": {
    "name": "ipython",
    "version": 3
   },
   "file_extension": ".py",
   "mimetype": "text/x-python",
   "name": "python",
   "nbconvert_exporter": "python",
   "pygments_lexer": "ipython3",
   "version": "3.10.16"
  }
 },
 "nbformat": 4,
 "nbformat_minor": 5
}
