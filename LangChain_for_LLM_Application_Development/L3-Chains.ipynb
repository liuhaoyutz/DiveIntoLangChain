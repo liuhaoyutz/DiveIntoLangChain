{
 "cells": [
  {
   "cell_type": "markdown",
   "id": "52824b89-532a-4e54-87e9-1410813cd39e",
   "metadata": {},
   "source": [
    "# Chains in LangChain\n",
    "\n",
    "## Outline\n",
    "\n",
    "* LLMChain\n",
    "* Sequential Chains\n",
    "  * SimpleSequentialChain\n",
    "  * SequentialChain\n",
    "* Router Chain"
   ]
  },
  {
   "cell_type": "code",
   "execution_count": null,
   "id": "b84e441b",
   "metadata": {
    "tags": []
   },
   "outputs": [],
   "source": [
    "#!pip install pandas"
   ]
  },
  {
   "cell_type": "code",
   "execution_count": 1,
   "id": "974acf8e-8f88-42de-88f8-40a82cb58e8b",
   "metadata": {
    "tags": []
   },
   "outputs": [],
   "source": [
    "import pandas as pd\n",
    "df = pd.read_csv('Data.csv')"
   ]
  },
  {
   "cell_type": "code",
   "execution_count": 2,
   "id": "b7a09c35",
   "metadata": {
    "tags": []
   },
   "outputs": [
    {
     "data": {
      "text/html": [
       "<div>\n",
       "<style scoped>\n",
       "    .dataframe tbody tr th:only-of-type {\n",
       "        vertical-align: middle;\n",
       "    }\n",
       "\n",
       "    .dataframe tbody tr th {\n",
       "        vertical-align: top;\n",
       "    }\n",
       "\n",
       "    .dataframe thead th {\n",
       "        text-align: right;\n",
       "    }\n",
       "</style>\n",
       "<table border=\"1\" class=\"dataframe\">\n",
       "  <thead>\n",
       "    <tr style=\"text-align: right;\">\n",
       "      <th></th>\n",
       "      <th>Product</th>\n",
       "      <th>Review</th>\n",
       "    </tr>\n",
       "  </thead>\n",
       "  <tbody>\n",
       "    <tr>\n",
       "      <th>0</th>\n",
       "      <td>Queen Size Sheet Set</td>\n",
       "      <td>I ordered a king size set. My only criticism w...</td>\n",
       "    </tr>\n",
       "    <tr>\n",
       "      <th>1</th>\n",
       "      <td>Waterproof Phone Pouch</td>\n",
       "      <td>I loved the waterproof sac, although the openi...</td>\n",
       "    </tr>\n",
       "    <tr>\n",
       "      <th>2</th>\n",
       "      <td>Luxury Air Mattress</td>\n",
       "      <td>This mattress had a small hole in the top of i...</td>\n",
       "    </tr>\n",
       "    <tr>\n",
       "      <th>3</th>\n",
       "      <td>Pillows Insert</td>\n",
       "      <td>This is the best throw pillow fillers on Amazo...</td>\n",
       "    </tr>\n",
       "    <tr>\n",
       "      <th>4</th>\n",
       "      <td>Milk Frother Handheld\\n</td>\n",
       "      <td>I loved this product. But they only seem to l...</td>\n",
       "    </tr>\n",
       "  </tbody>\n",
       "</table>\n",
       "</div>"
      ],
      "text/plain": [
       "                   Product                                             Review\n",
       "0     Queen Size Sheet Set  I ordered a king size set. My only criticism w...\n",
       "1   Waterproof Phone Pouch  I loved the waterproof sac, although the openi...\n",
       "2      Luxury Air Mattress  This mattress had a small hole in the top of i...\n",
       "3           Pillows Insert  This is the best throw pillow fillers on Amazo...\n",
       "4  Milk Frother Handheld\\n   I loved this product. But they only seem to l..."
      ]
     },
     "execution_count": 2,
     "metadata": {},
     "output_type": "execute_result"
    }
   ],
   "source": [
    "df.head()"
   ]
  },
  {
   "cell_type": "markdown",
   "id": "b940ce7c",
   "metadata": {},
   "source": [
    "## LLMChain"
   ]
  },
  {
   "cell_type": "code",
   "execution_count": 3,
   "id": "e92dff22",
   "metadata": {
    "tags": []
   },
   "outputs": [],
   "source": [
    "#from langchain.chat_models import ChatOpenAI\n",
    "from langchain_openai.chat_models import ChatOpenAI\n",
    "from langchain.prompts import ChatPromptTemplate\n",
    "from langchain.chains import LLMChain"
   ]
  },
  {
   "cell_type": "markdown",
   "id": "72337da4",
   "metadata": {},
   "source": [
    "1. 使用ollama下载deepseek-r1:32b  \n",
    "2. 后台启动ollama服务： nohup ollama serve  >/dev/null 2>&1 &  \n",
    "3. 我用的是3090, 共24G显存，占用了21G。"
   ]
  },
  {
   "cell_type": "code",
   "execution_count": 4,
   "id": "943237a7",
   "metadata": {
    "tags": []
   },
   "outputs": [],
   "source": [
    "llm = ChatOpenAI(\n",
    "    model_name='deepseek-r1:32b',\n",
    "    openai_api_base=\"http://127.0.0.1:11434/v1\",\n",
    "    openai_api_key=\"EMPTY\",\n",
    "    streaming=False\n",
    ")"
   ]
  },
  {
   "cell_type": "code",
   "execution_count": 6,
   "id": "cdcdb42d",
   "metadata": {
    "tags": []
   },
   "outputs": [],
   "source": [
    "prompt = ChatPromptTemplate.from_template(\n",
    "    \"用来描述一家生产{product}的公司，最好的名字是什么？\"\n",
    ")"
   ]
  },
  {
   "cell_type": "code",
   "execution_count": 7,
   "id": "d7abc20b",
   "metadata": {
    "tags": []
   },
   "outputs": [
    {
     "name": "stderr",
     "output_type": "stream",
     "text": [
      "/tmp/ipykernel_231543/1305865249.py:1: LangChainDeprecationWarning: The class `LLMChain` was deprecated in LangChain 0.1.17 and will be removed in 1.0. Use :meth:`~RunnableSequence, e.g., `prompt | llm`` instead.\n",
      "  chain = LLMChain(llm=llm, prompt=prompt)\n"
     ]
    }
   ],
   "source": [
    "chain = LLMChain(llm=llm, prompt=prompt)"
   ]
  },
  {
   "cell_type": "code",
   "execution_count": 8,
   "id": "ad44d1fb",
   "metadata": {
    "tags": []
   },
   "outputs": [
    {
     "name": "stderr",
     "output_type": "stream",
     "text": [
      "/tmp/ipykernel_231543/3950687895.py:2: LangChainDeprecationWarning: The method `Chain.run` was deprecated in langchain 0.1.0 and will be removed in 1.0. Use :meth:`~invoke` instead.\n",
      "  chain.run(product)\n"
     ]
    },
    {
     "data": {
      "text/plain": [
       "\"<think>\\n嗯，我现在要帮用户想一个适合他们公司的名字。他们的公司是生产“女王尺寸”（Queen size）的床单套装，所以这个名字需要反映出产品的大号和豪华感。首先，我得考虑用户的使用场景。这可能是一家线上或线下销售寝具的公司，目标客户可能是喜欢高质量、豪华床上用品的人群。\\n\\n接下来，用户的身份是什么？应该是这家公司创始人或者市场部的人，他们想要一个吸引人的名字来提升品牌形象。深层次的需求可能是希望这个名字既能突出产品的特点，又具有品牌溢价能力，容易记忆和传播。\\n\\n现在，我需要想出一些词语组合。首先，“Queen”是必须的元素，因为产品是女王尺寸的。然后，“ bedding”或者“bedding collection”可能可以替代，不过后者显得更高级。另外，可以考虑使用豪华、高品质相关的词汇，如“Royal”、“Luxury”、“Elegance”等等。\\n\\n再想想品牌名称要简洁有力，方便宣传和记忆。比如，“Queen's Retreat”听起来很高档，适合追求舒适的客户；“Royal Bedding Co.”则显得历史悠久，专业可靠；“Queen’s Dream”让人联想到舒适睡眠，温馨的感觉；“Palace Linens”带有皇室奢华的意味；“Regal Quarters”暗示着高品质；“Queenly Beds”直接点出目标市场；“Sovereign Sheets”比较权威，高端大气。\\n\\n其他可能的名字比如“Royal Sized Bedding”，但这样可能不够简洁。或者“Queen's Luxury Collection”，也不错，但可能有点长。还可以考虑结合皇后和奢华的词汇，如“Queen's Velvet”、“Royal Plush”等等，突出材质的豪华感。\\n\\n综合来看，我列出的这些名字都能很好地传达出产品的大号和高品质特质，同时各有不同的风格，可以满足不同品牌想要的形象。比如如果用户想要一个更优雅、高雅的名字，可以选择“Queen’s Retreat”或“Palace Linens”。如果想强调产品的权威性和高级感，“Sovereign Sheets”会是不错的选择。\\n\\n最后，我可能会建议这些名字让用户根据品牌形象选择最合适的，或者如果有需要的话，我可以进一步帮助优化某个特定方向的方案。\\n</think>\\n\\n一些适合描述一家生产女王尺寸床单套装公司的名字可以包括突出豪华、大号和高品质的概念。以下是一些可能的名字：\\n\\n1. **Queen's Retreat**  \\n2. **Royal Bedding Co.**  \\n3. **Queen’s Dream**  \\n4. **Palace Linens**  \\n5. **Regal Quarters**  \\n6. **Queenly Beds**  \\n7. **Sovereign Sheets**  \\n\\n这些名字强调了产品的豪华感和大号尺寸的特点，同时也传达出舒适和高品质的床上用品体验。\""
      ]
     },
     "execution_count": 8,
     "metadata": {},
     "output_type": "execute_result"
    }
   ],
   "source": [
    "product = \"女王尺寸床单套装\"\n",
    "chain.run(product)"
   ]
  },
  {
   "cell_type": "markdown",
   "id": "69b03469",
   "metadata": {},
   "source": [
    "## SimpleSequentialChain"
   ]
  },
  {
   "cell_type": "code",
   "execution_count": 9,
   "id": "febee243",
   "metadata": {
    "tags": []
   },
   "outputs": [],
   "source": [
    "from langchain.chains import SimpleSequentialChain"
   ]
  },
  {
   "cell_type": "code",
   "execution_count": 10,
   "id": "2f31aa8a",
   "metadata": {
    "tags": []
   },
   "outputs": [],
   "source": [
    "# prompt template 1\n",
    "first_prompt = ChatPromptTemplate.from_template(\n",
    "    \"用来描述一家生产{product}的公司，最好的名字是什么？\"\n",
    ")\n",
    "\n",
    "# Chain 1\n",
    "chain_one = LLMChain(llm=llm, prompt=first_prompt)"
   ]
  },
  {
   "cell_type": "code",
   "execution_count": 11,
   "id": "3f5d5b76",
   "metadata": {
    "tags": []
   },
   "outputs": [],
   "source": [
    "# prompt template 2\n",
    "second_prompt = ChatPromptTemplate.from_template(\n",
    "    \"为以下公司编写一段20词的描述：{company_name}\"\n",
    ")\n",
    "# chain 2\n",
    "chain_two = LLMChain(llm=llm, prompt=second_prompt)"
   ]
  },
  {
   "cell_type": "code",
   "execution_count": 12,
   "id": "6c1eb2c4",
   "metadata": {
    "tags": []
   },
   "outputs": [],
   "source": [
    "overall_simple_chain = SimpleSequentialChain(chains=[chain_one, chain_two],\n",
    "                                             verbose=True\n",
    "                                            )"
   ]
  },
  {
   "cell_type": "code",
   "execution_count": 13,
   "id": "78458efe",
   "metadata": {
    "tags": []
   },
   "outputs": [
    {
     "name": "stdout",
     "output_type": "stream",
     "text": [
      "\n",
      "\n",
      "\u001b[1m> Entering new SimpleSequentialChain chain...\u001b[0m\n",
      "\u001b[36;1m\u001b[1;3m<think>\n",
      "嗯，用户想要给一家生产女王尺寸床单套装的公司起一个好名字。首先，我应该理解“女王尺寸”指的是比较大的尺寸，可能适合较大的床或者追求豪华的人群。所以，这个名字要能传达出大气、奢华的感觉。\n",
      "\n",
      "然后，考虑到目标客户可能是那些注重品质和舒适度的人，可能偏向高端市场。因此，名字应该听起来优雅且有品牌感，容易记住。\n",
      "\n",
      "接下来，我可以考虑结合“女王”这个词，或者使用一些表示皇室、豪华的词汇，比如“Royal”，但得避免太普通的名字，这样难以脱颖而出。\n",
      "\n",
      "还要注意名字的简洁性，方便推广和记忆。可能的话，采用一个能传达产品特点的词，比如突出尺寸大，可以用“Majestic”、“Grand”这样的词汇。\n",
      "\n",
      "然后，思考一些组合方式，比如将代表品质的词与床单相关的词结合。“Luxe bedding”中的Luxe带有一种 luxury 的感觉，简洁又高级。\n",
      "\n",
      "还有其他可能性，例如“Royal Covers”，虽然直接提到“royal”，但可能过于直白，缺乏创意。而像“Regalia Bedding”这样的名字听起来更有高端和皇室的感觉，也比较独特。\n",
      "\n",
      "另外，可以考虑使用一些听起来优雅且独特的词汇，如“Aurora Bedsheets”。“Aurora”让人联想到极光，有美丽、高贵的感觉，适合奢华的产品。\n",
      "\n",
      "还有“Imperial Threads”，其中“Imperial”传达了帝国般的大气，而“Threads”则点明了纺织品的属性。这个名字既有规模感又不失优雅。\n",
      "\n",
      "总的来说，最好的名字应该同时体现出产品的豪华、大尺寸和品质，同时易于记忆，并且在市场中具有独特性。我可能会推荐一些选项，让用户从中选择他们最喜欢的风格。\n",
      "</think>\u001b[0m\n",
      "\u001b[33;1m\u001b[1;3m<think>\n",
      "\n",
      "以下是为一家生产女王尺寸床单套装的公司编写的一段20词描述：\n",
      "\n",
      "“提供奢华女王尺寸床单套装，完美契合您的卧室需求，品质卓越，设计优雅，助您享受无与伦比的舒适睡眠体验。”\u001b[0m\n",
      "\n",
      "\u001b[1m> Finished chain.\u001b[0m\n"
     ]
    },
    {
     "data": {
      "text/plain": [
       "'<think>\\n\\n以下是为一家生产女王尺寸床单套装的公司编写的一段20词描述：\\n\\n“提供奢华女王尺寸床单套装，完美契合您的卧室需求，品质卓越，设计优雅，助您享受无与伦比的舒适睡眠体验。”'"
      ]
     },
     "execution_count": 13,
     "metadata": {},
     "output_type": "execute_result"
    }
   ],
   "source": [
    "overall_simple_chain.run(product)"
   ]
  },
  {
   "cell_type": "markdown",
   "id": "7b5ce18c",
   "metadata": {},
   "source": [
    "## SequentialChain"
   ]
  },
  {
   "cell_type": "code",
   "execution_count": 21,
   "id": "4c129ef6",
   "metadata": {
    "tags": []
   },
   "outputs": [],
   "source": [
    "from langchain.chains import SequentialChain"
   ]
  },
  {
   "cell_type": "code",
   "execution_count": 22,
   "id": "016187ac",
   "metadata": {
    "tags": []
   },
   "outputs": [],
   "source": [
    "# prompt template 1: translate to english\n",
    "first_prompt = ChatPromptTemplate.from_template(\n",
    "    \"将以下评论翻译成中文：\\n\\n{Review}\"\n",
    ")\n",
    "# chain 1: input= Review and output= English_Review\n",
    "chain_one = LLMChain(llm=llm, prompt=first_prompt, \n",
    "                     output_key=\"中文评论\"\n",
    "                    )\n"
   ]
  },
  {
   "cell_type": "code",
   "execution_count": 23,
   "id": "0fb0730e",
   "metadata": {
    "tags": []
   },
   "outputs": [],
   "source": [
    "second_prompt = ChatPromptTemplate.from_template(\n",
    "    \"你能用一句话概括以下评论吗：\\n\\n{中文评论}\"\n",
    ")\n",
    "# chain 2: input= English_Review and output= summary\n",
    "chain_two = LLMChain(llm=llm, prompt=second_prompt, \n",
    "                     output_key=\"总结\"\n",
    "                    )\n"
   ]
  },
  {
   "cell_type": "code",
   "execution_count": 24,
   "id": "6accf92d",
   "metadata": {
    "tags": []
   },
   "outputs": [],
   "source": [
    "# prompt template 3: translate to english\n",
    "third_prompt = ChatPromptTemplate.from_template(\n",
    "    \"下面的评论用的是什么语言？:\\n\\n{Review}\"\n",
    ")\n",
    "# chain 3: input= Review and output= language\n",
    "chain_three = LLMChain(llm=llm, prompt=third_prompt,\n",
    "                       output_key=\"语言\"\n",
    "                      )\n"
   ]
  },
  {
   "cell_type": "code",
   "execution_count": 27,
   "id": "c7a46121",
   "metadata": {
    "tags": []
   },
   "outputs": [],
   "source": [
    "\n",
    "# prompt template 4: follow up message\n",
    "fourth_prompt = ChatPromptTemplate.from_template(\n",
    "    \"根据以下摘要，用指定的语言写一个跟进回复：\\n\\n摘要: {总结}\\n\\n语言: {语言}\"\n",
    ")\n",
    "\n",
    "# chain 4: input= summary, language and output= followup_message\n",
    "chain_four = LLMChain(llm=llm, prompt=fourth_prompt,\n",
    "                      output_key=\"回复\"\n",
    "                     )\n"
   ]
  },
  {
   "cell_type": "code",
   "execution_count": 29,
   "id": "89603117",
   "metadata": {
    "tags": []
   },
   "outputs": [],
   "source": [
    "# overall_chain: input= Review \n",
    "# and output= English_Review,summary, followup_message\n",
    "overall_chain = SequentialChain(\n",
    "    chains=[chain_one, chain_two, chain_three, chain_four],\n",
    "    input_variables=[\"Review\"],\n",
    "    output_variables=[\"中文评论\", \"总结\",\"回复\"],\n",
    "    verbose=True\n",
    ")"
   ]
  },
  {
   "cell_type": "code",
   "execution_count": 30,
   "id": "51b04f45",
   "metadata": {
    "tags": []
   },
   "outputs": [
    {
     "name": "stdout",
     "output_type": "stream",
     "text": [
      "\n",
      "\n",
      "\u001b[1m> Entering new SequentialChain chain...\u001b[0m\n",
      "\n",
      "\u001b[1m> Finished chain.\u001b[0m\n"
     ]
    },
    {
     "data": {
      "text/plain": [
       "{'Review': \"Je trouve le goût médiocre. La mousse ne tient pas, c'est bizarre. J'achète les mêmes dans le commerce et le goût est bien meilleur...\\nVieux lot ou contrefaçon !?\",\n",
       " '中文评论': '<think>\\nAlright, let\\'s tackle this translation task. The user has provided a French review that needs to be translated into Chinese. \\n\\nFirst, I\\'ll read through the entire comment to get a sense of the overall sentiment. It seems pretty negative—the person is unhappy with their experience. \\n\\nLooking at each sentence: \"Je trouve le goût médiocre.\" translates directly to talking about the taste being mediocre. Easy enough.\\n\\nNext, \"La mousse ne tient pas, c\\'est bizarre.\" I think this refers to foam not lasting, which might be a specific issue with something like coffee or a beverage. The word \"bizarre\" shows surprise, so I need to capture that in the translation.\\n\\nThen, \"J\\'achète les mêmes dans le commerce et le goût est bien meilleur...\" This part mentions buying similar products elsewhere and finding them tastier. It\\'s comparing this product unfavorably to others.\\n\\nFinally, \"Vieux lot ou contrefaçon !?\" suggests skepticism about the product\\'s authenticity or freshness. The user is questioning whether it’s old stock or counterfeit.\\n\\nI need to preserve not just the words but also the tone—frustration and disappointment. Making sure each point flows naturally in Chinese without losing any nuances.\\n\\nAlso, considering the context might help. If this is a product review online, the translation should read as if an average consumer is speaking—casual but clear.\\n\\nI must ensure that phrases like \"La mousse ne tient pas\" don\\'t get lost in translation. Maybe using something like \"泡沫不够绵密\" which conveys that it\\'s not holding up well.\\n\\nFor \"contrefaçon,\" using \"赝品\" gives the right connotation of being fake or counterfeit.\\n\\nOverall, the goal is to make sure someone reading this review in Chinese can feel the same frustration as the original French speaker. That means using words and phrases that are commonly used in such contexts to ensure clarity and emotional impact.\\n\\nI\\'ll double-check each translated sentence to see if they convey the intended meaning accurately and fluently in Chinese.\\n</think>\\n\\n我觉得味道一般般。泡沫不持久，真奇怪。我买同样产品在商店里味道好很多……\\n这是不是旧货或是假的？！',\n",
       " '总结': '<think>\\n\\n</think>\\n\\n“我觉得味道一般，泡沫不够绵密，很奇怪，我在外面买的同款产品味道好得多；这是不是过期的或者仿冒品？”',\n",
       " '回复': \"<think>\\n嗯，我现在需要分析用户提供的评论，并判断这段文字是用哪种语言写的。让我仔细看看原文：“Je trouve le goût médiocre. La mousse ne tient pas, c'est étrange; j'achète les mêmes dans le commerce et le goût est bien meilleur. Est-ce un vieux lot ou une contrefaçon?” \\n\\n首先，这段文字看起来像是 Romance 语系中的语言。法语、西班牙语、意大利语都属于这一语系。让我逐句分析。\\n\\n第一句：“Je trouve le goût médiocre.” 这里有几个明显的法语词汇。“Je” 是“我”，“trouve” 来自动词 “trouver”（找到或觉得），“le goût” 意为“味道”，“médiocre” 则是“一般”。这些词汇都是标准的法语文法结构。\\n\\n接下来：“La mousse ne tient pas, c'est étrange;” 这里用了“mousse”（泡沫），“ne ... pas” 否定结构，表示“不…”，“étrange” 意为“奇怪”。同样，这些都是典型的法语文法规则和常用词汇。\\n\\n最后一句：“j'achète les mêmes dans le commerce et le goût est bien meilleur. Est-ce un vieux lot ou une contrefaçon?” 这句话里的动词用的是“acheter”（购买），而“dans le commerce” 意为“在市场上”。此外，“vieux” 是“老的”，“lot” 可以是批次或数量，而“contrefaçon” 是“假冒品”。这些词汇和句式结构都是法语所特有的。\\n\\n另外，标点符号的使用也符合法语的习惯，如分号在两个独立子句之间的用法。虽然这并不是语言鉴定的关键，但也可以作为一个参考。\\n\\n综合以上分析，段落中的词汇、语法结构以及整体表达方式都符合法语的特点。因此，这段评论是用法语书写的。\\n</think>\\n\\n根据上述分析，可以确定这段评论是用**法语**书写的。\"}"
      ]
     },
     "execution_count": 30,
     "metadata": {},
     "output_type": "execute_result"
    }
   ],
   "source": [
    "review = df.Review[5]\n",
    "overall_chain(review)"
   ]
  },
  {
   "cell_type": "markdown",
   "id": "3041ea4c",
   "metadata": {},
   "source": [
    "## Router Chain"
   ]
  },
  {
   "cell_type": "code",
   "execution_count": 31,
   "id": "ade83f4f",
   "metadata": {
    "tags": []
   },
   "outputs": [],
   "source": [
    "physics_template = \"\"\"You are a very smart physics professor. \\\n",
    "You are great at answering questions about physics in a concise\\\n",
    "and easy to understand manner. \\\n",
    "When you don't know the answer to a question you admit\\\n",
    "that you don't know.\n",
    "\n",
    "Here is a question:\n",
    "{input}\"\"\"\n",
    "\n",
    "\n",
    "math_template = \"\"\"You are a very good mathematician. \\\n",
    "You are great at answering math questions. \\\n",
    "You are so good because you are able to break down \\\n",
    "hard problems into their component parts, \n",
    "answer the component parts, and then put them together\\\n",
    "to answer the broader question.\n",
    "\n",
    "Here is a question:\n",
    "{input}\"\"\"\n",
    "\n",
    "history_template = \"\"\"You are a very good historian. \\\n",
    "You have an excellent knowledge of and understanding of people,\\\n",
    "events and contexts from a range of historical periods. \\\n",
    "You have the ability to think, reflect, debate, discuss and \\\n",
    "evaluate the past. You have a respect for historical evidence\\\n",
    "and the ability to make use of it to support your explanations \\\n",
    "and judgements.\n",
    "\n",
    "Here is a question:\n",
    "{input}\"\"\"\n",
    "\n",
    "\n",
    "computerscience_template = \"\"\" You are a successful computer scientist.\\\n",
    "You have a passion for creativity, collaboration,\\\n",
    "forward-thinking, confidence, strong problem-solving capabilities,\\\n",
    "understanding of theories and algorithms, and excellent communication \\\n",
    "skills. You are great at answering coding questions. \\\n",
    "You are so good because you know how to solve a problem by \\\n",
    "describing the solution in imperative steps \\\n",
    "that a machine can easily interpret and you know how to \\\n",
    "choose a solution that has a good balance between \\\n",
    "time complexity and space complexity. \n",
    "\n",
    "Here is a question:\n",
    "{input}\"\"\""
   ]
  },
  {
   "cell_type": "code",
   "execution_count": 32,
   "id": "5f590e9f",
   "metadata": {
    "tags": []
   },
   "outputs": [],
   "source": [
    "prompt_infos = [\n",
    "    {\n",
    "        \"name\": \"physics\", \n",
    "        \"description\": \"Good for answering questions about physics\", \n",
    "        \"prompt_template\": physics_template\n",
    "    },\n",
    "    {\n",
    "        \"name\": \"math\", \n",
    "        \"description\": \"Good for answering math questions\", \n",
    "        \"prompt_template\": math_template\n",
    "    },\n",
    "    {\n",
    "        \"name\": \"History\", \n",
    "        \"description\": \"Good for answering history questions\", \n",
    "        \"prompt_template\": history_template\n",
    "    },\n",
    "    {\n",
    "        \"name\": \"computer science\", \n",
    "        \"description\": \"Good for answering computer science questions\", \n",
    "        \"prompt_template\": computerscience_template\n",
    "    }\n",
    "]"
   ]
  },
  {
   "cell_type": "code",
   "execution_count": 33,
   "id": "31b06fc8",
   "metadata": {
    "tags": []
   },
   "outputs": [],
   "source": [
    "from langchain.chains.router import MultiPromptChain\n",
    "from langchain.chains.router.llm_router import LLMRouterChain,RouterOutputParser\n",
    "from langchain.prompts import PromptTemplate"
   ]
  },
  {
   "cell_type": "code",
   "execution_count": 34,
   "id": "8eefec24",
   "metadata": {
    "tags": []
   },
   "outputs": [],
   "source": [
    "destination_chains = {}\n",
    "for p_info in prompt_infos:\n",
    "    name = p_info[\"name\"]\n",
    "    prompt_template = p_info[\"prompt_template\"]\n",
    "    prompt = ChatPromptTemplate.from_template(template=prompt_template)\n",
    "    chain = LLMChain(llm=llm, prompt=prompt)\n",
    "    destination_chains[name] = chain  \n",
    "    \n",
    "destinations = [f\"{p['name']}: {p['description']}\" for p in prompt_infos]\n",
    "destinations_str = \"\\n\".join(destinations)"
   ]
  },
  {
   "cell_type": "code",
   "execution_count": 35,
   "id": "9f98018a",
   "metadata": {
    "tags": []
   },
   "outputs": [],
   "source": [
    "default_prompt = ChatPromptTemplate.from_template(\"{input}\")\n",
    "default_chain = LLMChain(llm=llm, prompt=default_prompt)"
   ]
  },
  {
   "cell_type": "code",
   "execution_count": 36,
   "id": "11b2e2ba",
   "metadata": {
    "tags": []
   },
   "outputs": [],
   "source": [
    "MULTI_PROMPT_ROUTER_TEMPLATE = \"\"\"Given a raw text input to a \\\n",
    "language model select the model prompt best suited for the input. \\\n",
    "You will be given the names of the available prompts and a \\\n",
    "description of what the prompt is best suited for. \\\n",
    "You may also revise the original input if you think that revising\\\n",
    "it will ultimately lead to a better response from the language model.\n",
    "\n",
    "<< FORMATTING >>\n",
    "Return a markdown code snippet with a JSON object formatted to look like:\n",
    "```json\n",
    "{{{{\n",
    "    \"destination\": string \\ \"DEFAULT\" or name of the prompt to use in {destinations}\n",
    "    \"next_inputs\": string \\ a potentially modified version of the original input\n",
    "}}}}\n",
    "```\n",
    "\n",
    "REMEMBER: The value of “destination” MUST match one of \\\n",
    "the candidate prompts listed below.\\\n",
    "If “destination” does not fit any of the specified prompts, set it to “DEFAULT.”\n",
    "REMEMBER: \"next_inputs\" can just be the original input \\\n",
    "if you don't think any modifications are needed.\n",
    "\n",
    "<< CANDIDATE PROMPTS >>\n",
    "{destinations}\n",
    "\n",
    "<< INPUT >>\n",
    "{{input}}\n",
    "\n",
    "<< OUTPUT (remember to include the ```json)>>\"\"\""
   ]
  },
  {
   "cell_type": "code",
   "execution_count": 37,
   "id": "1387109d",
   "metadata": {
    "tags": []
   },
   "outputs": [],
   "source": [
    "router_template = MULTI_PROMPT_ROUTER_TEMPLATE.format(\n",
    "    destinations=destinations_str\n",
    ")\n",
    "router_prompt = PromptTemplate(\n",
    "    template=router_template,\n",
    "    input_variables=[\"input\"],\n",
    "    output_parser=RouterOutputParser(),\n",
    ")\n",
    "\n",
    "router_chain = LLMRouterChain.from_llm(llm, router_prompt)"
   ]
  },
  {
   "cell_type": "code",
   "execution_count": 38,
   "id": "2fb7d560",
   "metadata": {
    "tags": []
   },
   "outputs": [
    {
     "name": "stderr",
     "output_type": "stream",
     "text": [
      "/tmp/ipykernel_231543/3038952769.py:1: LangChainDeprecationWarning: Please see migration guide here for recommended implementation: https://python.langchain.com/docs/versions/migrating_chains/multi_prompt_chain/\n",
      "  chain = MultiPromptChain(router_chain=router_chain,\n"
     ]
    }
   ],
   "source": [
    "chain = MultiPromptChain(router_chain=router_chain, \n",
    "                         destination_chains=destination_chains, \n",
    "                         default_chain=default_chain, verbose=True\n",
    "                        )"
   ]
  },
  {
   "cell_type": "code",
   "execution_count": 39,
   "id": "d86b2131",
   "metadata": {
    "tags": []
   },
   "outputs": [
    {
     "name": "stdout",
     "output_type": "stream",
     "text": [
      "\n",
      "\n",
      "\u001b[1m> Entering new MultiPromptChain chain...\u001b[0m\n",
      "physics: {'input': 'What is black body radiation?'}\n",
      "\u001b[1m> Finished chain.\u001b[0m\n"
     ]
    },
    {
     "data": {
      "text/plain": [
       "'<think>\\nOkay, so I need to figure out what black body radiation is. Hmm, from what I remember, it\\'s something related to physics and light or heat. Maybe it has to do with how objects emit radiation when they\\'re heated?\\n\\nI think the term \"black body\" refers to an idealized object that absorbs all incident electromagnetic radiation, without reflecting any of it. So a black body doesn\\'t let anything pass through; it just soaks up all the energy coming its way. But then, if it\\'s absorbing all that energy, does it also emit some kind of radiation when heated?\\n\\nYes, I think so. When you heat an object, it starts emitting radiation. For example, when a metal is heated, it glows red and then white as it gets hotter. That must be related to black body radiation too.\\n\\nSo the key idea is that all objects emit thermal radiation based on their temperature. But why call it \"black\" body? Maybe because in theory, an ideal black body would emit the maximum possible radiation at every wavelength for a given temperature. In reality, no object perfectly absorbs all wavelengths, so they\\'re not perfect black bodies, but many can approximate this behavior.\\n\\nI\\'ve heard about Wien\\'s law and the Stefan-Boltzmann law in this context. Wien\\'s displacement law relates the peak wavelength of emission to the absolute temperature, while Stefan-Boltzmann\\'s law connects the total radiation emitted per unit area with the fourth power of temperature. These must be part of the characteristics of black body radiation.\\n\\nSo putting it all together: a black body is an ideal object that absorbs all incident electromagnetic radiation and emits thermal radiation based on its temperature. The spectrum of this emitted radiation depends solely on the temperature, following certain laws like Wien\\'s displacement law and Stefan-Boltzmann. Our sun is a good example of something close to a black body radiator.\\n\\nWait, but does it emit in all wavelengths evenly? I think not—there\\'s a specific peak for a given temperature. So at higher temperatures, most emission shifts towards shorter wavelengths (blue), and at lower temps, longer wavelengths (red). That makes sense with things like an oven\\'s glow changing from red to white as it heats up.\\n\\nAlso, since the sun is considered a black body radiator, its radiation peaks in the visible spectrum which is why we see it shining bright. If the Earth were a black body, it would emit long-wavelength infrared radiation based on our average temperature.\\n\\nSo yeah, black body radiation describes how objects radiate energy across a spectrum dependent on their temperature and emissivity. It\\'s fundamental in understanding heat transfer and has applications in astrophysics, climate science, and more.\\n</think>\\n\\nBlack body radiation is the theoretical emission of electromagnetic radiation due to an object\\'s temperature, described by an idealized black body. A perfect black body absorbs all incident radiation without reflection and emits thermal radiation based solely on its temperature. The emitted spectrum peaks at specific wavelengths depending on temperature, following Wien\\'s displacement law, with total emission intensity governed by the Stefan-Boltzmann law. Key examples include the sun (emitting in visible light) and Earth (emitting infrared radiation). This concept is fundamental in understanding heat transfer and is crucial across various scientific fields including astrophysics and climate science.'"
      ]
     },
     "execution_count": 39,
     "metadata": {},
     "output_type": "execute_result"
    }
   ],
   "source": [
    "chain.run(\"What is black body radiation?\")"
   ]
  },
  {
   "cell_type": "code",
   "execution_count": 40,
   "id": "3b717379",
   "metadata": {
    "tags": []
   },
   "outputs": [
    {
     "name": "stdout",
     "output_type": "stream",
     "text": [
      "\n",
      "\n",
      "\u001b[1m> Entering new MultiPromptChain chain...\u001b[0m\n",
      "math: {'input': 'what is 2 + 2'}\n",
      "\u001b[1m> Finished chain.\u001b[0m\n"
     ]
    },
    {
     "data": {
      "text/plain": [
       "\"<think>\\nTo solve the problem of finding the sum of 2 and 2, I first understand addition as combining two quantities together.\\n\\nNext, I add the two numbers: 2 plus 2 equals 4. \\n\\nFinally, after performing the calculation, the result is 4.\\n</think>\\n\\nCertainly! Let's break down the problem step by step to find the sum of **2** and **2**.\\n\\n### Step 1: Understand the Problem\\nWe are asked to add two numbers:\\n\\\\[ 2 + 2 \\\\]\\n\\n### Step 2: Perform the Addition\\nAdding the two numbers together:\\n\\\\[ 2 + 2 = 4 \\\\]\\n\\n### Final Answer\\n\\\\[\\n\\\\boxed{4}\\n\\\\]\""
      ]
     },
     "execution_count": 40,
     "metadata": {},
     "output_type": "execute_result"
    }
   ],
   "source": [
    "chain.run(\"what is 2 + 2\")"
   ]
  },
  {
   "cell_type": "code",
   "execution_count": 41,
   "id": "29e5be01",
   "metadata": {
    "tags": []
   },
   "outputs": [
    {
     "name": "stdout",
     "output_type": "stream",
     "text": [
      "\n",
      "\n",
      "\u001b[1m> Entering new MultiPromptChain chain...\u001b[0m\n",
      "None: {'input': 'Why do all cells in our body contain DNA?'}\n",
      "\u001b[1m> Finished chain.\u001b[0m\n"
     ]
    },
    {
     "data": {
      "text/plain": [
       "\"<think>\\nOkay, so I have to figure out why all the cells in our body have DNA. Hmm, let's start by thinking about what DNA is. I remember that DNA stands for deoxyribonucleic acid and it carries genetic information. But why does every cell need it?\\n\\nMaybe because each cell needs instructions to function properly. Like, how do cells know what to do? They must get their directions from somewhere. So maybe DNA holds those instructions?\\n\\nWait, but not all cells are the same. We have skin cells, muscle cells, brain cells—all different types. But they all have DNA. Does that mean each cell has a copy of all the genetic information needed for the body? That makes sense because when we learned about genetics, genes determine traits and proteins.\\n\\nOh right! Proteins do so much in our bodies—enzymes, hormones, structural parts. So if DNA codes for these proteins, every cell must have it to make the necessary proteins to function. But wait, some cells can't reproduce on their own like skin or muscle cells. Do they still need DNA for that?\\n\\nAlso, I think about stem cells and how they can differentiate into different types of cells. They must carry all the genetic info because they could turn into any cell type, but even regular cells would have the full set too.\\n\\nWhat about gametes, the reproductive cells like sperm and eggs? They carry half the DNA, but when combined with another gamete, they form a new organism. So in that sense, every cell has DNA to pass on the genetic info necessary for life.\\n\\nBut wait, what about mature red blood cells in mammals? I heard they lose their nucleus as they mature. Does that mean they don't have DNA anymore? That's confusing because if all cells are supposed to have DNA, how does a red blood cell function without it?\\n\\nMaybe not all cells have DNA, but most do. So perhaps the initial premise isn't entirely accurate—some cells lose their DNA during development as part of their specialization.\\n\\nAdditionally, energy production happens in mitochondria, which have their own DNA. But that's more about having extra genetic material for specific functions rather than each individual cell.\\n\\nSo summarizing: DNA is essential because it's a blueprint for building proteins and structures, each cell needs it to function, it’s replicated during division, allows differentiation, repairs and maintains cells, and serves as the genetic foundation passed on. But some exceptions exist where certain specialized cells lose their nucleus (and thus their DNA) after reaching maturity.\\n\\nI think that makes sense now. So while most cells have DNA, there are exceptions based on their roles.\\n</think>\\n\\nThe presence of DNA in most cells is crucial for several reasons:\\n\\n1. **Genetic Blueprint**: DNA contains the genetic instructions necessary for building proteins and cellular structures. Every cell needs these instructions to function properly, regardless of its type.\\n\\n2. **Protein Production**: DNA codes for proteins essential for various functions—enzymes, hormones, and structural components. These proteins enable cells to carry out their specific roles in the body.\\n\\n3. **Cell Division and Replication**: During cell division, DNA replicates itself to ensure that each new cell carries the same genetic information. This process is vital for growth, repair, and replacement of damaged tissues.\\n\\n4. **Differentiation Potential**: Stem cells use their full set of DNA to differentiate into various cell types. Even mature cells retain this DNA, allowing potential adaptation or repair functions.\\n\\n5. **Specialization Exceptions**: While most cells contain DNA, certain specialized cells like mature mammalian red blood cells lose their nucleus (and thus their DNA) as part of their specialization. This occurs because they have completed their differentiation and no longer need the nucleus for function.\\n\\n6. **Mitochondrial DNA**: Mitochondria in cells have their own DNA to facilitate energy production independently, highlighting another layer of genetic complexity within cells.\\n\\nIn summary, DNA is fundamental for cellular functions, replication, and differentiation. Most cells possess it, but exceptions exist based on specific physiological roles or stages of development.\""
      ]
     },
     "execution_count": 41,
     "metadata": {},
     "output_type": "execute_result"
    }
   ],
   "source": [
    "chain.run(\"Why does every cell in our body contain DNA?\")"
   ]
  }
 ],
 "metadata": {
  "kernelspec": {
   "display_name": "yolo",
   "language": "python",
   "name": "python3"
  },
  "language_info": {
   "codemirror_mode": {
    "name": "ipython",
    "version": 3
   },
   "file_extension": ".py",
   "mimetype": "text/x-python",
   "name": "python",
   "nbconvert_exporter": "python",
   "pygments_lexer": "ipython3",
   "version": "3.10.16"
  }
 },
 "nbformat": 4,
 "nbformat_minor": 5
}
