{
 "cells": [
  {
   "cell_type": "markdown",
   "id": "52824b89-532a-4e54-87e9-1410813cd39e",
   "metadata": {},
   "source": [
    "# LangChain: Q&A over Documents\n",
    "\n",
    "An example might be a tool that would allow you to query a product catalog for items of interest.  \n",
    "这一节的内容实际就是RAG。使用VectorstoreIndexCreator几行代码就实现了基本的RAG功能。"
   ]
  },
  {
   "cell_type": "code",
   "execution_count": 1,
   "id": "974acf8e-8f88-42de-88f8-40a82cb58e8b",
   "metadata": {},
   "outputs": [],
   "source": [
    "from langchain.chains import RetrievalQA\n",
    "#from langchain.chat_models import ChatOpenAI\n",
    "from langchain_openai.chat_models import ChatOpenAI\n",
    "from langchain.document_loaders import CSVLoader\n",
    "from langchain.vectorstores import DocArrayInMemorySearch\n",
    "from IPython.display import display, Markdown\n",
    "from langchain.llms import OpenAI"
   ]
  },
  {
   "cell_type": "markdown",
   "id": "30734f70",
   "metadata": {},
   "source": [
    "1. 使用ollama下载deepseek-r1:32b  \n",
    "2. 后台启动ollama服务： nohup ollama serve  >/dev/null 2>&1 &  \n",
    "3. 我用的是3090, 共24G显存，占用了21G。"
   ]
  },
  {
   "cell_type": "code",
   "execution_count": 10,
   "id": "81467fc2",
   "metadata": {},
   "outputs": [],
   "source": [
    "llm = ChatOpenAI(\n",
    "    model_name='deepseek-r1:32b',\n",
    "    openai_api_base=\"http://127.0.0.1:11434/v1\",\n",
    "    openai_api_key=\"EMPTY\",\n",
    "    streaming=False\n",
    ")"
   ]
  },
  {
   "cell_type": "code",
   "execution_count": 2,
   "id": "7249846e",
   "metadata": {},
   "outputs": [],
   "source": [
    "file = 'OutdoorClothingCatalog_1000.csv'\n",
    "loader = CSVLoader(file_path=file)"
   ]
  },
  {
   "cell_type": "markdown",
   "id": "323ac2f4",
   "metadata": {},
   "source": [
    "这里创建的VectorstoreIndexCreator对象index就是向量数据库。"
   ]
  },
  {
   "cell_type": "code",
   "execution_count": null,
   "id": "9e200726",
   "metadata": {},
   "outputs": [
    {
     "name": "stderr",
     "output_type": "stream",
     "text": [
      "/tmp/ipykernel_240605/2339249052.py:4: LangChainDeprecationWarning: Default values for HuggingFaceEmbeddings.model_name were deprecated in LangChain 0.2.16 and will be removed in 0.4.0. Explicitly pass a model_name to the HuggingFaceEmbeddings constructor instead.\n",
      "  embeddings = HuggingFaceEmbeddings()\n"
     ]
    }
   ],
   "source": [
    "from langchain.indexes import VectorstoreIndexCreator\n",
    "from langchain.embeddings import HuggingFaceEmbeddings\n",
    "\n",
    "# 初始化 Hugging Face 嵌入模型\n",
    "embeddings = HuggingFaceEmbeddings()\n",
    "\n",
    "index = VectorstoreIndexCreator(\n",
    "    vectorstore_cls=DocArrayInMemorySearch,\n",
    "    embedding=embeddings\n",
    ").from_loaders([loader])"
   ]
  },
  {
   "cell_type": "code",
   "execution_count": 7,
   "id": "34562d81",
   "metadata": {},
   "outputs": [],
   "source": [
    "query =\"Please list all your shirts with sun protection \\\n",
    "in a table in markdown and summarize each one.\""
   ]
  },
  {
   "cell_type": "markdown",
   "id": "2e62f3a6",
   "metadata": {},
   "source": [
    "向量数据库index，传入query和llm，就是一个最基本的RAG。"
   ]
  },
  {
   "cell_type": "code",
   "execution_count": 11,
   "id": "cfd0cc37",
   "metadata": {},
   "outputs": [],
   "source": [
    "response = index.query(query, \n",
    "                       llm = llm)"
   ]
  },
  {
   "cell_type": "code",
   "execution_count": 12,
   "id": "ae21f1ff",
   "metadata": {},
   "outputs": [
    {
     "data": {
      "text/markdown": [
       "<think>\n",
       "Alright, so I just received this query asking me to list all their shirts with sun protection in a table using markdown and summarize each one. Let's see what I need to do here.\n",
       "\n",
       "First, the user has provided four context entries, each about a different shirt. Each entry includes details like product ID, name, description, size and fit, fabric and care, additional features, etc. My task is to extract relevant information from these contexts to create a table.\n",
       "\n",
       "I think the best approach is to identify common categories that can be used across all shirts. Looking at each context, I see they mention sun protection, UPF rating, fabric composition, style (sleeve), fit, and any special features like moisture-wicking or ventilation.\n",
       "\n",
       "Now, for each shirt, I'll need to extract this info. Let me go through them one by one.\n",
       "\n",
       "1. The first shirt is \"Women's Tropical Tee, Sleeveless\" with ID 679. From the description, it has UPF 50+ and blocks 98% UV rays. Fabric is Shell: 71% nylon and 29% polyester; Cape lining is 100% polyester. It's sleeveless, slightly fitted, and has features like smoother buttons, wrinkle resistance, low-profile pockets, etc.\n",
       "\n",
       "2. The second shirt is \"Sun Shield Shirt by\" with ID 255. UPF 50+, same as the first. Fabric: 78% nylon, 22% Lycra Xtra Life. It's also sleeveless, slightly fitted, moisture-wicking, and has abrasion resistance.\n",
       "\n",
       "3. The third shirt is \"Men's Plaid Tropic Shirt, Short-Sleeve\" with ID 374. UPF 50+ again. Fabric is 52% polyester, 48% nylon. Short sleeves, traditional fit. Features include front/back cape venting, two pockets, moisture-wicking.\n",
       "\n",
       "4. The fourth shirt is \"Tropical Breeze Shirt\" with ID 619. Also UPF 50+. Fabric: Shell 71% nylon, 29% polyester; lining 100% polyester; mesh inserts. It's long-sleeve, traditional fit. Features include wrinkle resistance and moisture-wicking.\n",
       "\n",
       "Okay, so compiling this info into a table makes sense. The columns will be Product ID, Name, Sun Protection (UPF), Fabric, Sleeve Style, Fit, and Special Features.\n",
       "\n",
       "Now, for each row:\n",
       "\n",
       "- For the Women's Tropical Tee: product 679, sleeveless, slightly fitted. Fabric details as above. Features include smoother buttons, wrinkle resistance, etc. I can mention some key features like pocket tabs and eyewear loop.\n",
       "\n",
       "- Sun Shield Shirt: product 255, same UPF, different fabric blend, sleeveless, slightly fitted. Additional features are moisture-wicking, fits over swimsuit, abrasion-resistant.\n",
       "\n",
       "- Men's Plaid Tropic: product 374, short sleeves, traditional fit, polyester/nylon. Features include pockets and venting.\n",
       "\n",
       "- Tropical Breeze: product 619, long-sleeve, traditional fit, same fabric as one of the other shirts. Features are wrinkle-resistant and moisture-wicking.\n",
       "\n",
       "I think this covers all four shirts. Now, just to make sure I haven't missed any key details. Each shirt has UPF 50+ and uses synthetic fabrics for sun protection. They differ in sleeve style (sleeveless, short, long) and fit. Special features vary but include things like pockets, venting, moisture-wicking, etc.\n",
       "\n",
       "So, structuring this into a table where each column holds the relevant info should answer the user's query effectively.\n",
       "</think>\n",
       "\n",
       "Here is a table listing all the shirts with sun protection, along with a summary of their key features:\n",
       "\n",
       "```markdown\n",
       "| Product ID | Name                          | Sun Protection (UPF) | Fabric Composition                               | Sleeve Style       | Fit             | Special Features                                                                 |\n",
       "|-----------:|-------------------------------|----------------------|-------------------------------------------------|-------------------|----------------|----------------------------------------------------------------------------------|\n",
       "| 679        | Women's Tropical Tee         | UPF 50+             | Shell: 71% nylon, 29% polyester; Lining: 100% polyester | Sleeveless          | Slightly Fitted | SunSmart™ technology, smoother buttons, wrinkle resistant, front/back Cape venting, tool tabs, eyewear loop.      |\n",
       "| 255        | Sun Shield Shirt             | UPF 50+             | Shell: 78% nylon, 22% Lycra Xtra Life fiber       | Sleeveless          | Slightly Fitted | Moisture-wicking, fits over swimsuit, abrasion-resistant.                                            |\n",
       "| 374        | Men's Plaid Tropic Shirt     | UPF 50+             | Shell: 52% polyester, 48% nylon                   | Short sleeve        | Traditional Fit | Front/back cape venting, two front bellows pockets, moisture-wicking, imported.                       |\n",
       "| 619        | Tropical Breeze Shirt        | UPF 50+             | Shell: 71% nylon, 29% polyester; Lining: 100% polyester, mesh inserts | Long sleeve         | Traditional Fit | Wrinkle-resistant, moisture-wicking, breathable.                                                      |\n",
       "```\n",
       "\n",
       "### Summary of Each Shirt:\n",
       "1. **Women's Tropical Tee** (Product ID 679):\n",
       "   - A sleeveless button-up shirt with UPF 50+ sun protection.\n",
       "   - Features a slightly fitted design, wrinkle resistance, and additional functional details like tool tabs and an eyewear loop.\n",
       "\n",
       "2. **Sun Shield Shirt** (Product ID 255):\n",
       "   - Another sleeveless option with UPF 50+ protection.\n",
       "   - Designed to be moisture-wicking and durable (abrasion-resistant), ideal for active use or layering over swimsuits.\n",
       "\n",
       "3. **Men's Plaid Tropic Shirt** (Product ID 374):\n",
       "   - A short-sleeve shirt with UPF 50+ protection in a traditional fit.\n",
       "   - Features front and back cape venting, two front bellows pockets, and moisture-wicking properties.\n",
       "\n",
       "4. **Tropical Breeze Shirt** (Product ID 619):\n",
       "   - A long-sleeve shirt with UPF 50+ protection, designed for breathability and comfort in warm weather.\n",
       "   - Features wrinkle-resistant fabric and moisture-wicking technology."
      ],
      "text/plain": [
       "<IPython.core.display.Markdown object>"
      ]
     },
     "metadata": {},
     "output_type": "display_data"
    }
   ],
   "source": [
    "display(Markdown(response))"
   ]
  },
  {
   "cell_type": "markdown",
   "id": "2534597e-4b0c-4563-a208-e2dd91064438",
   "metadata": {},
   "source": [
    "## Step By Step"
   ]
  },
  {
   "cell_type": "markdown",
   "id": "a8a495fb",
   "metadata": {},
   "source": [
    "上面我们用几行代码就实现了最基本的RAG功能，下面我们来详细看看内部发生了什么。"
   ]
  },
  {
   "cell_type": "code",
   "execution_count": 13,
   "id": "631396c6",
   "metadata": {},
   "outputs": [],
   "source": [
    "from langchain.document_loaders import CSVLoader\n",
    "loader = CSVLoader(file_path=file)"
   ]
  },
  {
   "cell_type": "code",
   "execution_count": 14,
   "id": "6c2164b5",
   "metadata": {},
   "outputs": [],
   "source": [
    "docs = loader.load()"
   ]
  },
  {
   "cell_type": "code",
   "execution_count": 15,
   "id": "4a977f44",
   "metadata": {},
   "outputs": [
    {
     "data": {
      "text/plain": [
       "Document(metadata={'source': 'OutdoorClothingCatalog_1000.csv', 'row': 0}, page_content=\": 0\\nname: Women's Campside Oxfords\\ndescription: This ultracomfortable lace-to-toe Oxford boasts a super-soft canvas, thick cushioning, and quality construction for a broken-in feel from the first time you put them on. \\n\\nSize & Fit: Order regular shoe size. For half sizes not offered, order up to next whole size. \\n\\nSpecs: Approx. weight: 1 lb.1 oz. per pair. \\n\\nConstruction: Soft canvas material for a broken-in feel and look. Comfortable EVA innersole with Cleansport NXT® antimicrobial odor control. Vintage hunt, fish and camping motif on innersole. Moderate arch contour of innersole. EVA foam midsole for cushioning and support. Chain-tread-inspired molded rubber outsole with modified chain-tread pattern. Imported. \\n\\nQuestions? Please contact us for any inquiries.\")"
      ]
     },
     "execution_count": 15,
     "metadata": {},
     "output_type": "execute_result"
    }
   ],
   "source": [
    "docs[0]"
   ]
  },
  {
   "cell_type": "code",
   "execution_count": 18,
   "id": "779bec75",
   "metadata": {},
   "outputs": [],
   "source": [
    "embed = embeddings.embed_query(\"Hi my name is Harrison\")"
   ]
  },
  {
   "cell_type": "code",
   "execution_count": 19,
   "id": "699aaaf9",
   "metadata": {},
   "outputs": [
    {
     "name": "stdout",
     "output_type": "stream",
     "text": [
      "768\n"
     ]
    }
   ],
   "source": [
    "print(len(embed))"
   ]
  },
  {
   "cell_type": "code",
   "execution_count": 20,
   "id": "9d00d346",
   "metadata": {},
   "outputs": [
    {
     "name": "stdout",
     "output_type": "stream",
     "text": [
      "[0.033366858959198, -0.004217786714434624, 0.005565309897065163, -0.0070280712097883224, 0.010666914284229279]\n"
     ]
    }
   ],
   "source": [
    "print(embed[:5])"
   ]
  },
  {
   "cell_type": "code",
   "execution_count": 21,
   "id": "27ad0bb0",
   "metadata": {},
   "outputs": [],
   "source": [
    "db = DocArrayInMemorySearch.from_documents(\n",
    "    docs, \n",
    "    embeddings\n",
    ")"
   ]
  },
  {
   "cell_type": "code",
   "execution_count": 22,
   "id": "0329bfd5",
   "metadata": {},
   "outputs": [],
   "source": [
    "query = \"Please suggest a shirt with sunblocking\""
   ]
  },
  {
   "cell_type": "code",
   "execution_count": 23,
   "id": "7909c6b7",
   "metadata": {},
   "outputs": [],
   "source": [
    "docs = db.similarity_search(query)"
   ]
  },
  {
   "cell_type": "code",
   "execution_count": 24,
   "id": "43321853",
   "metadata": {},
   "outputs": [
    {
     "data": {
      "text/plain": [
       "4"
      ]
     },
     "execution_count": 24,
     "metadata": {},
     "output_type": "execute_result"
    }
   ],
   "source": [
    "len(docs)"
   ]
  },
  {
   "cell_type": "code",
   "execution_count": 25,
   "id": "6eba90b5",
   "metadata": {},
   "outputs": [
    {
     "data": {
      "text/plain": [
       "Document(metadata={'source': 'OutdoorClothingCatalog_1000.csv', 'row': 255}, page_content=': 255\\nname: Sun Shield Shirt by\\ndescription: \"Block the sun, not the fun – our high-performance sun shirt is guaranteed to protect from harmful UV rays. \\n\\nSize & Fit: Slightly Fitted: Softly shapes the body. Falls at hip.\\n\\nFabric & Care: 78% nylon, 22% Lycra Xtra Life fiber. UPF 50+ rated – the highest rated sun protection possible. Handwash, line dry.\\n\\nAdditional Features: Wicks moisture for quick-drying comfort. Fits comfortably over your favorite swimsuit. Abrasion resistant for season after season of wear. Imported.\\n\\nSun Protection That Won\\'t Wear Off\\nOur high-performance fabric provides SPF 50+ sun protection, blocking 98% of the sun\\'s harmful rays. This fabric is recommended by The Skin Cancer Foundation as an effective UV protectant.')"
      ]
     },
     "execution_count": 25,
     "metadata": {},
     "output_type": "execute_result"
    }
   ],
   "source": [
    "docs[0]"
   ]
  },
  {
   "cell_type": "code",
   "execution_count": 26,
   "id": "c0c3596e",
   "metadata": {},
   "outputs": [],
   "source": [
    "retriever = db.as_retriever()"
   ]
  },
  {
   "cell_type": "code",
   "execution_count": 27,
   "id": "a573f58a",
   "metadata": {},
   "outputs": [],
   "source": [
    "qdocs = \"\".join([docs[i].page_content for i in range(len(docs))])\n"
   ]
  },
  {
   "cell_type": "code",
   "execution_count": 28,
   "id": "14682d95",
   "metadata": {},
   "outputs": [
    {
     "name": "stderr",
     "output_type": "stream",
     "text": [
      "/tmp/ipykernel_240605/2552755760.py:1: LangChainDeprecationWarning: The method `BaseChatModel.call_as_llm` was deprecated in langchain-core 0.1.7 and will be removed in 1.0. Use :meth:`~invoke` instead.\n",
      "  response = llm.call_as_llm(f\"{qdocs} Question: Please list all your \\\n"
     ]
    }
   ],
   "source": [
    "response = llm.call_as_llm(f\"{qdocs} Question: Please list all your \\\n",
    "shirts with sun protection in a table in markdown and summarize each one.\") \n"
   ]
  },
  {
   "cell_type": "code",
   "execution_count": 29,
   "id": "8bba545b",
   "metadata": {},
   "outputs": [
    {
     "data": {
      "text/markdown": [
       "<think>\n",
       "Alright, the user has provided several shirt descriptions, each with details about their features, composition, care instructions, etc. They want me to list all the shirts with sun protection in a table using Markdown and then summarize each one.\n",
       "\n",
       "First, I should go through each of the four shirt entries. Let me read them carefully.\n",
       "\n",
       "1. **Sun Shield Shirt by**: It mentions high-performance fabric with UPF 50+ from The Skin Cancer Foundation. It's made of 78% nylon and 22% Lycra Xtra Life, handwash required. Additional features include moisture-wicking, fits over swimsuits, abrasion-resistant, imported.\n",
       "\n",
       "2. **Women's Tropical Tee, Sleeveless**: This one has a five-star sleeveless design with a built-in SunSmart™ UPF 50+. Made of 71% nylon and 29% polyester shell, plus a polyester lining. Machine washable. Features include smoother buttons, wrinkle-resistant, pockets, venting, tool tabs, eyewear loop, imported.\n",
       "\n",
       "3. **Girls' Beachside Breeze Shirt, Half-Sleeve**: Designed for beach or watersports with UPF 50+. Made of 80% nylon and 20% Lycra Xtra Life, machine wash and line dry. Features: rash guard, snag- and fade-resistant, seawater-resistant, durable seams, imported.\n",
       "\n",
       "4. **Sunrise Tee**: Women's button down with UPF 50+ from SunSmart™. Made of lightweight synthetic (71% nylon and 29% polyester shell) with a polyester lining. Features: moisture-wicking, wrinkle-free, smoother buttons, two front pockets, tool tabs, eyewear loop. Machine washable.\n",
       "\n",
       "Now, for the table. I'll need columns: Name, Description, Fabric & Care, UPF Rating, Key Features, Importance of Protection.\n",
       "\n",
       "I should ensure each shirt is accurately represented, highlighting the sun protection aspects and other key features.\n",
       "\n",
       "Looking at UPF ratings: all have UPF 50+ except the Girls' one which also mentions blocking 98% of UV rays. I'll note that in the summary.\n",
       "\n",
       "The summaries need to be concise but comprehensive. For each shirt, I'll mention target audience (women or girls), purpose, fabric composition, sun protection details, key benefits like moisture-wicking, wrinkle resistance, any unique features like side shaping or tool tabs, and washing instructions.\n",
       "\n",
       "I should also note that all are imported except the Girls' which might not be? Wait, let me check: Sun Shield is imported, Women's Tropical is imported, Girls' is imported too, and Sunrise is imported. So all are imported.\n",
       "\n",
       "I think that's all. Now I'll structure this into a table, ensuring each point is covered, then provide the summary for each shirt.\n",
       "</think>\n",
       "\n",
       "Here is a table summarizing the shirts with sun protection, along with key details:\n",
       "\n",
       "| **Name**                        | **Description**                                                                                       | **Fabric & Care**                                      | **UPF Rating**          | **Key Features**                                                                                         |\n",
       "|---------------------------------|-------------------------------------------------------------------------------------------------------|------------------------------------------------------|------------------------|----------------------------------------------------------------------------------------------------------|\n",
       "| Sun Shield Shirt by             | High-performance sun shirt blocking harmful UV rays.                                                    | 78% nylon, 22% Lycra Xtra Life fiber. Handwash, line dry.      | UPF 50+              | Moisture-wicking, fits over swimsuits, abrasion-resistant, imported.                                     |\n",
       "| Women's Tropical Tee, Sleeveless| Five-star sleeveless button-up with SunSmart™ protection.                                               | Shell: 71% nylon, 29% polyester; lining: 100% polyester. Machine wash and dry.          | UPF 50+              | Smoother buttons, wrinkle-resistant, low-profile pockets, front and back venting, imported.               |\n",
       "| Girls' Beachside Breeze Shirt   | rash guard with extra coverage for watersports or beach days.                                           | 80% nylon, 20% Lycra Xtra Life. Machine wash, line dry.      | UPF 50+              | Durable, seawater-resistant, snag- and fade-resistant, imported.                                            |\n",
       "| Sunrise Tee                     | Lightweight UV-protective button-down shirt for hot days.                                               | Shell: 71% nylon, 29% polyester; lining: 100% polyester. Machine wash and dry.          | UPF 50+              | Wrinkle-free, moisture-wicking, smoother buttons, front and back venting, imported.                       |\n",
       "\n",
       "---\n",
       "\n",
       "### **Summary of Each Shirt**\n",
       "\n",
       "1. **Sun Shield Shirt by**  \n",
       "   - A high-performance sun shirt designed to block harmful UV rays with UPF 50+.  \n",
       "   - Made from durable 78% nylon and 22% Lycra Xtra Life fiber, it wicks moisture and fits comfortably over swimsuits.  \n",
       "   - Abrasion-resistant and imported.\n",
       "\n",
       "2. **Women's Tropical Tee, Sleeveless**  \n",
       "   - A stylish sleeveless button-up shirt with SunSmart™ UPF 50+ protection.  \n",
       "   - Constructed from a blend of nylon and polyester for wrinkle resistance and comfort.  \n",
       "   - Features include smoother buttons, low-profile pockets, and front/back venting for a flattering fit. Imported.\n",
       "\n",
       "3. **Girls' Beachside Breeze Shirt, Half-Sleeve**  \n",
       "   - A versatile rash guard designed for beach days or watersports with UPF 50+ protection.  \n",
       "   - Made from 80% nylon and 20% Lycra Xtra Life fiber, it is durable, seawater-resistant, and fade-resistant.  \n",
       "   - Designed to hold its shape and color while offering full sun protection.\n",
       "\n",
       "4. **Sunrise Tee**  \n",
       "   - A lightweight, UV-protective button-down shirt for hot days with UPF 50+.  \n",
       "   - Made from a blend of nylon and polyester for a smooth, wrinkle-free finish.  \n",
       "   - Features moisture-wicking properties, smoother buttons, and front/back venting for breathability. Imported.\n",
       "\n",
       "Each shirt offers excellent sun protection with additional features tailored to specific needs, such as durability, comfort, or style."
      ],
      "text/plain": [
       "<IPython.core.display.Markdown object>"
      ]
     },
     "metadata": {},
     "output_type": "display_data"
    }
   ],
   "source": [
    "display(Markdown(response))"
   ]
  },
  {
   "cell_type": "code",
   "execution_count": 30,
   "id": "32c94d22",
   "metadata": {},
   "outputs": [],
   "source": [
    "qa_stuff = RetrievalQA.from_chain_type(\n",
    "    llm=llm, \n",
    "    chain_type=\"stuff\", \n",
    "    retriever=retriever, \n",
    "    verbose=True\n",
    ")"
   ]
  },
  {
   "cell_type": "code",
   "execution_count": 31,
   "id": "e4769316",
   "metadata": {},
   "outputs": [],
   "source": [
    "query =  \"Please list all your shirts with sun protection in a table \\\n",
    "in markdown and summarize each one.\""
   ]
  },
  {
   "cell_type": "code",
   "execution_count": 32,
   "id": "1fc3c2f3",
   "metadata": {},
   "outputs": [
    {
     "name": "stderr",
     "output_type": "stream",
     "text": [
      "/tmp/ipykernel_240605/3485144879.py:1: LangChainDeprecationWarning: The method `Chain.run` was deprecated in langchain 0.1.0 and will be removed in 1.0. Use :meth:`~invoke` instead.\n",
      "  response = qa_stuff.run(query)\n"
     ]
    },
    {
     "name": "stdout",
     "output_type": "stream",
     "text": [
      "\n",
      "\n",
      "\u001b[1m> Entering new RetrievalQA chain...\u001b[0m\n",
      "\n",
      "\u001b[1m> Finished chain.\u001b[0m\n"
     ]
    }
   ],
   "source": [
    "response = qa_stuff.run(query)"
   ]
  },
  {
   "cell_type": "code",
   "execution_count": 33,
   "id": "fba1a5db",
   "metadata": {},
   "outputs": [
    {
     "data": {
      "text/markdown": [
       "<think>\n",
       "Okay, so I need to help the user by listing all their shirts that have sun protection in a table using markdown and then summarizing each one. Let me see how to approach this.\n",
       "\n",
       "First, looking at the context provided, there are four entries: 679, 709, 255, and 619. Each of these has information about their names, descriptions, sizes, fabrics, care instructions, additional features, and sun protection details. \n",
       "\n",
       "I'll start by compiling each shirt's details for the table. The table should include columns like Product Code, Name, Key Features, Sun Protection, Fabric & Care, and Size & Fit.\n",
       "\n",
       "For product 679: Women's Tropical Tee, Sleeveless. It has UPF 50+ protection from its shell fabric of nylon and polyester with a polyester lining. It's machine washable. The size is Slightly Fitted, falls at hip. Additional features include smoother buttons, wrinkle resistance, venting, pockets, etc.\n",
       "\n",
       "Product 709: Sunrise Tee. Also UPF 50+, same fabric as the first one. This shirt is designed to be lightweight and moisture-wicking, beat the heat, good for fishing or travel. It's slightly fitted, falls at hip.\n",
       "\n",
       "Product 255: Sun Shield Shirt by... Wait, the name says 'Sun Shield shirt by' but it's cut off. Probably a brand name missing. The fabric here is different; 78% nylon and 22% Lycra Xtra Life. It needs hand washing. Features include moisture-wicking, can be worn over swimsuits, abrasion resistant.\n",
       "\n",
       "Product 619: Tropical Breeze Shirt (men’s). Long-sleeve for men, UPF 50+. Traditional fit, relaxed. It's breathable and good for outdoor activities like fishing or travel. The fabric is similar to the first two, with mesh inserts for breathability. Machine washable.\n",
       "\n",
       "Now, putting all this into a markdown table seems straightforward. I'll structure it with each product as a row, listing its details across each column.\n",
       "\n",
       "After the table, summarizing each shirt would involve highlighting their unique features and uses. For example, the Women's Tropical Tee is sleeveless and good for general use, while the Sunrise Tee is light and great for travel. The Sun Shield Shirt is more sporty with Lycra, and the Tropical Breeze is specifically for men with a relaxed fit.\n",
       "\n",
       "I should make sure that each summary is concise but informative, capturing what makes each shirt special beyond just having sun protection.\n",
       "</think>\n",
       "\n",
       "Here is a detailed presentation of the shirts with sun protection, including a markdown table and summaries:\n",
       "\n",
       "| Product Code | Name                       | Key Features                                      | Sun Protection       | Fabric & Care                             | Size & Fit    |\n",
       "|--------------|----------------------------|--------------------------------------------------|----------------------|-------------------------------------------|---------------|\n",
       "| 679          | Women's Tropical Tee, Sleeveless | Slightly fitted, UPF 50+, moisture-wicking      | UPF 50+             | Shell: nylon/polyester, lining: polyester | Slightly Fitted |\n",
       "| 709          | Sunrise Tee                | Lightweight, wrinkle-free, moisture-wicking     | UPF 50+             | Same as above                             | Slightly Fitted |\n",
       "| 255          | Sun Shield Shirt           | Moisture-wicking, fits over swimsuit            | SPF 50+, UPF 50+    | Nylon/Lycra Xtra Life               | Slightly Fitted     |\n",
       "| 619          | Tropical Breeze Shirt      | Long-sleeve, breathability, mesh inserts        | UPF 50+             | nylon/polyester, mesh inserts           | Traditional Fit   |\n",
       "\n",
       "### Summaries:\n",
       "\n",
       "1. **Women's Tropical Tee, Sleeveless (Product 679)**: Ideal for general outdoor use, this sleeveless shirt offers UPF 50+ protection with a flattering fit. It's designed to keep you cool and protected.\n",
       "\n",
       "2. **Sunrise Tee (Product 709)**: A lightweight option perfect for travel or sports like fishing. It combines sun protection with moisture-wicking properties for comfort in hot weather.\n",
       "\n",
       "3. **Sun Shield Shirt (Product 255)**: Designed for active wear, this shirt can be worn over swimsuits and offers durable SPF 50+ protection. Its combination of nylon and Lycra ensures performance and comfort.\n",
       "\n",
       "4. **Tropical Breeze Shirt (Product 619)**: Tailored for men with a relaxed fit, this long-sleeve shirt provides UPF 50+ protection and is ideal for outdoor activities requiring breathability and ease of movement.\n",
       "\n",
       "Each shirt is crafted to offer superior sun protection while addressing specific needs, whether it's comfort, style, or performance."
      ],
      "text/plain": [
       "<IPython.core.display.Markdown object>"
      ]
     },
     "metadata": {},
     "output_type": "display_data"
    }
   ],
   "source": [
    "display(Markdown(response))"
   ]
  },
  {
   "cell_type": "code",
   "execution_count": 34,
   "id": "500ec062",
   "metadata": {},
   "outputs": [],
   "source": [
    "response = index.query(query, llm=llm)"
   ]
  },
  {
   "cell_type": "code",
   "execution_count": 35,
   "id": "2cffb19f",
   "metadata": {},
   "outputs": [],
   "source": [
    "index = VectorstoreIndexCreator(\n",
    "    vectorstore_cls=DocArrayInMemorySearch,\n",
    "    embedding=embeddings,\n",
    ").from_loaders([loader])"
   ]
  }
 ],
 "metadata": {
  "kernelspec": {
   "display_name": "yolo",
   "language": "python",
   "name": "python3"
  },
  "language_info": {
   "codemirror_mode": {
    "name": "ipython",
    "version": 3
   },
   "file_extension": ".py",
   "mimetype": "text/x-python",
   "name": "python",
   "nbconvert_exporter": "python",
   "pygments_lexer": "ipython3",
   "version": "3.10.16"
  }
 },
 "nbformat": 4,
 "nbformat_minor": 5
}
