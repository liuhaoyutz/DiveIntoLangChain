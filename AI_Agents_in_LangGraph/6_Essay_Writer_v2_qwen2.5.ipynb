{
 "cells": [
  {
   "cell_type": "markdown",
   "id": "911b3b37-3b29-4833-94f2-bfe47af00c83",
   "metadata": {},
   "source": [
    "# Lesson 6: Essay Writer"
   ]
  },
  {
   "cell_type": "code",
   "execution_count": 1,
   "id": "d0168aee-bce9-4d60-b827-f86a88187e31",
   "metadata": {
    "height": 147
   },
   "outputs": [],
   "source": [
    "from langgraph.graph import StateGraph, END\n",
    "from typing import TypedDict, Annotated, List\n",
    "import operator\n",
    "from langgraph.checkpoint.sqlite import SqliteSaver\n",
    "from langchain_core.messages import AnyMessage, SystemMessage, HumanMessage, AIMessage, ChatMessage\n",
    "from langgraph.checkpoint.memory import MemorySaver\n",
    "memory = MemorySaver()\n",
    "#memory = SqliteSaver.from_conn_string(\":memory:\")"
   ]
  },
  {
   "cell_type": "code",
   "execution_count": 2,
   "id": "905ae7c4",
   "metadata": {},
   "outputs": [],
   "source": [
    "import getpass\n",
    "import os\n",
    "\n",
    "def _set_env(var: str):\n",
    "    if not os.environ.get(var):\n",
    "        os.environ[var]=getpass.getpass(f\"{var}: \")\n",
    "\n",
    "_set_env(\"TAVILY_API_KEY\")"
   ]
  },
  {
   "cell_type": "code",
   "execution_count": 3,
   "id": "2589c5b6-6cc2-4594-9a17-dccdcf676054",
   "metadata": {
    "height": 149
   },
   "outputs": [],
   "source": [
    "# 相比之前，我们的AgentState要复杂一些，我们想跟踪如下信息：\n",
    "# task, 代表用户输入，要求写一篇关于什么的论文。\n",
    "# plan, 规划Agent将生成什么。\n",
    "# draft, 保存生成的论文草稿。\n",
    "# critique, 对论文草案的改进意见。\n",
    "# content，保存Tavily搜索到的与plan或critique相关的信息，注意，content的内容是具体的信息，而不是网址链接。\n",
    "# revision_number，保存已经进行多少次修订。\n",
    "# max_revisions，保存我们最多允许进行多少次修订。\n",
    "\n",
    "# plan_node用来生成论文大纲，更新plan键值。\n",
    "# research_plan_node和research_critique_node通过调用Tavily工具查找论文大纲(plan)或改进意见(critique)相关资料，更新content键值。\n",
    "# generation_node用来生成论文草稿，更新draft和revision_number这2个键值。\n",
    "# reflection_node针对论文草稿生成改进意见，更新critique键值。\n",
    "# 每次graph运行时，会传入用户要求写哪方面的论文，即task，更新task键值。同时也会初始化max_revisions和revision_number键值。\n",
    "\n",
    "class AgentState(TypedDict):\n",
    "    task: str\n",
    "    plan: str\n",
    "    draft: str\n",
    "    critique: str\n",
    "    content: List[str]\n",
    "    revision_number: int\n",
    "    max_revisions: int"
   ]
  },
  {
   "cell_type": "code",
   "execution_count": 4,
   "id": "a2ba84ec-c172-4de7-ac55-e3158a531b23",
   "metadata": {
    "height": 47
   },
   "outputs": [],
   "source": [
    "#from langchain_openai import ChatOpenAI\n",
    "#model = ChatOpenAI(model=\"gpt-3.5-turbo\", temperature=0)\n",
    "\n",
    "from langchain_openai.chat_models import ChatOpenAI\n",
    "\n",
    "model = ChatOpenAI(\n",
    "    model_name='qwen2.5:32b',\n",
    "    openai_api_base=\"http://127.0.0.1:11434/v1\",\n",
    "    openai_api_key=\"EMPTY\",\n",
    "    streaming=True\n",
    ")"
   ]
  },
  {
   "cell_type": "markdown",
   "id": "d7002ab7",
   "metadata": {},
   "source": [
    "论文规划提示词：你是一位专业作家，任务是为一篇论文撰写高级别大纲。根据用户提供的主题，写出这样的大纲。提供论文的大纲以及各部分的相关说明或指示。"
   ]
  },
  {
   "cell_type": "code",
   "execution_count": 5,
   "id": "876d5092-b8ef-4e38-b4d7-0e80c609bf7a",
   "metadata": {
    "height": 79
   },
   "outputs": [],
   "source": [
    "PLAN_PROMPT = \"\"\"You are an expert writer tasked with writing a high level outline of an essay. \\\n",
    "Write such an outline for the user provided topic. Give an outline of the essay along with any relevant notes \\\n",
    "or instructions for the sections.\"\"\""
   ]
  },
  {
   "cell_type": "markdown",
   "id": "cb4a0664",
   "metadata": {},
   "source": [
    "论文写作提示词：你是一位论文助手，任务是撰写优秀的五段式论文。根据用户的请求和初始大纲，生成尽可能好的论文。如果用户提供批评意见，请回复按意见修订的版本。根据需要利用所有以下信息：{content}"
   ]
  },
  {
   "cell_type": "code",
   "execution_count": 6,
   "id": "10084a02-2928-4945-9f7c-ad3f5b33caf7",
   "metadata": {
    "height": 164
   },
   "outputs": [],
   "source": [
    "WRITER_PROMPT = \"\"\"You are an essay assistant tasked with writing excellent 5-paragraph essays.\\\n",
    "Generate the best essay possible for the user's request and the initial outline. \\\n",
    "If the user provides critique, respond with a revised version of your previous attempts. \\\n",
    "Utilize all the information below as needed: \n",
    "\n",
    "------\n",
    "\n",
    "{content}\"\"\""
   ]
  },
  {
   "cell_type": "markdown",
   "id": "a0c2e3b9",
   "metadata": {},
   "source": [
    "论文评价提示词：你是一位老师，负责批改一篇论文提交。请为该论文提供评价和改进建议。你的反馈应包含详细的建议，涉及论文的长度、深度、风格等方面的要求。"
   ]
  },
  {
   "cell_type": "code",
   "execution_count": 7,
   "id": "714d1205-f8fc-4912-b148-2a45da99219c",
   "metadata": {
    "height": 79
   },
   "outputs": [],
   "source": [
    "REFLECTION_PROMPT = \"\"\"You are a teacher grading an essay submission. \\\n",
    "Generate critique and recommendations for the user's submission. \\\n",
    "Provide detailed recommendations, including requests for length, depth, style, etc.\"\"\""
   ]
  },
  {
   "cell_type": "markdown",
   "id": "f3473ee1",
   "metadata": {},
   "source": [
    "对论文plan进行研究（通过Tavily搜索）提示词：你是一位研究人员，负责提供可用于撰写以下论文的信息。生成一份搜索查询列表，以供（Tavily）使用，搜索所有相关信息。最多只生成3个查询。"
   ]
  },
  {
   "cell_type": "code",
   "execution_count": 8,
   "id": "83588e70-254f-4f83-a510-c8ae81e729b0",
   "metadata": {
    "height": 96
   },
   "outputs": [],
   "source": [
    "RESEARCH_PLAN_PROMPT = \"\"\"You are a researcher charged with providing information that can \\\n",
    "be used when writing the following essay. Generate a list of search queries that will gather \\\n",
    "any relevant information. Only generate 3 queries max.\"\"\"\n"
   ]
  },
  {
   "cell_type": "markdown",
   "id": "17b8db97",
   "metadata": {},
   "source": [
    "对论文改进意见进行研究（通过Tavily搜索）提示词：你是一位研究人员，负责提供可用于进行任何要求的修订（如以下大纲所述）的信息。生成一份搜索查询列表，供（Tavily）使用，以搜索所有相关信息。最多只生成3个查询。"
   ]
  },
  {
   "cell_type": "code",
   "execution_count": 9,
   "id": "6cb3ef4c-58b3-401b-b104-0d51e553d982",
   "metadata": {
    "height": 96
   },
   "outputs": [],
   "source": [
    "RESEARCH_CRITIQUE_PROMPT = \"\"\"You are a researcher charged with providing information that can \\\n",
    "be used when making any requested revisions (as outlined below). \\\n",
    "Generate a list of search queries that will gather any relevant information. Only generate 3 queries max.\"\"\"\n"
   ]
  },
  {
   "cell_type": "markdown",
   "id": "59a12eed",
   "metadata": {},
   "source": [
    "research plan或者research critique（通过LLM）将生成要搜索的内容的列表，传递给Tavily进行搜索，为此，我们将使用function call，确保我们从LLM得到一个搜索列表。所以，我们使用Pydantic定义Queries类，确保我们从LLM得到的回复是字符串列表，好搜索列表。"
   ]
  },
  {
   "cell_type": "code",
   "execution_count": 10,
   "id": "dc3293b7-a50c-43c8-a022-8975e1e444b8",
   "metadata": {
    "height": 81
   },
   "outputs": [
    {
     "name": "stderr",
     "output_type": "stream",
     "text": [
      "/home/haoyu/anaconda3/envs/yolo/lib/python3.10/site-packages/IPython/core/interactiveshell.py:3579: LangChainDeprecationWarning: As of langchain-core 0.3.0, LangChain uses pydantic v2 internally. The langchain_core.pydantic_v1 module was a compatibility shim for pydantic v1, and should no longer be used. Please update the code to import from Pydantic directly.\n",
      "\n",
      "For example, replace imports like: `from langchain_core.pydantic_v1 import BaseModel`\n",
      "with: `from pydantic import BaseModel`\n",
      "or the v1 compatibility namespace if you are working in a code base that has not been fully upgraded to pydantic 2 yet. \tfrom pydantic.v1 import BaseModel\n",
      "\n",
      "  exec(code_obj, self.user_global_ns, self.user_ns)\n"
     ]
    }
   ],
   "source": [
    "from langchain_core.pydantic_v1 import BaseModel\n",
    "\n",
    "class Queries(BaseModel):\n",
    "    queries: List[str]"
   ]
  },
  {
   "cell_type": "code",
   "execution_count": 11,
   "id": "0722c3d4-4cbf-43bf-81b0-50f634c4ce61",
   "metadata": {
    "height": 64
   },
   "outputs": [],
   "source": [
    "from tavily import TavilyClient\n",
    "import os\n",
    "tavily = TavilyClient(api_key=os.environ[\"TAVILY_API_KEY\"])"
   ]
  },
  {
   "cell_type": "markdown",
   "id": "d5ac60f4",
   "metadata": {},
   "source": [
    "现在，我们开始创建所有不同的node，每个node也可以称为是一个Agent。  \n",
    "\n",
    "首先是plan node（或plan Agent）："
   ]
  },
  {
   "cell_type": "code",
   "execution_count": 12,
   "id": "6b2f82fe-3ec4-4917-be51-9fb10d1317fa",
   "metadata": {
    "height": 132
   },
   "outputs": [],
   "source": [
    "# plan node（或plan Agent）要做的是接收state，创建一个消息列表。其中SystemMessage是plan prompt，HumanMessage是task，即要写关于哪方面的论文。\n",
    "# 将消息列表传递给LLM，得到的response.content将作为plan返回。注意，这将会更新state的\"plan\"键值。\n",
    "def plan_node(state: AgentState):\n",
    "    # 创建一个消息列表，SystemMessage是PLAN_PROMPT，HumanMessage是\"task\"，即要生成关于哪方面的论文。\n",
    "    messages = [\n",
    "        SystemMessage(content=PLAN_PROMPT), \n",
    "        HumanMessage(content=state['task'])\n",
    "    ]\n",
    "\n",
    "    # 将消息列表传递给LLM，返回的response.content即LLM生成的论文写作plan。\n",
    "    response = model.invoke(messages)\n",
    "\n",
    "    # 更新state “plan\"键值。\n",
    "    return {\"plan\": response.content}"
   ]
  },
  {
   "cell_type": "code",
   "execution_count": 13,
   "id": "ee0fe1c7-77e2-499c-a2f9-1f739bb6ddf0",
   "metadata": {
    "height": 200
   },
   "outputs": [],
   "source": [
    "# research plan node（或Agent）接收state，通过给model传递RESEARCH_PLAN_PROMPT和task，生成queries。\n",
    "# 然后取得当前state的content，即参考内容。\n",
    "# 然后对于每一个query，调用Tavily工具搜索，将搜索得到的参考内容追加到content中。\n",
    "# 最后返回content，即参考文档列表。注意，这将更新state的\"content\"键值。\n",
    "def research_plan_node(state: AgentState):\n",
    "\n",
    "    # 创建包含RESEARCH_PLAN_PROMPT和\"task\"的消息列表，传递给LLM，LLM生成针对task的搜索queries。\n",
    "    queries = model.with_structured_output(Queries).invoke([\n",
    "        SystemMessage(content=RESEARCH_PLAN_PROMPT),\n",
    "        HumanMessage(content=state['task'])\n",
    "    ])\n",
    "\n",
    "    # 取得当前已有的state \"content\"，赋值给content\n",
    "    #content = state['content'] or []\n",
    "    content = state.get('content', []) or []\n",
    "\n",
    "    # 针对每一个query，使用Tavily进行搜索，得到的内容追加到content中。\n",
    "    for q in queries.queries:\n",
    "        response = tavily.search(query=q, max_results=2)\n",
    "        for r in response['results']:\n",
    "            content.append(r['content'])\n",
    "\n",
    "    # 更新state \"content\"键值。\n",
    "    return {\"content\": content}"
   ]
  },
  {
   "cell_type": "markdown",
   "id": "395e42e5",
   "metadata": {},
   "source": [
    "前面我们制定了一个plan，进行了一些research，现在可以写第一稿了："
   ]
  },
  {
   "cell_type": "code",
   "execution_count": 14,
   "id": "98f303b1-a4d0-408c-8cc0-515ff980717f",
   "metadata": {
    "height": 285
   },
   "outputs": [],
   "source": [
    "def generation_node(state: AgentState):\n",
    "    content = \"\\n\\n\".join(state['content'] or [])  # 将所有state['content']连接在一起（注意，'content'是具体内容，而不是网址链接），保存在content变量中。\n",
    "\n",
    "    # 创建用户输入，包括了\"task\"（要写关于哪方面的论文） 和\"plan\"（论文写作大纲），\n",
    "    user_message = HumanMessage(\n",
    "        content=f\"{state['task']}\\n\\nHere is my plan:\\n\\n{state['plan']}\")\n",
    "\n",
    "    # 创建消息列表messages，其中SystemMessage是WRITER_PROMPT（包括research_plan_node通过Tavily搜索得到的相关资料）。\n",
    "    # HumanMessage就是上面创建的user_message，包括\"task\"和\"plan\"。\n",
    "    messages = [\n",
    "        SystemMessage(\n",
    "            content=WRITER_PROMPT.format(content=content)\n",
    "        ),\n",
    "        user_message\n",
    "        ]\n",
    "    \n",
    "    # 将消息列表传递给LLM，得到的response.content就是LLM根据messages中的消息生成的论文草稿\n",
    "    response = model.invoke(messages)\n",
    "\n",
    "    # 更新state的\"draft\"和\"revision_number\"键值。\n",
    "    return {\n",
    "        \"draft\": response.content, \n",
    "        \"revision_number\": state.get(\"revision_number\", 1) + 1\n",
    "    }\n"
   ]
  },
  {
   "cell_type": "markdown",
   "id": "5f8593ca",
   "metadata": {},
   "source": [
    "生成了论文草稿之后，我们需要对论文进行反思，生成对论文草稿的改进意见："
   ]
  },
  {
   "cell_type": "code",
   "execution_count": 15,
   "id": "bf4dcb93-6298-4cfd-b3ce-61dfac7fb35f",
   "metadata": {
    "height": 132
   },
   "outputs": [],
   "source": [
    "# reflection node对论文草稿进行反思，提出改进意见\n",
    "def reflection_node(state: AgentState):\n",
    "    # 创建消息列表，SystemMessage是反思提示词，HumanMessage是论文草稿。\n",
    "    messages = [\n",
    "        SystemMessage(content=REFLECTION_PROMPT), \n",
    "        HumanMessage(content=state['draft'])\n",
    "    ]\n",
    "\n",
    "    # 将消息列表传递给LLM，得到的response.content即LLM对论文草稿的改进意见。\n",
    "    response = model.invoke(messages)\n",
    "\n",
    "    # 更新state的\"critique\"键值。\n",
    "    return {\"critique\": response.content}"
   ]
  },
  {
   "cell_type": "code",
   "execution_count": 16,
   "id": "932883a4-c722-42bb-aec0-b4f41c5c81a4",
   "metadata": {
    "height": 200
   },
   "outputs": [],
   "source": [
    "# research critique节点（或Agent）用于对改进意见进行研究，所以它和research plan node做的事情很类似。\n",
    "def research_critique_node(state: AgentState):\n",
    "\n",
    "    # 将改进意见和对应的RESEARCH_CRITIQUE_PROMPT传递给LLM，得到要做哪些queries。\n",
    "    queries = model.with_structured_output(Queries).invoke([\n",
    "        SystemMessage(content=RESEARCH_CRITIQUE_PROMPT),\n",
    "        HumanMessage(content=state['critique'])\n",
    "    ])\n",
    "\n",
    "    # 取得当前state['content']，赋值给content变量\n",
    "    # content = state['content'] or []\n",
    "    content = state.get('content', []) or []\n",
    "\n",
    "    # 针对每一条query，调用Tavily工具查询，查询结果追加到content中。\n",
    "    for q in queries.queries:\n",
    "        response = tavily.search(query=q, max_results=2)\n",
    "        for r in response['results']:\n",
    "            content.append(r['content'])\n",
    "\n",
    "    # 更新state \"content\"键值。\n",
    "    return {\"content\": content}"
   ]
  },
  {
   "cell_type": "markdown",
   "id": "99ad18a1",
   "metadata": {},
   "source": [
    "我们还需要一个判断是否继续改进的函数should_continue。这个函数在generation_node后执行，所以generation_node后，要么END，表示得到论文终稿，要么继续对草稿提出改进意见，再按改进意见查询修改。"
   ]
  },
  {
   "cell_type": "code",
   "execution_count": 17,
   "id": "ff362f49-dcf1-4ea1-a86c-e516e9ab897d",
   "metadata": {
    "height": 81
   },
   "outputs": [],
   "source": [
    "def should_continue(state):\n",
    "    if state[\"revision_number\"] > state[\"max_revisions\"]:\n",
    "        return END\n",
    "    return \"reflect\""
   ]
  },
  {
   "cell_type": "markdown",
   "id": "f41697e9",
   "metadata": {},
   "source": [
    "我们定义了所有需要的node（或称Agent）以及条件，现在我们可以把它们组合成graph了："
   ]
  },
  {
   "cell_type": "code",
   "execution_count": 18,
   "id": "a7e15a20-83d7-434c-8551-bce8dcc32be0",
   "metadata": {
    "height": 30
   },
   "outputs": [],
   "source": [
    "# 创建graph\n",
    "builder = StateGraph(AgentState)"
   ]
  },
  {
   "cell_type": "code",
   "execution_count": 19,
   "id": "54ab2c74-f32e-490c-a85d-932d11444210",
   "metadata": {
    "height": 98
   },
   "outputs": [
    {
     "data": {
      "text/plain": [
       "<langgraph.graph.state.StateGraph at 0x7939d9eeb910>"
      ]
     },
     "execution_count": 19,
     "metadata": {},
     "output_type": "execute_result"
    }
   ],
   "source": [
    "# 添加节点（或者说添加Agent，每个节点都是一个Agent，用于完成自己的功能）\n",
    "builder.add_node(\"planner\", plan_node)\n",
    "builder.add_node(\"generate\", generation_node)\n",
    "builder.add_node(\"reflect\", reflection_node)\n",
    "builder.add_node(\"research_plan\", research_plan_node)\n",
    "builder.add_node(\"research_critique\", research_critique_node)"
   ]
  },
  {
   "cell_type": "code",
   "execution_count": 20,
   "id": "a833d3ce-bd31-4319-811d-decff226b970",
   "metadata": {
    "height": 30
   },
   "outputs": [
    {
     "data": {
      "text/plain": [
       "<langgraph.graph.state.StateGraph at 0x7939d9eeb910>"
      ]
     },
     "execution_count": 20,
     "metadata": {},
     "output_type": "execute_result"
    }
   ],
   "source": [
    "# 指定入口节点\n",
    "builder.set_entry_point(\"planner\")"
   ]
  },
  {
   "cell_type": "code",
   "execution_count": 21,
   "id": "76e93cce-6eab-4c7c-ac64-e9993fdb30d6",
   "metadata": {
    "height": 115
   },
   "outputs": [
    {
     "data": {
      "text/plain": [
       "<langgraph.graph.state.StateGraph at 0x7939d9eeb910>"
      ]
     },
     "execution_count": 21,
     "metadata": {},
     "output_type": "execute_result"
    }
   ],
   "source": [
    "# 添加条件边，生成论文草稿后，是继续修改还是作为终稿结束。\n",
    "builder.add_conditional_edges(\n",
    "    \"generate\", \n",
    "    should_continue, \n",
    "    {END: END, \"reflect\": \"reflect\"}\n",
    ")\n"
   ]
  },
  {
   "cell_type": "code",
   "execution_count": 22,
   "id": "fd2d0990-a932-423f-9ff3-5cada58c5f32",
   "metadata": {
    "height": 98
   },
   "outputs": [
    {
     "data": {
      "text/plain": [
       "<langgraph.graph.state.StateGraph at 0x7939d9eeb910>"
      ]
     },
     "execution_count": 22,
     "metadata": {},
     "output_type": "execute_result"
    }
   ],
   "source": [
    "# 添加普通边\n",
    "builder.add_edge(\"planner\", \"research_plan\")\n",
    "builder.add_edge(\"research_plan\", \"generate\")\n",
    "\n",
    "builder.add_edge(\"reflect\", \"research_critique\")\n",
    "builder.add_edge(\"research_critique\", \"generate\")"
   ]
  },
  {
   "cell_type": "code",
   "execution_count": 23,
   "id": "27cde654-64e2-48bc-80a9-0ed668ccb7dc",
   "metadata": {
    "height": 30
   },
   "outputs": [],
   "source": [
    "# 编译graph，编译完成后graph就是一个runnable，支持invoke, stream, batch等接口。\n",
    "graph = builder.compile(checkpointer=memory)"
   ]
  },
  {
   "cell_type": "code",
   "execution_count": 24,
   "id": "4871f644-b131-4065-b7ce-b82c20a41f11",
   "metadata": {
    "height": 64
   },
   "outputs": [
    {
     "data": {
      "image/png": "[encoded data removed]",
      "text/plain": [
       "<IPython.core.display.Image object>"
      ]
     },
     "execution_count": 24,
     "metadata": {},
     "output_type": "execute_result"
    }
   ],
   "source": [
    "from IPython.display import Image\n",
    "\n",
    "Image(graph.get_graph().draw_png())"
   ]
  },
  {
   "cell_type": "code",
   "execution_count": 25,
   "id": "98f3be1d-cc4c-41fa-9863-3e386e88e305",
   "metadata": {
    "height": 132
   },
   "outputs": [
    {
     "name": "stdout",
     "output_type": "stream",
     "text": [
      "{'planner': {'plan': '题目：如何根据Qwen2.5大型语言模型进行Agent开发\\n\\n**I. 引言**\\n   - A. 介绍Qwen2.5模型的核心特点和优势。\\n   - B. 概述Agent的概念及其在智能系统中的应用。\\n   - C. 提出研究的目的与意义：探讨基于Qwen2.5的Agent开发框架。\\n\\n**II. Qwen2.5综述**\\n   - A. 技术背景说明：描述Qwen2.5大模型的基础构成和工作机制。\\n   - B. 能力概述：总结该模型在自然语言处理上的高级能力和适用范围，如文本生成、语义理解等。\\n\\n**III. Agent设计原则与方法论**\\n   - A. 定义目标用户群体及应用场景。\\n   - B. 设计Agent架构的基本框架和组成部分（感知模块、决策模块、执行模块）。\\n   - C. 讨论选择Qwen2.5作为核心引擎的原因及其在各模块中的应用方式。\\n\\n**IV. Agent开发流程**\\n   - A. 需求分析：明确用户需求，定义Agent所要承担的任务和角色。\\n   - B. 设计与实现：\\n      1. 利用Qwen2.5的API进行编程接口绑定\\n      2. 模型微调和定制化开发以优化特定功能或性能\\n      3. 编写逻辑代码处理Agent工作流程。\\n   - C. 测试与验证：通过多种情境下的测试来确保Agent的行为符合预期并与Qwen2.5的输出保持一致。\\n\\n**V. 应用示例**\\n   - A. 创造一个具体的使用场景作为示例说明，比如虚拟助手或者对话系统。\\n   - B. 描述在这个案例中如何将Qwen2.5的功能优势发挥到极致，并详细列出技术细节和实现步骤。\\n\\n**VI. 挑战和未来方向**\\n   - A. 讨论在基于Qwen2.5的Agent开发过程中可能遇到的问题，如数据隐私、模型偏倚和技术成熟度等。\\n   - B. 探讨改进方法与技术展望，即为解决现有问题以及进一步优化或扩展功能而提出可能的技术创新方向。\\n\\n**VII. 结论**\\n   - A. 重申本文的主要观点和贡献\\n   - B. 强调Qwen2.5在Agent开发中的潜力及未来应用前景\\n\\n注：每个部分都应围绕如何利用Qwen2.5的能力来增强或创建Agent而撰写，通过清晰的步骤或逻辑解释技术实施的细节。'}}\n",
      "--------------------------------------------------------------\n"
     ]
    },
    {
     "name": "stderr",
     "output_type": "stream",
     "text": [
      "/home/haoyu/anaconda3/envs/yolo/lib/python3.10/site-packages/langchain_openai/chat_models/base.py:1377: UserWarning: Received a Pydantic BaseModel V1 schema. This is not supported by method=\"json_schema\". Please use method=\"function_calling\" or specify schema via JSON Schema or Pydantic V2 BaseModel. Overriding to method=\"function_calling\".\n",
      "  warnings.warn(\n"
     ]
    },
    {
     "name": "stdout",
     "output_type": "stream",
     "text": [
      "{'research_plan': {'content': ['文章浏览阅读3.3k次，点赞15次，收藏8次。通过本教程，你已经学会了如何本地部署 Qwen-2.5 模型，并构建一个智能 Agent。如果你在实际操作中遇到问题，欢迎留言与我们互动!😊。_qwen2.5-vl本地部署', 'Qwen-Agent：基于Qwen 2.5模型的智能Agent构建与应用-阿里云开发者社区 开发者社区 人工智能 文章 正文 Qwen-Agent：基于Qwen 2.5模型的智能Agent构建与应用 简介： Qwen-Agent：基于Qwen 2.5模型的智能Agent构建与应用 Qwen-Agent的主要特点： • 任务驱动的自动化：Qwen 2.5可以基于用户输入的需求自动执行任务，如查询信息、调度资源等。 • 上下文理解与多轮对话：Qwen 2.5能够理解用户的上下文语境，进行多轮对话，并保持连续性与一致性。 • 跨领域应用能力：无论是客户服务、知识管理、智能助手，Qwen 2.5都能支持不同领域的智能Agent应用。 Qwen 2.5模型具备强大的生成能力和深度理解能力，可以在多个智能Agent应用场景中提供高效支持。常见的应用场景包括： • 智能客服与客户支持：Qwen 2.5可以帮助企业构建自动化客服系统，解决客户问题，提供信息查询、反馈收集等功能。 • 个人助手与任务管理：Qwen 2.5能够充当个人智能助手，管理日程、提醒任务、解答问题等。 • 多轮对话与问题解决：Qwen 2.5能够进行多轮对话，追踪任务进度，并根据需求生成相应的操作指令。 from qwen import QwenModel, QwenTokenizer model = QwenModel.from_pretrained(\"qwen-2.5-agent\") tokenizer = QwenTokenizer.from_pretrained(\"qwen-2.5-agent\") input_text = \"如何申请退款?\" 使用Qwen 2.5生成回应 inputs = tokenizer(input_text, return_tensors=\"pt\") outputs = model.generate(inputs[\"input_ids\"], max_length=100) generated_response = tokenizer.decode(outputs[0], skip_special_tokens=True) input_text = \"退款的时间多久？\" inputs = tokenizer(input_text, return_tensors=\"pt\") outputs = model.generate(inputs[\"input_ids\"], max_length=100) generated_response = tokenizer.decode(outputs[0], skip_special_tokens=True) input_text = \"查询我的订单状态\" 使用Qwen 2.5生成查询指令 inputs = tokenizer(input_text, return_tensors=\"pt\") outputs = model.generate(inputs[\"input_ids\"], max_length=100) from qwen import QwenModel, QwenTokenizer model = QwenModel.from_pretrained(\"qwen-2.5-agent\") tokenizer = QwenTokenizer.from_pretrained(\"qwen-2.5-agent\") def generate_response(user_input): inputs = tokenizer(user_input, return_tensors=\"pt\") outputs = model.generate(inputs[\"input_ids\"], max_length=150) user_inputs = [ for user_input in user_inputs: print(f\"用户: {user_input}\") response = generate_response(user_input)', '快速开始 - Qwen Qwen Qwen 本指南帮助您快速上手 Qwen2.5 的使用，并提供了如下示例： Hugging Face Transformers 以及 ModelScope 和 vLLM 在部署时的应用实例。 model_name \\\\= \"Qwen/Qwen2.5-7B-Instruct\" model_name, tokenizer \\\\= AutoTokenizer.from_pretrained(model_name) {\"role\": \"system\", \"content\": \"You are Qwen, created by Alibaba Cloud. model_inputs \\\\= tokenizer([text], return_tensors\\\\=\"pt\").to(model.device) generated_ids \\\\= model.generate( response \\\\= tokenizer.batch_decode(generated_ids, skip_special_tokens\\\\=True)[0] generated_ids \\\\= model.generate( 要部署 Qwen2.5 ，我们建议您使用 vLLM 。 vLLM 是一个用于 LLM 推理和服务的快速且易于使用的框架。以下，我们将展示如何使用 vLLM 构建一个与 OpenAI 兼容的 API 服务。 运行以下代码以构建 vLLM 服务。此处我们以 Qwen2.5-7B-Instruct 为例： python -m vllm.entrypoints.openai.api_server --model Qwen/Qwen2.5-7B-Instruct vllm serve Qwen/Qwen2.5-7B-Instruct \"model\": \"Qwen/Qwen2.5-7B-Instruct\", {\"role\": \"system\", \"content\": \"You are Qwen, created by Alibaba Cloud. {\"role\": \"user\", \"content\": \"Tell me something about large language models.\"} model\\\\=\"Qwen/Qwen2.5-7B-Instruct\", {\"role\": \"system\", \"content\": \"You are Qwen, created by Alibaba Cloud. {\"role\": \"user\", \"content\": \"Tell me something about large language models.\"}, Hugging Face Transformers & ModelScope', 'response_format object （可选） 默认值为{\"type\": \"text\"} max_tokens integer （可选） tool_choice string 或 object （可选）默认值为 \"auto\" {\"id\":\"chatcmpl-e30f5ae7-3063-93c4-90fe-beb5f900bd57\",\"choices\":[{\"delta\":{\"content\":\"\",\"function_call\":null,\"refusal\":null,\"role\":\"assistant\",\"tool_calls\":null},\"finish_reason\":null,\"index\":0,\"logprobs\":null}],\"created\":1735113344,\"model\":\"qwen-plus\",\"object\":\"chat.completion.chunk\",\"service_tier\":null,\"system_fingerprint\":null,\"usage\":null} {\"id\":\"chatcmpl-e30f5ae7-3063-93c4-90fe-beb5f900bd57\",\"choices\":[{\"delta\":{\"content\":\"我是\",\"function_call\":null,\"refusal\":null,\"role\":null,\"tool_calls\":null},\"finish_reason\":null,\"index\":0,\"logprobs\":null}],\"created\":1735113344,\"model\":\"qwen-plus\",\"object\":\"chat.completion.chunk\",\"service_tier\":null,\"system_fingerprint\":null,\"usage\":null} {\"id\":\"chatcmpl-e30f5ae7-3063-93c4-90fe-beb5f900bd57\",\"choices\":[{\"delta\":{\"content\":\"来自\",\"function_call\":null,\"refusal\":null,\"role\":null,\"tool_calls\":null},\"finish_reason\":null,\"index\":0,\"logprobs\":null}],\"created\":1735113344,\"model\":\"qwen-plus\",\"object\":\"chat.completion.chunk\",\"service_tier\":null,\"system_fingerprint\":null,\"usage\":null} {\"id\":\"chatcmpl-e30f5ae7-3063-93c4-90fe-beb5f900bd57\",\"choices\":[{\"delta\":{\"content\":\"阿里\",\"function_call\":null,\"refusal\":null,\"role\":null,\"tool_calls\":null},\"finish_reason\":null,\"index\":0,\"logprobs\":null}],\"created\":1735113344,\"model\":\"qwen-plus\",\"object\":\"chat.completion.chunk\",\"service_tier\":null,\"system_fingerprint\":null,\"usage\":null} {\"id\":\"chatcmpl-e30f5ae7-3063-93c4-90fe-beb5f900bd57\",\"choices\":[{\"delta\":{\"content\":\"云的超大规模\",\"function_call\":null,\"refusal\":null,\"role\":null,\"tool_calls\":null},\"finish_reason\":null,\"index\":0,\"logprobs\":null}],\"created\":1735113344,\"model\":\"qwen-plus\",\"object\":\"chat.completion.chunk\",\"service_tier\":null,\"system_fingerprint\":null,\"usage\":null} {\"id\":\"chatcmpl-e30f5ae7-3063-93c4-90fe-beb5f900bd57\",\"choices\":[{\"delta\":{\"content\":\"语言模型，我\",\"function_call\":null,\"refusal\":null,\"role\":null,\"tool_calls\":null},\"finish_reason\":null,\"index\":0,\"logprobs\":null}],\"created\":1735113344,\"model\":\"qwen-plus\",\"object\":\"chat.completion.chunk\",\"service_tier\":null,\"system_fingerprint\":null,\"usage\":null} {\"id\":\"chatcmpl-e30f5ae7-3063-93c4-90fe-beb5f900bd57\",\"choices\":[{\"delta\":{\"content\":\"叫通义千\",\"function_call\":null,\"refusal\":null,\"role\":null,\"tool_calls\":null},\"finish_reason\":null,\"index\":0,\"logprobs\":null}],\"created\":1735113344,\"model\":\"qwen-plus\",\"object\":\"chat.completion.chunk\",\"service_tier\":null,\"system_fingerprint\":null,\"usage\":null} {\"id\":\"chatcmpl-e30f5ae7-3063-93c4-90fe-beb5f900bd57\",\"choices\":[{\"delta\":{\"content\":\"问。\",\"function_call\":null,\"refusal\":null,\"role\":null,\"tool_calls\":null},\"finish_reason\":null,\"index\":0,\"logprobs\":null}],\"created\":1735113344,\"model\":\"qwen-plus\",\"object\":\"chat.completion.chunk\",\"service_tier\":null,\"system_fingerprint\":null,\"usage\":null} {\"id\":\"chatcmpl-e30f5ae7-3063-93c4-90fe-beb5f900bd57\",\"choices\":[{\"delta\":{\"content\":\"\",\"function_call\":null,\"refusal\":null,\"role\":null,\"tool_calls\":null},\"finish_reason\":\"stop\",\"index\":0,\"logprobs\":null}],\"created\":1735113344,\"model\":\"qwen-plus\",\"object\":\"chat.completion.chunk\",\"service_tier\":null,\"system_fingerprint\":null,\"usage\":null} {\"id\":\"chatcmpl-e30f5ae7-3063-93c4-90fe-beb5f900bd57\",\"choices\":[],\"created\":1735113344,\"model\":\"qwen-plus\",\"object\":\"chat.completion.chunk\",\"service_tier\":null,\"system_fingerprint\":null,\"usage\":{\"completion_tokens\":17,\"prompt_tokens\":22,\"total_tokens\":39,\"completion_tokens_details\":null,\"prompt_tokens_details\":{\"audio_tokens\":null,\"cached_tokens\":0}}} Java SDK中为topP。通过HTTP调用时，请将 top_p 放入 parameters 对象中。 Java SDK中为topK。通过HTTP调用时，请将 top_k 放入 parameters 对象中。 Java SDK中为repetitionPenalty。通过HTTP调用时，请将 repetition_penalty 放入 parameters 对象中。 Java SDK不支持设置该参数。通过HTTP调用时，请将 vl_high_resolution_images 放入 parameters 对象中。 Java SDK不支持设置该参数。通过HTTP调用时，请将 presence_penalty 放入 parameters 对象中。 max_tokens integer （可选） Java SDK中为maxTokens（模型为通义千问VL/OCR/Audio/ASR时，Java SDK中为maxLength）。通过HTTP调用时，请将 max_tokens 放入 parameters 对象中。 I like apple I like apple. Java SDK中为incrementalOutput。通过HTTP调用时，请将 incremental_output 放入 parameters 对象中。 response_format object （可选） 默认值为{\"type\": \"text\"} 不支持通过 Java SDK 设置该参数。通过HTTP调用时，请将 response_format 放入 parameters 对象中。 Java SDK中为resultFormat。通过HTTP调用时，请将 result_format 放入 parameters 对象中。 tool_choice string 或 object （可选） Java SDK中为toolChoice。通过HTTP调用时，请将 tool_choice 放入 parameters 对象中。 Java SDK 暂不支持配置该参数。通过HTTP调用时，请将 translation_options 放入 parameters 对象中。 Java SDK中为enableSearch。通过HTTP调用时，请将 enable_search 放入 parameters 对象中。 search_options object （可选）', 'Qwen-Agent：基于Qwen 2.5模型的智能Agent构建与应用-阿里云开发者社区 开发者社区 人工智能 文章 正文 Qwen-Agent：基于Qwen 2.5模型的智能Agent构建与应用 简介： Qwen-Agent：基于Qwen 2.5模型的智能Agent构建与应用 Qwen-Agent的主要特点： • 任务驱动的自动化：Qwen 2.5可以基于用户输入的需求自动执行任务，如查询信息、调度资源等。 • 上下文理解与多轮对话：Qwen 2.5能够理解用户的上下文语境，进行多轮对话，并保持连续性与一致性。 • 跨领域应用能力：无论是客户服务、知识管理、智能助手，Qwen 2.5都能支持不同领域的智能Agent应用。 Qwen 2.5模型具备强大的生成能力和深度理解能力，可以在多个智能Agent应用场景中提供高效支持。常见的应用场景包括： • 智能客服与客户支持：Qwen 2.5可以帮助企业构建自动化客服系统，解决客户问题，提供信息查询、反馈收集等功能。 • 个人助手与任务管理：Qwen 2.5能够充当个人智能助手，管理日程、提醒任务、解答问题等。 • 多轮对话与问题解决：Qwen 2.5能够进行多轮对话，追踪任务进度，并根据需求生成相应的操作指令。 from qwen import QwenModel, QwenTokenizer model = QwenModel.from_pretrained(\"qwen-2.5-agent\") tokenizer = QwenTokenizer.from_pretrained(\"qwen-2.5-agent\") input_text = \"如何申请退款?\" 使用Qwen 2.5生成回应 inputs = tokenizer(input_text, return_tensors=\"pt\") outputs = model.generate(inputs[\"input_ids\"], max_length=100) generated_response = tokenizer.decode(outputs[0], skip_special_tokens=True) input_text = \"退款的时间多久？\" inputs = tokenizer(input_text, return_tensors=\"pt\") outputs = model.generate(inputs[\"input_ids\"], max_length=100) generated_response = tokenizer.decode(outputs[0], skip_special_tokens=True) input_text = \"查询我的订单状态\" 使用Qwen 2.5生成查询指令 inputs = tokenizer(input_text, return_tensors=\"pt\") outputs = model.generate(inputs[\"input_ids\"], max_length=100) from qwen import QwenModel, QwenTokenizer model = QwenModel.from_pretrained(\"qwen-2.5-agent\") tokenizer = QwenTokenizer.from_pretrained(\"qwen-2.5-agent\") def generate_response(user_input): inputs = tokenizer(user_input, return_tensors=\"pt\") outputs = model.generate(inputs[\"input_ids\"], max_length=150) user_inputs = [ for user_input in user_inputs: print(f\"用户: {user_input}\") response = generate_response(user_input)', '快速开始 - Qwen Qwen Qwen 本指南帮助您快速上手 Qwen2.5 的使用，并提供了如下示例： Hugging Face Transformers 以及 ModelScope 和 vLLM 在部署时的应用实例。 model_name \\\\= \"Qwen/Qwen2.5-7B-Instruct\" model_name, tokenizer \\\\= AutoTokenizer.from_pretrained(model_name) {\"role\": \"system\", \"content\": \"You are Qwen, created by Alibaba Cloud. model_inputs \\\\= tokenizer([text], return_tensors\\\\=\"pt\").to(model.device) generated_ids \\\\= model.generate( response \\\\= tokenizer.batch_decode(generated_ids, skip_special_tokens\\\\=True)[0] generated_ids \\\\= model.generate( 要部署 Qwen2.5 ，我们建议您使用 vLLM 。 vLLM 是一个用于 LLM 推理和服务的快速且易于使用的框架。以下，我们将展示如何使用 vLLM 构建一个与 OpenAI 兼容的 API 服务。 运行以下代码以构建 vLLM 服务。此处我们以 Qwen2.5-7B-Instruct 为例： python -m vllm.entrypoints.openai.api_server --model Qwen/Qwen2.5-7B-Instruct vllm serve Qwen/Qwen2.5-7B-Instruct \"model\": \"Qwen/Qwen2.5-7B-Instruct\", {\"role\": \"system\", \"content\": \"You are Qwen, created by Alibaba Cloud. {\"role\": \"user\", \"content\": \"Tell me something about large language models.\"} model\\\\=\"Qwen/Qwen2.5-7B-Instruct\", {\"role\": \"system\", \"content\": \"You are Qwen, created by Alibaba Cloud. {\"role\": \"user\", \"content\": \"Tell me something about large language models.\"}, Hugging Face Transformers & ModelScope']}}\n",
      "--------------------------------------------------------------\n",
      "{'generate': {'draft': '你的计划非常详尽且专业，涵盖了基于Qwen2.5大模型进行Agent开发的基本要素和流程。以下是一个加强版本的计划，包含了更多实现上的细节与建议：\\n\\n---\\n\\n### Ⅰ. 引言\\n- **A. 介绍Qwen2.5模型的核心特点和优势**：强调其在自然语言理解和生成上的先进能力, 包括多模态输入处理、超大规模训练数据集的应用等。\\n- **B. 概述Agent的概念及其在智能系统中的应用**：解释代理（Agent）如何充当用户与复杂软件系统的接口，例如在客户服务、教育辅助以及决策支持领域的具体使用案例。\\n- **C. 提出研究的目的与意义**：展示将大型语言模型能力融入到自主行动体中可以带来的优势，比如提高响应速度和个性化体验。\\n\\n### Ⅱ. Qwen2.5综述\\n- **A. 技术背景说明**：详细解析Qwen系列模型开发历程及其设计理念；解释其如何通过预训练结合监督或强化学习的方法来获取广泛的知识库。\\n- **B. 能力概述**：\\n   - 列出模型的核心语言处理功能，比如上下文感知、跨领域知识推理与创作。\\n   - 强调Qwen2.5在对话生成方面的技术改进。\\n\\n### Ⅲ. Agent设计原则与方法论\\n- **A. 定义目标用户群体及应用场景**：精准定位需求点——是作为客户服务代理，还是在线辅导老师等具体角色；\\n- **B. 设计Agent架构的基本框架和组成部分**：\\n   - 感知模块（如语音识别、NLP），\\n   - 决策模块（基于Qwen2.5的推理机制），以及\\n   - 执行模块（输出生成文本或其它指令）。\\n- **C. 讨论选择Qwen2.5作为核心引擎的原因及其在各模块中的应用方式**：\\n   - 研究并明确哪些特定能力/属性能够显著提升Agent的整体表现，\\n   - 例如，利用Qwen的强大对话理解功能来支撑更加自然流畅的人机交互体验。\\n\\n### IV. Agent开发流程\\n- **A. 需求分析**\\n   - 明确用户需求、预期交互模式（图灵测试级别）、性能规格等因素。\\n- **B. 设计与实现**：\\n 1. 连接API接口并验证数据传入输出的一致性；\\n 2. 根据具体应用进行微调定制，达到更精准的目标功能展示；\\n 3. 构建控制Agent操作的主程序逻辑，考虑状态管理和异常处理。\\n- **C. 测试与验证**\\n   - 规划多轮测试流程以确认实际运行效果满足指标要求；\\n\\n### V. 应用示例\\n- **A. 创造一个虚拟助手开发过程的具体描述**:\\n 1. 场景背景介绍（如：健康管理咨询、学术问题解答）；\\n 2. 使用Qwen2.5生成高质量回答并确保其符合医学或教育学理论要求； \\n 3. 面对不确定信息时如何处理逻辑推理。\\n- **B. 技术细节清单**，包含从环境搭建到部署的全过程指导文档。\\n\\n### VI. 挑战与未来发展方向\\n- **A. 讨论常见挑战如：**\\n   - 数据安全问题、偏见引入途径；\\n   - 过于依赖特定语言模型带来的迁移学习成本等。\\n- **B. 展望可能的技术解决方案**，\\n 例如继续深化预训练、设计更有效的微调策略以克服泛化局限性。\\n\\n### VII. 结论\\n再次强调研究价值，总结关键洞见，并提出未来的工作方向与探索可能性。\\n\\n## 建议要点：\\n1. 在开发过程中应严格遵循道德标准和相关法律法规；\\n2. 尝试结合多模态数据进一步完善Agent感官能力；\\n\\n这个结构不仅可以帮助你梳理基于Qwen2.5的大模型进行Agent开发的整体思路，而且还能为后续具体的实现步骤及技术选型提供参考。', 'revision_number': 2}}\n",
      "--------------------------------------------------------------\n",
      "{'reflect': {'critique': '你的这份计划已经有了很好的起点和详细的框架设计，能够全面地覆盖从理论到实践的诸多细节，并展现出专业性和前瞻性。下面是一些建议，这些可以帮助进一步加强你的计划：\\n\\n### 补充内容：\\n1. **深入的技术分析：** 在第二章“Qwen2.5综述”中，可以更详细地解析其核心技术如多模态数据处理机制、训练方法（尤其是它如何平衡迁移学习与预训练），和优化策略。这不仅能加深读者的理解，也有助于明确开发过程中应利用Qwen特性的具体方法。\\n\\n2. **用户体验案例深入：** 在第三章“Agent设计原则与方法论”部分详细描述几个具体的用户体验情况分析（如客户服务对话流、教育个性化反馈过程等），以体现不同场景下Agent设计与实现的细致考量。\\n\\n3. **实施细节的技术支持文档扩展：** 第五章“应用示例”的B点，建议提供更为详尽的过程指导和关键参数说明，并附带代码片段或具体步骤指南来阐述如何搭建环境以及在部署过程中遇到的问题及其解决方案，使内容更具实操性。\\n\\n### 结构调整与优化：\\n1. **明确流程图/图解：** 建议加入更直观的流程图表展示在“Agent开发流程”中关键步骤和模块间的关系网络，以便快速理解各个技术环节的具体作用。\\n\\n2. **增加实验与测试部分详细说明：** 在具体实践过程中如何进行功能验证、性能评估及优化策略的选择；特别是应突出测试结果对于后续迭代更新的意义或反馈点，比如在哪个阶段进行了哪些修正，为什么这样修改等。\\n\\n3. **丰富挑战解决方案内容：** 第六章“挑战与未来发展方向”A部分可以补充介绍针对每个潜在障碍的详细应对措施以及现有行业最佳实践案例（如利用差异隐私等方法避免数据泄露）。对于B部分则可以更具体的说明如何具体实现这些可能的技术方案。\\n\\n### 风格和语言：\\n- **保持一致性：** 注意确保整篇文档风格统一，避免突然的语言或技术层次上的跳跃。\\n- **强化逻辑性与可读性：** 文章的各个章节应当顺畅过渡并具备内在逻辑链条。可以通过在章节之间添加小结段落或以问题导向的方式引入新部分来增强整体流畅度。\\n\\n### 技术深度和广度：\\n根据目标读者的不同，你需要更全面地考察内容的技术深度与广度要求。例如，如果面向技术背景较为复杂的专业人士，可以适当深化技术细节；若面向的是非技术受众，可能需要更加注重实际应用的效果介绍，并减少晦涩术语的使用频率。\\n\\n总的来说，你的研究计划覆盖较完整且具有实用价值框架。通过加入更多技术内容和实操指导，同时优化结构与风格，使文档不仅是理论上的阐述，更有助于实践中的理解和执行。'}}\n",
      "--------------------------------------------------------------\n"
     ]
    },
    {
     "name": "stderr",
     "output_type": "stream",
     "text": [
      "/home/haoyu/anaconda3/envs/yolo/lib/python3.10/site-packages/langchain_openai/chat_models/base.py:1377: UserWarning: Received a Pydantic BaseModel V1 schema. This is not supported by method=\"json_schema\". Please use method=\"function_calling\" or specify schema via JSON Schema or Pydantic V2 BaseModel. Overriding to method=\"function_calling\".\n",
      "  warnings.warn(\n"
     ]
    },
    {
     "name": "stdout",
     "output_type": "stream",
     "text": [
      "{'research_critique': {'content': ['文章浏览阅读3.3k次，点赞15次，收藏8次。通过本教程，你已经学会了如何本地部署 Qwen-2.5 模型，并构建一个智能 Agent。如果你在实际操作中遇到问题，欢迎留言与我们互动!😊。_qwen2.5-vl本地部署', 'Qwen-Agent：基于Qwen 2.5模型的智能Agent构建与应用-阿里云开发者社区 开发者社区 人工智能 文章 正文 Qwen-Agent：基于Qwen 2.5模型的智能Agent构建与应用 简介： Qwen-Agent：基于Qwen 2.5模型的智能Agent构建与应用 Qwen-Agent的主要特点： • 任务驱动的自动化：Qwen 2.5可以基于用户输入的需求自动执行任务，如查询信息、调度资源等。 • 上下文理解与多轮对话：Qwen 2.5能够理解用户的上下文语境，进行多轮对话，并保持连续性与一致性。 • 跨领域应用能力：无论是客户服务、知识管理、智能助手，Qwen 2.5都能支持不同领域的智能Agent应用。 Qwen 2.5模型具备强大的生成能力和深度理解能力，可以在多个智能Agent应用场景中提供高效支持。常见的应用场景包括： • 智能客服与客户支持：Qwen 2.5可以帮助企业构建自动化客服系统，解决客户问题，提供信息查询、反馈收集等功能。 • 个人助手与任务管理：Qwen 2.5能够充当个人智能助手，管理日程、提醒任务、解答问题等。 • 多轮对话与问题解决：Qwen 2.5能够进行多轮对话，追踪任务进度，并根据需求生成相应的操作指令。 from qwen import QwenModel, QwenTokenizer model = QwenModel.from_pretrained(\"qwen-2.5-agent\") tokenizer = QwenTokenizer.from_pretrained(\"qwen-2.5-agent\") input_text = \"如何申请退款?\" 使用Qwen 2.5生成回应 inputs = tokenizer(input_text, return_tensors=\"pt\") outputs = model.generate(inputs[\"input_ids\"], max_length=100) generated_response = tokenizer.decode(outputs[0], skip_special_tokens=True) input_text = \"退款的时间多久？\" inputs = tokenizer(input_text, return_tensors=\"pt\") outputs = model.generate(inputs[\"input_ids\"], max_length=100) generated_response = tokenizer.decode(outputs[0], skip_special_tokens=True) input_text = \"查询我的订单状态\" 使用Qwen 2.5生成查询指令 inputs = tokenizer(input_text, return_tensors=\"pt\") outputs = model.generate(inputs[\"input_ids\"], max_length=100) from qwen import QwenModel, QwenTokenizer model = QwenModel.from_pretrained(\"qwen-2.5-agent\") tokenizer = QwenTokenizer.from_pretrained(\"qwen-2.5-agent\") def generate_response(user_input): inputs = tokenizer(user_input, return_tensors=\"pt\") outputs = model.generate(inputs[\"input_ids\"], max_length=150) user_inputs = [ for user_input in user_inputs: print(f\"用户: {user_input}\") response = generate_response(user_input)', '快速开始 - Qwen Qwen Qwen 本指南帮助您快速上手 Qwen2.5 的使用，并提供了如下示例： Hugging Face Transformers 以及 ModelScope 和 vLLM 在部署时的应用实例。 model_name \\\\= \"Qwen/Qwen2.5-7B-Instruct\" model_name, tokenizer \\\\= AutoTokenizer.from_pretrained(model_name) {\"role\": \"system\", \"content\": \"You are Qwen, created by Alibaba Cloud. model_inputs \\\\= tokenizer([text], return_tensors\\\\=\"pt\").to(model.device) generated_ids \\\\= model.generate( response \\\\= tokenizer.batch_decode(generated_ids, skip_special_tokens\\\\=True)[0] generated_ids \\\\= model.generate( 要部署 Qwen2.5 ，我们建议您使用 vLLM 。 vLLM 是一个用于 LLM 推理和服务的快速且易于使用的框架。以下，我们将展示如何使用 vLLM 构建一个与 OpenAI 兼容的 API 服务。 运行以下代码以构建 vLLM 服务。此处我们以 Qwen2.5-7B-Instruct 为例： python -m vllm.entrypoints.openai.api_server --model Qwen/Qwen2.5-7B-Instruct vllm serve Qwen/Qwen2.5-7B-Instruct \"model\": \"Qwen/Qwen2.5-7B-Instruct\", {\"role\": \"system\", \"content\": \"You are Qwen, created by Alibaba Cloud. {\"role\": \"user\", \"content\": \"Tell me something about large language models.\"} model\\\\=\"Qwen/Qwen2.5-7B-Instruct\", {\"role\": \"system\", \"content\": \"You are Qwen, created by Alibaba Cloud. {\"role\": \"user\", \"content\": \"Tell me something about large language models.\"}, Hugging Face Transformers & ModelScope', 'response_format object （可选） 默认值为{\"type\": \"text\"} max_tokens integer （可选） tool_choice string 或 object （可选）默认值为 \"auto\" {\"id\":\"chatcmpl-e30f5ae7-3063-93c4-90fe-beb5f900bd57\",\"choices\":[{\"delta\":{\"content\":\"\",\"function_call\":null,\"refusal\":null,\"role\":\"assistant\",\"tool_calls\":null},\"finish_reason\":null,\"index\":0,\"logprobs\":null}],\"created\":1735113344,\"model\":\"qwen-plus\",\"object\":\"chat.completion.chunk\",\"service_tier\":null,\"system_fingerprint\":null,\"usage\":null} {\"id\":\"chatcmpl-e30f5ae7-3063-93c4-90fe-beb5f900bd57\",\"choices\":[{\"delta\":{\"content\":\"我是\",\"function_call\":null,\"refusal\":null,\"role\":null,\"tool_calls\":null},\"finish_reason\":null,\"index\":0,\"logprobs\":null}],\"created\":1735113344,\"model\":\"qwen-plus\",\"object\":\"chat.completion.chunk\",\"service_tier\":null,\"system_fingerprint\":null,\"usage\":null} {\"id\":\"chatcmpl-e30f5ae7-3063-93c4-90fe-beb5f900bd57\",\"choices\":[{\"delta\":{\"content\":\"来自\",\"function_call\":null,\"refusal\":null,\"role\":null,\"tool_calls\":null},\"finish_reason\":null,\"index\":0,\"logprobs\":null}],\"created\":1735113344,\"model\":\"qwen-plus\",\"object\":\"chat.completion.chunk\",\"service_tier\":null,\"system_fingerprint\":null,\"usage\":null} {\"id\":\"chatcmpl-e30f5ae7-3063-93c4-90fe-beb5f900bd57\",\"choices\":[{\"delta\":{\"content\":\"阿里\",\"function_call\":null,\"refusal\":null,\"role\":null,\"tool_calls\":null},\"finish_reason\":null,\"index\":0,\"logprobs\":null}],\"created\":1735113344,\"model\":\"qwen-plus\",\"object\":\"chat.completion.chunk\",\"service_tier\":null,\"system_fingerprint\":null,\"usage\":null} {\"id\":\"chatcmpl-e30f5ae7-3063-93c4-90fe-beb5f900bd57\",\"choices\":[{\"delta\":{\"content\":\"云的超大规模\",\"function_call\":null,\"refusal\":null,\"role\":null,\"tool_calls\":null},\"finish_reason\":null,\"index\":0,\"logprobs\":null}],\"created\":1735113344,\"model\":\"qwen-plus\",\"object\":\"chat.completion.chunk\",\"service_tier\":null,\"system_fingerprint\":null,\"usage\":null} {\"id\":\"chatcmpl-e30f5ae7-3063-93c4-90fe-beb5f900bd57\",\"choices\":[{\"delta\":{\"content\":\"语言模型，我\",\"function_call\":null,\"refusal\":null,\"role\":null,\"tool_calls\":null},\"finish_reason\":null,\"index\":0,\"logprobs\":null}],\"created\":1735113344,\"model\":\"qwen-plus\",\"object\":\"chat.completion.chunk\",\"service_tier\":null,\"system_fingerprint\":null,\"usage\":null} {\"id\":\"chatcmpl-e30f5ae7-3063-93c4-90fe-beb5f900bd57\",\"choices\":[{\"delta\":{\"content\":\"叫通义千\",\"function_call\":null,\"refusal\":null,\"role\":null,\"tool_calls\":null},\"finish_reason\":null,\"index\":0,\"logprobs\":null}],\"created\":1735113344,\"model\":\"qwen-plus\",\"object\":\"chat.completion.chunk\",\"service_tier\":null,\"system_fingerprint\":null,\"usage\":null} {\"id\":\"chatcmpl-e30f5ae7-3063-93c4-90fe-beb5f900bd57\",\"choices\":[{\"delta\":{\"content\":\"问。\",\"function_call\":null,\"refusal\":null,\"role\":null,\"tool_calls\":null},\"finish_reason\":null,\"index\":0,\"logprobs\":null}],\"created\":1735113344,\"model\":\"qwen-plus\",\"object\":\"chat.completion.chunk\",\"service_tier\":null,\"system_fingerprint\":null,\"usage\":null} {\"id\":\"chatcmpl-e30f5ae7-3063-93c4-90fe-beb5f900bd57\",\"choices\":[{\"delta\":{\"content\":\"\",\"function_call\":null,\"refusal\":null,\"role\":null,\"tool_calls\":null},\"finish_reason\":\"stop\",\"index\":0,\"logprobs\":null}],\"created\":1735113344,\"model\":\"qwen-plus\",\"object\":\"chat.completion.chunk\",\"service_tier\":null,\"system_fingerprint\":null,\"usage\":null} {\"id\":\"chatcmpl-e30f5ae7-3063-93c4-90fe-beb5f900bd57\",\"choices\":[],\"created\":1735113344,\"model\":\"qwen-plus\",\"object\":\"chat.completion.chunk\",\"service_tier\":null,\"system_fingerprint\":null,\"usage\":{\"completion_tokens\":17,\"prompt_tokens\":22,\"total_tokens\":39,\"completion_tokens_details\":null,\"prompt_tokens_details\":{\"audio_tokens\":null,\"cached_tokens\":0}}} Java SDK中为topP。通过HTTP调用时，请将 top_p 放入 parameters 对象中。 Java SDK中为topK。通过HTTP调用时，请将 top_k 放入 parameters 对象中。 Java SDK中为repetitionPenalty。通过HTTP调用时，请将 repetition_penalty 放入 parameters 对象中。 Java SDK不支持设置该参数。通过HTTP调用时，请将 vl_high_resolution_images 放入 parameters 对象中。 Java SDK不支持设置该参数。通过HTTP调用时，请将 presence_penalty 放入 parameters 对象中。 max_tokens integer （可选） Java SDK中为maxTokens（模型为通义千问VL/OCR/Audio/ASR时，Java SDK中为maxLength）。通过HTTP调用时，请将 max_tokens 放入 parameters 对象中。 I like apple I like apple. Java SDK中为incrementalOutput。通过HTTP调用时，请将 incremental_output 放入 parameters 对象中。 response_format object （可选） 默认值为{\"type\": \"text\"} 不支持通过 Java SDK 设置该参数。通过HTTP调用时，请将 response_format 放入 parameters 对象中。 Java SDK中为resultFormat。通过HTTP调用时，请将 result_format 放入 parameters 对象中。 tool_choice string 或 object （可选） Java SDK中为toolChoice。通过HTTP调用时，请将 tool_choice 放入 parameters 对象中。 Java SDK 暂不支持配置该参数。通过HTTP调用时，请将 translation_options 放入 parameters 对象中。 Java SDK中为enableSearch。通过HTTP调用时，请将 enable_search 放入 parameters 对象中。 search_options object （可选）', 'Qwen-Agent：基于Qwen 2.5模型的智能Agent构建与应用-阿里云开发者社区 开发者社区 人工智能 文章 正文 Qwen-Agent：基于Qwen 2.5模型的智能Agent构建与应用 简介： Qwen-Agent：基于Qwen 2.5模型的智能Agent构建与应用 Qwen-Agent的主要特点： • 任务驱动的自动化：Qwen 2.5可以基于用户输入的需求自动执行任务，如查询信息、调度资源等。 • 上下文理解与多轮对话：Qwen 2.5能够理解用户的上下文语境，进行多轮对话，并保持连续性与一致性。 • 跨领域应用能力：无论是客户服务、知识管理、智能助手，Qwen 2.5都能支持不同领域的智能Agent应用。 Qwen 2.5模型具备强大的生成能力和深度理解能力，可以在多个智能Agent应用场景中提供高效支持。常见的应用场景包括： • 智能客服与客户支持：Qwen 2.5可以帮助企业构建自动化客服系统，解决客户问题，提供信息查询、反馈收集等功能。 • 个人助手与任务管理：Qwen 2.5能够充当个人智能助手，管理日程、提醒任务、解答问题等。 • 多轮对话与问题解决：Qwen 2.5能够进行多轮对话，追踪任务进度，并根据需求生成相应的操作指令。 from qwen import QwenModel, QwenTokenizer model = QwenModel.from_pretrained(\"qwen-2.5-agent\") tokenizer = QwenTokenizer.from_pretrained(\"qwen-2.5-agent\") input_text = \"如何申请退款?\" 使用Qwen 2.5生成回应 inputs = tokenizer(input_text, return_tensors=\"pt\") outputs = model.generate(inputs[\"input_ids\"], max_length=100) generated_response = tokenizer.decode(outputs[0], skip_special_tokens=True) input_text = \"退款的时间多久？\" inputs = tokenizer(input_text, return_tensors=\"pt\") outputs = model.generate(inputs[\"input_ids\"], max_length=100) generated_response = tokenizer.decode(outputs[0], skip_special_tokens=True) input_text = \"查询我的订单状态\" 使用Qwen 2.5生成查询指令 inputs = tokenizer(input_text, return_tensors=\"pt\") outputs = model.generate(inputs[\"input_ids\"], max_length=100) from qwen import QwenModel, QwenTokenizer model = QwenModel.from_pretrained(\"qwen-2.5-agent\") tokenizer = QwenTokenizer.from_pretrained(\"qwen-2.5-agent\") def generate_response(user_input): inputs = tokenizer(user_input, return_tensors=\"pt\") outputs = model.generate(inputs[\"input_ids\"], max_length=150) user_inputs = [ for user_input in user_inputs: print(f\"用户: {user_input}\") response = generate_response(user_input)', '快速开始 - Qwen Qwen Qwen 本指南帮助您快速上手 Qwen2.5 的使用，并提供了如下示例： Hugging Face Transformers 以及 ModelScope 和 vLLM 在部署时的应用实例。 model_name \\\\= \"Qwen/Qwen2.5-7B-Instruct\" model_name, tokenizer \\\\= AutoTokenizer.from_pretrained(model_name) {\"role\": \"system\", \"content\": \"You are Qwen, created by Alibaba Cloud. model_inputs \\\\= tokenizer([text], return_tensors\\\\=\"pt\").to(model.device) generated_ids \\\\= model.generate( response \\\\= tokenizer.batch_decode(generated_ids, skip_special_tokens\\\\=True)[0] generated_ids \\\\= model.generate( 要部署 Qwen2.5 ，我们建议您使用 vLLM 。 vLLM 是一个用于 LLM 推理和服务的快速且易于使用的框架。以下，我们将展示如何使用 vLLM 构建一个与 OpenAI 兼容的 API 服务。 运行以下代码以构建 vLLM 服务。此处我们以 Qwen2.5-7B-Instruct 为例： python -m vllm.entrypoints.openai.api_server --model Qwen/Qwen2.5-7B-Instruct vllm serve Qwen/Qwen2.5-7B-Instruct \"model\": \"Qwen/Qwen2.5-7B-Instruct\", {\"role\": \"system\", \"content\": \"You are Qwen, created by Alibaba Cloud. {\"role\": \"user\", \"content\": \"Tell me something about large language models.\"} model\\\\=\"Qwen/Qwen2.5-7B-Instruct\", {\"role\": \"system\", \"content\": \"You are Qwen, created by Alibaba Cloud. {\"role\": \"user\", \"content\": \"Tell me something about large language models.\"}, Hugging Face Transformers & ModelScope', '【LLM技术报告】Qwen2.5技术报告（全文） - 知乎 首发于吕阿华的AIGC学习手册 切换模式 写文章 登录/注册 【LLM技术报告】Qwen2.5技术报告（全文） 吕阿华\\u200b\\u200b\\u200b 浙江大学 计算机硕士 12月20日，Qwen2.5发布了技术报告。作为开源大模型头把交椅的有力竞争者，让我们一起看看它的小参数大能量到底利害在哪~ 图1：在 Qwen 系列的迭代开发中，数据规模的扩展起到了关键作用。Qwen 2.5 利用 18T tokens 进行预训练，展现了 Qwen 系列中最为先进的能力，特别是在领域专长方面，强调了数据规模和模型混合在提升模型能力中的重要性。 *笔者会用GPTs翻译形成初稿，然后自己精读后完成终稿，力求每一句话自己都能理解后再输出译文。 *需要原文的请至文末跳转至原文链接阅读。 简介 通用人工智能（AGI）的雏形随着大规模基础模型，尤其是LLMs的快速进步，越来越清晰可见。模型和数据规模的持续扩大，结合大规模预训练及高质量监督微调（SFT）与强化学习（RLHF）范式，使得LLMs在语言理解、生成及推理能力上展现了新的突现特性。 基于这些进展，近期在推理时间扩展方面的突破，尤其是 OpenAI 的 o1，极大提升了 LLMs 通过逐步推理和反思进行深度思考的能力。这些创新不仅提高了语言模型的潜力，也预示着它们有可能在科学探索中取得重大突破，表现出类似更广泛人工智能的特征。 近年来，除 展开阅读全文\\u200b 编辑于 2024-12-23 00:46・IP 属地美国 内容所属专栏 吕阿华的AIGC学习手册 收罗AIGC技术和产品的专栏 订阅专栏 Qwen大模型 国产大语言模型 技术报告 \\u200b赞同 17\\u200b\\u200b添加评论 \\u200b分享 \\u200b喜欢\\u200b收藏\\u200b申请转载', 'Qwen2.5: 基础模型大派对！ | Qwen Qwen2.5: 基础模型大派对！ Qwen2.5-Coder: 1.5B, 7B, 以及即将推出的32B; Qwen2.5-Math: 1.5B, 7B, 以及72B。 除了3B和72B的版本外，我们所有的开源模型都采用了 Apache 2.0 许可证。您可以在相应的 Hugging Face 仓库中找到许可证文件。除此之外，我们还通过 Model Studio 提供了旗舰语言模型 Qwen-Plus 和 Qwen-Turbo 的 API，诚邀您来体验和使用！此外，我们还开源了相比上个月发布的版本有性能提升的 Qwen2-VL-72B。 Qwen2.5 LLM Qwen2.5-Coder Qwen2.5-Math Qwen2.5# 此外，我们将基于 API 的模型 Qwen-Plus 与领先的专有和开源模型进行了对比，包括 GPT4-o、Claude-3.5-Sonnet、Llama-3.1-405B 和 DeepSeek-V2.5。这一对比展示了 Qwen-Plus 在当前大型语言模型领域中的竞争地位。结果显示，Qwen-Plus 显著优于 DeepSeek-V2.5，并且在与 Llama-3.1-405B 的竞争中表现出了竞争力，尽管在某些方面仍不及 GPT4-o 和 Claude-3.5-Sonnet。 这次基准测试不仅突显了 Qwen-Plus 的优势，也指出了未来需要改进的地方，进一步强化了我们在大型语言模型领域持续改进和创新的承诺。 Qwen2.5 的一个重要更新是重新引入了我们的 140 亿参数和 320 亿参数模型，即 Qwen2.5-14B 和 Qwen2.5-32B。这些模型在多样化的任务中超越了同等规模或更大规模的基线模型，例如 Phi-3.5-MoE-Instruct 和 Gemma2-27B-IT。 它们在模型大小和能力之间达到了最佳平衡，提供了匹配甚至超过一些较大模型的性能。此外，我们的基于 API 的模型 Qwen2.5-Turbo 相比这两个开源模型提供了极具竞争力的性能，同时提供了成本效益高且快速的服务。 Qwen2.5-Coder# Qwen2.5-Math# 使用 Qwen2.5# model=\"qwen-plus-latest\", model_name = \"Qwen/Qwen2.5-7B-Instruct\" 要使用 vLLM 运行 Qwen2.5 并部署一个与 OpenAI API 兼容的服务，可以运行如下命令： --model Qwen/Qwen2.5-7B-Instruct \"model\": \"Qwen/Qwen2.5-7B-Instruct\", vllm serve Qwen/Qwen2.5-7B-Instruct --enable-auto-tool-choice --tool-call-parser hermes Qwen2.5 的聊天模板中也包含了一个工具调用模板，这意味着你可以使用 Hugging Face transformers’ tool calling support. Qwen 的朋友们# @misc{qwen2.5, title = {Qwen2.5: A Party of Foundation Models}, author = {Qwen Team}, @article{qwen2,', '一、技术报告梳理. Qwen2.5-VL技术报告发布，模型层面与拆解代码时分析一致（见第二章）：在 ViT架构 里效仿LLM用RMSNorm进行归一化，并使用SwiGLU作为激活函数，同时用窗口注意力减少计算量；在多模态旋转编码 MRoPE 里引入绝对时间。 论文重点介绍了训练数据和训练方法，在此简单补充介绍一下。', 'Qwen2.5-VL的推出，旨在解决这些瓶颈问题。该模型不仅在基础能力上实现了显著提升，还引入了多项创新功能，如 动态分辨率处理 、 绝对时间编码 等，使其能够处理复杂的多模态输入。Qwen2.5-VL的推出，标志着视觉语言模型在多模态理解和交互方面迈出了重要的', '在人工智能领域，Agent设计模式是指在创建智能代理时使用的一系列策略和方法。例如，建筑工程项目需要详细的施工计划和进度安排，以确保各个阶段按时完成。历史数据分析系统可以在没有实时数据的情况下，通过分析过去的数据来做出预测。例如，机器人可以在实验室中进行自主实验，探索新', '引言. 上周五我在一个特工宇宙的社群里做了一次分享，题目是《从 YC 项目看 AI 趋势以及 AI agent 开发工具类产品该如何设计》，收到了大家不错的反馈，不过回看视频后还是发现不少可以提升的地方，感兴趣的朋友公众号回复\"分享\"获取会议录屏链接，这篇文章和大家详细讲讲分享中提到的: Agent']}}\n",
      "--------------------------------------------------------------\n",
      "{'generate': {'draft': '这是一个相对完整的基于Qwen2.5大模型进行Agent开发的研究计划。以下是具体的实现说明和扩展：\\n\\n### I. 引言\\n\\n1. **A. 介绍Qwen2.5模型的核心特点和优势**\\n\\n   - Qwen2.5作为LLM的一部分，强调其在文本生成、理解、对话等方面的能力。\\n   - 举例突出技术特征, 比如其上下文窗口的大小、训练数据集范围（如包含哪些语言等）。\\n\\n2. **B. 概述Agent的概念及其在智能系统中的应用**\\n\\n   - 定义Agent：定义软件或硬件单元具有处理信息与执行任务的能力。\\n   - 应用案例：包括但不限于客户服务、智能家居管理、虚拟助手等场景。\\n  \\n3. **C. 提出研究的目的与意义:** \\n\\n  描述如何结合Qwen2.5特性和灵活定制，创造智能化解决方案。\\n\\n### II. Qwen2.5综述\\n\\n1. **A. 技术背景说明**\\n   - 阐述其训练详情(架构、层数等)。\\n   \\n  \\n 2. **B. 能力概述**\\n\\n   - 指出Qwen2.5在文本生成与对话理解方面的具体性能。举例说明该模型如何处理复杂任务（如多轮对话理解和生成）。\\n\\n### III. Agent设计原则与方法论\\n\\n1. **A. 定义目标用户群体及应用场景**\\n   - 细分为个人消费者到企业级应用。\\n   \\n2. **B. 设计Agent架构的基本框架和组成部分**\\n\\n   - 感知模块：接收并处理输入信息的能力，例如文本、语音数据的获取与理解。\\n   - 决策模块：基于Qwen2.5模型进行处理以决定下一步动作或回答的内容。\\n   - 执行模块：执行决策结果并通过输出接口通知用户。\\n\\n3. **C. 讨论选择Qwen2.5作为核心引擎的原因及其在各模块中的应用方式**\\n\\n  如何利用其强大的文本生成能力，或者多轮对话的记忆性保持用户交互流畅度。\\n\\n### IV. Agent开发流程\\n\\n1. **A. 需求分析**\\n \\n   - 目标群体定义：对特定任务(客户服务、写作助手等)的定制需求及目标群体特征描述。\\n    \\n2. **B. 设计与实现**\\n\\n   - 利用Qwen2.5API进行编程接口绑定，开发集成逻辑处理代码，实现对Agent工作流程的控制。 \\n   - 模型微调：为了特定任务(如客户服务领域)执行微优化。\\n\\n3. **C. 测试与验证**：\\n\\n  通过场景模拟或实际数据集测试以确保Agent能够准确且高效地完成预期功能。\\n  \\n  \\n### V. 应用示例\\n\\n1. 描述详细步骤，包括需求获取、实现过程及最终验证结果分析，具体举例说明如何利用Qwen2.5赋能某应用场景增强其智能和互动性。\\n\\n### VI. 挑战与未来方向\\n  - 讨论数据隐私、技术成熟度等潜在问题。\\n   - 探索新技术以克服现有挑战，并预测更前沿的应用趋势。\\n\\n### VII. 结论\\n\\n1. 强调Qwen2.5在Agent开发中的核心作用和潜力展望。\\n\\n以上是一个基于Qwen2.5进行Agent开发的详尽计划。具体实现细节需要对应特定应用场景展开研究与分析，根据实际情况调整各部分描述。', 'revision_number': 3}}\n",
      "--------------------------------------------------------------\n"
     ]
    }
   ],
   "source": [
    "# 执行graph，传入task，同时指定max_revisions和revision_number。\n",
    "# 从打印的信息可以看出，因为设置max_revisions为2，所以graph的执行经历了如下过程：\n",
    "# 'planner'-->'research_plan'-->'generate'-->'reflect'-->'research_critique'-->'generate'\n",
    "\n",
    "thread = {\"configurable\": {\"thread_id\": \"1\"}}\n",
    "for s in graph.stream({\n",
    "    #'task': \"what is the difference between langchain and langsmith\",\n",
    "    'task': \"怎样进行基于qwen2.5大模型的Agent开发？\",\n",
    "    \"max_revisions\": 2,\n",
    "    \"revision_number\": 1,\n",
    "}, thread):\n",
    "    print(s)\n",
    "    print(\"--------------------------------------------------------------\")"
   ]
  },
  {
   "cell_type": "code",
   "execution_count": null,
   "id": "0ad8a6cc-65d4-4ce7-87aa-4e67d7c23d7b",
   "metadata": {
    "height": 30
   },
   "outputs": [],
   "source": []
  },
  {
   "cell_type": "markdown",
   "id": "4d1664b5-75e0-46b7-9c2b-4ac9171f4597",
   "metadata": {},
   "source": [
    "## Essay Writer Interface"
   ]
  },
  {
   "cell_type": "code",
   "execution_count": 26,
   "id": "6e0ae270-3ec3-484a-b729-df7d2b7b0f76",
   "metadata": {
    "height": 81
   },
   "outputs": [],
   "source": [
    "import warnings\n",
    "warnings.filterwarnings(\"ignore\")\n",
    "\n",
    "from helper import ewriter, writer_gui"
   ]
  },
  {
   "cell_type": "code",
   "execution_count": 27,
   "id": "f0ebfa79-c7fc-4aaa-b668-64e5b6cede80",
   "metadata": {
    "height": 64
   },
   "outputs": [
    {
     "name": "stdout",
     "output_type": "stream",
     "text": [
      "* Running on local URL:  http://127.0.0.1:7860\n",
      "\n",
      "To create a public link, set `share=True` in `launch()`.\n"
     ]
    },
    {
     "data": {
      "text/html": [
       "<div><iframe src=\"http://127.0.0.1:7860/\" width=\"100%\" height=\"500\" allow=\"autoplay; camera; microphone; clipboard-read; clipboard-write;\" frameborder=\"0\" allowfullscreen></iframe></div>"
      ],
      "text/plain": [
       "<IPython.core.display.HTML object>"
      ]
     },
     "metadata": {},
     "output_type": "display_data"
    }
   ],
   "source": [
    "MultiAgent = ewriter()\n",
    "app = writer_gui(MultiAgent.graph)\n",
    "app.launch()"
   ]
  },
  {
   "cell_type": "code",
   "execution_count": null,
   "id": "592b5e62-a203-433c-92a0-3783f490cde1",
   "metadata": {
    "height": 30
   },
   "outputs": [],
   "source": []
  },
  {
   "cell_type": "code",
   "execution_count": null,
   "id": "14fa923c-7e4f-42d1-965f-0f8ccd50fbd7",
   "metadata": {
    "height": 30
   },
   "outputs": [],
   "source": []
  },
  {
   "cell_type": "code",
   "execution_count": null,
   "id": "570c6245-2837-4ac5-983b-95f61f3ac10d",
   "metadata": {
    "height": 30
   },
   "outputs": [],
   "source": []
  },
  {
   "cell_type": "code",
   "execution_count": null,
   "id": "6b910915-b087-4d35-afff-0ec30a5852f1",
   "metadata": {
    "height": 30
   },
   "outputs": [],
   "source": []
  },
  {
   "cell_type": "code",
   "execution_count": null,
   "id": "c4feb6cc-5129-4a99-bb45-851bc07b5709",
   "metadata": {
    "height": 30
   },
   "outputs": [],
   "source": []
  },
  {
   "cell_type": "code",
   "execution_count": null,
   "id": "e85a02b4-96cc-4b01-8792-397a774eb499",
   "metadata": {
    "height": 30
   },
   "outputs": [],
   "source": []
  },
  {
   "cell_type": "code",
   "execution_count": null,
   "id": "ae8b86a6-5e20-4252-b1d8-009b8318345a",
   "metadata": {
    "height": 30
   },
   "outputs": [],
   "source": []
  },
  {
   "cell_type": "code",
   "execution_count": null,
   "id": "af925917-b746-48c9-ac74-62fefbe5246c",
   "metadata": {
    "height": 30
   },
   "outputs": [],
   "source": []
  },
  {
   "cell_type": "code",
   "execution_count": null,
   "id": "d5048f2c-4d82-49a5-9cb1-918d78b39f7b",
   "metadata": {
    "height": 30
   },
   "outputs": [],
   "source": []
  },
  {
   "cell_type": "code",
   "execution_count": null,
   "id": "393f7f1f-68b4-4462-bfa5-b6472ef1304a",
   "metadata": {
    "height": 30
   },
   "outputs": [],
   "source": []
  },
  {
   "cell_type": "code",
   "execution_count": null,
   "id": "43ac0aa9-baa7-4b58-889d-2118cc00c6b5",
   "metadata": {
    "height": 30
   },
   "outputs": [],
   "source": []
  },
  {
   "cell_type": "code",
   "execution_count": null,
   "id": "ed6098b9-e2a9-4767-8cb5-346db835c8d2",
   "metadata": {
    "height": 30
   },
   "outputs": [],
   "source": []
  },
  {
   "cell_type": "code",
   "execution_count": null,
   "id": "2d23cf2a-a179-44dc-9ae3-2eddda4b67b4",
   "metadata": {
    "height": 30
   },
   "outputs": [],
   "source": []
  },
  {
   "cell_type": "code",
   "execution_count": null,
   "id": "14a6005b-0221-4f5e-9be0-0580c1d03126",
   "metadata": {
    "height": 30
   },
   "outputs": [],
   "source": []
  },
  {
   "cell_type": "code",
   "execution_count": null,
   "id": "41c1ec12-f1c8-41ae-bb3e-5f28997b9b99",
   "metadata": {
    "height": 30
   },
   "outputs": [],
   "source": []
  },
  {
   "cell_type": "code",
   "execution_count": null,
   "id": "5c8c07d7-be17-4c17-82c5-6fe1db028b8b",
   "metadata": {
    "height": 30
   },
   "outputs": [],
   "source": []
  },
  {
   "cell_type": "code",
   "execution_count": null,
   "id": "04592c8e-1cfe-4b26-93b5-caf1ed1e7d24",
   "metadata": {
    "height": 30
   },
   "outputs": [],
   "source": []
  },
  {
   "cell_type": "code",
   "execution_count": null,
   "id": "6181c4a9-0e71-4f67-b71f-18a225e37202",
   "metadata": {
    "height": 30
   },
   "outputs": [],
   "source": []
  },
  {
   "cell_type": "code",
   "execution_count": null,
   "id": "e1c478a9-7bfe-49e2-8a7d-1536271f45a6",
   "metadata": {
    "height": 30
   },
   "outputs": [],
   "source": []
  },
  {
   "cell_type": "code",
   "execution_count": null,
   "id": "0a6d6771-3fad-4f37-9b32-45b36ad85c59",
   "metadata": {
    "height": 30
   },
   "outputs": [],
   "source": []
  },
  {
   "cell_type": "code",
   "execution_count": null,
   "id": "a3629eb3-655d-467a-b413-63f547c2de08",
   "metadata": {
    "height": 30
   },
   "outputs": [],
   "source": []
  },
  {
   "cell_type": "code",
   "execution_count": null,
   "id": "f772f251-2b61-4d10-97c5-61cef9207a76",
   "metadata": {
    "height": 30
   },
   "outputs": [],
   "source": []
  },
  {
   "cell_type": "code",
   "execution_count": null,
   "id": "0de92979-7ac5-4a7c-91c1-10806b7d529c",
   "metadata": {
    "height": 30
   },
   "outputs": [],
   "source": []
  },
  {
   "cell_type": "code",
   "execution_count": null,
   "id": "479c4325-f625-4bbf-9d74-cc58f10763f2",
   "metadata": {
    "height": 30
   },
   "outputs": [],
   "source": []
  },
  {
   "cell_type": "code",
   "execution_count": null,
   "id": "c4070be7-72da-42f9-a25d-8a6c628788b8",
   "metadata": {
    "height": 30
   },
   "outputs": [],
   "source": []
  },
  {
   "cell_type": "code",
   "execution_count": null,
   "id": "9289efbe-7033-4f32-8482-2039c5f9db90",
   "metadata": {
    "height": 30
   },
   "outputs": [],
   "source": []
  },
  {
   "cell_type": "code",
   "execution_count": null,
   "id": "25e480bb-22ab-4acb-a42c-71da3d04a5b1",
   "metadata": {
    "height": 30
   },
   "outputs": [],
   "source": []
  },
  {
   "cell_type": "code",
   "execution_count": null,
   "id": "90dea35c-7483-4b3d-b5e3-76eb3a0fe536",
   "metadata": {
    "height": 30
   },
   "outputs": [],
   "source": []
  },
  {
   "cell_type": "code",
   "execution_count": null,
   "id": "e9ac5730-a9d5-4ea4-8546-ebcb265cf1da",
   "metadata": {
    "height": 30
   },
   "outputs": [],
   "source": []
  },
  {
   "cell_type": "code",
   "execution_count": null,
   "id": "96e1f28b-46d8-4bcd-b2e4-730376ee7ccf",
   "metadata": {
    "height": 30
   },
   "outputs": [],
   "source": []
  },
  {
   "cell_type": "code",
   "execution_count": null,
   "id": "22ac7020-b4f4-4bd2-a875-ccee93f83d83",
   "metadata": {
    "height": 30
   },
   "outputs": [],
   "source": []
  },
  {
   "cell_type": "code",
   "execution_count": null,
   "id": "61f79eb9-d1c9-44b0-9efd-a8f9b380332a",
   "metadata": {
    "height": 30
   },
   "outputs": [],
   "source": []
  },
  {
   "cell_type": "code",
   "execution_count": null,
   "id": "ce509206-bde1-43e4-a88f-8a565539d357",
   "metadata": {
    "height": 30
   },
   "outputs": [],
   "source": []
  },
  {
   "cell_type": "code",
   "execution_count": null,
   "id": "bdba1590-9e7b-4c0f-9492-81a07d286c55",
   "metadata": {
    "height": 30
   },
   "outputs": [],
   "source": []
  },
  {
   "cell_type": "code",
   "execution_count": null,
   "id": "aa8fe4a8-5372-479d-b248-af7a295c86c1",
   "metadata": {
    "height": 30
   },
   "outputs": [],
   "source": []
  },
  {
   "cell_type": "code",
   "execution_count": null,
   "id": "7514720a-14bc-4552-ade5-fa03f86f4c73",
   "metadata": {
    "height": 30
   },
   "outputs": [],
   "source": []
  }
 ],
 "metadata": {
  "kernelspec": {
   "display_name": "yolo",
   "language": "python",
   "name": "python3"
  },
  "language_info": {
   "codemirror_mode": {
    "name": "ipython",
    "version": 3
   },
   "file_extension": ".py",
   "mimetype": "text/x-python",
   "name": "python",
   "nbconvert_exporter": "python",
   "pygments_lexer": "ipython3",
   "version": "3.10.16"
  }
 },
 "nbformat": 4,
 "nbformat_minor": 5
}
