{
 "cells": [
  {
   "cell_type": "markdown",
   "id": "21fa2e13-567d-4509-9023-c99fb230f31f",
   "metadata": {},
   "source": [
    "# Lesson 2 : LangGraph Components"
   ]
  },
  {
   "cell_type": "code",
   "execution_count": 1,
   "id": "d0168aee-bce9-4d60-b827-f86a88187e31",
   "metadata": {},
   "outputs": [],
   "source": [
    "from langgraph.graph import StateGraph, END\n",
    "from typing import TypedDict, Annotated\n",
    "import operator\n",
    "from langchain_core.messages import AnyMessage, SystemMessage, HumanMessage, ToolMessage\n",
    "from langchain_openai import ChatOpenAI\n",
    "from langchain_community.tools.tavily_search import TavilySearchResults"
   ]
  },
  {
   "cell_type": "code",
   "execution_count": 2,
   "id": "b0672f6f",
   "metadata": {},
   "outputs": [],
   "source": [
    "# 这里需要输入Tavily api key，可以到Tavily网站申请\n",
    "\n",
    "import getpass\n",
    "import os\n",
    "\n",
    "def _set_env(var: str):\n",
    "    if not os.environ.get(var):\n",
    "        os.environ[var]=getpass.getpass(f\"{var}: \")\n",
    "\n",
    "_set_env(\"TAVILY_API_KEY\")"
   ]
  },
  {
   "cell_type": "code",
   "execution_count": 3,
   "id": "2589c5b6-6cc2-4594-9a17-dccdcf676054",
   "metadata": {},
   "outputs": [
    {
     "name": "stdout",
     "output_type": "stream",
     "text": [
      "<class 'langchain_community.tools.tavily_search.tool.TavilySearchResults'>\n",
      "tavily_search_results_json\n"
     ]
    }
   ],
   "source": [
    "# TavilySearchResults是一个预定义的搜索引擎tool\n",
    "tool = TavilySearchResults(max_results=4) #increased number of results\n",
    "print(type(tool))\n",
    "print(tool.name)"
   ]
  },
  {
   "cell_type": "markdown",
   "id": "e196c186-af55-4f2d-b569-b7d63a859304",
   "metadata": {},
   "source": [
    "> If you are not familiar with python typing annotation, you can refer to the [python documents](https://docs.python.org/3/library/typing.html)."
   ]
  },
  {
   "cell_type": "code",
   "execution_count": 4,
   "id": "a2ba84ec-c172-4de7-ac55-e3158a531b23",
   "metadata": {},
   "outputs": [],
   "source": [
    "class AgentState(TypedDict):\n",
    "    messages: Annotated[list[AnyMessage], operator.add]"
   ]
  },
  {
   "cell_type": "markdown",
   "id": "74c7ba73-e603-453b-b06f-5db92c567b19",
   "metadata": {},
   "source": [
    "> Note: in `take_action` below, some logic was added to cover the case that the LLM returned a non-existent tool name. Even with function calling, LLMs can still occasionally hallucinate. Note that all that is done is instructing the LLM to try again! An advantage of an agentic organization."
   ]
  },
  {
   "cell_type": "code",
   "execution_count": 5,
   "id": "876d5092-b8ef-4e38-b4d7-0e80c609bf7a",
   "metadata": {},
   "outputs": [],
   "source": [
    "class Agent:\n",
    "\n",
    "    # 后面执行abot = Agent(model, [tool], system=prompt)时会调用到__init__方法。\n",
    "    # 1. 创建graph。\n",
    "    # 2. 创建节点llm和action。\n",
    "    # 3. 创建条件边，从llm出发，根据条件函数exists_action的返回值，决定执行哪一条路径，True执行action节点，False执行END。\n",
    "    # 4. 创建action到llm的边。\n",
    "    # 5. set_entry_point的作用是“Specifies the first node to be called in the graph. Equivalent to calling `add_edge(START, key)`”\n",
    "    # 6. 将model和tools绑定。\n",
    "    def __init__(self, model, tools, system=\"\"):\n",
    "        self.system = system\n",
    "        graph = StateGraph(AgentState)\n",
    "        graph.add_node(\"llm\", self.call_openai)\n",
    "        graph.add_node(\"action\", self.take_action)\n",
    "        graph.add_conditional_edges(\n",
    "            \"llm\",\n",
    "            self.exists_action,\n",
    "            {True: \"action\", False: END}\n",
    "        )\n",
    "        graph.add_edge(\"action\", \"llm\")\n",
    "        graph.set_entry_point(\"llm\")\n",
    "        self.graph = graph.compile()\n",
    "        self.tools = {t.name: t for t in tools}\n",
    "        self.model = model.bind_tools(tools)\n",
    "\n",
    "    # 检查state中的最后一个消息是否包含工具调用\n",
    "    def exists_action(self, state: AgentState):\n",
    "        result = state['messages'][-1]\n",
    "        return len(result.tool_calls) > 0\n",
    "\n",
    "    def call_openai(self, state: AgentState):\n",
    "        messages = state['messages']\n",
    "        if self.system:\n",
    "            messages = [SystemMessage(content=self.system)] + messages\n",
    "        message = self.model.invoke(messages)\n",
    "        return {'messages': [message]}\n",
    "\n",
    "    def take_action(self, state: AgentState):\n",
    "        tool_calls = state['messages'][-1].tool_calls\n",
    "        results = []\n",
    "        for t in tool_calls:\n",
    "            print(f\"Calling: {t}\")\n",
    "            if not t['name'] in self.tools:      # check for bad tool name from LLM\n",
    "                print(\"\\n ....bad tool name....\")\n",
    "                result = \"bad tool name, retry\"  # instruct LLM to retry if bad\n",
    "            else:\n",
    "                result = self.tools[t['name']].invoke(t['args'])\n",
    "            results.append(ToolMessage(tool_call_id=t['id'], name=t['name'], content=str(result)))\n",
    "        print(\"Back to the model!\")\n",
    "        return {'messages': results}"
   ]
  },
  {
   "cell_type": "code",
   "execution_count": 6,
   "id": "10084a02-2928-4945-9f7c-ad3f5b33caf7",
   "metadata": {},
   "outputs": [],
   "source": [
    "prompt = \"\"\"You are a smart research assistant. Use the search engine to look up information. \\\n",
    "You are allowed to make multiple calls (either together or in sequence). \\\n",
    "Only look up information when you are sure of what you want. \\\n",
    "If you need to look up some information before asking a follow up question, you are allowed to do that!\n",
    "\"\"\"\n",
    "\n",
    "model = ChatOpenAI(\n",
    "    model_name='qwen2',\n",
    "    #model_name='deepseek-r1:32b',\n",
    "    openai_api_base=\"http://127.0.0.1:11434/v1\",\n",
    "    openai_api_key=\"EMPTY\",\n",
    "    streaming=True\n",
    ")\n",
    "abot = Agent(model, [tool], system=prompt)"
   ]
  },
  {
   "cell_type": "code",
   "execution_count": 7,
   "id": "a3d6f5f4-2392-41b9-ab96-7919840baa3e",
   "metadata": {},
   "outputs": [
    {
     "data": {
      "image/png": "[encoded data removed]",
      "text/plain": [
       "<IPython.core.display.Image object>"
      ]
     },
     "execution_count": 7,
     "metadata": {},
     "output_type": "execute_result"
    }
   ],
   "source": [
    "from IPython.display import Image\n",
    "\n",
    "Image(abot.graph.get_graph().draw_png())"
   ]
  },
  {
   "cell_type": "code",
   "execution_count": 8,
   "id": "83588e70-254f-4f83-a510-c8ae81e729b0",
   "metadata": {},
   "outputs": [
    {
     "name": "stdout",
     "output_type": "stream",
     "text": [
      "Calling: {'name': 'tavily_search_results_json', 'args': {'query': 'current weather in sf'}, 'id': 'call_idihsyga', 'type': 'tool_call'}\n",
      "Back to the model!\n"
     ]
    }
   ],
   "source": [
    "messages = [HumanMessage(content=\"What is the weather in sf?\")]\n",
    "result = abot.graph.invoke({\"messages\": messages})"
   ]
  },
  {
   "cell_type": "code",
   "execution_count": 9,
   "id": "89a06a8c-fcd4-4ca6-98f0-36c5809813e6",
   "metadata": {
    "scrolled": true
   },
   "outputs": [
    {
     "data": {
      "text/plain": [
       "{'messages': [HumanMessage(content='What is the weather in sf?', additional_kwargs={}, response_metadata={}),\n",
       "  AIMessage(content='', additional_kwargs={'tool_calls': [{'index': 0, 'id': 'call_idihsyga', 'function': {'arguments': '{\"query\":\"current weather in sf\"}', 'name': 'tavily_search_results_json'}, 'type': 'function'}]}, response_metadata={'finish_reason': 'tool_calls', 'model_name': 'qwen2', 'system_fingerprint': 'fp_ollama'}, id='run-79711b72-d77c-468f-9bdc-47ba16486a03-0', tool_calls=[{'name': 'tavily_search_results_json', 'args': {'query': 'current weather in sf'}, 'id': 'call_idihsyga', 'type': 'tool_call'}]),\n",
       "  ToolMessage(content='[{\\'title\\': \\'Weather in san francisco ca\\', \\'url\\': \\'https://www.weatherapi.com/\\', \\'content\\': \"{\\'location\\': {\\'name\\': \\'San Francisco\\', \\'region\\': \\'California\\', \\'country\\': \\'United States of America\\', \\'lat\\': 37.775, \\'lon\\': -122.4183, \\'tz_id\\': \\'America/Los_Angeles\\', \\'localtime_epoch\\': 1741864084, \\'localtime\\': \\'2025-03-13 04:08\\'}, \\'current\\': {\\'last_updated_epoch\\': 1741863600, \\'last_updated\\': \\'2025-03-13 04:00\\', \\'temp_c\\': 8.9, \\'temp_f\\': 48.0, \\'is_day\\': 0, \\'condition\\': {\\'text\\': \\'Partly cloudy\\', \\'icon\\': \\'//cdn.weatherapi.com/weather/64x64/night/116.png\\', \\'code\\': 1003}, \\'wind_mph\\': 11.4, \\'wind_kph\\': 18.4, \\'wind_degree\\': 239, \\'wind_dir\\': \\'WSW\\', \\'pressure_mb\\': 1008.0, \\'pressure_in\\': 29.77, \\'precip_mm\\': 0.0, \\'precip_in\\': 0.0, \\'humidity\\': 80, \\'cloud\\': 75, \\'feelslike_c\\': 6.2, \\'feelslike_f\\': 43.1, \\'windchill_c\\': 5.4, \\'windchill_f\\': 41.8, \\'heatindex_c\\': 8.7, \\'heatindex_f\\': 47.7, \\'dewpoint_c\\': 6.0, \\'dewpoint_f\\': 42.8, \\'vis_km\\': 16.0, \\'vis_miles\\': 9.0, \\'uv\\': 0.0, \\'gust_mph\\': 18.2, \\'gust_kph\\': 29.2}}\", \\'score\\': 0.9118816}, {\\'title\\': \\'Weather in San Francisco in March 2025 (California)\\', \\'url\\': \\'https://world-weather.info/forecast/usa/san_francisco/march-2025/\\', \\'content\\': \"Weather in San Francisco in March 2025 (California) - Detailed Weather Forecast for a Month Weather in San Francisco Weather in San Francisco in March 2025 San Francisco Weather Forecast for March 2025 is based on long term prognosis and previous years\\' statistical data. 1 +54°+52° 2 +54°+50° 3 +54°+50° 4 +54°+48° 5 +61°+46° +59°+50° +59°+50° +61°+50° +61°+52° +61°+52° +63°+52° +63°+52° +61°+52° +61°+52° +63°+54° +61°+52° +63°+50° +61°+52° +61°+52° +59°+52° +61°+52° +59°+50° +57°+50° +57°+50° +59°+50° +59°+50° +61°+52° +63°+52° +63°+54° +63°+52° +63°+54° Extended weather forecast in San Francisco HourlyWeek10-Day14-Day30-DayYear Weather in Washington, D.C.+32° Sacramento+55° Pleasanton+52° Redwood City+55° San Leandro+55° San Mateo+54° San Rafael+55° San Ramon+52° South San Francisco+54° Vallejo+54° Palo Alto+55° Pacifica+55° Berkeley+57° Castro Valley+54° Concord+54° Daly City+54° Lagunitas+55° world\\'s temperature today day day Temperature units\", \\'score\\': 0.87113565}, {\\'title\\': \\'San Francisco weather in March 2025 | Weather25.com\\', \\'url\\': \\'https://www.weather25.com/north-america/usa/california/san-francisco?page=month&month=March\\', \\'content\\': \\'San Francisco weather in March 2025 | Weather25.com San Francisco weather in March 2025 | San Francisco in March | Temperatures in San Francisco in March Weather in San Francisco in March - FAQ The average temperature in San Francisco in March is 8/17° C. On average, there are 5 rainy days in San Francisco during March. The weather in San Francisco in March is good. On average, there are 0 snowy days in San Francisco in March. More about the weather in San Francisco San Francisco 14 day weather Long range weather for San Francisco San Francisco weather in November San Francisco weather in December San Francisco Webcam Weather tomorrow Hotels in San Francisco\\', \\'score\\': 0.8430832}, {\\'title\\': \\'San Francisco, CA Monthly Weather - AccuWeather\\', \\'url\\': \\'https://www.accuweather.com/en/us/san-francisco/94103/march-weather/347629\\', \\'content\\': \"San Francisco, CA Monthly Weather | AccuWeather San Francisco, CA ================= 48°F  San Francisco, CA Weather ### Hurricane Tracker### Severe Weather### Radar & Maps### News### Video### Winter Center 2 hours ago Weather Forecasts Spring forecast 2025: US faces split between warmups, lingering chill 2 days ago Winter Weather Winter storms to rage on across the nation early next week 8 hours ago Astronomy Mercury is about to join the planetary parade, but there\\'s a catch 1 day ago  More Stories AccuWeather Ready Business Health Hurricane Leisure and Recreation Severe Weather Space and Astronomy Sports Travel Weather News Winter Center AccuWeather Ready Business Health Hurricane Leisure and Recreation Severe Weather Space and Astronomy Sports Travel Weather News Winter Center\", \\'score\\': 0.6158511}]', name='tavily_search_results_json', tool_call_id='call_idihsyga'),\n",
       "  AIMessage(content='The current weather in San Francisco is as follows: \\nTemperature: Around 8.9°C (48°F)\\nCondition: Partly cloudy\\nWind Speed: 11.4 mph (18.4 km/h)\\nHumidity: 80%\\nCloud Cover: 75%\\n\\nAs of today, the conditions seem to be comfortable with a mix of sun and clouds.', additional_kwargs={}, response_metadata={'finish_reason': 'stop', 'model_name': 'qwen2', 'system_fingerprint': 'fp_ollama'}, id='run-12bac09c-daeb-4747-b4df-fbfefec20b29-0')]}"
      ]
     },
     "execution_count": 9,
     "metadata": {},
     "output_type": "execute_result"
    }
   ],
   "source": [
    "result"
   ]
  },
  {
   "cell_type": "code",
   "execution_count": 10,
   "id": "6cb3ef4c-58b3-401b-b104-0d51e553d982",
   "metadata": {},
   "outputs": [
    {
     "data": {
      "text/plain": [
       "'The current weather in San Francisco is as follows: \\nTemperature: Around 8.9°C (48°F)\\nCondition: Partly cloudy\\nWind Speed: 11.4 mph (18.4 km/h)\\nHumidity: 80%\\nCloud Cover: 75%\\n\\nAs of today, the conditions seem to be comfortable with a mix of sun and clouds.'"
      ]
     },
     "execution_count": 10,
     "metadata": {},
     "output_type": "execute_result"
    }
   ],
   "source": [
    "result['messages'][-1].content"
   ]
  },
  {
   "cell_type": "markdown",
   "id": "51d9568a",
   "metadata": {},
   "source": [
    "Qwne2直接把2个子问题一起去搜索，GPT分成2个子问题，并行搜索。"
   ]
  },
  {
   "cell_type": "code",
   "execution_count": 11,
   "id": "dc3293b7-a50c-43c8-a022-8975e1e444b8",
   "metadata": {},
   "outputs": [
    {
     "name": "stdout",
     "output_type": "stream",
     "text": [
      "Calling: {'name': 'tavily_search_results_json', 'args': {'query': 'current weather condition in SF and LA'}, 'id': 'call_3kei1vd8', 'type': 'tool_call'}\n",
      "Back to the model!\n"
     ]
    }
   ],
   "source": [
    "messages = [HumanMessage(content=\"What is the weather in SF and LA?\")]\n",
    "result = abot.graph.invoke({\"messages\": messages})"
   ]
  },
  {
   "cell_type": "code",
   "execution_count": 12,
   "id": "0722c3d4-4cbf-43bf-81b0-50f634c4ce61",
   "metadata": {},
   "outputs": [
    {
     "data": {
      "text/plain": [
       "'The current weather conditions in San Francisco, California:\\n\\n- Temperature: About 16.3°C (61.3°F)\\n- Condition: Partly cloudy\\n- Wind: \\n  - Speed: 2.2 mph (3.6 km/h)\\n  - Direction: NE (39 degrees)\\n- Humidity: 88%\\n- Pressure: 1019.0 mb / 30.09 inHg\\n\\nThe current weather conditions in Los Angeles, California:\\n\\n- Temperature: About 65°F\\n- Condition: Chance of Rain is currently 0% \\n\\nCheck the provided links for more detailed information and forecasts.'"
      ]
     },
     "execution_count": 12,
     "metadata": {},
     "output_type": "execute_result"
    }
   ],
   "source": [
    "result['messages'][-1].content"
   ]
  },
  {
   "cell_type": "markdown",
   "id": "f00624e0",
   "metadata": {},
   "source": [
    "Qwen2模型没有把这个复杂的问题分成3个子问题，依次调用Tavily工具搜索，只搜索了第1个子问题。GPT能很好的回答3个子问题。"
   ]
  },
  {
   "cell_type": "code",
   "execution_count": 15,
   "id": "6b2f82fe-3ec4-4917-be51-9fb10d1317fa",
   "metadata": {},
   "outputs": [
    {
     "name": "stdout",
     "output_type": "stream",
     "text": [
      "Calling: {'name': 'tavily_search_results_json', 'args': {'query': 'who won the super bowl in 2024'}, 'id': 'call_2j6shkft', 'type': 'tool_call'}\n",
      "Back to the model!\n"
     ]
    }
   ],
   "source": [
    "# Note, the query was modified to produce more consistent results. \n",
    "# Results may vary per run and over time as search information and models change.\n",
    "\n",
    "query = \"Who won the super bowl in 2024? In what state is the winning team headquarters located? \\\n",
    "What is the GDP of that state? Answer each question.\" \n",
    "messages = [HumanMessage(content=query)]\n",
    "\n",
    "abot = Agent(model, [tool], system=prompt)\n",
    "result = abot.graph.invoke({\"messages\": messages})"
   ]
  },
  {
   "cell_type": "code",
   "execution_count": 16,
   "id": "ee0fe1c7-77e2-499c-a2f9-1f739bb6ddf0",
   "metadata": {},
   "outputs": [
    {
     "name": "stdout",
     "output_type": "stream",
     "text": [
      "<root>\n",
      "  <query_results>\n",
      "    <query_result score=\"0.4\" title=\"Super Bowl Winners by Year - ESPN\">\n",
      "      <url>http://www.espn.com/nfl/superbowl/history/winners</url>\n",
      "      <content>Super Bowl Winners by Year - ESPN NFL History - Super Bowl Winners Leaders Super Bowl Winners Super Bowl MVPs SPORTS NBA College Football Olympic Sports Horse Racing Football ESPN THE MAGAZINE TEAM ESPN ESPN FRONT ROW ESPN NBA More Sports Gaming NBA G League NBA Summer League RN BB RN FB Sports Betting X Games ESPN BET ESPN+ Super Bowl Winners Weekly Leaders ESPN.com: Help | Press | Advertise on ESPN.com | Sales Media Kit | Interest-Based Ads | Do Not Sell or Share My Personal Information | Report a Bug | Corrections | Contact Us | Site Map | Jobs at ESPN © 2025 ESPN Internet Ventures.</content>\n",
      "    </query_result>\n",
      "    <query_result score=\"0.3\" title=\"Super Bowl LVIII - Wikipedia\">\n",
      "      <url>https://en.wikipedia.org/wiki/Super_Bowl_LVIII</url>\n",
      "      <content>The game was televised nationally by CBS, streamed on Paramount+, alternatively broadcast on youth-oriented sister network Nickelodeon, and televised on the Spanish-language network Univision.[14] It was also the second simulcast in Super Bowl history, and the first since Super Bowl I.[15] Super Bowl LVIII became the most watched program in American television history, with a total of 123.7 million average viewers across all platforms, which broke the average record of 115.1 million viewers set by the previous year's Super Bowl.[16][3] The game saw the highest unduplicated total audience in history with more than 200 million viewers watching all or part of the game.[17] It was the most-watched United States broadcast since the Apollo 11 moon landing,[18] attributed to the Taylor Swift effect.</content>\n",
      "    </query_result>\n",
      "  </query_results>\n",
      "</root>\n"
     ]
    }
   ],
   "source": [
    "print(result['messages'][-1].content)"
   ]
  },
  {
   "cell_type": "code",
   "execution_count": null,
   "id": "1d643182-2802-40fb-ba35-d4f893c5b976",
   "metadata": {},
   "outputs": [],
   "source": []
  }
 ],
 "metadata": {
  "kernelspec": {
   "display_name": "yolo",
   "language": "python",
   "name": "python3"
  },
  "language_info": {
   "codemirror_mode": {
    "name": "ipython",
    "version": 3
   },
   "file_extension": ".py",
   "mimetype": "text/x-python",
   "name": "python",
   "nbconvert_exporter": "python",
   "pygments_lexer": "ipython3",
   "version": "3.10.16"
  }
 },
 "nbformat": 4,
 "nbformat_minor": 5
}
