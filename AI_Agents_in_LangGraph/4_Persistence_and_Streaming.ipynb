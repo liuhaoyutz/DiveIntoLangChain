{
 "cells": [
  {
   "cell_type": "markdown",
   "id": "b5789bc3-b1ae-42c7-94a8-2ef4f89946fc",
   "metadata": {},
   "source": [
    "# Lesson 4: Persistence and Streaming"
   ]
  },
  {
   "cell_type": "code",
   "execution_count": 1,
   "id": "f5762271-8736-4e94-9444-8c92bd0e8074",
   "metadata": {
    "height": 64
   },
   "outputs": [],
   "source": [
    "import getpass\n",
    "import os\n",
    "\n",
    "def _set_env(var: str):\n",
    "    if not os.environ.get(var):\n",
    "        os.environ[var]=getpass.getpass(f\"{var}: \")\n",
    "\n",
    "_set_env(\"TAVILY_API_KEY\")"
   ]
  },
  {
   "cell_type": "code",
   "execution_count": 2,
   "id": "d0168aee-bce9-4d60-b827-f86a88187e31",
   "metadata": {
    "height": 115
   },
   "outputs": [],
   "source": [
    "from langgraph.graph import StateGraph, END\n",
    "from typing import TypedDict, Annotated\n",
    "import operator\n",
    "from langchain_core.messages import AnyMessage, SystemMessage, HumanMessage, ToolMessage\n",
    "from langchain_openai import ChatOpenAI\n",
    "from langchain_community.tools.tavily_search import TavilySearchResults"
   ]
  },
  {
   "cell_type": "code",
   "execution_count": 3,
   "id": "da06a64f-a2d5-4a66-8090-9ada0930c684",
   "metadata": {
    "height": 30
   },
   "outputs": [],
   "source": [
    "tool = TavilySearchResults(max_results=2)"
   ]
  },
  {
   "cell_type": "code",
   "execution_count": 4,
   "id": "2589c5b6-6cc2-4594-9a17-dccdcf676054",
   "metadata": {
    "height": 47
   },
   "outputs": [],
   "source": [
    "class AgentState(TypedDict):\n",
    "    messages: Annotated[list[AnyMessage], operator.add]"
   ]
  },
  {
   "cell_type": "markdown",
   "id": "22ef07b7",
   "metadata": {},
   "source": [
    "需要安装pip install langgraph-checkpoint-sqlite"
   ]
  },
  {
   "cell_type": "markdown",
   "id": "d682d914",
   "metadata": {},
   "source": [
    "使用SqliteSaver会出现'_GeneratorContextManager' object has no attribute 'get_next_version'错误。"
   ]
  },
  {
   "cell_type": "code",
   "execution_count": 5,
   "id": "9c033522-d2fc-41ac-8e3c-5e35872bf88d",
   "metadata": {
    "height": 64
   },
   "outputs": [],
   "source": [
    "\"\"\"\n",
    "from langgraph.checkpoint.sqlite import SqliteSaver\n",
    "\n",
    "memory = SqliteSaver.from_conn_string(\":memory:\")\n",
    "\"\"\"\n",
    "\n",
    "from langgraph.checkpoint.memory import MemorySaver\n",
    "\n",
    "memory = MemorySaver()"
   ]
  },
  {
   "cell_type": "code",
   "execution_count": 6,
   "id": "a2ba84ec-c172-4de7-ac55-e3158a531b23",
   "metadata": {
    "height": 574
   },
   "outputs": [],
   "source": [
    "class Agent:\n",
    "    def __init__(self, model, tools, checkpointer, system=\"\"):\n",
    "        self.system = system\n",
    "        graph = StateGraph(AgentState)\n",
    "        graph.add_node(\"llm\", self.call_openai)\n",
    "        graph.add_node(\"action\", self.take_action)\n",
    "        graph.add_conditional_edges(\"llm\", self.exists_action, {True: \"action\", False: END})\n",
    "        graph.add_edge(\"action\", \"llm\")\n",
    "        graph.set_entry_point(\"llm\")\n",
    "        self.graph = graph.compile(checkpointer=checkpointer)\n",
    "        self.tools = {t.name: t for t in tools}\n",
    "        self.model = model.bind_tools(tools)\n",
    "\n",
    "    def call_openai(self, state: AgentState):\n",
    "        messages = state['messages']\n",
    "        if self.system:\n",
    "            messages = [SystemMessage(content=self.system)] + messages\n",
    "        message = self.model.invoke(messages)\n",
    "        return {'messages': [message]}\n",
    "\n",
    "    def exists_action(self, state: AgentState):\n",
    "        result = state['messages'][-1]\n",
    "        return len(result.tool_calls) > 0\n",
    "\n",
    "    def take_action(self, state: AgentState):\n",
    "        tool_calls = state['messages'][-1].tool_calls\n",
    "        results = []\n",
    "        for t in tool_calls:\n",
    "            print(f\"Calling: {t}\")\n",
    "            result = self.tools[t['name']].invoke(t['args'])\n",
    "            results.append(ToolMessage(tool_call_id=t['id'], name=t['name'], content=str(result)))\n",
    "        print(\"Back to the model!\")\n",
    "        return {'messages': results}"
   ]
  },
  {
   "cell_type": "code",
   "execution_count": 7,
   "id": "876d5092-b8ef-4e38-b4d7-0e80c609bf7a",
   "metadata": {
    "height": 132
   },
   "outputs": [],
   "source": [
    "prompt = \"\"\"You are a smart research assistant. Use the search engine to look up information. \\\n",
    "You are allowed to make multiple calls (either together or in sequence). \\\n",
    "Only look up information when you are sure of what you want. \\\n",
    "If you need to look up some information before asking a follow up question, you are allowed to do that!\n",
    "\"\"\"\n",
    "\n",
    "model = ChatOpenAI(\n",
    "    model_name='qwen2',\n",
    "    #model_name='deepseek-r1:32b',\n",
    "    openai_api_base=\"http://127.0.0.1:11434/v1\",\n",
    "    openai_api_key=\"EMPTY\",\n",
    "    streaming=True\n",
    ")\n",
    "\n",
    "abot = Agent(model, [tool], system=prompt, checkpointer=memory)"
   ]
  },
  {
   "cell_type": "code",
   "execution_count": 8,
   "id": "10084a02-2928-4945-9f7c-ad3f5b33caf7",
   "metadata": {
    "height": 30
   },
   "outputs": [],
   "source": [
    "messages = [HumanMessage(content=\"What is the weather in sf?\")]"
   ]
  },
  {
   "cell_type": "code",
   "execution_count": 9,
   "id": "714d1205-f8fc-4912-b148-2a45da99219c",
   "metadata": {
    "height": 30
   },
   "outputs": [],
   "source": [
    "thread = {\"configurable\": {\"thread_id\": \"1\"}}"
   ]
  },
  {
   "cell_type": "code",
   "execution_count": 10,
   "id": "83588e70-254f-4f83-a510-c8ae81e729b0",
   "metadata": {
    "height": 64
   },
   "outputs": [
    {
     "name": "stdout",
     "output_type": "stream",
     "text": [
      "[AIMessage(content='', additional_kwargs={'tool_calls': [{'index': 0, 'id': 'call_xi6k7uhk', 'function': {'arguments': '{\"query\":\"weather in sf\"}', 'name': 'tavily_search_results_json'}, 'type': 'function'}]}, response_metadata={'finish_reason': 'tool_calls', 'model_name': 'qwen2', 'system_fingerprint': 'fp_ollama'}, id='run-c695e7c9-1e05-4726-b897-bc5468d1c509-0', tool_calls=[{'name': 'tavily_search_results_json', 'args': {'query': 'weather in sf'}, 'id': 'call_xi6k7uhk', 'type': 'tool_call'}])]\n",
      "Calling: {'name': 'tavily_search_results_json', 'args': {'query': 'weather in sf'}, 'id': 'call_xi6k7uhk', 'type': 'tool_call'}\n",
      "Back to the model!\n",
      "[ToolMessage(content='[{\\'title\\': \\'Weather in san francisco\\', \\'url\\': \\'https://www.weatherapi.com/\\', \\'content\\': \"{\\'location\\': {\\'name\\': \\'San Francisco\\', \\'region\\': \\'California\\', \\'country\\': \\'United States of America\\', \\'lat\\': 37.775, \\'lon\\': -122.4183, \\'tz_id\\': \\'America/Los_Angeles\\', \\'localtime_epoch\\': 1741479046, \\'localtime\\': \\'2025-03-08 16:10\\'}, \\'current\\': {\\'last_updated_epoch\\': 1741478400, \\'last_updated\\': \\'2025-03-08 16:00\\', \\'temp_c\\': 12.3, \\'temp_f\\': 54.1, \\'is_day\\': 1, \\'condition\\': {\\'text\\': \\'Mist\\', \\'icon\\': \\'//cdn.weatherapi.com/weather/64x64/day/143.png\\', \\'code\\': 1030}, \\'wind_mph\\': 6.9, \\'wind_kph\\': 11.2, \\'wind_degree\\': 271, \\'wind_dir\\': \\'W\\', \\'pressure_mb\\': 1025.0, \\'pressure_in\\': 30.28, \\'precip_mm\\': 0.0, \\'precip_in\\': 0.0, \\'humidity\\': 88, \\'cloud\\': 0, \\'feelslike_c\\': 11.2, \\'feelslike_f\\': 52.2, \\'windchill_c\\': 9.4, \\'windchill_f\\': 48.9, \\'heatindex_c\\': 10.4, \\'heatindex_f\\': 50.6, \\'dewpoint_c\\': 9.3, \\'dewpoint_f\\': 48.7, \\'vis_km\\': 9.7, \\'vis_miles\\': 6.0, \\'uv\\': 1.0, \\'gust_mph\\': 9.6, \\'gust_kph\\': 15.5}}\", \\'score\\': 0.7033789}, {\\'title\\': \\'Weather Forecast and Conditions for San Francisco, CA\\', \\'url\\': \\'https://weather.com/weather/today/l/USCA0987:1:US\\', \\'content\\': \"Weather Forecast and Conditions for San Francisco, CA - The Weather Channel | Weather.com Weather Forecasts Today\\'s Forecast for San Francisco, CA Weather Today in San Francisco, CA Northeast Snow Totals Likely To Surpass Past 2 Winters Combined ### Now 49° Chance of Rain2% ### 10 pm 48° Chance of Rain2% ### 11 pm 47° Chance of Rain2% ### 12 am 46° Chance of Rain2% Breathe Easier This Winter By Improving Indoor Air Quality Thank You Blithedale Canyon / Middle Ridge Neighbor 0d ago 9reactions6commentsMoreCoast cafe OPEN after our Winter Break!We are now back from our vacations and OPEN for our Winter Hours. Weather Data APIs We may use or share your data with our data vendors.\", \\'score\\': 0.5568099}]', name='tavily_search_results_json', tool_call_id='call_xi6k7uhk')]\n",
      "[AIMessage(content=\"The current weather in San Francisco, California is mist with a temperature of approximately 12.3°C (54.1°F). The conditions are characterized by low humidity (88%) and moderate wind blowing from the west at a speed of 6.9 mph (11.2 km/h). There's no precipitation reported. The humidity feels like it matches the outdoor temperature indicating comfortable conditions for most.\\n\\nThe current forecast suggests that throughout the evening, temperatures will drop slightly with a chance of rain remaining low for several hours starting from 10 pm to around midnight.\\n\\nRemember to check again at a later time as weather can be unpredictable and quickly changing.\\n  \\nSource: https://www.weatherapi.com/\", additional_kwargs={}, response_metadata={'finish_reason': 'stop', 'model_name': 'qwen2', 'system_fingerprint': 'fp_ollama'}, id='run-d4820982-e2a4-4807-9d36-d5a13df6122f-0')]\n"
     ]
    }
   ],
   "source": [
    "for event in abot.graph.stream({\"messages\": messages}, thread):\n",
    "    for v in event.values():\n",
    "        print(v['messages'])"
   ]
  },
  {
   "cell_type": "code",
   "execution_count": 11,
   "id": "6cb3ef4c-58b3-401b-b104-0d51e553d982",
   "metadata": {
    "height": 98
   },
   "outputs": [
    {
     "name": "stdout",
     "output_type": "stream",
     "text": [
      "{'messages': [AIMessage(content='', additional_kwargs={'tool_calls': [{'index': 0, 'id': 'call_h2x6t26j', 'function': {'arguments': '{\"query\":\"weather in la\"}', 'name': 'tavily_search_results_json'}, 'type': 'function'}]}, response_metadata={'finish_reason': 'tool_calls', 'model_name': 'qwen2', 'system_fingerprint': 'fp_ollama'}, id='run-463d7dd1-6c6c-4cee-9878-30e72d3076b9-0', tool_calls=[{'name': 'tavily_search_results_json', 'args': {'query': 'weather in la'}, 'id': 'call_h2x6t26j', 'type': 'tool_call'}])]}\n",
      "Calling: {'name': 'tavily_search_results_json', 'args': {'query': 'weather in la'}, 'id': 'call_h2x6t26j', 'type': 'tool_call'}\n",
      "Back to the model!\n",
      "{'messages': [ToolMessage(content='[{\\'title\\': \\'Weather in los angeles, california\\', \\'url\\': \\'https://www.weatherapi.com/\\', \\'content\\': \"{\\'location\\': {\\'name\\': \\'Los Angeles\\', \\'region\\': \\'California\\', \\'country\\': \\'United States of America\\', \\'lat\\': 34.0522, \\'lon\\': -118.2428, \\'tz_id\\': \\'America/Los_Angeles\\', \\'localtime_epoch\\': 1741479051, \\'localtime\\': \\'2025-03-08 16:10\\'}, \\'current\\': {\\'last_updated_epoch\\': 1741478400, \\'last_updated\\': \\'2025-03-08 16:00\\', \\'temp_c\\': 17.2, \\'temp_f\\': 63.0, \\'is_day\\': 1, \\'condition\\': {\\'text\\': \\'Sunny\\', \\'icon\\': \\'//cdn.weatherapi.com/weather/64x64/day/113.png\\', \\'code\\': 1000}, \\'wind_mph\\': 7.8, \\'wind_kph\\': 12.6, \\'wind_degree\\': 228, \\'wind_dir\\': \\'SW\\', \\'pressure_mb\\': 1024.0, \\'pressure_in\\': 30.24, \\'precip_mm\\': 0.0, \\'precip_in\\': 0.0, \\'humidity\\': 54, \\'cloud\\': 0, \\'feelslike_c\\': 17.2, \\'feelslike_f\\': 63.0, \\'windchill_c\\': 18.3, \\'windchill_f\\': 64.9, \\'heatindex_c\\': 18.3, \\'heatindex_f\\': 64.9, \\'dewpoint_c\\': 7.8, \\'dewpoint_f\\': 46.1, \\'vis_km\\': 16.0, \\'vis_miles\\': 9.0, \\'uv\\': 0.9, \\'gust_mph\\': 9.0, \\'gust_kph\\': 14.5}}\", \\'score\\': 0.8596418}, {\\'title\\': \\'Weather Forecast and Conditions for Los Angeles, CA\\', \\'url\\': \\'https://weather.com/weather/today/l/Los+Angeles+CA?canonicalCityId=84c64154109916077c8d3c2352410aaae5f6eeff682000e3a7470e38976128c2\\', \\'content\\': \"Weather Forecast and Conditions for Los Angeles, CA - The Weather Channel | Weather.com Weather Forecasts Today\\'s Forecast for Los Angeles, CA Weather Today in Los Angeles, CA Weather Pattern Change And Snowy Forecast Hourly Forecast ### Now 65° Chance of Rain0% ### 1 pm 65° Chance of Rain0% ### 2 pm 65° Chance of Rain0% ### 3 pm 64° Chance of Rain0% ### 4 pm 61° Chance of Rain1% The Best Cold Weather Shower Routine For Your Skin Cold Weather Vegetables That Taste Even Better In Winter Forecast Location Terms of Use | Privacy Policy We recognize our responsibility to use data and technology for good. We may use or share your data with our data vendors.\", \\'score\\': 0.55478466}]', name='tavily_search_results_json', tool_call_id='call_h2x6t26j')]}\n",
      "{'messages': [AIMessage(content='The current weather in Los Angeles, California is sunny with a temperature of approximately 17.2°C (63.0°F). Conditions are favorable with low humidity at about 54% and moderate wind blowing from the southwest at around 7.8 mph (12.6 km/h).\\n\\nThere seems to be no precipitation reported. The conditions feel somewhat warm as reflected by similar temperatures.\\n\\nThe latest weather forecast does not indicate any high chance of rain in the coming hours, suggesting light winds or conditions where showers are unlikely.\\n\\nSource: https://www.weatherapi.com/', additional_kwargs={}, response_metadata={'finish_reason': 'stop', 'model_name': 'qwen2', 'system_fingerprint': 'fp_ollama'}, id='run-948ad77d-830b-4b1b-9ce0-054732adf781-0')]}\n"
     ]
    }
   ],
   "source": [
    "messages = [HumanMessage(content=\"What about in la?\")]\n",
    "thread = {\"configurable\": {\"thread_id\": \"1\"}}\n",
    "for event in abot.graph.stream({\"messages\": messages}, thread):\n",
    "    for v in event.values():\n",
    "        print(v)"
   ]
  },
  {
   "cell_type": "code",
   "execution_count": 12,
   "id": "dc3293b7-a50c-43c8-a022-8975e1e444b8",
   "metadata": {
    "height": 98
   },
   "outputs": [
    {
     "name": "stdout",
     "output_type": "stream",
     "text": [
      "{'messages': [AIMessage(content='Based on the information available, San Francisco has a temperature around 12.3°C (54.1°F) while Los Angeles has a temperature at about 17.2°C (63.0°F). Therefore, Los Angeles is warmer than San Francisco.\\n\\nSource: https://www.weatherapi.com/', additional_kwargs={}, response_metadata={'finish_reason': 'stop', 'model_name': 'qwen2', 'system_fingerprint': 'fp_ollama'}, id='run-3f37e96b-5f90-43c1-afb1-5faba8589b4c-0')]}\n"
     ]
    }
   ],
   "source": [
    "messages = [HumanMessage(content=\"Which one is warmer?\")]\n",
    "thread = {\"configurable\": {\"thread_id\": \"1\"}}\n",
    "for event in abot.graph.stream({\"messages\": messages}, thread):\n",
    "    for v in event.values():\n",
    "        print(v)"
   ]
  },
  {
   "cell_type": "code",
   "execution_count": 13,
   "id": "0722c3d4-4cbf-43bf-81b0-50f634c4ce61",
   "metadata": {
    "height": 98
   },
   "outputs": [
    {
     "name": "stdout",
     "output_type": "stream",
     "text": [
      "{'messages': [AIMessage(content='To answer your question accurately, I need more context. Are you asking about the temperature of two different places or comparing two substances based on their heat content? Could you please provide more details?', additional_kwargs={}, response_metadata={'finish_reason': 'stop', 'model_name': 'qwen2', 'system_fingerprint': 'fp_ollama'}, id='run-4332c066-49f1-4d46-9ff7-3e1e58359d3d-0')]}\n"
     ]
    }
   ],
   "source": [
    "messages = [HumanMessage(content=\"Which one is warmer?\")]\n",
    "thread = {\"configurable\": {\"thread_id\": \"2\"}}\n",
    "for event in abot.graph.stream({\"messages\": messages}, thread):\n",
    "    for v in event.values():\n",
    "        print(v)"
   ]
  },
  {
   "cell_type": "markdown",
   "id": "ace59a36-3941-459e-b9d1-ac5a4a1ed3ae",
   "metadata": {},
   "source": [
    "## Streaming tokens"
   ]
  },
  {
   "cell_type": "markdown",
   "id": "b16e23b0",
   "metadata": {},
   "source": [
    "使用AsyncSqliteSaver会出现'_AsyncGeneratorContextManager' object has no attribute 'get_next_version'错误"
   ]
  },
  {
   "cell_type": "code",
   "execution_count": 14,
   "id": "6b2f82fe-3ec4-4917-be51-9fb10d1317fa",
   "metadata": {
    "height": 81
   },
   "outputs": [],
   "source": [
    "\"\"\"\n",
    "#from langgraph.checkpoint.aiosqlite import AsyncSqliteSaver\n",
    "from langgraph.checkpoint.sqlite.aio import AsyncSqliteSaver\n",
    "\n",
    "memory = AsyncSqliteSaver.from_conn_string(\":memory:\")\n",
    "\"\"\"\n",
    "\n",
    "from langgraph.checkpoint.memory import MemorySaver\n",
    "memory = MemorySaver()"
   ]
  },
  {
   "cell_type": "code",
   "execution_count": 15,
   "id": "c2411f67",
   "metadata": {},
   "outputs": [],
   "source": [
    "abot = Agent(model, [tool], system=prompt, checkpointer=memory)"
   ]
  },
  {
   "cell_type": "code",
   "execution_count": 16,
   "id": "ee0fe1c7-77e2-499c-a2f9-1f739bb6ddf0",
   "metadata": {
    "height": 200
   },
   "outputs": [
    {
     "name": "stdout",
     "output_type": "stream",
     "text": [
      "Calling: {'name': 'tavily_search_results_json', 'args': {'query': 'weather in SF'}, 'id': 'call_gljnr3he', 'type': 'tool_call'}\n",
      "Back to the model!\n"
     ]
    }
   ],
   "source": [
    "messages = [HumanMessage(content=\"What is the weather in SF?\")]\n",
    "thread = {\"configurable\": {\"thread_id\": \"4\"}}\n",
    "async for event in abot.graph.astream_events({\"messages\": messages}, thread, version=\"v1\"):\n",
    "    kind = event[\"event\"]\n",
    "    if kind == \"on_chat_model_stream\":\n",
    "        content = event[\"data\"][\"chunk\"].content\n",
    "        if content:\n",
    "            # Empty content in the context of OpenAI means\n",
    "            # that the model is asking for a tool to be invoked.\n",
    "            # So we only print non-empty content\n",
    "            print(content, end=\"|\")"
   ]
  }
 ],
 "metadata": {
  "kernelspec": {
   "display_name": "yolo",
   "language": "python",
   "name": "python3"
  },
  "language_info": {
   "codemirror_mode": {
    "name": "ipython",
    "version": 3
   },
   "file_extension": ".py",
   "mimetype": "text/x-python",
   "name": "python",
   "nbconvert_exporter": "python",
   "pygments_lexer": "ipython3",
   "version": "3.10.16"
  }
 },
 "nbformat": 4,
 "nbformat_minor": 5
}
