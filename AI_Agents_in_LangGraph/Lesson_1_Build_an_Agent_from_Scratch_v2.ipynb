{
 "cells": [
  {
   "cell_type": "markdown",
   "id": "9690ac72-5d95-4cbf-875a-ae0e835593c9",
   "metadata": {},
   "source": [
    "# Lesson 1: Simple ReAct Agent from Scratch"
   ]
  },
  {
   "cell_type": "code",
   "execution_count": 1,
   "id": "83588e70-254f-4f83-a510-c8ae81e729b0",
   "metadata": {
    "height": 30
   },
   "outputs": [],
   "source": [
    "# based on https://til.simonwillison.net/llms/python-react-pattern"
   ]
  },
  {
   "cell_type": "code",
   "execution_count": 2,
   "id": "dc3293b7-a50c-43c8-a022-8975e1e444b8",
   "metadata": {
    "height": 30
   },
   "outputs": [],
   "source": [
    "from openai import OpenAI\n",
    "\n",
    "client = OpenAI(\n",
    "    base_url='http://127.0.0.1:11434/v1',\n",
    "    # sk-xxx替换为自己的key\n",
    "    api_key='sk-xxx'\n",
    ")"
   ]
  },
  {
   "cell_type": "code",
   "execution_count": 3,
   "id": "0722c3d4-4cbf-43bf-81b0-50f634c4ce61",
   "metadata": {
    "height": 81
   },
   "outputs": [],
   "source": [
    "chat_completion = client.chat.completions.create(\n",
    "    #model=\"deepseek-r1:32b\",\n",
    "    model=\"qwen2\",\n",
    "    messages=[{\"role\": \"user\", \"content\": \"你好\"}]\n",
    ")"
   ]
  },
  {
   "cell_type": "code",
   "execution_count": 4,
   "id": "6b2f82fe-3ec4-4917-be51-9fb10d1317fa",
   "metadata": {
    "height": 30
   },
   "outputs": [
    {
     "data": {
      "text/plain": [
       "'你好！很高兴能为你服务。有什么问题需要我帮忙解答吗？'"
      ]
     },
     "execution_count": 4,
     "metadata": {},
     "output_type": "execute_result"
    }
   ],
   "source": [
    "chat_completion.choices[0].message.content"
   ]
  },
  {
   "cell_type": "code",
   "execution_count": 5,
   "id": "ee0fe1c7-77e2-499c-a2f9-1f739bb6ddf0",
   "metadata": {
    "height": 387
   },
   "outputs": [],
   "source": [
    "class Agent:\n",
    "    def __init__(self, system=\"\"):\n",
    "        self.system = system\n",
    "        self.messages = []\n",
    "        if self.system:\n",
    "            self.messages.append({\"role\": \"system\", \"content\": system})\n",
    "\n",
    "    def __call__(self, message):\n",
    "        self.messages.append({\"role\": \"user\", \"content\": message})\n",
    "        result = self.execute()\n",
    "        self.messages.append({\"role\": \"assistant\", \"content\": result})\n",
    "        return result\n",
    "\n",
    "    def execute(self):\n",
    "        completion = client.chat.completions.create(\n",
    "                        #model=\"deepseek-r1:32b\",\n",
    "                        model=\"qwen2\",\n",
    "                        temperature=0,\n",
    "                        messages=self.messages)\n",
    "        return completion.choices[0].message.content\n",
    "    "
   ]
  },
  {
   "cell_type": "code",
   "execution_count": 6,
   "id": "98f303b1-a4d0-408c-8cc0-515ff980717f",
   "metadata": {
    "height": 557
   },
   "outputs": [],
   "source": [
    "prompt = \"\"\"\n",
    "你在一个 Thought（思考）、Action（行动）、PAUSE（暂停）、Observation（观察）的循环中运行。\n",
    "在循环结束时，你输出一个 Answer（答案）。\n",
    "使用 Thought 来描述你对你被问到的问题的想法。\n",
    "使用 Action 来执行你可用的操作之一 - 然后返回 PAUSE。\n",
    "Observation 将是你执行这些操作的结果。\n",
    "\n",
    "你可用的操作有：\n",
    "\n",
    "calculate（计算）：\n",
    "例如：calculate: 4 * 7 / 3\n",
    "运行一个计算并返回结果 - 使用 Python，所以如果需要的话请确保使用浮点数语法\n",
    "\n",
    "average_dog_weight（犬种平均体重）：\n",
    "例如：average_dog_weight: 牧羊犬\n",
    "当给出犬种时，返回狗的平均体重\n",
    "\n",
    "示例对话：\n",
    "\n",
    "问题：斗牛犬的体重是多少？\n",
    "思考：我应该用 average_dog_weight 查找狗的体重\n",
    "行动：average_dog_weight: 斗牛犬\n",
    "PAUSE（暂停）\n",
    "\n",
    "你将会再次被这样调用：\n",
    "\n",
    "观察：斗牛犬的体重是51磅\n",
    "\n",
    "然后你输出：\n",
    "\n",
    "答案：斗牛犬的体重是51磅\n",
    "\"\"\".strip()"
   ]
  },
  {
   "cell_type": "code",
   "execution_count": 7,
   "id": "bf4dcb93-6298-4cfd-b3ce-61dfac7fb35f",
   "metadata": {
    "height": 302
   },
   "outputs": [],
   "source": [
    "def calculate(what):\n",
    "    return eval(what)\n",
    "\n",
    "def average_dog_weight(name):\n",
    "    if name in \"苏格兰梗犬\": \n",
    "        return(\"苏格兰梗犬的平均体重是20磅。\")\n",
    "    elif name in \"边境牧羊犬\":\n",
    "        return(\"边境牧羊犬的平均体重是37磅\")\n",
    "    elif name in \"玩具贵宾犬\":\n",
    "        return(\"玩具贵宾犬的平均体重是7磅\")\n",
    "    else:\n",
    "        return(\"狗的平均体重是50磅\")\n",
    "\n",
    "known_actions = {\n",
    "    \"calculate\": calculate,\n",
    "    \"average_dog_weight\": average_dog_weight\n",
    "}"
   ]
  },
  {
   "cell_type": "code",
   "execution_count": 8,
   "id": "932883a4-c722-42bb-aec0-b4f41c5c81a4",
   "metadata": {
    "height": 30
   },
   "outputs": [],
   "source": [
    "abot = Agent(prompt)"
   ]
  },
  {
   "cell_type": "code",
   "execution_count": 9,
   "id": "ff362f49-dcf1-4ea1-a86c-e516e9ab897d",
   "metadata": {
    "height": 47
   },
   "outputs": [
    {
     "name": "stdout",
     "output_type": "stream",
     "text": [
      "思考：我应该用 average_dog_weight 查找狗的体重。\n",
      "行动：average_dog_weight: 玩具贵宾犬\n",
      "PAUSE（暂停）\n"
     ]
    }
   ],
   "source": [
    "result = abot(\"玩具贵宾犬的体重是多少？\")\n",
    "print(result)"
   ]
  },
  {
   "cell_type": "code",
   "execution_count": 10,
   "id": "a7e15a20-83d7-434c-8551-bce8dcc32be0",
   "metadata": {
    "height": 30
   },
   "outputs": [],
   "source": [
    "result = average_dog_weight(\"玩具贵宾犬\")"
   ]
  },
  {
   "cell_type": "code",
   "execution_count": 11,
   "id": "54ab2c74-f32e-490c-a85d-932d11444210",
   "metadata": {
    "height": 30
   },
   "outputs": [
    {
     "data": {
      "text/plain": [
       "'玩具贵宾犬的平均体重是7磅'"
      ]
     },
     "execution_count": 11,
     "metadata": {},
     "output_type": "execute_result"
    }
   ],
   "source": [
    "result"
   ]
  },
  {
   "cell_type": "code",
   "execution_count": 12,
   "id": "a833d3ce-bd31-4319-811d-decff226b970",
   "metadata": {
    "height": 30
   },
   "outputs": [],
   "source": [
    "next_prompt = \"观察: {}\".format(result)"
   ]
  },
  {
   "cell_type": "code",
   "execution_count": 13,
   "id": "76e93cce-6eab-4c7c-ac64-e9993fdb30d6",
   "metadata": {
    "height": 30
   },
   "outputs": [
    {
     "data": {
      "text/plain": [
       "'答案：玩具贵宾犬的体重是7磅。'"
      ]
     },
     "execution_count": 13,
     "metadata": {},
     "output_type": "execute_result"
    }
   ],
   "source": [
    "abot(next_prompt)"
   ]
  },
  {
   "cell_type": "code",
   "execution_count": 14,
   "id": "fd2d0990-a932-423f-9ff3-5cada58c5f32",
   "metadata": {
    "height": 30
   },
   "outputs": [
    {
     "data": {
      "text/plain": [
       "[{'role': 'system',\n",
       "  'content': '你在一个 Thought（思考）、Action（行动）、PAUSE（暂停）、Observation（观察）的循环中运行。\\n在循环结束时，你输出一个 Answer（答案）。\\n使用 Thought 来描述你对你被问到的问题的想法。\\n使用 Action 来执行你可用的操作之一 - 然后返回 PAUSE。\\nObservation 将是你执行这些操作的结果。\\n\\n你可用的操作有：\\n\\ncalculate（计算）：\\n例如：calculate: 4 * 7 / 3\\n运行一个计算并返回结果 - 使用 Python，所以如果需要的话请确保使用浮点数语法\\n\\naverage_dog_weight（犬种平均体重）：\\n例如：average_dog_weight: 牧羊犬\\n当给出犬种时，返回狗的平均体重\\n\\n示例对话：\\n\\n问题：斗牛犬的体重是多少？\\n思考：我应该用 average_dog_weight 查找狗的体重\\n行动：average_dog_weight: 斗牛犬\\nPAUSE（暂停）\\n\\n你将会再次被这样调用：\\n\\n观察：斗牛犬的体重是51磅\\n\\n然后你输出：\\n\\n答案：斗牛犬的体重是51磅'},\n",
       " {'role': 'user', 'content': '玩具贵宾犬的体重是多少？'},\n",
       " {'role': 'assistant',\n",
       "  'content': '思考：我应该用 average_dog_weight 查找狗的体重。\\n行动：average_dog_weight: 玩具贵宾犬\\nPAUSE（暂停）'},\n",
       " {'role': 'user', 'content': '观察: 玩具贵宾犬的平均体重是7磅'},\n",
       " {'role': 'assistant', 'content': '答案：玩具贵宾犬的体重是7磅。'}]"
      ]
     },
     "execution_count": 14,
     "metadata": {},
     "output_type": "execute_result"
    }
   ],
   "source": [
    "abot.messages"
   ]
  },
  {
   "cell_type": "code",
   "execution_count": 15,
   "id": "27cde654-64e2-48bc-80a9-0ed668ccb7dc",
   "metadata": {
    "height": 30
   },
   "outputs": [],
   "source": [
    "abot = Agent(prompt)"
   ]
  },
  {
   "cell_type": "code",
   "execution_count": 16,
   "id": "4871f644-b131-4065-b7ce-b82c20a41f11",
   "metadata": {
    "height": 64
   },
   "outputs": [
    {
     "data": {
      "text/plain": [
       "'思考：我需要计算两只狗的总重量。\\n行动：calculate: 2 * average_dog_weight: 边境牧羊犬 + average_dog_weight: 苏格兰梗犬\\nPAUSE（暂停）'"
      ]
     },
     "execution_count": 16,
     "metadata": {},
     "output_type": "execute_result"
    }
   ],
   "source": [
    "question = \"\"\"我有两只狗，一只边境牧羊犬和一只苏格兰梗犬。它们的总重量是多少？\"\"\"\n",
    "abot(question)"
   ]
  },
  {
   "cell_type": "code",
   "execution_count": 17,
   "id": "8c3d8070-3f36-4cf0-a677-508e54359c8f",
   "metadata": {
    "height": 47
   },
   "outputs": [
    {
     "name": "stdout",
     "output_type": "stream",
     "text": [
      "观察: 边境牧羊犬的平均体重是37磅\n"
     ]
    }
   ],
   "source": [
    "next_prompt = \"观察: {}\".format(average_dog_weight(\"边境牧羊犬\"))\n",
    "print(next_prompt)"
   ]
  },
  {
   "cell_type": "code",
   "execution_count": 18,
   "id": "98f3be1d-cc4c-41fa-9863-3e386e88e305",
   "metadata": {
    "height": 30
   },
   "outputs": [
    {
     "data": {
      "text/plain": [
       "'答案：计算两只狗的总重量需要知道每只狗的具体体重。但是，如果我们使用边境牧羊犬和苏格兰梗犬的平均体重进行估算：\\n\\n- 假设边境牧羊犬的平均体重为37磅。\\n- 苏格兰梗犬的平均体重通常在20到35磅之间。\\n\\n我们可以假设苏格兰梗犬的平均体重为28磅（取中间值）作为估算。\\n\\n那么，两只狗的总重量大约是：\\n\\n计算: 2 * (37 + 28) = 146 磅\\n\\n答案：边境牧羊犬和苏格兰梗犬的总重量约为146磅。请注意，这个结果基于平均体重进行估算，并且实际重量可能会有所不同。'"
      ]
     },
     "execution_count": 18,
     "metadata": {},
     "output_type": "execute_result"
    }
   ],
   "source": [
    "abot(next_prompt)"
   ]
  },
  {
   "cell_type": "code",
   "execution_count": 19,
   "id": "0ad8a6cc-65d4-4ce7-87aa-4e67d7c23d7b",
   "metadata": {
    "height": 47
   },
   "outputs": [
    {
     "name": "stdout",
     "output_type": "stream",
     "text": [
      "观察: 苏格兰梗犬的平均体重是20磅。\n"
     ]
    }
   ],
   "source": [
    "next_prompt = \"观察: {}\".format(average_dog_weight(\"苏格兰梗犬\"))\n",
    "print(next_prompt)"
   ]
  },
  {
   "cell_type": "code",
   "execution_count": 20,
   "id": "592b5e62-a203-433c-92a0-3783f490cde1",
   "metadata": {
    "height": 30
   },
   "outputs": [
    {
     "data": {
      "text/plain": [
       "'思考：现在我有了两只狗的具体平均体重。\\n行动：calculate: 37 + 20\\nPAUSE（暂停）'"
      ]
     },
     "execution_count": 20,
     "metadata": {},
     "output_type": "execute_result"
    }
   ],
   "source": [
    "abot(next_prompt)"
   ]
  },
  {
   "cell_type": "code",
   "execution_count": 21,
   "id": "14fa923c-7e4f-42d1-965f-0f8ccd50fbd7",
   "metadata": {
    "height": 47
   },
   "outputs": [
    {
     "name": "stdout",
     "output_type": "stream",
     "text": [
      "观察: 57\n"
     ]
    }
   ],
   "source": [
    "next_prompt = \"观察: {}\".format(eval(\"37 + 20\"))\n",
    "print(next_prompt)"
   ]
  },
  {
   "cell_type": "code",
   "execution_count": 22,
   "id": "570c6245-2837-4ac5-983b-95f61f3ac10d",
   "metadata": {
    "height": 30
   },
   "outputs": [
    {
     "data": {
      "text/plain": [
       "'答案：边境牧羊犬和苏格兰梗犬的总重量约为57磅。'"
      ]
     },
     "execution_count": 22,
     "metadata": {},
     "output_type": "execute_result"
    }
   ],
   "source": [
    "abot(next_prompt)"
   ]
  },
  {
   "cell_type": "markdown",
   "id": "6b46f2ac-f717-4ab9-b548-f34b74071d76",
   "metadata": {},
   "source": [
    "### Add loop "
   ]
  },
  {
   "cell_type": "code",
   "execution_count": 23,
   "id": "6b910915-b087-4d35-afff-0ec30a5852f1",
   "metadata": {
    "height": 30
   },
   "outputs": [],
   "source": [
    "import re\n",
    "\n",
    "action_re = re.compile('^行动: (\\w+): (.*)$')   # python regular expression to selection action"
   ]
  },
  {
   "cell_type": "code",
   "execution_count": 24,
   "id": "c4feb6cc-5129-4a99-bb45-851bc07b5709",
   "metadata": {
    "height": 421
   },
   "outputs": [],
   "source": [
    "def query(question, max_turns=5):\n",
    "    i = 0\n",
    "    bot = Agent(prompt)\n",
    "    next_prompt = question\n",
    "    while i < max_turns:\n",
    "        i += 1\n",
    "        result = bot(next_prompt)\n",
    "        print(result)\n",
    "        actions = [\n",
    "            action_re.match(a) \n",
    "            for a in result.split('\\n') \n",
    "            if action_re.match(a)\n",
    "        ]\n",
    "        if actions:\n",
    "            # There is an action to run\n",
    "            action, action_input = actions[0].groups()\n",
    "            if action not in known_actions:\n",
    "                raise Exception(\"不知行动: {}: {}\".format(action, action_input))\n",
    "            print(\" -- running {} {}\".format(action, action_input))\n",
    "            observation = known_actions[action](action_input)\n",
    "            print(\"Observation:\", observation)\n",
    "            next_prompt = \"观察: {}\".format(observation)\n",
    "        else:\n",
    "            return"
   ]
  },
  {
   "cell_type": "code",
   "execution_count": 25,
   "id": "e85a02b4-96cc-4b01-8792-397a774eb499",
   "metadata": {
    "height": 64
   },
   "outputs": [
    {
     "name": "stdout",
     "output_type": "stream",
     "text": [
      "思考：我需要计算两只狗的总重量。\n",
      "行动：calculate: 2 * average_dog_weight(边境牧羊犬) + average_dog_weight(苏格兰梗犬)\n",
      "PAUSE（暂停）\n"
     ]
    }
   ],
   "source": [
    "question = \"\"\"我有两只狗，一只边境牧羊犬和一只苏格兰梗犬。它们的总重量是多少？\"\"\"\n",
    "query(question)"
   ]
  },
  {
   "cell_type": "code",
   "execution_count": null,
   "id": "ae8b86a6-5e20-4252-b1d8-009b8318345a",
   "metadata": {
    "height": 30
   },
   "outputs": [],
   "source": []
  },
  {
   "cell_type": "code",
   "execution_count": null,
   "id": "af925917-b746-48c9-ac74-62fefbe5246c",
   "metadata": {
    "height": 30
   },
   "outputs": [],
   "source": []
  }
 ],
 "metadata": {
  "kernelspec": {
   "display_name": "yolo",
   "language": "python",
   "name": "python3"
  },
  "language_info": {
   "codemirror_mode": {
    "name": "ipython",
    "version": 3
   },
   "file_extension": ".py",
   "mimetype": "text/x-python",
   "name": "python",
   "nbconvert_exporter": "python",
   "pygments_lexer": "ipython3",
   "version": "3.10.16"
  }
 },
 "nbformat": 4,
 "nbformat_minor": 5
}
