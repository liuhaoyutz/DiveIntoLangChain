{
 "cells": [
  {
   "cell_type": "markdown",
   "id": "8ad976db-fb87-4a92-b0d2-06defc098339",
   "metadata": {},
   "source": [
    "# Lesson 5: Human in the Loop"
   ]
  },
  {
   "cell_type": "markdown",
   "id": "91d756c3-9c97-4155-9b56-8ecfed5f1876",
   "metadata": {},
   "source": [
    "Note: This notebook is running in a later version of langgraph that it was filmed with. The later version has a couple of key additions:\n",
    "- Additional state information is stored to memory and displayed when using `get_state()` or `get_state_history()`.\n",
    "- State is additionally stored every state transition while previously it was stored at an interrupt or at the end.\n",
    "These change the command output slightly, but are a useful addtion to the information available."
   ]
  },
  {
   "cell_type": "code",
   "execution_count": 1,
   "id": "dbace63f",
   "metadata": {},
   "outputs": [],
   "source": [
    "import getpass\n",
    "import os\n",
    "\n",
    "def _set_env(var: str):\n",
    "    if not os.environ.get(var):\n",
    "        os.environ[var]=getpass.getpass(f\"{var}: \")\n",
    "\n",
    "_set_env(\"TAVILY_API_KEY\")"
   ]
  },
  {
   "cell_type": "code",
   "execution_count": 2,
   "id": "d0168aee-bce9-4d60-b827-f86a88187e31",
   "metadata": {},
   "outputs": [],
   "source": [
    "from langgraph.graph import StateGraph, END\n",
    "from typing import TypedDict, Annotated\n",
    "import operator\n",
    "from langchain_core.messages import AnyMessage, SystemMessage, HumanMessage, ToolMessage\n",
    "from langchain_openai import ChatOpenAI\n",
    "from langchain_community.tools.tavily_search import TavilySearchResults"
   ]
  },
  {
   "cell_type": "markdown",
   "id": "13fe11ce",
   "metadata": {},
   "source": [
    "使用SqliteSaver会出现'_GeneratorContextManager' object has no attribute 'get_next_version'错误"
   ]
  },
  {
   "cell_type": "code",
   "execution_count": 3,
   "id": "d1f233ea",
   "metadata": {},
   "outputs": [],
   "source": [
    "\"\"\"\n",
    "from langgraph.checkpoint.sqlite import SqliteSaver\n",
    "\n",
    "memory = SqliteSaver.from_conn_string(\":memory:\")\n",
    "\"\"\"\n",
    "\n",
    "from langgraph.checkpoint.memory import MemorySaver\n",
    "\n",
    "memory = MemorySaver()"
   ]
  },
  {
   "cell_type": "code",
   "execution_count": 4,
   "id": "2589c5b6-6cc2-4594-9a17-dccdcf676054",
   "metadata": {},
   "outputs": [],
   "source": [
    "from uuid import uuid4\n",
    "from langchain_core.messages import AnyMessage, SystemMessage, HumanMessage, AIMessage\n",
    "\n",
    "\"\"\"\n",
    "In previous examples we've annotated the `messages` state key\n",
    "with the default `operator.add` or `+` reducer, which always\n",
    "appends new messages to the end of the existing messages array.\n",
    "\n",
    "Now, to support replacing existing messages, we annotate the\n",
    "`messages` key with a customer reducer function, which replaces\n",
    "messages with the same `id`, and appends them otherwise.\n",
    "\"\"\"\n",
    "def reduce_messages(left: list[AnyMessage], right: list[AnyMessage]) -> list[AnyMessage]:\n",
    "    # assign ids to messages that don't have them\n",
    "    for message in right:\n",
    "        if not message.id:\n",
    "            message.id = str(uuid4())\n",
    "    # merge the new messages with the existing messages\n",
    "    merged = left.copy()\n",
    "    for message in right:\n",
    "        for i, existing in enumerate(merged):\n",
    "            # replace any existing messages with the same id\n",
    "            if existing.id == message.id:\n",
    "                merged[i] = message\n",
    "                break\n",
    "        else:\n",
    "            # append any new messages to the end\n",
    "            merged.append(message)\n",
    "    return merged\n",
    "\n",
    "class AgentState(TypedDict):\n",
    "    messages: Annotated[list[AnyMessage], reduce_messages]"
   ]
  },
  {
   "cell_type": "code",
   "execution_count": 5,
   "id": "a2ba84ec-c172-4de7-ac55-e3158a531b23",
   "metadata": {},
   "outputs": [],
   "source": [
    "tool = TavilySearchResults(max_results=2)"
   ]
  },
  {
   "cell_type": "markdown",
   "id": "d58320dc-c542-4a3c-bcf1-088909f9b075",
   "metadata": {},
   "source": [
    "## Manual human approval"
   ]
  },
  {
   "cell_type": "code",
   "execution_count": 6,
   "id": "46a0e94e-d015-4106-b439-dbcd2fcb8bb0",
   "metadata": {},
   "outputs": [],
   "source": [
    "class Agent:\n",
    "    def __init__(self, model, tools, system=\"\", checkpointer=None):\n",
    "        self.system = system\n",
    "        graph = StateGraph(AgentState)\n",
    "        graph.add_node(\"llm\", self.call_openai)\n",
    "        graph.add_node(\"action\", self.take_action)\n",
    "        graph.add_conditional_edges(\"llm\", self.exists_action, {True: \"action\", False: END})\n",
    "        graph.add_edge(\"action\", \"llm\")\n",
    "        graph.set_entry_point(\"llm\")\n",
    "        self.graph = graph.compile(\n",
    "            checkpointer=checkpointer,\n",
    "            interrupt_before=[\"action\"]\n",
    "        )\n",
    "        self.tools = {t.name: t for t in tools}\n",
    "        self.model = model.bind_tools(tools)\n",
    "\n",
    "    def call_openai(self, state: AgentState):\n",
    "        messages = state['messages']\n",
    "        if self.system:\n",
    "            messages = [SystemMessage(content=self.system)] + messages\n",
    "        message = self.model.invoke(messages)\n",
    "        return {'messages': [message]}\n",
    "\n",
    "    def exists_action(self, state: AgentState):\n",
    "        print(state)\n",
    "        result = state['messages'][-1]\n",
    "        return len(result.tool_calls) > 0\n",
    "\n",
    "    def take_action(self, state: AgentState):\n",
    "        tool_calls = state['messages'][-1].tool_calls\n",
    "        results = []\n",
    "        for t in tool_calls:\n",
    "            print(f\"Calling: {t}\")\n",
    "            result = self.tools[t['name']].invoke(t['args'])\n",
    "            results.append(ToolMessage(tool_call_id=t['id'], name=t['name'], content=str(result)))\n",
    "        print(\"Back to the model!\")\n",
    "        return {'messages': results}"
   ]
  },
  {
   "cell_type": "code",
   "execution_count": 7,
   "id": "10084a02-2928-4945-9f7c-ad3f5b33caf7",
   "metadata": {},
   "outputs": [],
   "source": [
    "prompt = \"\"\"You are a smart research assistant. Use the search engine to look up information. \\\n",
    "You are allowed to make multiple calls (either together or in sequence). \\\n",
    "Only look up information when you are sure of what you want. \\\n",
    "If you need to look up some information before asking a follow up question, you are allowed to do that!\n",
    "\"\"\"\n",
    "\n",
    "model = ChatOpenAI(\n",
    "    model_name='qwen2',\n",
    "    #model_name='deepseek-r1:32b',\n",
    "    openai_api_base=\"http://127.0.0.1:11434/v1\",\n",
    "    openai_api_key=\"EMPTY\",\n",
    "    streaming=True\n",
    ")\n",
    "\n",
    "abot = Agent(model, [tool], system=prompt, checkpointer=memory)"
   ]
  },
  {
   "cell_type": "code",
   "execution_count": 8,
   "id": "714d1205-f8fc-4912-b148-2a45da99219c",
   "metadata": {},
   "outputs": [
    {
     "name": "stdout",
     "output_type": "stream",
     "text": [
      "{'messages': [HumanMessage(content='Whats the weather in SF?', additional_kwargs={}, response_metadata={}, id='46f56f21-8eab-4594-bd88-2451e72144f1'), AIMessage(content='', additional_kwargs={'tool_calls': [{'index': 0, 'id': 'call_owb0vn7h', 'function': {'arguments': '{\"query\":\"Weather in San Francisco\"}', 'name': 'tavily_search_results_json'}, 'type': 'function'}]}, response_metadata={'finish_reason': 'tool_calls', 'model_name': 'qwen2', 'system_fingerprint': 'fp_ollama'}, id='run-c731d29d-a4f1-411c-84df-85c40fb58b2a-0', tool_calls=[{'name': 'tavily_search_results_json', 'args': {'query': 'Weather in San Francisco'}, 'id': 'call_owb0vn7h', 'type': 'tool_call'}])]}\n",
      "{'messages': [AIMessage(content='', additional_kwargs={'tool_calls': [{'index': 0, 'id': 'call_owb0vn7h', 'function': {'arguments': '{\"query\":\"Weather in San Francisco\"}', 'name': 'tavily_search_results_json'}, 'type': 'function'}]}, response_metadata={'finish_reason': 'tool_calls', 'model_name': 'qwen2', 'system_fingerprint': 'fp_ollama'}, id='run-c731d29d-a4f1-411c-84df-85c40fb58b2a-0', tool_calls=[{'name': 'tavily_search_results_json', 'args': {'query': 'Weather in San Francisco'}, 'id': 'call_owb0vn7h', 'type': 'tool_call'}])]}\n",
      "()\n"
     ]
    }
   ],
   "source": [
    "messages = [HumanMessage(content=\"Whats the weather in SF?\")]\n",
    "thread = {\"configurable\": {\"thread_id\": \"1\"}}\n",
    "for event in abot.graph.stream({\"messages\": messages}, thread):\n",
    "    for v in event.values():\n",
    "        print(v)"
   ]
  },
  {
   "cell_type": "code",
   "execution_count": 9,
   "id": "83588e70-254f-4f83-a510-c8ae81e729b0",
   "metadata": {},
   "outputs": [
    {
     "data": {
      "text/plain": [
       "StateSnapshot(values={'messages': [HumanMessage(content='Whats the weather in SF?', additional_kwargs={}, response_metadata={}, id='46f56f21-8eab-4594-bd88-2451e72144f1'), AIMessage(content='', additional_kwargs={'tool_calls': [{'index': 0, 'id': 'call_owb0vn7h', 'function': {'arguments': '{\"query\":\"Weather in San Francisco\"}', 'name': 'tavily_search_results_json'}, 'type': 'function'}]}, response_metadata={'finish_reason': 'tool_calls', 'model_name': 'qwen2', 'system_fingerprint': 'fp_ollama'}, id='run-c731d29d-a4f1-411c-84df-85c40fb58b2a-0', tool_calls=[{'name': 'tavily_search_results_json', 'args': {'query': 'Weather in San Francisco'}, 'id': 'call_owb0vn7h', 'type': 'tool_call'}])]}, next=('action',), config={'configurable': {'thread_id': '1', 'checkpoint_ns': '', 'checkpoint_id': '1effc7e7-a2ce-6757-8001-c34356b3ca5b'}}, metadata={'source': 'loop', 'writes': {'llm': {'messages': [AIMessage(content='', additional_kwargs={'tool_calls': [{'index': 0, 'id': 'call_owb0vn7h', 'function': {'arguments': '{\"query\":\"Weather in San Francisco\"}', 'name': 'tavily_search_results_json'}, 'type': 'function'}]}, response_metadata={'finish_reason': 'tool_calls', 'model_name': 'qwen2', 'system_fingerprint': 'fp_ollama'}, id='run-c731d29d-a4f1-411c-84df-85c40fb58b2a-0', tool_calls=[{'name': 'tavily_search_results_json', 'args': {'query': 'Weather in San Francisco'}, 'id': 'call_owb0vn7h', 'type': 'tool_call'}])]}}, 'thread_id': '1', 'step': 1, 'parents': {}}, created_at='2025-03-09T00:36:01.761641+00:00', parent_config={'configurable': {'thread_id': '1', 'checkpoint_ns': '', 'checkpoint_id': '1effc7e7-831b-689c-8000-3bad91ee200c'}}, tasks=(PregelTask(id='d4c02339-0b2f-32c5-cb37-67cc0d4919a3', name='action', path=('__pregel_pull', 'action'), error=None, interrupts=(), state=None, result=None),))"
      ]
     },
     "execution_count": 9,
     "metadata": {},
     "output_type": "execute_result"
    }
   ],
   "source": [
    "abot.graph.get_state(thread)"
   ]
  },
  {
   "cell_type": "code",
   "execution_count": 10,
   "id": "6cb3ef4c-58b3-401b-b104-0d51e553d982",
   "metadata": {},
   "outputs": [
    {
     "data": {
      "text/plain": [
       "('action',)"
      ]
     },
     "execution_count": 10,
     "metadata": {},
     "output_type": "execute_result"
    }
   ],
   "source": [
    "abot.graph.get_state(thread).next"
   ]
  },
  {
   "cell_type": "markdown",
   "id": "f1f404d5-a3be-42c1-9990-b1e1ee011163",
   "metadata": {},
   "source": [
    "### continue after interrupt"
   ]
  },
  {
   "cell_type": "code",
   "execution_count": 11,
   "id": "dc3293b7-a50c-43c8-a022-8975e1e444b8",
   "metadata": {},
   "outputs": [
    {
     "name": "stdout",
     "output_type": "stream",
     "text": [
      "Calling: {'name': 'tavily_search_results_json', 'args': {'query': 'Weather in San Francisco'}, 'id': 'call_owb0vn7h', 'type': 'tool_call'}\n",
      "Back to the model!\n",
      "{'messages': [ToolMessage(content='[{\\'title\\': \\'Weather in San Francisco\\', \\'url\\': \\'https://www.weatherapi.com/\\', \\'content\\': \"{\\'location\\': {\\'name\\': \\'San Francisco\\', \\'region\\': \\'California\\', \\'country\\': \\'United States of America\\', \\'lat\\': 37.775, \\'lon\\': -122.4183, \\'tz_id\\': \\'America/Los_Angeles\\', \\'localtime_epoch\\': 1741480451, \\'localtime\\': \\'2025-03-08 16:34\\'}, \\'current\\': {\\'last_updated_epoch\\': 1741480200, \\'last_updated\\': \\'2025-03-08 16:30\\', \\'temp_c\\': 12.0, \\'temp_f\\': 53.6, \\'is_day\\': 1, \\'condition\\': {\\'text\\': \\'Mist\\', \\'icon\\': \\'//cdn.weatherapi.com/weather/64x64/day/143.png\\', \\'code\\': 1030}, \\'wind_mph\\': 6.9, \\'wind_kph\\': 11.2, \\'wind_degree\\': 271, \\'wind_dir\\': \\'W\\', \\'pressure_mb\\': 1025.0, \\'pressure_in\\': 30.27, \\'precip_mm\\': 0.0, \\'precip_in\\': 0.0, \\'humidity\\': 82, \\'cloud\\': 0, \\'feelslike_c\\': 10.9, \\'feelslike_f\\': 51.5, \\'windchill_c\\': 9.4, \\'windchill_f\\': 48.9, \\'heatindex_c\\': 10.4, \\'heatindex_f\\': 50.6, \\'dewpoint_c\\': 9.3, \\'dewpoint_f\\': 48.7, \\'vis_km\\': 8.0, \\'vis_miles\\': 4.0, \\'uv\\': 1.0, \\'gust_mph\\': 9.6, \\'gust_kph\\': 15.5}}\", \\'score\\': 0.9796892}, {\\'title\\': \\'Weather in San Francisco in March 2025 (California)\\', \\'url\\': \\'https://world-weather.info/forecast/usa/san_francisco/march-2025/\\', \\'content\\': \"Weather in San Francisco in March 2025 (California) - Detailed Weather Forecast for a Month Weather in San Francisco Weather in San Francisco in March 2025 San Francisco Weather Forecast for March 2025 is based on long term prognosis and previous years\\' statistical data. 1 +54°+52° 2 +54°+50° 3 +54°+50° 4 +54°+48° 5 +61°+46° +59°+50° +59°+50° +61°+50° +61°+52° +61°+52° +63°+52° +63°+52° +61°+52° +61°+52° +63°+54° +61°+52° +63°+50° +61°+52° +61°+52° +59°+52° +61°+52° +59°+50° +57°+50° +57°+50° +59°+50° +59°+50° +61°+52° +63°+52° +63°+54° +63°+52° +63°+54° Extended weather forecast in San Francisco HourlyWeek10-Day14-Day30-DayYear Weather in Washington, D.C.+32° Sacramento+55° Pleasanton+52° Redwood City+55° San Leandro+55° San Mateo+54° San Rafael+55° San Ramon+52° South San Francisco+54° Vallejo+54° Palo Alto+55° Pacifica+55° Berkeley+57° Castro Valley+54° Concord+54° Daly City+54° Lagunitas+55° world\\'s temperature today day day Temperature units\", \\'score\\': 0.91288006}]', name='tavily_search_results_json', id='d009a74d-d1e9-49d9-ac7a-c14216da23c0', tool_call_id='call_owb0vn7h')]}\n",
      "{'messages': [HumanMessage(content='Whats the weather in SF?', additional_kwargs={}, response_metadata={}, id='46f56f21-8eab-4594-bd88-2451e72144f1'), AIMessage(content='', additional_kwargs={'tool_calls': [{'index': 0, 'id': 'call_owb0vn7h', 'function': {'arguments': '{\"query\":\"Weather in San Francisco\"}', 'name': 'tavily_search_results_json'}, 'type': 'function'}]}, response_metadata={'finish_reason': 'tool_calls', 'model_name': 'qwen2', 'system_fingerprint': 'fp_ollama'}, id='run-c731d29d-a4f1-411c-84df-85c40fb58b2a-0', tool_calls=[{'name': 'tavily_search_results_json', 'args': {'query': 'Weather in San Francisco'}, 'id': 'call_owb0vn7h', 'type': 'tool_call'}]), ToolMessage(content='[{\\'title\\': \\'Weather in San Francisco\\', \\'url\\': \\'https://www.weatherapi.com/\\', \\'content\\': \"{\\'location\\': {\\'name\\': \\'San Francisco\\', \\'region\\': \\'California\\', \\'country\\': \\'United States of America\\', \\'lat\\': 37.775, \\'lon\\': -122.4183, \\'tz_id\\': \\'America/Los_Angeles\\', \\'localtime_epoch\\': 1741480451, \\'localtime\\': \\'2025-03-08 16:34\\'}, \\'current\\': {\\'last_updated_epoch\\': 1741480200, \\'last_updated\\': \\'2025-03-08 16:30\\', \\'temp_c\\': 12.0, \\'temp_f\\': 53.6, \\'is_day\\': 1, \\'condition\\': {\\'text\\': \\'Mist\\', \\'icon\\': \\'//cdn.weatherapi.com/weather/64x64/day/143.png\\', \\'code\\': 1030}, \\'wind_mph\\': 6.9, \\'wind_kph\\': 11.2, \\'wind_degree\\': 271, \\'wind_dir\\': \\'W\\', \\'pressure_mb\\': 1025.0, \\'pressure_in\\': 30.27, \\'precip_mm\\': 0.0, \\'precip_in\\': 0.0, \\'humidity\\': 82, \\'cloud\\': 0, \\'feelslike_c\\': 10.9, \\'feelslike_f\\': 51.5, \\'windchill_c\\': 9.4, \\'windchill_f\\': 48.9, \\'heatindex_c\\': 10.4, \\'heatindex_f\\': 50.6, \\'dewpoint_c\\': 9.3, \\'dewpoint_f\\': 48.7, \\'vis_km\\': 8.0, \\'vis_miles\\': 4.0, \\'uv\\': 1.0, \\'gust_mph\\': 9.6, \\'gust_kph\\': 15.5}}\", \\'score\\': 0.9796892}, {\\'title\\': \\'Weather in San Francisco in March 2025 (California)\\', \\'url\\': \\'https://world-weather.info/forecast/usa/san_francisco/march-2025/\\', \\'content\\': \"Weather in San Francisco in March 2025 (California) - Detailed Weather Forecast for a Month Weather in San Francisco Weather in San Francisco in March 2025 San Francisco Weather Forecast for March 2025 is based on long term prognosis and previous years\\' statistical data. 1 +54°+52° 2 +54°+50° 3 +54°+50° 4 +54°+48° 5 +61°+46° +59°+50° +59°+50° +61°+50° +61°+52° +61°+52° +63°+52° +63°+52° +61°+52° +61°+52° +63°+54° +61°+52° +63°+50° +61°+52° +61°+52° +59°+52° +61°+52° +59°+50° +57°+50° +57°+50° +59°+50° +59°+50° +61°+52° +63°+52° +63°+54° +63°+52° +63°+54° Extended weather forecast in San Francisco HourlyWeek10-Day14-Day30-DayYear Weather in Washington, D.C.+32° Sacramento+55° Pleasanton+52° Redwood City+55° San Leandro+55° San Mateo+54° San Rafael+55° San Ramon+52° South San Francisco+54° Vallejo+54° Palo Alto+55° Pacifica+55° Berkeley+57° Castro Valley+54° Concord+54° Daly City+54° Lagunitas+55° world\\'s temperature today day day Temperature units\", \\'score\\': 0.91288006}]', name='tavily_search_results_json', id='d009a74d-d1e9-49d9-ac7a-c14216da23c0', tool_call_id='call_owb0vn7h'), AIMessage(content='The current weather in San Francisco, California, is as follows:\\n\\n- **Temperature**: 12°C or 53.6°F\\n- **Conditions**: Mist\\n- **Wind Speed**: 6.9 mph or 11.2 km/h \\n- **Humidity**: 82%\\n- **Precipitation**: No precipitation\\n\\nThe local time in San Francisco is currently 16:34 (as of the information updated on March 8, 2025).', additional_kwargs={}, response_metadata={'finish_reason': 'stop', 'model_name': 'qwen2', 'system_fingerprint': 'fp_ollama'}, id='run-8fa76ec5-7902-418b-9c68-efc91f1d29ed-0')]}\n",
      "{'messages': [AIMessage(content='The current weather in San Francisco, California, is as follows:\\n\\n- **Temperature**: 12°C or 53.6°F\\n- **Conditions**: Mist\\n- **Wind Speed**: 6.9 mph or 11.2 km/h \\n- **Humidity**: 82%\\n- **Precipitation**: No precipitation\\n\\nThe local time in San Francisco is currently 16:34 (as of the information updated on March 8, 2025).', additional_kwargs={}, response_metadata={'finish_reason': 'stop', 'model_name': 'qwen2', 'system_fingerprint': 'fp_ollama'}, id='run-8fa76ec5-7902-418b-9c68-efc91f1d29ed-0')]}\n"
     ]
    }
   ],
   "source": [
    "for event in abot.graph.stream(None, thread):\n",
    "    for v in event.values():\n",
    "        print(v)"
   ]
  },
  {
   "cell_type": "code",
   "execution_count": 12,
   "id": "0722c3d4-4cbf-43bf-81b0-50f634c4ce61",
   "metadata": {},
   "outputs": [
    {
     "data": {
      "text/plain": [
       "StateSnapshot(values={'messages': [HumanMessage(content='Whats the weather in SF?', additional_kwargs={}, response_metadata={}, id='46f56f21-8eab-4594-bd88-2451e72144f1'), AIMessage(content='', additional_kwargs={'tool_calls': [{'index': 0, 'id': 'call_owb0vn7h', 'function': {'arguments': '{\"query\":\"Weather in San Francisco\"}', 'name': 'tavily_search_results_json'}, 'type': 'function'}]}, response_metadata={'finish_reason': 'tool_calls', 'model_name': 'qwen2', 'system_fingerprint': 'fp_ollama'}, id='run-c731d29d-a4f1-411c-84df-85c40fb58b2a-0', tool_calls=[{'name': 'tavily_search_results_json', 'args': {'query': 'Weather in San Francisco'}, 'id': 'call_owb0vn7h', 'type': 'tool_call'}]), ToolMessage(content='[{\\'title\\': \\'Weather in San Francisco\\', \\'url\\': \\'https://www.weatherapi.com/\\', \\'content\\': \"{\\'location\\': {\\'name\\': \\'San Francisco\\', \\'region\\': \\'California\\', \\'country\\': \\'United States of America\\', \\'lat\\': 37.775, \\'lon\\': -122.4183, \\'tz_id\\': \\'America/Los_Angeles\\', \\'localtime_epoch\\': 1741480451, \\'localtime\\': \\'2025-03-08 16:34\\'}, \\'current\\': {\\'last_updated_epoch\\': 1741480200, \\'last_updated\\': \\'2025-03-08 16:30\\', \\'temp_c\\': 12.0, \\'temp_f\\': 53.6, \\'is_day\\': 1, \\'condition\\': {\\'text\\': \\'Mist\\', \\'icon\\': \\'//cdn.weatherapi.com/weather/64x64/day/143.png\\', \\'code\\': 1030}, \\'wind_mph\\': 6.9, \\'wind_kph\\': 11.2, \\'wind_degree\\': 271, \\'wind_dir\\': \\'W\\', \\'pressure_mb\\': 1025.0, \\'pressure_in\\': 30.27, \\'precip_mm\\': 0.0, \\'precip_in\\': 0.0, \\'humidity\\': 82, \\'cloud\\': 0, \\'feelslike_c\\': 10.9, \\'feelslike_f\\': 51.5, \\'windchill_c\\': 9.4, \\'windchill_f\\': 48.9, \\'heatindex_c\\': 10.4, \\'heatindex_f\\': 50.6, \\'dewpoint_c\\': 9.3, \\'dewpoint_f\\': 48.7, \\'vis_km\\': 8.0, \\'vis_miles\\': 4.0, \\'uv\\': 1.0, \\'gust_mph\\': 9.6, \\'gust_kph\\': 15.5}}\", \\'score\\': 0.9796892}, {\\'title\\': \\'Weather in San Francisco in March 2025 (California)\\', \\'url\\': \\'https://world-weather.info/forecast/usa/san_francisco/march-2025/\\', \\'content\\': \"Weather in San Francisco in March 2025 (California) - Detailed Weather Forecast for a Month Weather in San Francisco Weather in San Francisco in March 2025 San Francisco Weather Forecast for March 2025 is based on long term prognosis and previous years\\' statistical data. 1 +54°+52° 2 +54°+50° 3 +54°+50° 4 +54°+48° 5 +61°+46° +59°+50° +59°+50° +61°+50° +61°+52° +61°+52° +63°+52° +63°+52° +61°+52° +61°+52° +63°+54° +61°+52° +63°+50° +61°+52° +61°+52° +59°+52° +61°+52° +59°+50° +57°+50° +57°+50° +59°+50° +59°+50° +61°+52° +63°+52° +63°+54° +63°+52° +63°+54° Extended weather forecast in San Francisco HourlyWeek10-Day14-Day30-DayYear Weather in Washington, D.C.+32° Sacramento+55° Pleasanton+52° Redwood City+55° San Leandro+55° San Mateo+54° San Rafael+55° San Ramon+52° South San Francisco+54° Vallejo+54° Palo Alto+55° Pacifica+55° Berkeley+57° Castro Valley+54° Concord+54° Daly City+54° Lagunitas+55° world\\'s temperature today day day Temperature units\", \\'score\\': 0.91288006}]', name='tavily_search_results_json', id='d009a74d-d1e9-49d9-ac7a-c14216da23c0', tool_call_id='call_owb0vn7h'), AIMessage(content='The current weather in San Francisco, California, is as follows:\\n\\n- **Temperature**: 12°C or 53.6°F\\n- **Conditions**: Mist\\n- **Wind Speed**: 6.9 mph or 11.2 km/h \\n- **Humidity**: 82%\\n- **Precipitation**: No precipitation\\n\\nThe local time in San Francisco is currently 16:34 (as of the information updated on March 8, 2025).', additional_kwargs={}, response_metadata={'finish_reason': 'stop', 'model_name': 'qwen2', 'system_fingerprint': 'fp_ollama'}, id='run-8fa76ec5-7902-418b-9c68-efc91f1d29ed-0')]}, next=(), config={'configurable': {'thread_id': '1', 'checkpoint_ns': '', 'checkpoint_id': '1effc7e7-d3a0-6051-8003-fce886974d26'}}, metadata={'source': 'loop', 'writes': {'llm': {'messages': [AIMessage(content='The current weather in San Francisco, California, is as follows:\\n\\n- **Temperature**: 12°C or 53.6°F\\n- **Conditions**: Mist\\n- **Wind Speed**: 6.9 mph or 11.2 km/h \\n- **Humidity**: 82%\\n- **Precipitation**: No precipitation\\n\\nThe local time in San Francisco is currently 16:34 (as of the information updated on March 8, 2025).', additional_kwargs={}, response_metadata={'finish_reason': 'stop', 'model_name': 'qwen2', 'system_fingerprint': 'fp_ollama'}, id='run-8fa76ec5-7902-418b-9c68-efc91f1d29ed-0')]}}, 'thread_id': '1', 'step': 3, 'parents': {}}, created_at='2025-03-09T00:36:06.880645+00:00', parent_config={'configurable': {'thread_id': '1', 'checkpoint_ns': '', 'checkpoint_id': '1effc7e7-c3c2-63f0-8002-5a7e4c11d8c9'}}, tasks=())"
      ]
     },
     "execution_count": 12,
     "metadata": {},
     "output_type": "execute_result"
    }
   ],
   "source": [
    "abot.graph.get_state(thread)"
   ]
  },
  {
   "cell_type": "code",
   "execution_count": 13,
   "id": "6b2f82fe-3ec4-4917-be51-9fb10d1317fa",
   "metadata": {},
   "outputs": [
    {
     "data": {
      "text/plain": [
       "()"
      ]
     },
     "execution_count": 13,
     "metadata": {},
     "output_type": "execute_result"
    }
   ],
   "source": [
    "abot.graph.get_state(thread).next"
   ]
  },
  {
   "cell_type": "code",
   "execution_count": 14,
   "id": "ee0fe1c7-77e2-499c-a2f9-1f739bb6ddf0",
   "metadata": {},
   "outputs": [
    {
     "name": "stdout",
     "output_type": "stream",
     "text": [
      "{'messages': [HumanMessage(content='Whats the weather in LA?', additional_kwargs={}, response_metadata={}, id='cdb2dfa6-d0cc-4e8d-8363-9e0cf5a30ca6'), AIMessage(content='', additional_kwargs={'tool_calls': [{'index': 0, 'id': 'call_r86zb55h', 'function': {'arguments': '{\"query\":\"current weather in Los Angeles\"}', 'name': 'tavily_search_results_json'}, 'type': 'function'}]}, response_metadata={'finish_reason': 'tool_calls', 'model_name': 'qwen2', 'system_fingerprint': 'fp_ollama'}, id='run-42542917-2338-4af0-a5bc-342111b14bc7-0', tool_calls=[{'name': 'tavily_search_results_json', 'args': {'query': 'current weather in Los Angeles'}, 'id': 'call_r86zb55h', 'type': 'tool_call'}])]}\n",
      "{'messages': [AIMessage(content='', additional_kwargs={'tool_calls': [{'index': 0, 'id': 'call_r86zb55h', 'function': {'arguments': '{\"query\":\"current weather in Los Angeles\"}', 'name': 'tavily_search_results_json'}, 'type': 'function'}]}, response_metadata={'finish_reason': 'tool_calls', 'model_name': 'qwen2', 'system_fingerprint': 'fp_ollama'}, id='run-42542917-2338-4af0-a5bc-342111b14bc7-0', tool_calls=[{'name': 'tavily_search_results_json', 'args': {'query': 'current weather in Los Angeles'}, 'id': 'call_r86zb55h', 'type': 'tool_call'}])]}\n",
      "()\n",
      "\n",
      " StateSnapshot(values={'messages': [HumanMessage(content='Whats the weather in LA?', additional_kwargs={}, response_metadata={}, id='cdb2dfa6-d0cc-4e8d-8363-9e0cf5a30ca6'), AIMessage(content='', additional_kwargs={'tool_calls': [{'index': 0, 'id': 'call_r86zb55h', 'function': {'arguments': '{\"query\":\"current weather in Los Angeles\"}', 'name': 'tavily_search_results_json'}, 'type': 'function'}]}, response_metadata={'finish_reason': 'tool_calls', 'model_name': 'qwen2', 'system_fingerprint': 'fp_ollama'}, id='run-42542917-2338-4af0-a5bc-342111b14bc7-0', tool_calls=[{'name': 'tavily_search_results_json', 'args': {'query': 'current weather in Los Angeles'}, 'id': 'call_r86zb55h', 'type': 'tool_call'}])]}, next=('action',), config={'configurable': {'thread_id': '2', 'checkpoint_ns': '', 'checkpoint_id': '1effc7e7-d814-6d29-8001-d7dfd0852f32'}}, metadata={'source': 'loop', 'writes': {'llm': {'messages': [AIMessage(content='', additional_kwargs={'tool_calls': [{'index': 0, 'id': 'call_r86zb55h', 'function': {'arguments': '{\"query\":\"current weather in Los Angeles\"}', 'name': 'tavily_search_results_json'}, 'type': 'function'}]}, response_metadata={'finish_reason': 'tool_calls', 'model_name': 'qwen2', 'system_fingerprint': 'fp_ollama'}, id='run-42542917-2338-4af0-a5bc-342111b14bc7-0', tool_calls=[{'name': 'tavily_search_results_json', 'args': {'query': 'current weather in Los Angeles'}, 'id': 'call_r86zb55h', 'type': 'tool_call'}])]}}, 'thread_id': '2', 'step': 1, 'parents': {}}, created_at='2025-03-09T00:36:07.347922+00:00', parent_config={'configurable': {'thread_id': '2', 'checkpoint_ns': '', 'checkpoint_id': '1effc7e7-d3f6-62f8-8000-ff3fc9c291e5'}}, tasks=(PregelTask(id='6df01157-138a-42fc-4571-67514c6aa6cf', name='action', path=('__pregel_pull', 'action'), error=None, interrupts=(), state=None, result=None),)) \n",
      "\n",
      "Calling: {'name': 'tavily_search_results_json', 'args': {'query': 'current weather in Los Angeles'}, 'id': 'call_r86zb55h', 'type': 'tool_call'}\n",
      "Back to the model!\n",
      "{'messages': [ToolMessage(content='[{\\'title\\': \\'Weather in Los Angeles\\', \\'url\\': \\'https://www.weatherapi.com/\\', \\'content\\': \"{\\'location\\': {\\'name\\': \\'Los Angeles\\', \\'region\\': \\'California\\', \\'country\\': \\'United States of America\\', \\'lat\\': 34.0522, \\'lon\\': -118.2428, \\'tz_id\\': \\'America/Los_Angeles\\', \\'localtime_epoch\\': 1741477587, \\'localtime\\': \\'2025-03-08 15:46\\'}, \\'current\\': {\\'last_updated_epoch\\': 1741477500, \\'last_updated\\': \\'2025-03-08 15:45\\', \\'temp_c\\': 17.2, \\'temp_f\\': 63.0, \\'is_day\\': 1, \\'condition\\': {\\'text\\': \\'Sunny\\', \\'icon\\': \\'//cdn.weatherapi.com/weather/64x64/day/113.png\\', \\'code\\': 1000}, \\'wind_mph\\': 8.3, \\'wind_kph\\': 13.3, \\'wind_degree\\': 231, \\'wind_dir\\': \\'SW\\', \\'pressure_mb\\': 1024.0, \\'pressure_in\\': 30.24, \\'precip_mm\\': 0.0, \\'precip_in\\': 0.0, \\'humidity\\': 54, \\'cloud\\': 0, \\'feelslike_c\\': 17.2, \\'feelslike_f\\': 63.0, \\'windchill_c\\': 18.7, \\'windchill_f\\': 65.6, \\'heatindex_c\\': 18.7, \\'heatindex_f\\': 65.6, \\'dewpoint_c\\': 7.0, \\'dewpoint_f\\': 44.6, \\'vis_km\\': 16.0, \\'vis_miles\\': 9.0, \\'uv\\': 2.1, \\'gust_mph\\': 9.5, \\'gust_kph\\': 15.3}}\", \\'score\\': 0.7691851}, {\\'title\\': \\'Weather Forecast and Conditions for Los Angeles, CA\\', \\'url\\': \\'https://weather.com/weather/today/l/Los+Angeles+CA?canonicalCityId=84c64154109916077c8d3c2352410aaae5f6eeff682000e3a7470e38976128c2\\', \\'content\\': \"Weather Forecast and Conditions for Los Angeles, CA - The Weather Channel | Weather.com Weather Forecasts Today\\'s Forecast for Los Angeles, CA Weather Today in Los Angeles, CA Weather Pattern Change And Snowy Forecast Hourly Forecast ### Now 65° Chance of Rain0% ### 1 pm 65° Chance of Rain0% ### 2 pm 65° Chance of Rain0% ### 3 pm 64° Chance of Rain0% ### 4 pm 61° Chance of Rain1% The Best Cold Weather Shower Routine For Your Skin Cold Weather Vegetables That Taste Even Better In Winter Forecast Location Terms of Use | Privacy Policy We recognize our responsibility to use data and technology for good. We may use or share your data with our data vendors.\", \\'score\\': 0.46993434}]', name='tavily_search_results_json', id='eab76531-0d8e-464b-aab6-6ab3de7cb474', tool_call_id='call_r86zb55h')]}\n",
      "{'messages': [HumanMessage(content='Whats the weather in LA?', additional_kwargs={}, response_metadata={}, id='cdb2dfa6-d0cc-4e8d-8363-9e0cf5a30ca6'), AIMessage(content='', additional_kwargs={'tool_calls': [{'index': 0, 'id': 'call_r86zb55h', 'function': {'arguments': '{\"query\":\"current weather in Los Angeles\"}', 'name': 'tavily_search_results_json'}, 'type': 'function'}]}, response_metadata={'finish_reason': 'tool_calls', 'model_name': 'qwen2', 'system_fingerprint': 'fp_ollama'}, id='run-42542917-2338-4af0-a5bc-342111b14bc7-0', tool_calls=[{'name': 'tavily_search_results_json', 'args': {'query': 'current weather in Los Angeles'}, 'id': 'call_r86zb55h', 'type': 'tool_call'}]), ToolMessage(content='[{\\'title\\': \\'Weather in Los Angeles\\', \\'url\\': \\'https://www.weatherapi.com/\\', \\'content\\': \"{\\'location\\': {\\'name\\': \\'Los Angeles\\', \\'region\\': \\'California\\', \\'country\\': \\'United States of America\\', \\'lat\\': 34.0522, \\'lon\\': -118.2428, \\'tz_id\\': \\'America/Los_Angeles\\', \\'localtime_epoch\\': 1741477587, \\'localtime\\': \\'2025-03-08 15:46\\'}, \\'current\\': {\\'last_updated_epoch\\': 1741477500, \\'last_updated\\': \\'2025-03-08 15:45\\', \\'temp_c\\': 17.2, \\'temp_f\\': 63.0, \\'is_day\\': 1, \\'condition\\': {\\'text\\': \\'Sunny\\', \\'icon\\': \\'//cdn.weatherapi.com/weather/64x64/day/113.png\\', \\'code\\': 1000}, \\'wind_mph\\': 8.3, \\'wind_kph\\': 13.3, \\'wind_degree\\': 231, \\'wind_dir\\': \\'SW\\', \\'pressure_mb\\': 1024.0, \\'pressure_in\\': 30.24, \\'precip_mm\\': 0.0, \\'precip_in\\': 0.0, \\'humidity\\': 54, \\'cloud\\': 0, \\'feelslike_c\\': 17.2, \\'feelslike_f\\': 63.0, \\'windchill_c\\': 18.7, \\'windchill_f\\': 65.6, \\'heatindex_c\\': 18.7, \\'heatindex_f\\': 65.6, \\'dewpoint_c\\': 7.0, \\'dewpoint_f\\': 44.6, \\'vis_km\\': 16.0, \\'vis_miles\\': 9.0, \\'uv\\': 2.1, \\'gust_mph\\': 9.5, \\'gust_kph\\': 15.3}}\", \\'score\\': 0.7691851}, {\\'title\\': \\'Weather Forecast and Conditions for Los Angeles, CA\\', \\'url\\': \\'https://weather.com/weather/today/l/Los+Angeles+CA?canonicalCityId=84c64154109916077c8d3c2352410aaae5f6eeff682000e3a7470e38976128c2\\', \\'content\\': \"Weather Forecast and Conditions for Los Angeles, CA - The Weather Channel | Weather.com Weather Forecasts Today\\'s Forecast for Los Angeles, CA Weather Today in Los Angeles, CA Weather Pattern Change And Snowy Forecast Hourly Forecast ### Now 65° Chance of Rain0% ### 1 pm 65° Chance of Rain0% ### 2 pm 65° Chance of Rain0% ### 3 pm 64° Chance of Rain0% ### 4 pm 61° Chance of Rain1% The Best Cold Weather Shower Routine For Your Skin Cold Weather Vegetables That Taste Even Better In Winter Forecast Location Terms of Use | Privacy Policy We recognize our responsibility to use data and technology for good. We may use or share your data with our data vendors.\", \\'score\\': 0.46993434}]', name='tavily_search_results_json', id='eab76531-0d8e-464b-aab6-6ab3de7cb474', tool_call_id='call_r86zb55h'), AIMessage(content=\"The current weather in Los Angeles is sunny with a temperature of 17.2 degrees Celsius (63.0 Fahrenheit). The wind speed is around 8.3 mph coming from the SW direction, humidity level is at 54%. The visibility is good, with a distance of about 16 kilometers ahead. Daylight hours are in effect as it's not night yet. There isn't any precipitation expected and air pressure measures have been reported close to normal (1024mb).\", additional_kwargs={}, response_metadata={'finish_reason': 'stop', 'model_name': 'qwen2', 'system_fingerprint': 'fp_ollama'}, id='run-327cc636-5119-40c6-b67e-0d8ad2015015-0')]}\n",
      "{'messages': [AIMessage(content=\"The current weather in Los Angeles is sunny with a temperature of 17.2 degrees Celsius (63.0 Fahrenheit). The wind speed is around 8.3 mph coming from the SW direction, humidity level is at 54%. The visibility is good, with a distance of about 16 kilometers ahead. Daylight hours are in effect as it's not night yet. There isn't any precipitation expected and air pressure measures have been reported close to normal (1024mb).\", additional_kwargs={}, response_metadata={'finish_reason': 'stop', 'model_name': 'qwen2', 'system_fingerprint': 'fp_ollama'}, id='run-327cc636-5119-40c6-b67e-0d8ad2015015-0')]}\n"
     ]
    }
   ],
   "source": [
    "messages = [HumanMessage(\"Whats the weather in LA?\")]\n",
    "thread = {\"configurable\": {\"thread_id\": \"2\"}}\n",
    "for event in abot.graph.stream({\"messages\": messages}, thread):\n",
    "    for v in event.values():\n",
    "        print(v)\n",
    "while abot.graph.get_state(thread).next:\n",
    "    print(\"\\n\", abot.graph.get_state(thread),\"\\n\")\n",
    "    _input = input(\"proceed?\")\n",
    "    if _input != \"y\":\n",
    "        print(\"aborting\")\n",
    "        break\n",
    "    for event in abot.graph.stream(None, thread):\n",
    "        for v in event.values():\n",
    "            print(v)"
   ]
  },
  {
   "cell_type": "markdown",
   "id": "7bbe5689-54ab-49ca-9055-6e5216abd523",
   "metadata": {},
   "source": [
    "## Modify State\n",
    "Run until the interrupt and then modify the state."
   ]
  },
  {
   "cell_type": "code",
   "execution_count": 15,
   "id": "98f303b1-a4d0-408c-8cc0-515ff980717f",
   "metadata": {},
   "outputs": [
    {
     "name": "stdout",
     "output_type": "stream",
     "text": [
      "{'messages': [HumanMessage(content='Whats the weather in LA?', additional_kwargs={}, response_metadata={}, id='750f5323-0869-442f-a991-145df1e72869'), AIMessage(content='', additional_kwargs={'tool_calls': [{'index': 0, 'id': 'call_fnmay1lv', 'function': {'arguments': '{\"query\":\"current weather in Los Angeles\"}', 'name': 'tavily_search_results_json'}, 'type': 'function'}]}, response_metadata={'finish_reason': 'tool_calls', 'model_name': 'qwen2', 'system_fingerprint': 'fp_ollama'}, id='run-f218bf50-6f4c-4262-bb5b-3d46aae1f215-0', tool_calls=[{'name': 'tavily_search_results_json', 'args': {'query': 'current weather in Los Angeles'}, 'id': 'call_fnmay1lv', 'type': 'tool_call'}])]}\n",
      "{'messages': [AIMessage(content='', additional_kwargs={'tool_calls': [{'index': 0, 'id': 'call_fnmay1lv', 'function': {'arguments': '{\"query\":\"current weather in Los Angeles\"}', 'name': 'tavily_search_results_json'}, 'type': 'function'}]}, response_metadata={'finish_reason': 'tool_calls', 'model_name': 'qwen2', 'system_fingerprint': 'fp_ollama'}, id='run-f218bf50-6f4c-4262-bb5b-3d46aae1f215-0', tool_calls=[{'name': 'tavily_search_results_json', 'args': {'query': 'current weather in Los Angeles'}, 'id': 'call_fnmay1lv', 'type': 'tool_call'}])]}\n",
      "()\n"
     ]
    }
   ],
   "source": [
    "messages = [HumanMessage(\"Whats the weather in LA?\")]\n",
    "thread = {\"configurable\": {\"thread_id\": \"3\"}}\n",
    "for event in abot.graph.stream({\"messages\": messages}, thread):\n",
    "    for v in event.values():\n",
    "        print(v)"
   ]
  },
  {
   "cell_type": "code",
   "execution_count": 16,
   "id": "bf4dcb93-6298-4cfd-b3ce-61dfac7fb35f",
   "metadata": {},
   "outputs": [
    {
     "data": {
      "text/plain": [
       "StateSnapshot(values={'messages': [HumanMessage(content='Whats the weather in LA?', additional_kwargs={}, response_metadata={}, id='750f5323-0869-442f-a991-145df1e72869'), AIMessage(content='', additional_kwargs={'tool_calls': [{'index': 0, 'id': 'call_fnmay1lv', 'function': {'arguments': '{\"query\":\"current weather in Los Angeles\"}', 'name': 'tavily_search_results_json'}, 'type': 'function'}]}, response_metadata={'finish_reason': 'tool_calls', 'model_name': 'qwen2', 'system_fingerprint': 'fp_ollama'}, id='run-f218bf50-6f4c-4262-bb5b-3d46aae1f215-0', tool_calls=[{'name': 'tavily_search_results_json', 'args': {'query': 'current weather in Los Angeles'}, 'id': 'call_fnmay1lv', 'type': 'tool_call'}])]}, next=('action',), config={'configurable': {'thread_id': '3', 'checkpoint_ns': '', 'checkpoint_id': '1effc7e9-8b46-6105-8001-8791ba6d14a5'}}, metadata={'source': 'loop', 'writes': {'llm': {'messages': [AIMessage(content='', additional_kwargs={'tool_calls': [{'index': 0, 'id': 'call_fnmay1lv', 'function': {'arguments': '{\"query\":\"current weather in Los Angeles\"}', 'name': 'tavily_search_results_json'}, 'type': 'function'}]}, response_metadata={'finish_reason': 'tool_calls', 'model_name': 'qwen2', 'system_fingerprint': 'fp_ollama'}, id='run-f218bf50-6f4c-4262-bb5b-3d46aae1f215-0', tool_calls=[{'name': 'tavily_search_results_json', 'args': {'query': 'current weather in Los Angeles'}, 'id': 'call_fnmay1lv', 'type': 'tool_call'}])]}}, 'thread_id': '3', 'step': 1, 'parents': {}}, created_at='2025-03-09T00:36:52.981123+00:00', parent_config={'configurable': {'thread_id': '3', 'checkpoint_ns': '', 'checkpoint_id': '1effc7e9-86f9-6c49-8000-b7b49301f134'}}, tasks=(PregelTask(id='e1ebca74-6424-2203-279a-3e3e475380a9', name='action', path=('__pregel_pull', 'action'), error=None, interrupts=(), state=None, result=None),))"
      ]
     },
     "execution_count": 16,
     "metadata": {},
     "output_type": "execute_result"
    }
   ],
   "source": [
    "abot.graph.get_state(thread)"
   ]
  },
  {
   "cell_type": "code",
   "execution_count": 17,
   "id": "932883a4-c722-42bb-aec0-b4f41c5c81a4",
   "metadata": {},
   "outputs": [],
   "source": [
    "current_values = abot.graph.get_state(thread)"
   ]
  },
  {
   "cell_type": "code",
   "execution_count": 18,
   "id": "ff362f49-dcf1-4ea1-a86c-e516e9ab897d",
   "metadata": {},
   "outputs": [
    {
     "data": {
      "text/plain": [
       "AIMessage(content='', additional_kwargs={'tool_calls': [{'index': 0, 'id': 'call_fnmay1lv', 'function': {'arguments': '{\"query\":\"current weather in Los Angeles\"}', 'name': 'tavily_search_results_json'}, 'type': 'function'}]}, response_metadata={'finish_reason': 'tool_calls', 'model_name': 'qwen2', 'system_fingerprint': 'fp_ollama'}, id='run-f218bf50-6f4c-4262-bb5b-3d46aae1f215-0', tool_calls=[{'name': 'tavily_search_results_json', 'args': {'query': 'current weather in Los Angeles'}, 'id': 'call_fnmay1lv', 'type': 'tool_call'}])"
      ]
     },
     "execution_count": 18,
     "metadata": {},
     "output_type": "execute_result"
    }
   ],
   "source": [
    "current_values.values['messages'][-1]"
   ]
  },
  {
   "cell_type": "code",
   "execution_count": 19,
   "id": "a7e15a20-83d7-434c-8551-bce8dcc32be0",
   "metadata": {},
   "outputs": [
    {
     "data": {
      "text/plain": [
       "[{'name': 'tavily_search_results_json',\n",
       "  'args': {'query': 'current weather in Los Angeles'},\n",
       "  'id': 'call_fnmay1lv',\n",
       "  'type': 'tool_call'}]"
      ]
     },
     "execution_count": 19,
     "metadata": {},
     "output_type": "execute_result"
    }
   ],
   "source": [
    "current_values.values['messages'][-1].tool_calls"
   ]
  },
  {
   "cell_type": "code",
   "execution_count": 20,
   "id": "54ab2c74-f32e-490c-a85d-932d11444210",
   "metadata": {},
   "outputs": [],
   "source": [
    "_id = current_values.values['messages'][-1].tool_calls[0]['id']\n",
    "current_values.values['messages'][-1].tool_calls = [\n",
    "    {'name': 'tavily_search_results_json',\n",
    "  'args': {'query': 'current weather in Louisiana'},\n",
    "  'id': _id}\n",
    "]"
   ]
  },
  {
   "cell_type": "code",
   "execution_count": 21,
   "id": "a833d3ce-bd31-4319-811d-decff226b970",
   "metadata": {},
   "outputs": [
    {
     "name": "stdout",
     "output_type": "stream",
     "text": [
      "{'messages': [HumanMessage(content='Whats the weather in LA?', additional_kwargs={}, response_metadata={}, id='750f5323-0869-442f-a991-145df1e72869'), AIMessage(content='', additional_kwargs={'tool_calls': [{'index': 0, 'id': 'call_fnmay1lv', 'function': {'arguments': '{\"query\":\"current weather in Los Angeles\"}', 'name': 'tavily_search_results_json'}, 'type': 'function'}]}, response_metadata={'finish_reason': 'tool_calls', 'model_name': 'qwen2', 'system_fingerprint': 'fp_ollama'}, id='run-f218bf50-6f4c-4262-bb5b-3d46aae1f215-0', tool_calls=[{'name': 'tavily_search_results_json', 'args': {'query': 'current weather in Louisiana'}, 'id': 'call_fnmay1lv'}])]}\n"
     ]
    },
    {
     "data": {
      "text/plain": [
       "{'configurable': {'thread_id': '3',\n",
       "  'checkpoint_ns': '',\n",
       "  'checkpoint_id': '1effc7e9-8c55-6ac3-8002-85317613d6b8'}}"
      ]
     },
     "execution_count": 21,
     "metadata": {},
     "output_type": "execute_result"
    }
   ],
   "source": [
    "abot.graph.update_state(thread, current_values.values)"
   ]
  },
  {
   "cell_type": "code",
   "execution_count": 22,
   "id": "76e93cce-6eab-4c7c-ac64-e9993fdb30d6",
   "metadata": {},
   "outputs": [
    {
     "data": {
      "text/plain": [
       "StateSnapshot(values={'messages': [HumanMessage(content='Whats the weather in LA?', additional_kwargs={}, response_metadata={}, id='750f5323-0869-442f-a991-145df1e72869'), AIMessage(content='', additional_kwargs={'tool_calls': [{'index': 0, 'id': 'call_fnmay1lv', 'function': {'arguments': '{\"query\":\"current weather in Los Angeles\"}', 'name': 'tavily_search_results_json'}, 'type': 'function'}]}, response_metadata={'finish_reason': 'tool_calls', 'model_name': 'qwen2', 'system_fingerprint': 'fp_ollama'}, id='run-f218bf50-6f4c-4262-bb5b-3d46aae1f215-0', tool_calls=[{'name': 'tavily_search_results_json', 'args': {'query': 'current weather in Louisiana'}, 'id': 'call_fnmay1lv', 'type': 'tool_call'}])]}, next=('action',), config={'configurable': {'thread_id': '3', 'checkpoint_ns': '', 'checkpoint_id': '1effc7e9-8c55-6ac3-8002-85317613d6b8'}}, metadata={'source': 'update', 'writes': {'llm': {'messages': [HumanMessage(content='Whats the weather in LA?', additional_kwargs={}, response_metadata={}, id='750f5323-0869-442f-a991-145df1e72869'), AIMessage(content='', additional_kwargs={'tool_calls': [{'index': 0, 'id': 'call_fnmay1lv', 'function': {'arguments': '{\"query\":\"current weather in Los Angeles\"}', 'name': 'tavily_search_results_json'}, 'type': 'function'}]}, response_metadata={'finish_reason': 'tool_calls', 'model_name': 'qwen2', 'system_fingerprint': 'fp_ollama'}, id='run-f218bf50-6f4c-4262-bb5b-3d46aae1f215-0', tool_calls=[{'name': 'tavily_search_results_json', 'args': {'query': 'current weather in Louisiana'}, 'id': 'call_fnmay1lv', 'type': 'tool_call'}])]}}, 'thread_id': '3', 'step': 2, 'parents': {}}, created_at='2025-03-09T00:36:53.092375+00:00', parent_config={'configurable': {'thread_id': '3', 'checkpoint_ns': '', 'checkpoint_id': '1effc7e9-8b46-6105-8001-8791ba6d14a5'}}, tasks=(PregelTask(id='221ec3ee-0042-1570-6061-5da4f1d6b1c2', name='action', path=('__pregel_pull', 'action'), error=None, interrupts=(), state=None, result=None),))"
      ]
     },
     "execution_count": 22,
     "metadata": {},
     "output_type": "execute_result"
    }
   ],
   "source": [
    "abot.graph.get_state(thread)"
   ]
  },
  {
   "cell_type": "code",
   "execution_count": 23,
   "id": "fd2d0990-a932-423f-9ff3-5cada58c5f32",
   "metadata": {},
   "outputs": [
    {
     "name": "stdout",
     "output_type": "stream",
     "text": [
      "Calling: {'name': 'tavily_search_results_json', 'args': {'query': 'current weather in Louisiana'}, 'id': 'call_fnmay1lv', 'type': 'tool_call'}\n",
      "Back to the model!\n",
      "{'messages': [ToolMessage(content='[{\\'title\\': \\'Weather in Louisiana\\', \\'url\\': \\'https://www.weatherapi.com/\\', \\'content\\': \"{\\'location\\': {\\'name\\': \\'Louisiana\\', \\'region\\': \\'Missouri\\', \\'country\\': \\'USA United States of America\\', \\'lat\\': 39.4411, \\'lon\\': -91.0551, \\'tz_id\\': \\'America/Chicago\\', \\'localtime_epoch\\': 1741480312, \\'localtime\\': \\'2025-03-08 18:31\\'}, \\'current\\': {\\'last_updated_epoch\\': 1741480200, \\'last_updated\\': \\'2025-03-08 18:30\\', \\'temp_c\\': 9.7, \\'temp_f\\': 49.5, \\'is_day\\': 0, \\'condition\\': {\\'text\\': \\'Clear\\', \\'icon\\': \\'//cdn.weatherapi.com/weather/64x64/night/113.png\\', \\'code\\': 1000}, \\'wind_mph\\': 5.6, \\'wind_kph\\': 9.0, \\'wind_degree\\': 261, \\'wind_dir\\': \\'W\\', \\'pressure_mb\\': 1019.0, \\'pressure_in\\': 30.09, \\'precip_mm\\': 0.0, \\'precip_in\\': 0.0, \\'humidity\\': 43, \\'cloud\\': 0, \\'feelslike_c\\': 8.5, \\'feelslike_f\\': 47.2, \\'windchill_c\\': 8.5, \\'windchill_f\\': 47.4, \\'heatindex_c\\': 9.9, \\'heatindex_f\\': 49.8, \\'dewpoint_c\\': -1.2, \\'dewpoint_f\\': 29.8, \\'vis_km\\': 16.0, \\'vis_miles\\': 9.0, \\'uv\\': 0.0, \\'gust_mph\\': 8.2, \\'gust_kph\\': 13.2}}\", \\'score\\': 0.6973259}, {\\'title\\': \\'Weather Forecast and Conditions for New Orleans, LA\\', \\'url\\': \\'https://weather.com/weather/today/l/New+Orleans+LA?canonicalCityId=78c7abd43c71f2dc6db5ef2b5ede05b341e64aca7214323c3fc89b4b8244d11d\\', \\'content\\': \\'Weather Today in New Orleans, LA ; High / Low. 72°/63° ; Wind. 13 mph ; Humidity. 82% ; Dew Point. 66° ; Pressure. 29.91 in.\\', \\'score\\': 0.4352539}]', name='tavily_search_results_json', id='0c979bdc-c2cb-4719-a83d-72a0a3a84595', tool_call_id='call_fnmay1lv')]}\n",
      "{'messages': [HumanMessage(content='Whats the weather in LA?', additional_kwargs={}, response_metadata={}, id='750f5323-0869-442f-a991-145df1e72869'), AIMessage(content='', additional_kwargs={'tool_calls': [{'index': 0, 'id': 'call_fnmay1lv', 'function': {'arguments': '{\"query\":\"current weather in Los Angeles\"}', 'name': 'tavily_search_results_json'}, 'type': 'function'}]}, response_metadata={'finish_reason': 'tool_calls', 'model_name': 'qwen2', 'system_fingerprint': 'fp_ollama'}, id='run-f218bf50-6f4c-4262-bb5b-3d46aae1f215-0', tool_calls=[{'name': 'tavily_search_results_json', 'args': {'query': 'current weather in Louisiana'}, 'id': 'call_fnmay1lv', 'type': 'tool_call'}]), ToolMessage(content='[{\\'title\\': \\'Weather in Louisiana\\', \\'url\\': \\'https://www.weatherapi.com/\\', \\'content\\': \"{\\'location\\': {\\'name\\': \\'Louisiana\\', \\'region\\': \\'Missouri\\', \\'country\\': \\'USA United States of America\\', \\'lat\\': 39.4411, \\'lon\\': -91.0551, \\'tz_id\\': \\'America/Chicago\\', \\'localtime_epoch\\': 1741480312, \\'localtime\\': \\'2025-03-08 18:31\\'}, \\'current\\': {\\'last_updated_epoch\\': 1741480200, \\'last_updated\\': \\'2025-03-08 18:30\\', \\'temp_c\\': 9.7, \\'temp_f\\': 49.5, \\'is_day\\': 0, \\'condition\\': {\\'text\\': \\'Clear\\', \\'icon\\': \\'//cdn.weatherapi.com/weather/64x64/night/113.png\\', \\'code\\': 1000}, \\'wind_mph\\': 5.6, \\'wind_kph\\': 9.0, \\'wind_degree\\': 261, \\'wind_dir\\': \\'W\\', \\'pressure_mb\\': 1019.0, \\'pressure_in\\': 30.09, \\'precip_mm\\': 0.0, \\'precip_in\\': 0.0, \\'humidity\\': 43, \\'cloud\\': 0, \\'feelslike_c\\': 8.5, \\'feelslike_f\\': 47.2, \\'windchill_c\\': 8.5, \\'windchill_f\\': 47.4, \\'heatindex_c\\': 9.9, \\'heatindex_f\\': 49.8, \\'dewpoint_c\\': -1.2, \\'dewpoint_f\\': 29.8, \\'vis_km\\': 16.0, \\'vis_miles\\': 9.0, \\'uv\\': 0.0, \\'gust_mph\\': 8.2, \\'gust_kph\\': 13.2}}\", \\'score\\': 0.6973259}, {\\'title\\': \\'Weather Forecast and Conditions for New Orleans, LA\\', \\'url\\': \\'https://weather.com/weather/today/l/New+Orleans+LA?canonicalCityId=78c7abd43c71f2dc6db5ef2b5ede05b341e64aca7214323c3fc89b4b8244d11d\\', \\'content\\': \\'Weather Today in New Orleans, LA ; High / Low. 72°/63° ; Wind. 13 mph ; Humidity. 82% ; Dew Point. 66° ; Pressure. 29.91 in.\\', \\'score\\': 0.4352539}]', name='tavily_search_results_json', id='0c979bdc-c2cb-4719-a83d-72a0a3a84595', tool_call_id='call_fnmay1lv'), AIMessage(content=\"According to the most recent data, it is currently clear with a temperature of around 9.7 degrees Celsius or 49.5 degrees Fahrenheit in an area located near Louisiana, Missouri, USA (this might not be very accurate as New Orleans could be the targeted location given its popularity and it was referenced again for today's weather conditions). The wind speed is at about 5.6 miles per hour with low humidity at around 43%. There's no precipitation expected since the precipitations are recorded as 0.0mm or 0 inches, and the wind is blowing from West.\\n\\nPlease always check multiple sources to confirm these details specifically for your area.\\n  \\nToday in New Orleans, LA:\\nThe high temperature will reach up to 72° F (63° C) with a low of around 63° F (17° C). The wind speed is anticipated to be at about 13 mph. Humidity will be around 82%, the dew point is expected to be at 66° F, and pressure readings are set for 29.91 inches Hg.\\n\\nFor more accurate information, consult your local trusted weather forecasting service regularly as conditions can change rapidly especially in coastal areas like New Orleans where geographical location impacts weather patterns significantly.\", additional_kwargs={}, response_metadata={'finish_reason': 'stop', 'model_name': 'qwen2', 'system_fingerprint': 'fp_ollama'}, id='run-154a4e18-af48-4943-8e48-e2a1cce0863a-0')]}\n",
      "{'messages': [AIMessage(content=\"According to the most recent data, it is currently clear with a temperature of around 9.7 degrees Celsius or 49.5 degrees Fahrenheit in an area located near Louisiana, Missouri, USA (this might not be very accurate as New Orleans could be the targeted location given its popularity and it was referenced again for today's weather conditions). The wind speed is at about 5.6 miles per hour with low humidity at around 43%. There's no precipitation expected since the precipitations are recorded as 0.0mm or 0 inches, and the wind is blowing from West.\\n\\nPlease always check multiple sources to confirm these details specifically for your area.\\n  \\nToday in New Orleans, LA:\\nThe high temperature will reach up to 72° F (63° C) with a low of around 63° F (17° C). The wind speed is anticipated to be at about 13 mph. Humidity will be around 82%, the dew point is expected to be at 66° F, and pressure readings are set for 29.91 inches Hg.\\n\\nFor more accurate information, consult your local trusted weather forecasting service regularly as conditions can change rapidly especially in coastal areas like New Orleans where geographical location impacts weather patterns significantly.\", additional_kwargs={}, response_metadata={'finish_reason': 'stop', 'model_name': 'qwen2', 'system_fingerprint': 'fp_ollama'}, id='run-154a4e18-af48-4943-8e48-e2a1cce0863a-0')]}\n"
     ]
    }
   ],
   "source": [
    "for event in abot.graph.stream(None, thread):\n",
    "    for v in event.values():\n",
    "        print(v)"
   ]
  },
  {
   "cell_type": "markdown",
   "id": "e75b870b-e0df-46f1-b29b-fb151ebcbcc3",
   "metadata": {},
   "source": [
    "## Time Travel"
   ]
  },
  {
   "cell_type": "code",
   "execution_count": 24,
   "id": "27cde654-64e2-48bc-80a9-0ed668ccb7dc",
   "metadata": {},
   "outputs": [
    {
     "name": "stdout",
     "output_type": "stream",
     "text": [
      "StateSnapshot(values={'messages': [HumanMessage(content='Whats the weather in LA?', additional_kwargs={}, response_metadata={}, id='750f5323-0869-442f-a991-145df1e72869'), AIMessage(content='', additional_kwargs={'tool_calls': [{'index': 0, 'id': 'call_fnmay1lv', 'function': {'arguments': '{\"query\":\"current weather in Los Angeles\"}', 'name': 'tavily_search_results_json'}, 'type': 'function'}]}, response_metadata={'finish_reason': 'tool_calls', 'model_name': 'qwen2', 'system_fingerprint': 'fp_ollama'}, id='run-f218bf50-6f4c-4262-bb5b-3d46aae1f215-0', tool_calls=[{'name': 'tavily_search_results_json', 'args': {'query': 'current weather in Louisiana'}, 'id': 'call_fnmay1lv', 'type': 'tool_call'}]), ToolMessage(content='[{\\'title\\': \\'Weather in Louisiana\\', \\'url\\': \\'https://www.weatherapi.com/\\', \\'content\\': \"{\\'location\\': {\\'name\\': \\'Louisiana\\', \\'region\\': \\'Missouri\\', \\'country\\': \\'USA United States of America\\', \\'lat\\': 39.4411, \\'lon\\': -91.0551, \\'tz_id\\': \\'America/Chicago\\', \\'localtime_epoch\\': 1741480312, \\'localtime\\': \\'2025-03-08 18:31\\'}, \\'current\\': {\\'last_updated_epoch\\': 1741480200, \\'last_updated\\': \\'2025-03-08 18:30\\', \\'temp_c\\': 9.7, \\'temp_f\\': 49.5, \\'is_day\\': 0, \\'condition\\': {\\'text\\': \\'Clear\\', \\'icon\\': \\'//cdn.weatherapi.com/weather/64x64/night/113.png\\', \\'code\\': 1000}, \\'wind_mph\\': 5.6, \\'wind_kph\\': 9.0, \\'wind_degree\\': 261, \\'wind_dir\\': \\'W\\', \\'pressure_mb\\': 1019.0, \\'pressure_in\\': 30.09, \\'precip_mm\\': 0.0, \\'precip_in\\': 0.0, \\'humidity\\': 43, \\'cloud\\': 0, \\'feelslike_c\\': 8.5, \\'feelslike_f\\': 47.2, \\'windchill_c\\': 8.5, \\'windchill_f\\': 47.4, \\'heatindex_c\\': 9.9, \\'heatindex_f\\': 49.8, \\'dewpoint_c\\': -1.2, \\'dewpoint_f\\': 29.8, \\'vis_km\\': 16.0, \\'vis_miles\\': 9.0, \\'uv\\': 0.0, \\'gust_mph\\': 8.2, \\'gust_kph\\': 13.2}}\", \\'score\\': 0.6973259}, {\\'title\\': \\'Weather Forecast and Conditions for New Orleans, LA\\', \\'url\\': \\'https://weather.com/weather/today/l/New+Orleans+LA?canonicalCityId=78c7abd43c71f2dc6db5ef2b5ede05b341e64aca7214323c3fc89b4b8244d11d\\', \\'content\\': \\'Weather Today in New Orleans, LA ; High / Low. 72°/63° ; Wind. 13 mph ; Humidity. 82% ; Dew Point. 66° ; Pressure. 29.91 in.\\', \\'score\\': 0.4352539}]', name='tavily_search_results_json', id='0c979bdc-c2cb-4719-a83d-72a0a3a84595', tool_call_id='call_fnmay1lv'), AIMessage(content=\"According to the most recent data, it is currently clear with a temperature of around 9.7 degrees Celsius or 49.5 degrees Fahrenheit in an area located near Louisiana, Missouri, USA (this might not be very accurate as New Orleans could be the targeted location given its popularity and it was referenced again for today's weather conditions). The wind speed is at about 5.6 miles per hour with low humidity at around 43%. There's no precipitation expected since the precipitations are recorded as 0.0mm or 0 inches, and the wind is blowing from West.\\n\\nPlease always check multiple sources to confirm these details specifically for your area.\\n  \\nToday in New Orleans, LA:\\nThe high temperature will reach up to 72° F (63° C) with a low of around 63° F (17° C). The wind speed is anticipated to be at about 13 mph. Humidity will be around 82%, the dew point is expected to be at 66° F, and pressure readings are set for 29.91 inches Hg.\\n\\nFor more accurate information, consult your local trusted weather forecasting service regularly as conditions can change rapidly especially in coastal areas like New Orleans where geographical location impacts weather patterns significantly.\", additional_kwargs={}, response_metadata={'finish_reason': 'stop', 'model_name': 'qwen2', 'system_fingerprint': 'fp_ollama'}, id='run-154a4e18-af48-4943-8e48-e2a1cce0863a-0')]}, next=(), config={'configurable': {'thread_id': '3', 'checkpoint_ns': '', 'checkpoint_id': '1effc7e9-c1fa-67e6-8004-403510053383'}}, metadata={'source': 'loop', 'writes': {'llm': {'messages': [AIMessage(content=\"According to the most recent data, it is currently clear with a temperature of around 9.7 degrees Celsius or 49.5 degrees Fahrenheit in an area located near Louisiana, Missouri, USA (this might not be very accurate as New Orleans could be the targeted location given its popularity and it was referenced again for today's weather conditions). The wind speed is at about 5.6 miles per hour with low humidity at around 43%. There's no precipitation expected since the precipitations are recorded as 0.0mm or 0 inches, and the wind is blowing from West.\\n\\nPlease always check multiple sources to confirm these details specifically for your area.\\n  \\nToday in New Orleans, LA:\\nThe high temperature will reach up to 72° F (63° C) with a low of around 63° F (17° C). The wind speed is anticipated to be at about 13 mph. Humidity will be around 82%, the dew point is expected to be at 66° F, and pressure readings are set for 29.91 inches Hg.\\n\\nFor more accurate information, consult your local trusted weather forecasting service regularly as conditions can change rapidly especially in coastal areas like New Orleans where geographical location impacts weather patterns significantly.\", additional_kwargs={}, response_metadata={'finish_reason': 'stop', 'model_name': 'qwen2', 'system_fingerprint': 'fp_ollama'}, id='run-154a4e18-af48-4943-8e48-e2a1cce0863a-0')]}}, 'thread_id': '3', 'step': 4, 'parents': {}}, created_at='2025-03-09T00:36:58.717332+00:00', parent_config={'configurable': {'thread_id': '3', 'checkpoint_ns': '', 'checkpoint_id': '1effc7e9-a197-6882-8003-dc915e134978'}}, tasks=())\n",
      "--\n",
      "StateSnapshot(values={'messages': [HumanMessage(content='Whats the weather in LA?', additional_kwargs={}, response_metadata={}, id='750f5323-0869-442f-a991-145df1e72869'), AIMessage(content='', additional_kwargs={'tool_calls': [{'index': 0, 'id': 'call_fnmay1lv', 'function': {'arguments': '{\"query\":\"current weather in Los Angeles\"}', 'name': 'tavily_search_results_json'}, 'type': 'function'}]}, response_metadata={'finish_reason': 'tool_calls', 'model_name': 'qwen2', 'system_fingerprint': 'fp_ollama'}, id='run-f218bf50-6f4c-4262-bb5b-3d46aae1f215-0', tool_calls=[{'name': 'tavily_search_results_json', 'args': {'query': 'current weather in Louisiana'}, 'id': 'call_fnmay1lv', 'type': 'tool_call'}]), ToolMessage(content='[{\\'title\\': \\'Weather in Louisiana\\', \\'url\\': \\'https://www.weatherapi.com/\\', \\'content\\': \"{\\'location\\': {\\'name\\': \\'Louisiana\\', \\'region\\': \\'Missouri\\', \\'country\\': \\'USA United States of America\\', \\'lat\\': 39.4411, \\'lon\\': -91.0551, \\'tz_id\\': \\'America/Chicago\\', \\'localtime_epoch\\': 1741480312, \\'localtime\\': \\'2025-03-08 18:31\\'}, \\'current\\': {\\'last_updated_epoch\\': 1741480200, \\'last_updated\\': \\'2025-03-08 18:30\\', \\'temp_c\\': 9.7, \\'temp_f\\': 49.5, \\'is_day\\': 0, \\'condition\\': {\\'text\\': \\'Clear\\', \\'icon\\': \\'//cdn.weatherapi.com/weather/64x64/night/113.png\\', \\'code\\': 1000}, \\'wind_mph\\': 5.6, \\'wind_kph\\': 9.0, \\'wind_degree\\': 261, \\'wind_dir\\': \\'W\\', \\'pressure_mb\\': 1019.0, \\'pressure_in\\': 30.09, \\'precip_mm\\': 0.0, \\'precip_in\\': 0.0, \\'humidity\\': 43, \\'cloud\\': 0, \\'feelslike_c\\': 8.5, \\'feelslike_f\\': 47.2, \\'windchill_c\\': 8.5, \\'windchill_f\\': 47.4, \\'heatindex_c\\': 9.9, \\'heatindex_f\\': 49.8, \\'dewpoint_c\\': -1.2, \\'dewpoint_f\\': 29.8, \\'vis_km\\': 16.0, \\'vis_miles\\': 9.0, \\'uv\\': 0.0, \\'gust_mph\\': 8.2, \\'gust_kph\\': 13.2}}\", \\'score\\': 0.6973259}, {\\'title\\': \\'Weather Forecast and Conditions for New Orleans, LA\\', \\'url\\': \\'https://weather.com/weather/today/l/New+Orleans+LA?canonicalCityId=78c7abd43c71f2dc6db5ef2b5ede05b341e64aca7214323c3fc89b4b8244d11d\\', \\'content\\': \\'Weather Today in New Orleans, LA ; High / Low. 72°/63° ; Wind. 13 mph ; Humidity. 82% ; Dew Point. 66° ; Pressure. 29.91 in.\\', \\'score\\': 0.4352539}]', name='tavily_search_results_json', id='0c979bdc-c2cb-4719-a83d-72a0a3a84595', tool_call_id='call_fnmay1lv')]}, next=('llm',), config={'configurable': {'thread_id': '3', 'checkpoint_ns': '', 'checkpoint_id': '1effc7e9-a197-6882-8003-dc915e134978'}}, metadata={'source': 'loop', 'writes': {'action': {'messages': [ToolMessage(content='[{\\'title\\': \\'Weather in Louisiana\\', \\'url\\': \\'https://www.weatherapi.com/\\', \\'content\\': \"{\\'location\\': {\\'name\\': \\'Louisiana\\', \\'region\\': \\'Missouri\\', \\'country\\': \\'USA United States of America\\', \\'lat\\': 39.4411, \\'lon\\': -91.0551, \\'tz_id\\': \\'America/Chicago\\', \\'localtime_epoch\\': 1741480312, \\'localtime\\': \\'2025-03-08 18:31\\'}, \\'current\\': {\\'last_updated_epoch\\': 1741480200, \\'last_updated\\': \\'2025-03-08 18:30\\', \\'temp_c\\': 9.7, \\'temp_f\\': 49.5, \\'is_day\\': 0, \\'condition\\': {\\'text\\': \\'Clear\\', \\'icon\\': \\'//cdn.weatherapi.com/weather/64x64/night/113.png\\', \\'code\\': 1000}, \\'wind_mph\\': 5.6, \\'wind_kph\\': 9.0, \\'wind_degree\\': 261, \\'wind_dir\\': \\'W\\', \\'pressure_mb\\': 1019.0, \\'pressure_in\\': 30.09, \\'precip_mm\\': 0.0, \\'precip_in\\': 0.0, \\'humidity\\': 43, \\'cloud\\': 0, \\'feelslike_c\\': 8.5, \\'feelslike_f\\': 47.2, \\'windchill_c\\': 8.5, \\'windchill_f\\': 47.4, \\'heatindex_c\\': 9.9, \\'heatindex_f\\': 49.8, \\'dewpoint_c\\': -1.2, \\'dewpoint_f\\': 29.8, \\'vis_km\\': 16.0, \\'vis_miles\\': 9.0, \\'uv\\': 0.0, \\'gust_mph\\': 8.2, \\'gust_kph\\': 13.2}}\", \\'score\\': 0.6973259}, {\\'title\\': \\'Weather Forecast and Conditions for New Orleans, LA\\', \\'url\\': \\'https://weather.com/weather/today/l/New+Orleans+LA?canonicalCityId=78c7abd43c71f2dc6db5ef2b5ede05b341e64aca7214323c3fc89b4b8244d11d\\', \\'content\\': \\'Weather Today in New Orleans, LA ; High / Low. 72°/63° ; Wind. 13 mph ; Humidity. 82% ; Dew Point. 66° ; Pressure. 29.91 in.\\', \\'score\\': 0.4352539}]', name='tavily_search_results_json', id='0c979bdc-c2cb-4719-a83d-72a0a3a84595', tool_call_id='call_fnmay1lv')]}}, 'thread_id': '3', 'step': 3, 'parents': {}}, created_at='2025-03-09T00:36:55.321349+00:00', parent_config={'configurable': {'thread_id': '3', 'checkpoint_ns': '', 'checkpoint_id': '1effc7e9-8c55-6ac3-8002-85317613d6b8'}}, tasks=(PregelTask(id='8115c4bf-ed46-612d-02b4-212e5c15196a', name='llm', path=('__pregel_pull', 'llm'), error=None, interrupts=(), state=None, result={'messages': [AIMessage(content=\"According to the most recent data, it is currently clear with a temperature of around 9.7 degrees Celsius or 49.5 degrees Fahrenheit in an area located near Louisiana, Missouri, USA (this might not be very accurate as New Orleans could be the targeted location given its popularity and it was referenced again for today's weather conditions). The wind speed is at about 5.6 miles per hour with low humidity at around 43%. There's no precipitation expected since the precipitations are recorded as 0.0mm or 0 inches, and the wind is blowing from West.\\n\\nPlease always check multiple sources to confirm these details specifically for your area.\\n  \\nToday in New Orleans, LA:\\nThe high temperature will reach up to 72° F (63° C) with a low of around 63° F (17° C). The wind speed is anticipated to be at about 13 mph. Humidity will be around 82%, the dew point is expected to be at 66° F, and pressure readings are set for 29.91 inches Hg.\\n\\nFor more accurate information, consult your local trusted weather forecasting service regularly as conditions can change rapidly especially in coastal areas like New Orleans where geographical location impacts weather patterns significantly.\", additional_kwargs={}, response_metadata={'finish_reason': 'stop', 'model_name': 'qwen2', 'system_fingerprint': 'fp_ollama'}, id='run-154a4e18-af48-4943-8e48-e2a1cce0863a-0')]}),))\n",
      "--\n",
      "StateSnapshot(values={'messages': [HumanMessage(content='Whats the weather in LA?', additional_kwargs={}, response_metadata={}, id='750f5323-0869-442f-a991-145df1e72869'), AIMessage(content='', additional_kwargs={'tool_calls': [{'index': 0, 'id': 'call_fnmay1lv', 'function': {'arguments': '{\"query\":\"current weather in Los Angeles\"}', 'name': 'tavily_search_results_json'}, 'type': 'function'}]}, response_metadata={'finish_reason': 'tool_calls', 'model_name': 'qwen2', 'system_fingerprint': 'fp_ollama'}, id='run-f218bf50-6f4c-4262-bb5b-3d46aae1f215-0', tool_calls=[{'name': 'tavily_search_results_json', 'args': {'query': 'current weather in Louisiana'}, 'id': 'call_fnmay1lv', 'type': 'tool_call'}])]}, next=('action',), config={'configurable': {'thread_id': '3', 'checkpoint_ns': '', 'checkpoint_id': '1effc7e9-8c55-6ac3-8002-85317613d6b8'}}, metadata={'source': 'update', 'writes': {'llm': {'messages': [HumanMessage(content='Whats the weather in LA?', additional_kwargs={}, response_metadata={}, id='750f5323-0869-442f-a991-145df1e72869'), AIMessage(content='', additional_kwargs={'tool_calls': [{'index': 0, 'id': 'call_fnmay1lv', 'function': {'arguments': '{\"query\":\"current weather in Los Angeles\"}', 'name': 'tavily_search_results_json'}, 'type': 'function'}]}, response_metadata={'finish_reason': 'tool_calls', 'model_name': 'qwen2', 'system_fingerprint': 'fp_ollama'}, id='run-f218bf50-6f4c-4262-bb5b-3d46aae1f215-0', tool_calls=[{'name': 'tavily_search_results_json', 'args': {'query': 'current weather in Louisiana'}, 'id': 'call_fnmay1lv', 'type': 'tool_call'}])]}}, 'thread_id': '3', 'step': 2, 'parents': {}}, created_at='2025-03-09T00:36:53.092375+00:00', parent_config={'configurable': {'thread_id': '3', 'checkpoint_ns': '', 'checkpoint_id': '1effc7e9-8b46-6105-8001-8791ba6d14a5'}}, tasks=(PregelTask(id='221ec3ee-0042-1570-6061-5da4f1d6b1c2', name='action', path=('__pregel_pull', 'action'), error=None, interrupts=(), state=None, result={'messages': [ToolMessage(content='[{\\'title\\': \\'Weather in Louisiana\\', \\'url\\': \\'https://www.weatherapi.com/\\', \\'content\\': \"{\\'location\\': {\\'name\\': \\'Louisiana\\', \\'region\\': \\'Missouri\\', \\'country\\': \\'USA United States of America\\', \\'lat\\': 39.4411, \\'lon\\': -91.0551, \\'tz_id\\': \\'America/Chicago\\', \\'localtime_epoch\\': 1741480312, \\'localtime\\': \\'2025-03-08 18:31\\'}, \\'current\\': {\\'last_updated_epoch\\': 1741480200, \\'last_updated\\': \\'2025-03-08 18:30\\', \\'temp_c\\': 9.7, \\'temp_f\\': 49.5, \\'is_day\\': 0, \\'condition\\': {\\'text\\': \\'Clear\\', \\'icon\\': \\'//cdn.weatherapi.com/weather/64x64/night/113.png\\', \\'code\\': 1000}, \\'wind_mph\\': 5.6, \\'wind_kph\\': 9.0, \\'wind_degree\\': 261, \\'wind_dir\\': \\'W\\', \\'pressure_mb\\': 1019.0, \\'pressure_in\\': 30.09, \\'precip_mm\\': 0.0, \\'precip_in\\': 0.0, \\'humidity\\': 43, \\'cloud\\': 0, \\'feelslike_c\\': 8.5, \\'feelslike_f\\': 47.2, \\'windchill_c\\': 8.5, \\'windchill_f\\': 47.4, \\'heatindex_c\\': 9.9, \\'heatindex_f\\': 49.8, \\'dewpoint_c\\': -1.2, \\'dewpoint_f\\': 29.8, \\'vis_km\\': 16.0, \\'vis_miles\\': 9.0, \\'uv\\': 0.0, \\'gust_mph\\': 8.2, \\'gust_kph\\': 13.2}}\", \\'score\\': 0.6973259}, {\\'title\\': \\'Weather Forecast and Conditions for New Orleans, LA\\', \\'url\\': \\'https://weather.com/weather/today/l/New+Orleans+LA?canonicalCityId=78c7abd43c71f2dc6db5ef2b5ede05b341e64aca7214323c3fc89b4b8244d11d\\', \\'content\\': \\'Weather Today in New Orleans, LA ; High / Low. 72°/63° ; Wind. 13 mph ; Humidity. 82% ; Dew Point. 66° ; Pressure. 29.91 in.\\', \\'score\\': 0.4352539}]', name='tavily_search_results_json', tool_call_id='call_fnmay1lv')]}),))\n",
      "--\n",
      "StateSnapshot(values={'messages': [HumanMessage(content='Whats the weather in LA?', additional_kwargs={}, response_metadata={}, id='750f5323-0869-442f-a991-145df1e72869'), AIMessage(content='', additional_kwargs={'tool_calls': [{'index': 0, 'id': 'call_fnmay1lv', 'function': {'arguments': '{\"query\":\"current weather in Los Angeles\"}', 'name': 'tavily_search_results_json'}, 'type': 'function'}]}, response_metadata={'finish_reason': 'tool_calls', 'model_name': 'qwen2', 'system_fingerprint': 'fp_ollama'}, id='run-f218bf50-6f4c-4262-bb5b-3d46aae1f215-0', tool_calls=[{'name': 'tavily_search_results_json', 'args': {'query': 'current weather in Los Angeles'}, 'id': 'call_fnmay1lv', 'type': 'tool_call'}])]}, next=('action',), config={'configurable': {'thread_id': '3', 'checkpoint_ns': '', 'checkpoint_id': '1effc7e9-8b46-6105-8001-8791ba6d14a5'}}, metadata={'source': 'loop', 'writes': {'llm': {'messages': [AIMessage(content='', additional_kwargs={'tool_calls': [{'index': 0, 'id': 'call_fnmay1lv', 'function': {'arguments': '{\"query\":\"current weather in Los Angeles\"}', 'name': 'tavily_search_results_json'}, 'type': 'function'}]}, response_metadata={'finish_reason': 'tool_calls', 'model_name': 'qwen2', 'system_fingerprint': 'fp_ollama'}, id='run-f218bf50-6f4c-4262-bb5b-3d46aae1f215-0', tool_calls=[{'name': 'tavily_search_results_json', 'args': {'query': 'current weather in Los Angeles'}, 'id': 'call_fnmay1lv', 'type': 'tool_call'}])]}}, 'thread_id': '3', 'step': 1, 'parents': {}}, created_at='2025-03-09T00:36:52.981123+00:00', parent_config={'configurable': {'thread_id': '3', 'checkpoint_ns': '', 'checkpoint_id': '1effc7e9-86f9-6c49-8000-b7b49301f134'}}, tasks=(PregelTask(id='e1ebca74-6424-2203-279a-3e3e475380a9', name='action', path=('__pregel_pull', 'action'), error=None, interrupts=(), state=None, result=None),))\n",
      "--\n",
      "StateSnapshot(values={'messages': [HumanMessage(content='Whats the weather in LA?', additional_kwargs={}, response_metadata={}, id='750f5323-0869-442f-a991-145df1e72869')]}, next=('llm',), config={'configurable': {'thread_id': '3', 'checkpoint_ns': '', 'checkpoint_id': '1effc7e9-86f9-6c49-8000-b7b49301f134'}}, metadata={'source': 'loop', 'writes': None, 'thread_id': '3', 'step': 0, 'parents': {}}, created_at='2025-03-09T00:36:52.530473+00:00', parent_config={'configurable': {'thread_id': '3', 'checkpoint_ns': '', 'checkpoint_id': '1effc7e9-86f6-65f2-bfff-2da0950b159f'}}, tasks=(PregelTask(id='6b914463-9e73-1998-fb31-ab5d38acbe35', name='llm', path=('__pregel_pull', 'llm'), error=None, interrupts=(), state=None, result={'messages': [AIMessage(content='', additional_kwargs={'tool_calls': [{'index': 0, 'id': 'call_fnmay1lv', 'function': {'arguments': '{\"query\":\"current weather in Los Angeles\"}', 'name': 'tavily_search_results_json'}, 'type': 'function'}]}, response_metadata={'finish_reason': 'tool_calls', 'model_name': 'qwen2', 'system_fingerprint': 'fp_ollama'}, id='run-f218bf50-6f4c-4262-bb5b-3d46aae1f215-0', tool_calls=[{'name': 'tavily_search_results_json', 'args': {'query': 'current weather in Los Angeles'}, 'id': 'call_fnmay1lv', 'type': 'tool_call'}])]}),))\n",
      "--\n",
      "StateSnapshot(values={'messages': []}, next=('__start__',), config={'configurable': {'thread_id': '3', 'checkpoint_ns': '', 'checkpoint_id': '1effc7e9-86f6-65f2-bfff-2da0950b159f'}}, metadata={'source': 'input', 'writes': {'__start__': {'messages': [HumanMessage(content='Whats the weather in LA?', additional_kwargs={}, response_metadata={})]}}, 'thread_id': '3', 'step': -1, 'parents': {}}, created_at='2025-03-09T00:36:52.529088+00:00', parent_config=None, tasks=(PregelTask(id='98545003-a425-0790-26c2-7c5aea37faf5', name='__start__', path=('__pregel_pull', '__start__'), error=None, interrupts=(), state=None, result={'messages': [HumanMessage(content='Whats the weather in LA?', additional_kwargs={}, response_metadata={}, id='750f5323-0869-442f-a991-145df1e72869')]}),))\n",
      "--\n"
     ]
    }
   ],
   "source": [
    "states = []\n",
    "for state in abot.graph.get_state_history(thread):\n",
    "    print(state)\n",
    "    print('--')\n",
    "    states.append(state)"
   ]
  },
  {
   "cell_type": "markdown",
   "id": "449896c8-6ec6-4166-b640-9cd1530336a0",
   "metadata": {},
   "source": [
    "To fetch the same state as was filmed, the offset below is changed to `-3` from `-1`. This accounts for the initial state `__start__` and the first state that are now stored to state memory with the latest version of software."
   ]
  },
  {
   "cell_type": "code",
   "execution_count": 25,
   "id": "4871f644-b131-4065-b7ce-b82c20a41f11",
   "metadata": {},
   "outputs": [],
   "source": [
    "to_replay = states[-3]"
   ]
  },
  {
   "cell_type": "code",
   "execution_count": 26,
   "id": "8c3d8070-3f36-4cf0-a677-508e54359c8f",
   "metadata": {},
   "outputs": [
    {
     "data": {
      "text/plain": [
       "StateSnapshot(values={'messages': [HumanMessage(content='Whats the weather in LA?', additional_kwargs={}, response_metadata={}, id='750f5323-0869-442f-a991-145df1e72869'), AIMessage(content='', additional_kwargs={'tool_calls': [{'index': 0, 'id': 'call_fnmay1lv', 'function': {'arguments': '{\"query\":\"current weather in Los Angeles\"}', 'name': 'tavily_search_results_json'}, 'type': 'function'}]}, response_metadata={'finish_reason': 'tool_calls', 'model_name': 'qwen2', 'system_fingerprint': 'fp_ollama'}, id='run-f218bf50-6f4c-4262-bb5b-3d46aae1f215-0', tool_calls=[{'name': 'tavily_search_results_json', 'args': {'query': 'current weather in Los Angeles'}, 'id': 'call_fnmay1lv', 'type': 'tool_call'}])]}, next=('action',), config={'configurable': {'thread_id': '3', 'checkpoint_ns': '', 'checkpoint_id': '1effc7e9-8b46-6105-8001-8791ba6d14a5'}}, metadata={'source': 'loop', 'writes': {'llm': {'messages': [AIMessage(content='', additional_kwargs={'tool_calls': [{'index': 0, 'id': 'call_fnmay1lv', 'function': {'arguments': '{\"query\":\"current weather in Los Angeles\"}', 'name': 'tavily_search_results_json'}, 'type': 'function'}]}, response_metadata={'finish_reason': 'tool_calls', 'model_name': 'qwen2', 'system_fingerprint': 'fp_ollama'}, id='run-f218bf50-6f4c-4262-bb5b-3d46aae1f215-0', tool_calls=[{'name': 'tavily_search_results_json', 'args': {'query': 'current weather in Los Angeles'}, 'id': 'call_fnmay1lv', 'type': 'tool_call'}])]}}, 'thread_id': '3', 'step': 1, 'parents': {}}, created_at='2025-03-09T00:36:52.981123+00:00', parent_config={'configurable': {'thread_id': '3', 'checkpoint_ns': '', 'checkpoint_id': '1effc7e9-86f9-6c49-8000-b7b49301f134'}}, tasks=(PregelTask(id='e1ebca74-6424-2203-279a-3e3e475380a9', name='action', path=('__pregel_pull', 'action'), error=None, interrupts=(), state=None, result=None),))"
      ]
     },
     "execution_count": 26,
     "metadata": {},
     "output_type": "execute_result"
    }
   ],
   "source": [
    "to_replay"
   ]
  },
  {
   "cell_type": "code",
   "execution_count": 27,
   "id": "98f3be1d-cc4c-41fa-9863-3e386e88e305",
   "metadata": {},
   "outputs": [
    {
     "name": "stdout",
     "output_type": "stream",
     "text": [
      "Calling: {'name': 'tavily_search_results_json', 'args': {'query': 'current weather in Los Angeles'}, 'id': 'call_fnmay1lv', 'type': 'tool_call'}\n",
      "Back to the model!\n",
      "{'messages': [ToolMessage(content='[{\\'title\\': \\'Weather in Los Angeles\\', \\'url\\': \\'https://www.weatherapi.com/\\', \\'content\\': \"{\\'location\\': {\\'name\\': \\'Los Angeles\\', \\'region\\': \\'California\\', \\'country\\': \\'United States of America\\', \\'lat\\': 34.0522, \\'lon\\': -118.2428, \\'tz_id\\': \\'America/Los_Angeles\\', \\'localtime_epoch\\': 1741477587, \\'localtime\\': \\'2025-03-08 15:46\\'}, \\'current\\': {\\'last_updated_epoch\\': 1741477500, \\'last_updated\\': \\'2025-03-08 15:45\\', \\'temp_c\\': 17.2, \\'temp_f\\': 63.0, \\'is_day\\': 1, \\'condition\\': {\\'text\\': \\'Sunny\\', \\'icon\\': \\'//cdn.weatherapi.com/weather/64x64/day/113.png\\', \\'code\\': 1000}, \\'wind_mph\\': 8.3, \\'wind_kph\\': 13.3, \\'wind_degree\\': 231, \\'wind_dir\\': \\'SW\\', \\'pressure_mb\\': 1024.0, \\'pressure_in\\': 30.24, \\'precip_mm\\': 0.0, \\'precip_in\\': 0.0, \\'humidity\\': 54, \\'cloud\\': 0, \\'feelslike_c\\': 17.2, \\'feelslike_f\\': 63.0, \\'windchill_c\\': 18.7, \\'windchill_f\\': 65.6, \\'heatindex_c\\': 18.7, \\'heatindex_f\\': 65.6, \\'dewpoint_c\\': 7.0, \\'dewpoint_f\\': 44.6, \\'vis_km\\': 16.0, \\'vis_miles\\': 9.0, \\'uv\\': 2.1, \\'gust_mph\\': 9.5, \\'gust_kph\\': 15.3}}\", \\'score\\': 0.7691851}, {\\'title\\': \\'Weather Forecast and Conditions for Los Angeles, CA\\', \\'url\\': \\'https://weather.com/weather/today/l/Los+Angeles+CA?canonicalCityId=84c64154109916077c8d3c2352410aaae5f6eeff682000e3a7470e38976128c2\\', \\'content\\': \"Weather Forecast and Conditions for Los Angeles, CA - The Weather Channel | Weather.com Weather Forecasts Today\\'s Forecast for Los Angeles, CA Weather Today in Los Angeles, CA Weather Pattern Change And Snowy Forecast Hourly Forecast ### Now 65° Chance of Rain0% ### 1 pm 65° Chance of Rain0% ### 2 pm 65° Chance of Rain0% ### 3 pm 64° Chance of Rain0% ### 4 pm 61° Chance of Rain1% The Best Cold Weather Shower Routine For Your Skin Cold Weather Vegetables That Taste Even Better In Winter Forecast Location Terms of Use | Privacy Policy We recognize our responsibility to use data and technology for good. We may use or share your data with our data vendors.\", \\'score\\': 0.46993434}]', name='tavily_search_results_json', id='43b18c02-a803-4783-b18e-323f0410abc9', tool_call_id='call_fnmay1lv')]}\n",
      "{'messages': [HumanMessage(content='Whats the weather in LA?', additional_kwargs={}, response_metadata={}, id='750f5323-0869-442f-a991-145df1e72869'), AIMessage(content='', additional_kwargs={'tool_calls': [{'index': 0, 'id': 'call_fnmay1lv', 'function': {'arguments': '{\"query\":\"current weather in Los Angeles\"}', 'name': 'tavily_search_results_json'}, 'type': 'function'}]}, response_metadata={'finish_reason': 'tool_calls', 'model_name': 'qwen2', 'system_fingerprint': 'fp_ollama'}, id='run-f218bf50-6f4c-4262-bb5b-3d46aae1f215-0', tool_calls=[{'name': 'tavily_search_results_json', 'args': {'query': 'current weather in Los Angeles'}, 'id': 'call_fnmay1lv', 'type': 'tool_call'}]), ToolMessage(content='[{\\'title\\': \\'Weather in Los Angeles\\', \\'url\\': \\'https://www.weatherapi.com/\\', \\'content\\': \"{\\'location\\': {\\'name\\': \\'Los Angeles\\', \\'region\\': \\'California\\', \\'country\\': \\'United States of America\\', \\'lat\\': 34.0522, \\'lon\\': -118.2428, \\'tz_id\\': \\'America/Los_Angeles\\', \\'localtime_epoch\\': 1741477587, \\'localtime\\': \\'2025-03-08 15:46\\'}, \\'current\\': {\\'last_updated_epoch\\': 1741477500, \\'last_updated\\': \\'2025-03-08 15:45\\', \\'temp_c\\': 17.2, \\'temp_f\\': 63.0, \\'is_day\\': 1, \\'condition\\': {\\'text\\': \\'Sunny\\', \\'icon\\': \\'//cdn.weatherapi.com/weather/64x64/day/113.png\\', \\'code\\': 1000}, \\'wind_mph\\': 8.3, \\'wind_kph\\': 13.3, \\'wind_degree\\': 231, \\'wind_dir\\': \\'SW\\', \\'pressure_mb\\': 1024.0, \\'pressure_in\\': 30.24, \\'precip_mm\\': 0.0, \\'precip_in\\': 0.0, \\'humidity\\': 54, \\'cloud\\': 0, \\'feelslike_c\\': 17.2, \\'feelslike_f\\': 63.0, \\'windchill_c\\': 18.7, \\'windchill_f\\': 65.6, \\'heatindex_c\\': 18.7, \\'heatindex_f\\': 65.6, \\'dewpoint_c\\': 7.0, \\'dewpoint_f\\': 44.6, \\'vis_km\\': 16.0, \\'vis_miles\\': 9.0, \\'uv\\': 2.1, \\'gust_mph\\': 9.5, \\'gust_kph\\': 15.3}}\", \\'score\\': 0.7691851}, {\\'title\\': \\'Weather Forecast and Conditions for Los Angeles, CA\\', \\'url\\': \\'https://weather.com/weather/today/l/Los+Angeles+CA?canonicalCityId=84c64154109916077c8d3c2352410aaae5f6eeff682000e3a7470e38976128c2\\', \\'content\\': \"Weather Forecast and Conditions for Los Angeles, CA - The Weather Channel | Weather.com Weather Forecasts Today\\'s Forecast for Los Angeles, CA Weather Today in Los Angeles, CA Weather Pattern Change And Snowy Forecast Hourly Forecast ### Now 65° Chance of Rain0% ### 1 pm 65° Chance of Rain0% ### 2 pm 65° Chance of Rain0% ### 3 pm 64° Chance of Rain0% ### 4 pm 61° Chance of Rain1% The Best Cold Weather Shower Routine For Your Skin Cold Weather Vegetables That Taste Even Better In Winter Forecast Location Terms of Use | Privacy Policy We recognize our responsibility to use data and technology for good. We may use or share your data with our data vendors.\", \\'score\\': 0.46993434}]', name='tavily_search_results_json', id='43b18c02-a803-4783-b18e-323f0410abc9', tool_call_id='call_fnmay1lv'), AIMessage(content=\"According to the sources, the current weather in Los Angeles is Sunny with a temperature of 17.2°C (63°F). The wind speed is 8.3 mph (13.3 km/h) blowing from the SW direction. The humidity level is at 54%, and there's no precipitation expected. It's currently daylight time.\", additional_kwargs={}, response_metadata={'finish_reason': 'stop', 'model_name': 'qwen2', 'system_fingerprint': 'fp_ollama'}, id='run-d551bcb2-a9a0-4592-8ff5-95ba2a86a893-0')]}\n",
      "{'messages': [AIMessage(content=\"According to the sources, the current weather in Los Angeles is Sunny with a temperature of 17.2°C (63°F). The wind speed is 8.3 mph (13.3 km/h) blowing from the SW direction. The humidity level is at 54%, and there's no precipitation expected. It's currently daylight time.\", additional_kwargs={}, response_metadata={'finish_reason': 'stop', 'model_name': 'qwen2', 'system_fingerprint': 'fp_ollama'}, id='run-d551bcb2-a9a0-4592-8ff5-95ba2a86a893-0')]}\n"
     ]
    }
   ],
   "source": [
    "for event in abot.graph.stream(None, to_replay.config):\n",
    "    for k, v in event.items():\n",
    "        print(v)"
   ]
  },
  {
   "cell_type": "markdown",
   "id": "005353dc-630b-4b40-ab19-56c57ac06611",
   "metadata": {},
   "source": [
    "## Go back in time and edit"
   ]
  },
  {
   "cell_type": "code",
   "execution_count": 28,
   "id": "0ad8a6cc-65d4-4ce7-87aa-4e67d7c23d7b",
   "metadata": {},
   "outputs": [
    {
     "data": {
      "text/plain": [
       "StateSnapshot(values={'messages': [HumanMessage(content='Whats the weather in LA?', additional_kwargs={}, response_metadata={}, id='750f5323-0869-442f-a991-145df1e72869'), AIMessage(content='', additional_kwargs={'tool_calls': [{'index': 0, 'id': 'call_fnmay1lv', 'function': {'arguments': '{\"query\":\"current weather in Los Angeles\"}', 'name': 'tavily_search_results_json'}, 'type': 'function'}]}, response_metadata={'finish_reason': 'tool_calls', 'model_name': 'qwen2', 'system_fingerprint': 'fp_ollama'}, id='run-f218bf50-6f4c-4262-bb5b-3d46aae1f215-0', tool_calls=[{'name': 'tavily_search_results_json', 'args': {'query': 'current weather in Los Angeles'}, 'id': 'call_fnmay1lv', 'type': 'tool_call'}])]}, next=('action',), config={'configurable': {'thread_id': '3', 'checkpoint_ns': '', 'checkpoint_id': '1effc7e9-8b46-6105-8001-8791ba6d14a5'}}, metadata={'source': 'loop', 'writes': {'llm': {'messages': [AIMessage(content='', additional_kwargs={'tool_calls': [{'index': 0, 'id': 'call_fnmay1lv', 'function': {'arguments': '{\"query\":\"current weather in Los Angeles\"}', 'name': 'tavily_search_results_json'}, 'type': 'function'}]}, response_metadata={'finish_reason': 'tool_calls', 'model_name': 'qwen2', 'system_fingerprint': 'fp_ollama'}, id='run-f218bf50-6f4c-4262-bb5b-3d46aae1f215-0', tool_calls=[{'name': 'tavily_search_results_json', 'args': {'query': 'current weather in Los Angeles'}, 'id': 'call_fnmay1lv', 'type': 'tool_call'}])]}}, 'thread_id': '3', 'step': 1, 'parents': {}}, created_at='2025-03-09T00:36:52.981123+00:00', parent_config={'configurable': {'thread_id': '3', 'checkpoint_ns': '', 'checkpoint_id': '1effc7e9-86f9-6c49-8000-b7b49301f134'}}, tasks=(PregelTask(id='e1ebca74-6424-2203-279a-3e3e475380a9', name='action', path=('__pregel_pull', 'action'), error=None, interrupts=(), state=None, result=None),))"
      ]
     },
     "execution_count": 28,
     "metadata": {},
     "output_type": "execute_result"
    }
   ],
   "source": [
    "to_replay"
   ]
  },
  {
   "cell_type": "code",
   "execution_count": 29,
   "id": "592b5e62-a203-433c-92a0-3783f490cde1",
   "metadata": {},
   "outputs": [],
   "source": [
    "_id = to_replay.values['messages'][-1].tool_calls[0]['id']\n",
    "to_replay.values['messages'][-1].tool_calls = [{'name': 'tavily_search_results_json',\n",
    "  'args': {'query': 'current weather in LA, accuweather'},\n",
    "  'id': _id}]"
   ]
  },
  {
   "cell_type": "code",
   "execution_count": 30,
   "id": "14fa923c-7e4f-42d1-965f-0f8ccd50fbd7",
   "metadata": {},
   "outputs": [
    {
     "name": "stdout",
     "output_type": "stream",
     "text": [
      "{'messages': [HumanMessage(content='Whats the weather in LA?', additional_kwargs={}, response_metadata={}, id='750f5323-0869-442f-a991-145df1e72869'), AIMessage(content='', additional_kwargs={'tool_calls': [{'index': 0, 'id': 'call_fnmay1lv', 'function': {'arguments': '{\"query\":\"current weather in Los Angeles\"}', 'name': 'tavily_search_results_json'}, 'type': 'function'}]}, response_metadata={'finish_reason': 'tool_calls', 'model_name': 'qwen2', 'system_fingerprint': 'fp_ollama'}, id='run-f218bf50-6f4c-4262-bb5b-3d46aae1f215-0', tool_calls=[{'name': 'tavily_search_results_json', 'args': {'query': 'current weather in LA, accuweather'}, 'id': 'call_fnmay1lv'}])]}\n"
     ]
    }
   ],
   "source": [
    "branch_state = abot.graph.update_state(to_replay.config, to_replay.values)"
   ]
  },
  {
   "cell_type": "code",
   "execution_count": 31,
   "id": "570c6245-2837-4ac5-983b-95f61f3ac10d",
   "metadata": {},
   "outputs": [
    {
     "name": "stdout",
     "output_type": "stream",
     "text": [
      "Calling: {'name': 'tavily_search_results_json', 'args': {'query': 'current weather in LA, accuweather'}, 'id': 'call_fnmay1lv', 'type': 'tool_call'}\n",
      "Back to the model!\n",
      "{'messages': [ToolMessage(content='[{\\'title\\': \\'Weather in los angeles ca\\', \\'url\\': \\'https://www.weatherapi.com/\\', \\'content\\': \"{\\'location\\': {\\'name\\': \\'Los Angeles\\', \\'region\\': \\'California\\', \\'country\\': \\'United States of America\\', \\'lat\\': 34.0522, \\'lon\\': -118.2428, \\'tz_id\\': \\'America/Los_Angeles\\', \\'localtime_epoch\\': 1741480241, \\'localtime\\': \\'2025-03-08 16:30\\'}, \\'current\\': {\\'last_updated_epoch\\': 1741480200, \\'last_updated\\': \\'2025-03-08 16:30\\', \\'temp_c\\': 16.1, \\'temp_f\\': 61.0, \\'is_day\\': 1, \\'condition\\': {\\'text\\': \\'Sunny\\', \\'icon\\': \\'//cdn.weatherapi.com/weather/64x64/day/113.png\\', \\'code\\': 1000}, \\'wind_mph\\': 7.8, \\'wind_kph\\': 12.6, \\'wind_degree\\': 228, \\'wind_dir\\': \\'SW\\', \\'pressure_mb\\': 1024.0, \\'pressure_in\\': 30.24, \\'precip_mm\\': 0.0, \\'precip_in\\': 0.0, \\'humidity\\': 56, \\'cloud\\': 0, \\'feelslike_c\\': 16.1, \\'feelslike_f\\': 61.0, \\'windchill_c\\': 18.3, \\'windchill_f\\': 64.9, \\'heatindex_c\\': 18.3, \\'heatindex_f\\': 64.9, \\'dewpoint_c\\': 7.8, \\'dewpoint_f\\': 46.1, \\'vis_km\\': 16.0, \\'vis_miles\\': 9.0, \\'uv\\': 0.9, \\'gust_mph\\': 9.0, \\'gust_kph\\': 14.5}}\", \\'score\\': 0.8168355}, {\\'title\\': \\'Los Angeles, CA Current Weather - AccuWeather\\', \\'url\\': \\'https://www.accuweather.com/en/us/los-angeles-ca/90012/current-weather/347625?lang=en-us&partner=web_scorebook_adc\\', \\'content\\': \\'Los Angeles, CA Current Weather | AccuWeather Los Angeles, CA Weather ### Hurricane Tracker### Severe Weather### Radar & Maps### News### Video### Winter Center For Business For Partners For Advertising AccuWeather APIs AccuWeather Connect RealFeel® and RealFeel Shade™ Personal Weather Stations AccuWeather Ready Business Health Hurricane Leisure and Recreation Severe Weather Space and Astronomy Sports Travel Weather News Winter Center For Business For Partners For Advertising AccuWeather APIs AccuWeather Connect RealFeel® and RealFeel Shade™ Personal Weather Stations AccuWeather Ready Business Health Hurricane Leisure and Recreation Severe Weather Space and Astronomy Sports Travel Weather News Winter Center\\', \\'score\\': 0.76490957}]', name='tavily_search_results_json', id='cae67d9f-2298-48f5-9295-82f2b3e57d5a', tool_call_id='call_fnmay1lv')]}\n",
      "{'messages': [HumanMessage(content='Whats the weather in LA?', additional_kwargs={}, response_metadata={}, id='750f5323-0869-442f-a991-145df1e72869'), AIMessage(content='', additional_kwargs={'tool_calls': [{'index': 0, 'id': 'call_fnmay1lv', 'function': {'arguments': '{\"query\":\"current weather in Los Angeles\"}', 'name': 'tavily_search_results_json'}, 'type': 'function'}]}, response_metadata={'finish_reason': 'tool_calls', 'model_name': 'qwen2', 'system_fingerprint': 'fp_ollama'}, id='run-f218bf50-6f4c-4262-bb5b-3d46aae1f215-0', tool_calls=[{'name': 'tavily_search_results_json', 'args': {'query': 'current weather in LA, accuweather'}, 'id': 'call_fnmay1lv', 'type': 'tool_call'}]), ToolMessage(content='[{\\'title\\': \\'Weather in los angeles ca\\', \\'url\\': \\'https://www.weatherapi.com/\\', \\'content\\': \"{\\'location\\': {\\'name\\': \\'Los Angeles\\', \\'region\\': \\'California\\', \\'country\\': \\'United States of America\\', \\'lat\\': 34.0522, \\'lon\\': -118.2428, \\'tz_id\\': \\'America/Los_Angeles\\', \\'localtime_epoch\\': 1741480241, \\'localtime\\': \\'2025-03-08 16:30\\'}, \\'current\\': {\\'last_updated_epoch\\': 1741480200, \\'last_updated\\': \\'2025-03-08 16:30\\', \\'temp_c\\': 16.1, \\'temp_f\\': 61.0, \\'is_day\\': 1, \\'condition\\': {\\'text\\': \\'Sunny\\', \\'icon\\': \\'//cdn.weatherapi.com/weather/64x64/day/113.png\\', \\'code\\': 1000}, \\'wind_mph\\': 7.8, \\'wind_kph\\': 12.6, \\'wind_degree\\': 228, \\'wind_dir\\': \\'SW\\', \\'pressure_mb\\': 1024.0, \\'pressure_in\\': 30.24, \\'precip_mm\\': 0.0, \\'precip_in\\': 0.0, \\'humidity\\': 56, \\'cloud\\': 0, \\'feelslike_c\\': 16.1, \\'feelslike_f\\': 61.0, \\'windchill_c\\': 18.3, \\'windchill_f\\': 64.9, \\'heatindex_c\\': 18.3, \\'heatindex_f\\': 64.9, \\'dewpoint_c\\': 7.8, \\'dewpoint_f\\': 46.1, \\'vis_km\\': 16.0, \\'vis_miles\\': 9.0, \\'uv\\': 0.9, \\'gust_mph\\': 9.0, \\'gust_kph\\': 14.5}}\", \\'score\\': 0.8168355}, {\\'title\\': \\'Los Angeles, CA Current Weather - AccuWeather\\', \\'url\\': \\'https://www.accuweather.com/en/us/los-angeles-ca/90012/current-weather/347625?lang=en-us&partner=web_scorebook_adc\\', \\'content\\': \\'Los Angeles, CA Current Weather | AccuWeather Los Angeles, CA Weather ### Hurricane Tracker### Severe Weather### Radar & Maps### News### Video### Winter Center For Business For Partners For Advertising AccuWeather APIs AccuWeather Connect RealFeel® and RealFeel Shade™ Personal Weather Stations AccuWeather Ready Business Health Hurricane Leisure and Recreation Severe Weather Space and Astronomy Sports Travel Weather News Winter Center For Business For Partners For Advertising AccuWeather APIs AccuWeather Connect RealFeel® and RealFeel Shade™ Personal Weather Stations AccuWeather Ready Business Health Hurricane Leisure and Recreation Severe Weather Space and Astronomy Sports Travel Weather News Winter Center\\', \\'score\\': 0.76490957}]', name='tavily_search_results_json', id='cae67d9f-2298-48f5-9295-82f2b3e57d5a', tool_call_id='call_fnmay1lv'), AIMessage(content=\"According to the latest weather data, in Los Angeles, California:\\nThe current temperature is 16.1°C or 61°F.\\nIt's considered a sunny day as the condition text says 'Sunny'.\\nWind speed is around 7.8 mph with direction coming from South West (SW).\\nAir pressure is at 1024mb or 30.24 inches.\\nThe visibility is quite good, around 16km or 9 miles.\\n\\nPlease note that this information might change quickly due to the nature of weather dynamics.\", additional_kwargs={}, response_metadata={'finish_reason': 'stop', 'model_name': 'qwen2', 'system_fingerprint': 'fp_ollama'}, id='run-3375a5ca-c589-4cc3-92f6-face82106258-0')]}\n",
      "{'messages': [AIMessage(content=\"According to the latest weather data, in Los Angeles, California:\\nThe current temperature is 16.1°C or 61°F.\\nIt's considered a sunny day as the condition text says 'Sunny'.\\nWind speed is around 7.8 mph with direction coming from South West (SW).\\nAir pressure is at 1024mb or 30.24 inches.\\nThe visibility is quite good, around 16km or 9 miles.\\n\\nPlease note that this information might change quickly due to the nature of weather dynamics.\", additional_kwargs={}, response_metadata={'finish_reason': 'stop', 'model_name': 'qwen2', 'system_fingerprint': 'fp_ollama'}, id='run-3375a5ca-c589-4cc3-92f6-face82106258-0')]}\n"
     ]
    }
   ],
   "source": [
    "for event in abot.graph.stream(None, branch_state):\n",
    "    for k, v in event.items():\n",
    "        if k != \"__end__\":\n",
    "            print(v)"
   ]
  },
  {
   "cell_type": "markdown",
   "id": "f1016ce7-368d-4922-9044-fcdfd47c273b",
   "metadata": {},
   "source": [
    "## Add message to a state at a given time"
   ]
  },
  {
   "cell_type": "code",
   "execution_count": 32,
   "id": "6b910915-b087-4d35-afff-0ec30a5852f1",
   "metadata": {},
   "outputs": [
    {
     "data": {
      "text/plain": [
       "StateSnapshot(values={'messages': [HumanMessage(content='Whats the weather in LA?', additional_kwargs={}, response_metadata={}, id='750f5323-0869-442f-a991-145df1e72869'), AIMessage(content='', additional_kwargs={'tool_calls': [{'index': 0, 'id': 'call_fnmay1lv', 'function': {'arguments': '{\"query\":\"current weather in Los Angeles\"}', 'name': 'tavily_search_results_json'}, 'type': 'function'}]}, response_metadata={'finish_reason': 'tool_calls', 'model_name': 'qwen2', 'system_fingerprint': 'fp_ollama'}, id='run-f218bf50-6f4c-4262-bb5b-3d46aae1f215-0', tool_calls=[{'name': 'tavily_search_results_json', 'args': {'query': 'current weather in LA, accuweather'}, 'id': 'call_fnmay1lv'}])]}, next=('action',), config={'configurable': {'thread_id': '3', 'checkpoint_ns': '', 'checkpoint_id': '1effc7e9-8b46-6105-8001-8791ba6d14a5'}}, metadata={'source': 'loop', 'writes': {'llm': {'messages': [AIMessage(content='', additional_kwargs={'tool_calls': [{'index': 0, 'id': 'call_fnmay1lv', 'function': {'arguments': '{\"query\":\"current weather in Los Angeles\"}', 'name': 'tavily_search_results_json'}, 'type': 'function'}]}, response_metadata={'finish_reason': 'tool_calls', 'model_name': 'qwen2', 'system_fingerprint': 'fp_ollama'}, id='run-f218bf50-6f4c-4262-bb5b-3d46aae1f215-0', tool_calls=[{'name': 'tavily_search_results_json', 'args': {'query': 'current weather in Los Angeles'}, 'id': 'call_fnmay1lv', 'type': 'tool_call'}])]}}, 'thread_id': '3', 'step': 1, 'parents': {}}, created_at='2025-03-09T00:36:52.981123+00:00', parent_config={'configurable': {'thread_id': '3', 'checkpoint_ns': '', 'checkpoint_id': '1effc7e9-86f9-6c49-8000-b7b49301f134'}}, tasks=(PregelTask(id='e1ebca74-6424-2203-279a-3e3e475380a9', name='action', path=('__pregel_pull', 'action'), error=None, interrupts=(), state=None, result=None),))"
      ]
     },
     "execution_count": 32,
     "metadata": {},
     "output_type": "execute_result"
    }
   ],
   "source": [
    "to_replay"
   ]
  },
  {
   "cell_type": "code",
   "execution_count": 33,
   "id": "c4feb6cc-5129-4a99-bb45-851bc07b5709",
   "metadata": {},
   "outputs": [],
   "source": [
    "_id = to_replay.values['messages'][-1].tool_calls[0]['id']"
   ]
  },
  {
   "cell_type": "code",
   "execution_count": 34,
   "id": "e85a02b4-96cc-4b01-8792-397a774eb499",
   "metadata": {},
   "outputs": [],
   "source": [
    "state_update = {\"messages\": [ToolMessage(\n",
    "    tool_call_id=_id,\n",
    "    name=\"tavily_search_results_json\",\n",
    "    content=\"54 degree celcius\",\n",
    ")]}"
   ]
  },
  {
   "cell_type": "code",
   "execution_count": 35,
   "id": "ae8b86a6-5e20-4252-b1d8-009b8318345a",
   "metadata": {},
   "outputs": [],
   "source": [
    "branch_and_add = abot.graph.update_state(\n",
    "    to_replay.config, \n",
    "    state_update, \n",
    "    as_node=\"action\")"
   ]
  },
  {
   "cell_type": "code",
   "execution_count": 36,
   "id": "af925917-b746-48c9-ac74-62fefbe5246c",
   "metadata": {},
   "outputs": [
    {
     "name": "stdout",
     "output_type": "stream",
     "text": [
      "{'messages': [HumanMessage(content='Whats the weather in LA?', additional_kwargs={}, response_metadata={}, id='750f5323-0869-442f-a991-145df1e72869'), AIMessage(content='', additional_kwargs={'tool_calls': [{'index': 0, 'id': 'call_fnmay1lv', 'function': {'arguments': '{\"query\":\"current weather in Los Angeles\"}', 'name': 'tavily_search_results_json'}, 'type': 'function'}]}, response_metadata={'finish_reason': 'tool_calls', 'model_name': 'qwen2', 'system_fingerprint': 'fp_ollama'}, id='run-f218bf50-6f4c-4262-bb5b-3d46aae1f215-0', tool_calls=[{'name': 'tavily_search_results_json', 'args': {'query': 'current weather in Los Angeles'}, 'id': 'call_fnmay1lv', 'type': 'tool_call'}]), ToolMessage(content='54 degree celcius', name='tavily_search_results_json', id='e390b49a-e5ea-4552-81aa-3ccdf9ba94d2', tool_call_id='call_fnmay1lv'), AIMessage(content='The current temperature in LA is 54 degrees Celsius. Please note that this might not be accurate as real-time data can vary significantly from any static web source lookup results. For the most accurate information, consider using a reliable weather application or website.', additional_kwargs={}, response_metadata={'finish_reason': 'stop', 'model_name': 'qwen2', 'system_fingerprint': 'fp_ollama'}, id='run-8fe0c452-3668-4118-bae8-3751fffceebb-0')]}\n",
      "{'messages': [AIMessage(content='The current temperature in LA is 54 degrees Celsius. Please note that this might not be accurate as real-time data can vary significantly from any static web source lookup results. For the most accurate information, consider using a reliable weather application or website.', additional_kwargs={}, response_metadata={'finish_reason': 'stop', 'model_name': 'qwen2', 'system_fingerprint': 'fp_ollama'}, id='run-8fe0c452-3668-4118-bae8-3751fffceebb-0')]}\n"
     ]
    }
   ],
   "source": [
    "for event in abot.graph.stream(None, branch_and_add):\n",
    "    for k, v in event.items():\n",
    "        print(v)"
   ]
  },
  {
   "cell_type": "markdown",
   "id": "a6b1de51-f1dd-4719-89e6-01c21d2b304e",
   "metadata": {},
   "source": [
    "# Extra Practice"
   ]
  },
  {
   "cell_type": "markdown",
   "id": "31e06033-59fd-4d6b-8891-fb8bc2d7a037",
   "metadata": {},
   "source": [
    "## Build a small graph\n",
    "This is a small simple graph you can tinker with if you want more insight into controlling state memory."
   ]
  },
  {
   "cell_type": "code",
   "execution_count": 37,
   "id": "efbef86a-75fe-416f-99ab-70b181d934dc",
   "metadata": {},
   "outputs": [],
   "source": [
    "from langgraph.graph import StateGraph, END\n",
    "from typing import TypedDict, Annotated\n",
    "import operator"
   ]
  },
  {
   "cell_type": "markdown",
   "id": "67c972f7-5a14-49da-9d82-37105a6637ed",
   "metadata": {},
   "source": [
    "Define a simple 2 node graph with the following state:\n",
    "-`lnode`: last node\n",
    "-`scratch`: a scratchpad location\n",
    "-`count` : a counter that is incremented each step"
   ]
  },
  {
   "cell_type": "code",
   "execution_count": 38,
   "id": "b846f637-5e98-4a7d-9ca0-5144302b7cef",
   "metadata": {},
   "outputs": [],
   "source": [
    "class AgentState(TypedDict):\n",
    "    lnode: str\n",
    "    scratch: str\n",
    "    count: Annotated[int, operator.add]"
   ]
  },
  {
   "cell_type": "code",
   "execution_count": 39,
   "id": "b8bb1c6d-41b7-4f5b-807b-ecbdec82d8d6",
   "metadata": {},
   "outputs": [],
   "source": [
    "def node1(state: AgentState):\n",
    "    print(f\"node1, count:{state['count']}\")\n",
    "    return {\"lnode\": \"node_1\",\n",
    "            \"count\": 1,\n",
    "           }\n",
    "def node2(state: AgentState):\n",
    "    print(f\"node2, count:{state['count']}\")\n",
    "    return {\"lnode\": \"node_2\",\n",
    "            \"count\": 1,\n",
    "           }"
   ]
  },
  {
   "cell_type": "markdown",
   "id": "6adc403b-10d2-4a6c-bd21-c84bb8e0c8fc",
   "metadata": {},
   "source": [
    "The graph goes N1->N2->N1... but breaks after count reaches 3."
   ]
  },
  {
   "cell_type": "code",
   "execution_count": 40,
   "id": "b2c6d249-4793-41c5-8e80-40f1eedc4baf",
   "metadata": {},
   "outputs": [],
   "source": [
    "def should_continue(state):\n",
    "    return state[\"count\"] < 3"
   ]
  },
  {
   "cell_type": "code",
   "execution_count": 41,
   "id": "4e3721d9-4508-48fa-9be0-93af20144072",
   "metadata": {},
   "outputs": [
    {
     "data": {
      "text/plain": [
       "<langgraph.graph.state.StateGraph at 0x7956fafc35e0>"
      ]
     },
     "execution_count": 41,
     "metadata": {},
     "output_type": "execute_result"
    }
   ],
   "source": [
    "builder = StateGraph(AgentState)\n",
    "builder.add_node(\"Node1\", node1)\n",
    "builder.add_node(\"Node2\", node2)\n",
    "\n",
    "builder.add_edge(\"Node1\", \"Node2\")\n",
    "builder.add_conditional_edges(\"Node2\", \n",
    "                              should_continue, \n",
    "                              {True: \"Node1\", False: END})\n",
    "builder.set_entry_point(\"Node1\")"
   ]
  },
  {
   "cell_type": "markdown",
   "id": "2d58db29",
   "metadata": {},
   "source": [
    "使用SqliteSaver会出现'_GeneratorContextManager' object has no attribute 'get_next_version'错误。"
   ]
  },
  {
   "cell_type": "code",
   "execution_count": 42,
   "id": "8d35d70c-daeb-49c1-9b7c-90cc2a7ca142",
   "metadata": {},
   "outputs": [],
   "source": [
    "\"\"\"\n",
    "from langgraph.checkpoint.sqlite import SqliteSaver\n",
    "\n",
    "memory = SqliteSaver.from_conn_string(\":memory:\")\n",
    "\"\"\"\n",
    "\n",
    "from langgraph.checkpoint.memory import MemorySaver\n",
    "\n",
    "memory = MemorySaver()\n",
    "\n",
    "graph = builder.compile(checkpointer=memory)"
   ]
  },
  {
   "cell_type": "markdown",
   "id": "c57051f5-f7fb-4be5-a2f5-21cb1aa4fecb",
   "metadata": {},
   "source": [
    "### Run it!\n",
    "Now, set the thread and run!"
   ]
  },
  {
   "cell_type": "code",
   "execution_count": 43,
   "id": "edba3a1a-84a7-45eb-a6ee-74a612b68d54",
   "metadata": {},
   "outputs": [
    {
     "name": "stdout",
     "output_type": "stream",
     "text": [
      "node1, count:0\n",
      "node2, count:1\n",
      "node1, count:2\n",
      "node2, count:3\n"
     ]
    },
    {
     "data": {
      "text/plain": [
       "{'lnode': 'node_2', 'scratch': 'hi', 'count': 4}"
      ]
     },
     "execution_count": 43,
     "metadata": {},
     "output_type": "execute_result"
    }
   ],
   "source": [
    "thread = {\"configurable\": {\"thread_id\": str(1)}}\n",
    "graph.invoke({\"count\":0, \"scratch\":\"hi\"},thread)"
   ]
  },
  {
   "cell_type": "markdown",
   "id": "2ce7b035-bfdb-4642-8750-47d188277423",
   "metadata": {},
   "source": [
    "### Look at current state"
   ]
  },
  {
   "cell_type": "markdown",
   "id": "43324904-a6f4-4299-86de-e0218e4cb225",
   "metadata": {},
   "source": [
    "Get the current state. Note the `values` which are the AgentState. Note the `config` and the `thread_ts`. You will be using those to refer to snapshots below."
   ]
  },
  {
   "cell_type": "code",
   "execution_count": 44,
   "id": "f2513b41-31b2-46e6-84f6-0c519f697973",
   "metadata": {},
   "outputs": [
    {
     "data": {
      "text/plain": [
       "StateSnapshot(values={'lnode': 'node_2', 'scratch': 'hi', 'count': 4}, next=(), config={'configurable': {'thread_id': '1', 'checkpoint_ns': '', 'checkpoint_id': '1effc7ea-234b-65b5-8004-bce11dba3034'}}, metadata={'source': 'loop', 'writes': {'Node2': {'lnode': 'node_2', 'count': 1}}, 'thread_id': '1', 'step': 4, 'parents': {}}, created_at='2025-03-09T00:37:08.921648+00:00', parent_config={'configurable': {'thread_id': '1', 'checkpoint_ns': '', 'checkpoint_id': '1effc7ea-2346-6008-8003-23234c1a9937'}}, tasks=())"
      ]
     },
     "execution_count": 44,
     "metadata": {},
     "output_type": "execute_result"
    }
   ],
   "source": [
    "graph.get_state(thread)"
   ]
  },
  {
   "cell_type": "markdown",
   "id": "7f7be4ae-24f0-4362-bd99-55ad38fe0112",
   "metadata": {},
   "source": [
    "View all the statesnapshots in memory. You can use the displayed `count` agentstate variable to help track what you see. Notice the most recent snapshots are returned by the iterator first. Also note that there is a handy `step` variable in the metadata that counts the number of steps in the graph execution. This is a bit detailed - but you can also notice that the *parent_config* is the *config* of the previous node. At initial startup, additional states are inserted into memory to create a parent. This is something to check when you branch or *time travel* below."
   ]
  },
  {
   "cell_type": "markdown",
   "id": "18647be0-c7c6-4ec5-9454-54a034fcd053",
   "metadata": {},
   "source": [
    "### Look at state history"
   ]
  },
  {
   "cell_type": "code",
   "execution_count": 45,
   "id": "686fa197-c97f-4ae6-82d2-938bbe5542c1",
   "metadata": {},
   "outputs": [
    {
     "name": "stdout",
     "output_type": "stream",
     "text": [
      "StateSnapshot(values={'lnode': 'node_2', 'scratch': 'hi', 'count': 4}, next=(), config={'configurable': {'thread_id': '1', 'checkpoint_ns': '', 'checkpoint_id': '1effc7ea-234b-65b5-8004-bce11dba3034'}}, metadata={'source': 'loop', 'writes': {'Node2': {'lnode': 'node_2', 'count': 1}}, 'thread_id': '1', 'step': 4, 'parents': {}}, created_at='2025-03-09T00:37:08.921648+00:00', parent_config={'configurable': {'thread_id': '1', 'checkpoint_ns': '', 'checkpoint_id': '1effc7ea-2346-6008-8003-23234c1a9937'}}, tasks=()) \n",
      "\n",
      "StateSnapshot(values={'lnode': 'node_1', 'scratch': 'hi', 'count': 3}, next=('Node2',), config={'configurable': {'thread_id': '1', 'checkpoint_ns': '', 'checkpoint_id': '1effc7ea-2346-6008-8003-23234c1a9937'}}, metadata={'source': 'loop', 'writes': {'Node1': {'lnode': 'node_1', 'count': 1}}, 'thread_id': '1', 'step': 3, 'parents': {}}, created_at='2025-03-09T00:37:08.919466+00:00', parent_config={'configurable': {'thread_id': '1', 'checkpoint_ns': '', 'checkpoint_id': '1effc7ea-2343-6239-8002-655f9b48595f'}}, tasks=(PregelTask(id='93a0cf52-2473-cc20-f40c-74819b1dac87', name='Node2', path=('__pregel_pull', 'Node2'), error=None, interrupts=(), state=None, result={'lnode': 'node_2', 'count': 1}),)) \n",
      "\n",
      "StateSnapshot(values={'lnode': 'node_2', 'scratch': 'hi', 'count': 2}, next=('Node1',), config={'configurable': {'thread_id': '1', 'checkpoint_ns': '', 'checkpoint_id': '1effc7ea-2343-6239-8002-655f9b48595f'}}, metadata={'source': 'loop', 'writes': {'Node2': {'lnode': 'node_2', 'count': 1}}, 'thread_id': '1', 'step': 2, 'parents': {}}, created_at='2025-03-09T00:37:08.918284+00:00', parent_config={'configurable': {'thread_id': '1', 'checkpoint_ns': '', 'checkpoint_id': '1effc7ea-233d-6389-8001-b73b8cdbe2a5'}}, tasks=(PregelTask(id='10557563-eb77-b828-e9a2-bcc670bde217', name='Node1', path=('__pregel_pull', 'Node1'), error=None, interrupts=(), state=None, result={'lnode': 'node_1', 'count': 1}),)) \n",
      "\n",
      "StateSnapshot(values={'lnode': 'node_1', 'scratch': 'hi', 'count': 1}, next=('Node2',), config={'configurable': {'thread_id': '1', 'checkpoint_ns': '', 'checkpoint_id': '1effc7ea-233d-6389-8001-b73b8cdbe2a5'}}, metadata={'source': 'loop', 'writes': {'Node1': {'lnode': 'node_1', 'count': 1}}, 'thread_id': '1', 'step': 1, 'parents': {}}, created_at='2025-03-09T00:37:08.915864+00:00', parent_config={'configurable': {'thread_id': '1', 'checkpoint_ns': '', 'checkpoint_id': '1effc7ea-2337-6f11-8000-fc008ffc12cd'}}, tasks=(PregelTask(id='8ced0ba0-6628-66b4-1279-b5e9fd4cc6f1', name='Node2', path=('__pregel_pull', 'Node2'), error=None, interrupts=(), state=None, result={'lnode': 'node_2', 'count': 1}),)) \n",
      "\n",
      "StateSnapshot(values={'scratch': 'hi', 'count': 0}, next=('Node1',), config={'configurable': {'thread_id': '1', 'checkpoint_ns': '', 'checkpoint_id': '1effc7ea-2337-6f11-8000-fc008ffc12cd'}}, metadata={'source': 'loop', 'writes': None, 'thread_id': '1', 'step': 0, 'parents': {}}, created_at='2025-03-09T00:37:08.913704+00:00', parent_config={'configurable': {'thread_id': '1', 'checkpoint_ns': '', 'checkpoint_id': '1effc7ea-2331-6968-bfff-ea7eb33998ad'}}, tasks=(PregelTask(id='74997cfb-0269-e6a7-25ef-f0453b76b469', name='Node1', path=('__pregel_pull', 'Node1'), error=None, interrupts=(), state=None, result={'lnode': 'node_1', 'count': 1}),)) \n",
      "\n",
      "StateSnapshot(values={'count': 0}, next=('__start__',), config={'configurable': {'thread_id': '1', 'checkpoint_ns': '', 'checkpoint_id': '1effc7ea-2331-6968-bfff-ea7eb33998ad'}}, metadata={'source': 'input', 'writes': {'__start__': {'count': 0, 'scratch': 'hi'}}, 'thread_id': '1', 'step': -1, 'parents': {}}, created_at='2025-03-09T00:37:08.911114+00:00', parent_config=None, tasks=(PregelTask(id='ed106506-5653-fc51-d52b-fad3207fa001', name='__start__', path=('__pregel_pull', '__start__'), error=None, interrupts=(), state=None, result={'count': 0, 'scratch': 'hi'}),)) \n",
      "\n"
     ]
    }
   ],
   "source": [
    "for state in graph.get_state_history(thread):\n",
    "    print(state, \"\\n\")"
   ]
  },
  {
   "cell_type": "markdown",
   "id": "dd7850ff-0748-43d7-8956-074fa9fd819f",
   "metadata": {},
   "source": [
    "Store just the `config` into an list. Note the sequence of counts on the right. `get_state_history` returns the most recent snapshots first."
   ]
  },
  {
   "cell_type": "code",
   "execution_count": 46,
   "id": "9f68e604-4f53-46c0-8f06-e7726ec9dcf6",
   "metadata": {},
   "outputs": [
    {
     "name": "stdout",
     "output_type": "stream",
     "text": [
      "{'configurable': {'thread_id': '1', 'checkpoint_ns': '', 'checkpoint_id': '1effc7ea-234b-65b5-8004-bce11dba3034'}} 4\n",
      "{'configurable': {'thread_id': '1', 'checkpoint_ns': '', 'checkpoint_id': '1effc7ea-2346-6008-8003-23234c1a9937'}} 3\n",
      "{'configurable': {'thread_id': '1', 'checkpoint_ns': '', 'checkpoint_id': '1effc7ea-2343-6239-8002-655f9b48595f'}} 2\n",
      "{'configurable': {'thread_id': '1', 'checkpoint_ns': '', 'checkpoint_id': '1effc7ea-233d-6389-8001-b73b8cdbe2a5'}} 1\n",
      "{'configurable': {'thread_id': '1', 'checkpoint_ns': '', 'checkpoint_id': '1effc7ea-2337-6f11-8000-fc008ffc12cd'}} 0\n",
      "{'configurable': {'thread_id': '1', 'checkpoint_ns': '', 'checkpoint_id': '1effc7ea-2331-6968-bfff-ea7eb33998ad'}} 0\n"
     ]
    }
   ],
   "source": [
    "states = []\n",
    "for state in graph.get_state_history(thread):\n",
    "    states.append(state.config)\n",
    "    print(state.config, state.values['count'])"
   ]
  },
  {
   "cell_type": "markdown",
   "id": "90790095-4080-4e76-b538-47caac7d9699",
   "metadata": {},
   "source": [
    "Grab an early state."
   ]
  },
  {
   "cell_type": "code",
   "execution_count": 47,
   "id": "e1db574e-f158-44cf-b921-f1f4466c314d",
   "metadata": {},
   "outputs": [
    {
     "data": {
      "text/plain": [
       "{'configurable': {'thread_id': '1',\n",
       "  'checkpoint_ns': '',\n",
       "  'checkpoint_id': '1effc7ea-233d-6389-8001-b73b8cdbe2a5'}}"
      ]
     },
     "execution_count": 47,
     "metadata": {},
     "output_type": "execute_result"
    }
   ],
   "source": [
    "states[-3]"
   ]
  },
  {
   "cell_type": "markdown",
   "id": "2cc233eb-f388-4ecd-bfb5-dac3568d37ce",
   "metadata": {},
   "source": [
    "This is the state after Node1 completed for the first time. Note `next` is `Node2`and `count` is 1."
   ]
  },
  {
   "cell_type": "code",
   "execution_count": 48,
   "id": "240f5039-7916-4c2a-88d5-d363b2898e70",
   "metadata": {},
   "outputs": [
    {
     "data": {
      "text/plain": [
       "StateSnapshot(values={'lnode': 'node_1', 'scratch': 'hi', 'count': 1}, next=('Node2',), config={'configurable': {'thread_id': '1', 'checkpoint_ns': '', 'checkpoint_id': '1effc7ea-233d-6389-8001-b73b8cdbe2a5'}}, metadata={'source': 'loop', 'writes': {'Node1': {'lnode': 'node_1', 'count': 1}}, 'thread_id': '1', 'step': 1, 'parents': {}}, created_at='2025-03-09T00:37:08.915864+00:00', parent_config={'configurable': {'thread_id': '1', 'checkpoint_ns': '', 'checkpoint_id': '1effc7ea-2337-6f11-8000-fc008ffc12cd'}}, tasks=(PregelTask(id='8ced0ba0-6628-66b4-1279-b5e9fd4cc6f1', name='Node2', path=('__pregel_pull', 'Node2'), error=None, interrupts=(), state=None, result={'lnode': 'node_2', 'count': 1}),))"
      ]
     },
     "execution_count": 48,
     "metadata": {},
     "output_type": "execute_result"
    }
   ],
   "source": [
    "graph.get_state(states[-3])"
   ]
  },
  {
   "cell_type": "markdown",
   "id": "4872468e-4d23-4840-ae14-c06c1ab4f161",
   "metadata": {},
   "source": [
    "### Go Back in Time\n",
    "Use that state in `invoke` to go back in time. Notice it uses states[-3] as *current_state* and continues to node2,"
   ]
  },
  {
   "cell_type": "code",
   "execution_count": 49,
   "id": "e3049179-b901-4557-a9c4-78afb3d53d27",
   "metadata": {},
   "outputs": [
    {
     "name": "stdout",
     "output_type": "stream",
     "text": [
      "node2, count:1\n",
      "node1, count:2\n",
      "node2, count:3\n"
     ]
    },
    {
     "data": {
      "text/plain": [
       "{'lnode': 'node_2', 'scratch': 'hi', 'count': 4}"
      ]
     },
     "execution_count": 49,
     "metadata": {},
     "output_type": "execute_result"
    }
   ],
   "source": [
    "graph.invoke(None, states[-3])"
   ]
  },
  {
   "cell_type": "markdown",
   "id": "5bf7789a-df3d-4c7e-8899-d96a99d45717",
   "metadata": {},
   "source": [
    "Notice the new states are now in state history. Notice the counts on the far right."
   ]
  },
  {
   "cell_type": "code",
   "execution_count": 50,
   "id": "37fa44ec-9bd1-484b-a415-cc5f50b6e799",
   "metadata": {},
   "outputs": [
    {
     "name": "stdout",
     "output_type": "stream",
     "text": [
      "{'configurable': {'thread_id': '1', 'checkpoint_ns': '', 'checkpoint_id': '1effc7ea-243c-6322-8004-cfa09d24b2b5'}} 4\n",
      "{'configurable': {'thread_id': '1', 'checkpoint_ns': '', 'checkpoint_id': '1effc7ea-2438-67e1-8003-592402a5028b'}} 3\n",
      "{'configurable': {'thread_id': '1', 'checkpoint_ns': '', 'checkpoint_id': '1effc7ea-2433-6162-8002-f103f73e3379'}} 2\n",
      "{'configurable': {'thread_id': '1', 'checkpoint_ns': '', 'checkpoint_id': '1effc7ea-234b-65b5-8004-bce11dba3034'}} 4\n",
      "{'configurable': {'thread_id': '1', 'checkpoint_ns': '', 'checkpoint_id': '1effc7ea-2346-6008-8003-23234c1a9937'}} 3\n",
      "{'configurable': {'thread_id': '1', 'checkpoint_ns': '', 'checkpoint_id': '1effc7ea-2343-6239-8002-655f9b48595f'}} 2\n",
      "{'configurable': {'thread_id': '1', 'checkpoint_ns': '', 'checkpoint_id': '1effc7ea-233d-6389-8001-b73b8cdbe2a5'}} 1\n",
      "{'configurable': {'thread_id': '1', 'checkpoint_ns': '', 'checkpoint_id': '1effc7ea-2337-6f11-8000-fc008ffc12cd'}} 0\n",
      "{'configurable': {'thread_id': '1', 'checkpoint_ns': '', 'checkpoint_id': '1effc7ea-2331-6968-bfff-ea7eb33998ad'}} 0\n"
     ]
    }
   ],
   "source": [
    "thread = {\"configurable\": {\"thread_id\": str(1)}}\n",
    "for state in graph.get_state_history(thread):\n",
    "    print(state.config, state.values['count'])"
   ]
  },
  {
   "cell_type": "markdown",
   "id": "d3c8d305-6752-4cf6-a8cb-7babf3bbd643",
   "metadata": {},
   "source": [
    "You can see the details below. Lots of text, but try to find the node that start the new branch. Notice the parent *config* is not the previous entry in the stack, but is the entry from state[-3]."
   ]
  },
  {
   "cell_type": "code",
   "execution_count": 51,
   "id": "07d25697-fcf0-4a26-9485-3e195b0af225",
   "metadata": {},
   "outputs": [
    {
     "name": "stdout",
     "output_type": "stream",
     "text": [
      "StateSnapshot(values={'lnode': 'node_2', 'scratch': 'hi', 'count': 4}, next=(), config={'configurable': {'thread_id': '1', 'checkpoint_ns': '', 'checkpoint_id': '1effc7ea-243c-6322-8004-cfa09d24b2b5'}}, metadata={'source': 'loop', 'writes': {'Node2': {'lnode': 'node_2', 'count': 1}}, 'thread_id': '1', 'checkpoint_ns': '', 'checkpoint_id': '1effc7ea-233d-6389-8001-b73b8cdbe2a5', 'step': 4, 'parents': {}}, created_at='2025-03-09T00:37:09.020298+00:00', parent_config={'configurable': {'thread_id': '1', 'checkpoint_ns': '', 'checkpoint_id': '1effc7ea-2438-67e1-8003-592402a5028b'}}, tasks=()) \n",
      "\n",
      "StateSnapshot(values={'lnode': 'node_1', 'scratch': 'hi', 'count': 3}, next=('Node2',), config={'configurable': {'thread_id': '1', 'checkpoint_ns': '', 'checkpoint_id': '1effc7ea-2438-67e1-8003-592402a5028b'}}, metadata={'source': 'loop', 'writes': {'Node1': {'lnode': 'node_1', 'count': 1}}, 'thread_id': '1', 'checkpoint_ns': '', 'checkpoint_id': '1effc7ea-233d-6389-8001-b73b8cdbe2a5', 'step': 3, 'parents': {}}, created_at='2025-03-09T00:37:09.018777+00:00', parent_config={'configurable': {'thread_id': '1', 'checkpoint_ns': '', 'checkpoint_id': '1effc7ea-2433-6162-8002-f103f73e3379'}}, tasks=(PregelTask(id='51f52475-8a96-6def-122a-28e0d73d6803', name='Node2', path=('__pregel_pull', 'Node2'), error=None, interrupts=(), state=None, result={'lnode': 'node_2', 'count': 1}),)) \n",
      "\n",
      "StateSnapshot(values={'lnode': 'node_2', 'scratch': 'hi', 'count': 2}, next=('Node1',), config={'configurable': {'thread_id': '1', 'checkpoint_ns': '', 'checkpoint_id': '1effc7ea-2433-6162-8002-f103f73e3379'}}, metadata={'source': 'loop', 'writes': {'Node2': {'lnode': 'node_2', 'count': 1}}, 'thread_id': '1', 'checkpoint_ns': '', 'checkpoint_id': '1effc7ea-233d-6389-8001-b73b8cdbe2a5', 'step': 2, 'parents': {}}, created_at='2025-03-09T00:37:09.016551+00:00', parent_config={'configurable': {'thread_id': '1', 'checkpoint_ns': '', 'checkpoint_id': '1effc7ea-233d-6389-8001-b73b8cdbe2a5'}}, tasks=(PregelTask(id='763c8d1b-f783-5b9c-eada-0a00b410150c', name='Node1', path=('__pregel_pull', 'Node1'), error=None, interrupts=(), state=None, result={'lnode': 'node_1', 'count': 1}),)) \n",
      "\n",
      "StateSnapshot(values={'lnode': 'node_2', 'scratch': 'hi', 'count': 4}, next=(), config={'configurable': {'thread_id': '1', 'checkpoint_ns': '', 'checkpoint_id': '1effc7ea-234b-65b5-8004-bce11dba3034'}}, metadata={'source': 'loop', 'writes': {'Node2': {'lnode': 'node_2', 'count': 1}}, 'thread_id': '1', 'step': 4, 'parents': {}}, created_at='2025-03-09T00:37:08.921648+00:00', parent_config={'configurable': {'thread_id': '1', 'checkpoint_ns': '', 'checkpoint_id': '1effc7ea-2346-6008-8003-23234c1a9937'}}, tasks=()) \n",
      "\n",
      "StateSnapshot(values={'lnode': 'node_1', 'scratch': 'hi', 'count': 3}, next=('Node2',), config={'configurable': {'thread_id': '1', 'checkpoint_ns': '', 'checkpoint_id': '1effc7ea-2346-6008-8003-23234c1a9937'}}, metadata={'source': 'loop', 'writes': {'Node1': {'lnode': 'node_1', 'count': 1}}, 'thread_id': '1', 'step': 3, 'parents': {}}, created_at='2025-03-09T00:37:08.919466+00:00', parent_config={'configurable': {'thread_id': '1', 'checkpoint_ns': '', 'checkpoint_id': '1effc7ea-2343-6239-8002-655f9b48595f'}}, tasks=(PregelTask(id='93a0cf52-2473-cc20-f40c-74819b1dac87', name='Node2', path=('__pregel_pull', 'Node2'), error=None, interrupts=(), state=None, result={'lnode': 'node_2', 'count': 1}),)) \n",
      "\n",
      "StateSnapshot(values={'lnode': 'node_2', 'scratch': 'hi', 'count': 2}, next=('Node1',), config={'configurable': {'thread_id': '1', 'checkpoint_ns': '', 'checkpoint_id': '1effc7ea-2343-6239-8002-655f9b48595f'}}, metadata={'source': 'loop', 'writes': {'Node2': {'lnode': 'node_2', 'count': 1}}, 'thread_id': '1', 'step': 2, 'parents': {}}, created_at='2025-03-09T00:37:08.918284+00:00', parent_config={'configurable': {'thread_id': '1', 'checkpoint_ns': '', 'checkpoint_id': '1effc7ea-233d-6389-8001-b73b8cdbe2a5'}}, tasks=(PregelTask(id='10557563-eb77-b828-e9a2-bcc670bde217', name='Node1', path=('__pregel_pull', 'Node1'), error=None, interrupts=(), state=None, result={'lnode': 'node_1', 'count': 1}),)) \n",
      "\n",
      "StateSnapshot(values={'lnode': 'node_1', 'scratch': 'hi', 'count': 1}, next=('Node2',), config={'configurable': {'thread_id': '1', 'checkpoint_ns': '', 'checkpoint_id': '1effc7ea-233d-6389-8001-b73b8cdbe2a5'}}, metadata={'source': 'loop', 'writes': {'Node1': {'lnode': 'node_1', 'count': 1}}, 'thread_id': '1', 'step': 1, 'parents': {}}, created_at='2025-03-09T00:37:08.915864+00:00', parent_config={'configurable': {'thread_id': '1', 'checkpoint_ns': '', 'checkpoint_id': '1effc7ea-2337-6f11-8000-fc008ffc12cd'}}, tasks=(PregelTask(id='8ced0ba0-6628-66b4-1279-b5e9fd4cc6f1', name='Node2', path=('__pregel_pull', 'Node2'), error=None, interrupts=(), state=None, result={'lnode': 'node_2', 'count': 1}),)) \n",
      "\n",
      "StateSnapshot(values={'scratch': 'hi', 'count': 0}, next=('Node1',), config={'configurable': {'thread_id': '1', 'checkpoint_ns': '', 'checkpoint_id': '1effc7ea-2337-6f11-8000-fc008ffc12cd'}}, metadata={'source': 'loop', 'writes': None, 'thread_id': '1', 'step': 0, 'parents': {}}, created_at='2025-03-09T00:37:08.913704+00:00', parent_config={'configurable': {'thread_id': '1', 'checkpoint_ns': '', 'checkpoint_id': '1effc7ea-2331-6968-bfff-ea7eb33998ad'}}, tasks=(PregelTask(id='74997cfb-0269-e6a7-25ef-f0453b76b469', name='Node1', path=('__pregel_pull', 'Node1'), error=None, interrupts=(), state=None, result={'lnode': 'node_1', 'count': 1}),)) \n",
      "\n",
      "StateSnapshot(values={'count': 0}, next=('__start__',), config={'configurable': {'thread_id': '1', 'checkpoint_ns': '', 'checkpoint_id': '1effc7ea-2331-6968-bfff-ea7eb33998ad'}}, metadata={'source': 'input', 'writes': {'__start__': {'count': 0, 'scratch': 'hi'}}, 'thread_id': '1', 'step': -1, 'parents': {}}, created_at='2025-03-09T00:37:08.911114+00:00', parent_config=None, tasks=(PregelTask(id='ed106506-5653-fc51-d52b-fad3207fa001', name='__start__', path=('__pregel_pull', '__start__'), error=None, interrupts=(), state=None, result={'count': 0, 'scratch': 'hi'}),)) \n",
      "\n"
     ]
    }
   ],
   "source": [
    "thread = {\"configurable\": {\"thread_id\": str(1)}}\n",
    "for state in graph.get_state_history(thread):\n",
    "    print(state,\"\\n\")"
   ]
  },
  {
   "cell_type": "markdown",
   "id": "d4653f91-761c-4185-8ca2-83de758308c7",
   "metadata": {},
   "source": [
    "### Modify State\n",
    "Let's start by starting a fresh thread and running to clean out history."
   ]
  },
  {
   "cell_type": "code",
   "execution_count": 52,
   "id": "0eaf346c-ce22-4b6a-b18f-d200dfd991de",
   "metadata": {},
   "outputs": [
    {
     "name": "stdout",
     "output_type": "stream",
     "text": [
      "node1, count:0\n",
      "node2, count:1\n",
      "node1, count:2\n",
      "node2, count:3\n"
     ]
    },
    {
     "data": {
      "text/plain": [
       "{'lnode': 'node_2', 'scratch': 'hi', 'count': 4}"
      ]
     },
     "execution_count": 52,
     "metadata": {},
     "output_type": "execute_result"
    }
   ],
   "source": [
    "thread2 = {\"configurable\": {\"thread_id\": str(2)}}\n",
    "graph.invoke({\"count\":0, \"scratch\":\"hi\"},thread2)"
   ]
  },
  {
   "cell_type": "code",
   "execution_count": 53,
   "id": "90fc1797-25e6-4931-b173-2e520b71c372",
   "metadata": {},
   "outputs": [
    {
     "data": {
      "image/png": "[encoded data removed]",
      "text/plain": [
       "<IPython.core.display.Image object>"
      ]
     },
     "execution_count": 53,
     "metadata": {},
     "output_type": "execute_result"
    }
   ],
   "source": [
    "from IPython.display import Image\n",
    "\n",
    "Image(graph.get_graph().draw_png())"
   ]
  },
  {
   "cell_type": "code",
   "execution_count": 54,
   "id": "4ede9215-3133-4ad9-8dd5-6a8288ebe055",
   "metadata": {},
   "outputs": [
    {
     "name": "stdout",
     "output_type": "stream",
     "text": [
      "{'configurable': {'thread_id': '2', 'checkpoint_ns': '', 'checkpoint_id': '1effc7ea-24cc-649e-8004-966fe247112a'}} 4\n",
      "{'configurable': {'thread_id': '2', 'checkpoint_ns': '', 'checkpoint_id': '1effc7ea-24c6-6967-8003-3dbe0782c929'}} 3\n",
      "{'configurable': {'thread_id': '2', 'checkpoint_ns': '', 'checkpoint_id': '1effc7ea-24c3-6af4-8002-2fb7d004613b'}} 2\n",
      "{'configurable': {'thread_id': '2', 'checkpoint_ns': '', 'checkpoint_id': '1effc7ea-24be-63c0-8001-ed0ece2391c9'}} 1\n",
      "{'configurable': {'thread_id': '2', 'checkpoint_ns': '', 'checkpoint_id': '1effc7ea-24b9-6c94-8000-91f95acb739a'}} 0\n",
      "{'configurable': {'thread_id': '2', 'checkpoint_ns': '', 'checkpoint_id': '1effc7ea-24b3-6240-bfff-f76b099f7f1b'}} 0\n"
     ]
    }
   ],
   "source": [
    "states2 = []\n",
    "for state in graph.get_state_history(thread2):\n",
    "    states2.append(state.config)\n",
    "    print(state.config, state.values['count'])   "
   ]
  },
  {
   "cell_type": "markdown",
   "id": "23ab2c5f-cb1d-4851-8925-ce0af1f12a40",
   "metadata": {},
   "source": [
    "Start by grabbing a state."
   ]
  },
  {
   "cell_type": "code",
   "execution_count": 55,
   "id": "65313f6a-c7a9-49e3-aab2-0eb905e74a91",
   "metadata": {},
   "outputs": [
    {
     "data": {
      "text/plain": [
       "StateSnapshot(values={'lnode': 'node_1', 'scratch': 'hi', 'count': 1}, next=('Node2',), config={'configurable': {'thread_id': '2', 'checkpoint_ns': '', 'checkpoint_id': '1effc7ea-24be-63c0-8001-ed0ece2391c9'}}, metadata={'source': 'loop', 'writes': {'Node1': {'lnode': 'node_1', 'count': 1}}, 'thread_id': '2', 'step': 1, 'parents': {}}, created_at='2025-03-09T00:37:09.073566+00:00', parent_config={'configurable': {'thread_id': '2', 'checkpoint_ns': '', 'checkpoint_id': '1effc7ea-24b9-6c94-8000-91f95acb739a'}}, tasks=(PregelTask(id='b39e17c8-27e5-2647-916e-0e5d56e08163', name='Node2', path=('__pregel_pull', 'Node2'), error=None, interrupts=(), state=None, result={'lnode': 'node_2', 'count': 1}),))"
      ]
     },
     "execution_count": 55,
     "metadata": {},
     "output_type": "execute_result"
    }
   ],
   "source": [
    "save_state = graph.get_state(states2[-3])\n",
    "save_state"
   ]
  },
  {
   "cell_type": "markdown",
   "id": "c81b354b-8c2d-4150-9150-ac9d8486af02",
   "metadata": {},
   "source": [
    "Now modify the values. One subtle item to note: Recall when agent state was defined, `count` used `operator.add` to indicate that values are *added* to the current value. Here, `-3` will be added to the current count value rather than replace it."
   ]
  },
  {
   "cell_type": "code",
   "execution_count": 56,
   "id": "dae6527b-912f-4f86-a07b-1fae684aaa77",
   "metadata": {},
   "outputs": [
    {
     "data": {
      "text/plain": [
       "StateSnapshot(values={'lnode': 'node_1', 'scratch': 'hello', 'count': -3}, next=('Node2',), config={'configurable': {'thread_id': '2', 'checkpoint_ns': '', 'checkpoint_id': '1effc7ea-24be-63c0-8001-ed0ece2391c9'}}, metadata={'source': 'loop', 'writes': {'Node1': {'lnode': 'node_1', 'count': 1}}, 'thread_id': '2', 'step': 1, 'parents': {}}, created_at='2025-03-09T00:37:09.073566+00:00', parent_config={'configurable': {'thread_id': '2', 'checkpoint_ns': '', 'checkpoint_id': '1effc7ea-24b9-6c94-8000-91f95acb739a'}}, tasks=(PregelTask(id='b39e17c8-27e5-2647-916e-0e5d56e08163', name='Node2', path=('__pregel_pull', 'Node2'), error=None, interrupts=(), state=None, result={'lnode': 'node_2', 'count': 1}),))"
      ]
     },
     "execution_count": 56,
     "metadata": {},
     "output_type": "execute_result"
    }
   ],
   "source": [
    "save_state.values[\"count\"] = -3\n",
    "save_state.values[\"scratch\"] = \"hello\"\n",
    "save_state"
   ]
  },
  {
   "cell_type": "markdown",
   "id": "904bb1eb-2e39-472f-ae56-d8e95e2f1ab6",
   "metadata": {},
   "source": [
    "Now update the state. This creates a new entry at the *top*, or *latest* entry in memory. This will become the current state."
   ]
  },
  {
   "cell_type": "code",
   "execution_count": 57,
   "id": "bcd78670-b119-45fa-934b-2ce2d477b4c2",
   "metadata": {},
   "outputs": [
    {
     "data": {
      "text/plain": [
       "{'configurable': {'thread_id': '2',\n",
       "  'checkpoint_ns': '',\n",
       "  'checkpoint_id': '1effc7ea-2623-6e8a-8005-04c03550b828'}}"
      ]
     },
     "execution_count": 57,
     "metadata": {},
     "output_type": "execute_result"
    }
   ],
   "source": [
    "graph.update_state(thread2,save_state.values)"
   ]
  },
  {
   "cell_type": "markdown",
   "id": "1bb3beed-1c44-4364-bde9-b29ea5e8ca30",
   "metadata": {},
   "source": [
    "Current state is at the top. You can match the `thread_ts`.\n",
    "Notice the `parent_config`, `thread_ts` of the new node - it is the previous node."
   ]
  },
  {
   "cell_type": "code",
   "execution_count": 58,
   "id": "231c7011-afe4-44bf-9e19-16220004912f",
   "metadata": {},
   "outputs": [
    {
     "name": "stdout",
     "output_type": "stream",
     "text": [
      "StateSnapshot(values={'lnode': 'node_1', 'scratch': 'hello', 'count': 1}, next=('Node1',), config={'configurable': {'thread_id': '2', 'checkpoint_ns': '', 'checkpoint_id': '1effc7ea-2623-6e8a-8005-04c03550b828'}}, metadata={'source': 'update', 'writes': {'Node2': {'lnode': 'node_1', 'scratch': 'hello', 'count': -3}}, 'thread_id': '2', 'step': 5, 'parents': {}}, created_at='2025-03-09T00:37:09.220060+00:00', parent_config={'configurable': {'thread_id': '2', 'checkpoint_ns': '', 'checkpoint_id': '1effc7ea-24cc-649e-8004-966fe247112a'}}, tasks=(PregelTask(id='ac8a9d31-183c-2ea4-ef05-a9dda2eabb52', name='Node1', path=('__pregel_pull', 'Node1'), error=None, interrupts=(), state=None, result=None),)) \n",
      "\n",
      "StateSnapshot(values={'lnode': 'node_2', 'scratch': 'hi', 'count': 4}, next=(), config={'configurable': {'thread_id': '2', 'checkpoint_ns': '', 'checkpoint_id': '1effc7ea-24cc-649e-8004-966fe247112a'}}, metadata={'source': 'loop', 'writes': {'Node2': {'lnode': 'node_2', 'count': 1}}, 'thread_id': '2', 'step': 4, 'parents': {}}, created_at='2025-03-09T00:37:09.079316+00:00', parent_config={'configurable': {'thread_id': '2', 'checkpoint_ns': '', 'checkpoint_id': '1effc7ea-24c6-6967-8003-3dbe0782c929'}}, tasks=()) \n",
      "\n",
      "StateSnapshot(values={'lnode': 'node_1', 'scratch': 'hi', 'count': 3}, next=('Node2',), config={'configurable': {'thread_id': '2', 'checkpoint_ns': '', 'checkpoint_id': '1effc7ea-24c6-6967-8003-3dbe0782c929'}}, metadata={'source': 'loop', 'writes': {'Node1': {'lnode': 'node_1', 'count': 1}}, 'thread_id': '2', 'step': 3, 'parents': {}}, created_at='2025-03-09T00:37:09.076984+00:00', parent_config={'configurable': {'thread_id': '2', 'checkpoint_ns': '', 'checkpoint_id': '1effc7ea-24c3-6af4-8002-2fb7d004613b'}}, tasks=(PregelTask(id='c20794db-5d66-11ff-70b0-eaecd2ca17b4', name='Node2', path=('__pregel_pull', 'Node2'), error=None, interrupts=(), state=None, result={'lnode': 'node_2', 'count': 1}),)) \n",
      "\n"
     ]
    }
   ],
   "source": [
    "for i, state in enumerate(graph.get_state_history(thread2)):\n",
    "    if i >= 3:  #print latest 3\n",
    "        break\n",
    "    print(state, '\\n')"
   ]
  },
  {
   "cell_type": "markdown",
   "id": "62d34cd8-99b6-4224-b345-fe8475f2a602",
   "metadata": {},
   "source": [
    "### Try again with `as_node`\n",
    "When writing using `update_state()`, you want to define to the graph logic which node should be assumed as the writer. What this does is allow th graph logic to find the node on the graph. After writing the values, the `next()` value is computed by travesing the graph using the new state. In this case, the state we have was written by `Node1`. The graph can then compute the next state as being `Node2`. Note that in some graphs, this may involve going through conditional edges!  Let's try this out."
   ]
  },
  {
   "cell_type": "code",
   "execution_count": 59,
   "id": "7bfda2f6-5887-40fa-a733-a4357ad857d8",
   "metadata": {},
   "outputs": [
    {
     "data": {
      "text/plain": [
       "{'configurable': {'thread_id': '2',\n",
       "  'checkpoint_ns': '',\n",
       "  'checkpoint_id': '1effc7ea-2674-628e-8006-631f57a6a7ab'}}"
      ]
     },
     "execution_count": 59,
     "metadata": {},
     "output_type": "execute_result"
    }
   ],
   "source": [
    "graph.update_state(thread2,save_state.values, as_node=\"Node1\")"
   ]
  },
  {
   "cell_type": "code",
   "execution_count": 60,
   "id": "0788ac0f-5f64-49b2-b335-3094bbb19143",
   "metadata": {},
   "outputs": [
    {
     "name": "stdout",
     "output_type": "stream",
     "text": [
      "StateSnapshot(values={'lnode': 'node_1', 'scratch': 'hello', 'count': -2}, next=('Node2',), config={'configurable': {'thread_id': '2', 'checkpoint_ns': '', 'checkpoint_id': '1effc7ea-2674-628e-8006-631f57a6a7ab'}}, metadata={'source': 'update', 'writes': {'Node1': {'lnode': 'node_1', 'scratch': 'hello', 'count': -3}}, 'thread_id': '2', 'step': 6, 'parents': {}}, created_at='2025-03-09T00:37:09.252926+00:00', parent_config={'configurable': {'thread_id': '2', 'checkpoint_ns': '', 'checkpoint_id': '1effc7ea-2623-6e8a-8005-04c03550b828'}}, tasks=(PregelTask(id='77489404-eac3-184b-4eb4-d552c3134fca', name='Node2', path=('__pregel_pull', 'Node2'), error=None, interrupts=(), state=None, result=None),)) \n",
      "\n",
      "StateSnapshot(values={'lnode': 'node_1', 'scratch': 'hello', 'count': 1}, next=('Node1',), config={'configurable': {'thread_id': '2', 'checkpoint_ns': '', 'checkpoint_id': '1effc7ea-2623-6e8a-8005-04c03550b828'}}, metadata={'source': 'update', 'writes': {'Node2': {'lnode': 'node_1', 'scratch': 'hello', 'count': -3}}, 'thread_id': '2', 'step': 5, 'parents': {}}, created_at='2025-03-09T00:37:09.220060+00:00', parent_config={'configurable': {'thread_id': '2', 'checkpoint_ns': '', 'checkpoint_id': '1effc7ea-24cc-649e-8004-966fe247112a'}}, tasks=(PregelTask(id='ac8a9d31-183c-2ea4-ef05-a9dda2eabb52', name='Node1', path=('__pregel_pull', 'Node1'), error=None, interrupts=(), state=None, result=None),)) \n",
      "\n",
      "StateSnapshot(values={'lnode': 'node_2', 'scratch': 'hi', 'count': 4}, next=(), config={'configurable': {'thread_id': '2', 'checkpoint_ns': '', 'checkpoint_id': '1effc7ea-24cc-649e-8004-966fe247112a'}}, metadata={'source': 'loop', 'writes': {'Node2': {'lnode': 'node_2', 'count': 1}}, 'thread_id': '2', 'step': 4, 'parents': {}}, created_at='2025-03-09T00:37:09.079316+00:00', parent_config={'configurable': {'thread_id': '2', 'checkpoint_ns': '', 'checkpoint_id': '1effc7ea-24c6-6967-8003-3dbe0782c929'}}, tasks=()) \n",
      "\n"
     ]
    }
   ],
   "source": [
    "for i, state in enumerate(graph.get_state_history(thread2)):\n",
    "    if i >= 3:  #print latest 3\n",
    "        break\n",
    "    print(state, '\\n')"
   ]
  },
  {
   "cell_type": "markdown",
   "id": "18a8f52e-d1a6-46a0-a519-6fda0cb91624",
   "metadata": {},
   "source": [
    "`invoke` will run from the current state if not given a particular `thread_ts`. This is now the entry that was just added."
   ]
  },
  {
   "cell_type": "code",
   "execution_count": 61,
   "id": "9650d355-07c1-4a7d-a21d-4231673a7ee9",
   "metadata": {},
   "outputs": [
    {
     "name": "stdout",
     "output_type": "stream",
     "text": [
      "node2, count:-2\n",
      "node1, count:-1\n",
      "node2, count:0\n",
      "node1, count:1\n",
      "node2, count:2\n"
     ]
    },
    {
     "data": {
      "text/plain": [
       "{'lnode': 'node_2', 'scratch': 'hello', 'count': 3}"
      ]
     },
     "execution_count": 61,
     "metadata": {},
     "output_type": "execute_result"
    }
   ],
   "source": [
    "graph.invoke(None,thread2)"
   ]
  },
  {
   "cell_type": "markdown",
   "id": "c59d3069-8fe7-4a05-9bfd-8e3a2e4590ad",
   "metadata": {},
   "source": [
    "Print out the state history, notice the `scratch` value change on the latest entries."
   ]
  },
  {
   "cell_type": "code",
   "execution_count": 62,
   "id": "35088704-2b18-4d44-ba0e-dccbfde6ed9e",
   "metadata": {},
   "outputs": [
    {
     "name": "stdout",
     "output_type": "stream",
     "text": [
      "StateSnapshot(values={'lnode': 'node_2', 'scratch': 'hello', 'count': 3}, next=(), config={'configurable': {'thread_id': '2', 'checkpoint_ns': '', 'checkpoint_id': '1effc7ea-26d7-6f93-800b-f5d1345a64db'}}, metadata={'source': 'loop', 'writes': {'Node2': {'lnode': 'node_2', 'count': 1}}, 'thread_id': '2', 'step': 11, 'parents': {}}, created_at='2025-03-09T00:37:09.293830+00:00', parent_config={'configurable': {'thread_id': '2', 'checkpoint_ns': '', 'checkpoint_id': '1effc7ea-26d6-6064-800a-4fed43c60011'}}, tasks=()) \n",
      "\n",
      "StateSnapshot(values={'lnode': 'node_1', 'scratch': 'hello', 'count': 2}, next=('Node2',), config={'configurable': {'thread_id': '2', 'checkpoint_ns': '', 'checkpoint_id': '1effc7ea-26d6-6064-800a-4fed43c60011'}}, metadata={'source': 'loop', 'writes': {'Node1': {'lnode': 'node_1', 'count': 1}}, 'thread_id': '2', 'step': 10, 'parents': {}}, created_at='2025-03-09T00:37:09.293040+00:00', parent_config={'configurable': {'thread_id': '2', 'checkpoint_ns': '', 'checkpoint_id': '1effc7ea-26d1-6e3a-8009-38e52525f1a2'}}, tasks=(PregelTask(id='3a6cf70a-c757-cf40-bfd8-35f094eec63a', name='Node2', path=('__pregel_pull', 'Node2'), error=None, interrupts=(), state=None, result={'lnode': 'node_2', 'count': 1}),)) \n",
      "\n",
      "StateSnapshot(values={'lnode': 'node_2', 'scratch': 'hello', 'count': 1}, next=('Node1',), config={'configurable': {'thread_id': '2', 'checkpoint_ns': '', 'checkpoint_id': '1effc7ea-26d1-6e3a-8009-38e52525f1a2'}}, metadata={'source': 'loop', 'writes': {'Node2': {'lnode': 'node_2', 'count': 1}}, 'thread_id': '2', 'step': 9, 'parents': {}}, created_at='2025-03-09T00:37:09.291327+00:00', parent_config={'configurable': {'thread_id': '2', 'checkpoint_ns': '', 'checkpoint_id': '1effc7ea-26ce-621d-8008-c16940869c76'}}, tasks=(PregelTask(id='ac343e86-c0b6-25a3-8425-ee44afe6c4a9', name='Node1', path=('__pregel_pull', 'Node1'), error=None, interrupts=(), state=None, result={'lnode': 'node_1', 'count': 1}),)) \n",
      "\n",
      "StateSnapshot(values={'lnode': 'node_1', 'scratch': 'hello', 'count': 0}, next=('Node2',), config={'configurable': {'thread_id': '2', 'checkpoint_ns': '', 'checkpoint_id': '1effc7ea-26ce-621d-8008-c16940869c76'}}, metadata={'source': 'loop', 'writes': {'Node1': {'lnode': 'node_1', 'count': 1}}, 'thread_id': '2', 'step': 8, 'parents': {}}, created_at='2025-03-09T00:37:09.289785+00:00', parent_config={'configurable': {'thread_id': '2', 'checkpoint_ns': '', 'checkpoint_id': '1effc7ea-26c9-6819-8007-39875fb8f5bc'}}, tasks=(PregelTask(id='5d7dc73e-7872-6719-e5d1-1a239aece537', name='Node2', path=('__pregel_pull', 'Node2'), error=None, interrupts=(), state=None, result={'lnode': 'node_2', 'count': 1}),)) \n",
      "\n",
      "StateSnapshot(values={'lnode': 'node_2', 'scratch': 'hello', 'count': -1}, next=('Node1',), config={'configurable': {'thread_id': '2', 'checkpoint_ns': '', 'checkpoint_id': '1effc7ea-26c9-6819-8007-39875fb8f5bc'}}, metadata={'source': 'loop', 'writes': {'Node2': {'lnode': 'node_2', 'count': 1}}, 'thread_id': '2', 'step': 7, 'parents': {}}, created_at='2025-03-09T00:37:09.287887+00:00', parent_config={'configurable': {'thread_id': '2', 'checkpoint_ns': '', 'checkpoint_id': '1effc7ea-2674-628e-8006-631f57a6a7ab'}}, tasks=(PregelTask(id='efc6e927-71fc-cee8-435a-21e4a4b36c2c', name='Node1', path=('__pregel_pull', 'Node1'), error=None, interrupts=(), state=None, result={'lnode': 'node_1', 'count': 1}),)) \n",
      "\n",
      "StateSnapshot(values={'lnode': 'node_1', 'scratch': 'hello', 'count': -2}, next=('Node2',), config={'configurable': {'thread_id': '2', 'checkpoint_ns': '', 'checkpoint_id': '1effc7ea-2674-628e-8006-631f57a6a7ab'}}, metadata={'source': 'update', 'writes': {'Node1': {'lnode': 'node_1', 'scratch': 'hello', 'count': -3}}, 'thread_id': '2', 'step': 6, 'parents': {}}, created_at='2025-03-09T00:37:09.252926+00:00', parent_config={'configurable': {'thread_id': '2', 'checkpoint_ns': '', 'checkpoint_id': '1effc7ea-2623-6e8a-8005-04c03550b828'}}, tasks=(PregelTask(id='77489404-eac3-184b-4eb4-d552c3134fca', name='Node2', path=('__pregel_pull', 'Node2'), error=None, interrupts=(), state=None, result={'lnode': 'node_2', 'count': 1}),)) \n",
      "\n",
      "StateSnapshot(values={'lnode': 'node_1', 'scratch': 'hello', 'count': 1}, next=('Node1',), config={'configurable': {'thread_id': '2', 'checkpoint_ns': '', 'checkpoint_id': '1effc7ea-2623-6e8a-8005-04c03550b828'}}, metadata={'source': 'update', 'writes': {'Node2': {'lnode': 'node_1', 'scratch': 'hello', 'count': -3}}, 'thread_id': '2', 'step': 5, 'parents': {}}, created_at='2025-03-09T00:37:09.220060+00:00', parent_config={'configurable': {'thread_id': '2', 'checkpoint_ns': '', 'checkpoint_id': '1effc7ea-24cc-649e-8004-966fe247112a'}}, tasks=(PregelTask(id='ac8a9d31-183c-2ea4-ef05-a9dda2eabb52', name='Node1', path=('__pregel_pull', 'Node1'), error=None, interrupts=(), state=None, result=None),)) \n",
      "\n",
      "StateSnapshot(values={'lnode': 'node_2', 'scratch': 'hi', 'count': 4}, next=(), config={'configurable': {'thread_id': '2', 'checkpoint_ns': '', 'checkpoint_id': '1effc7ea-24cc-649e-8004-966fe247112a'}}, metadata={'source': 'loop', 'writes': {'Node2': {'lnode': 'node_2', 'count': 1}}, 'thread_id': '2', 'step': 4, 'parents': {}}, created_at='2025-03-09T00:37:09.079316+00:00', parent_config={'configurable': {'thread_id': '2', 'checkpoint_ns': '', 'checkpoint_id': '1effc7ea-24c6-6967-8003-3dbe0782c929'}}, tasks=()) \n",
      "\n",
      "StateSnapshot(values={'lnode': 'node_1', 'scratch': 'hi', 'count': 3}, next=('Node2',), config={'configurable': {'thread_id': '2', 'checkpoint_ns': '', 'checkpoint_id': '1effc7ea-24c6-6967-8003-3dbe0782c929'}}, metadata={'source': 'loop', 'writes': {'Node1': {'lnode': 'node_1', 'count': 1}}, 'thread_id': '2', 'step': 3, 'parents': {}}, created_at='2025-03-09T00:37:09.076984+00:00', parent_config={'configurable': {'thread_id': '2', 'checkpoint_ns': '', 'checkpoint_id': '1effc7ea-24c3-6af4-8002-2fb7d004613b'}}, tasks=(PregelTask(id='c20794db-5d66-11ff-70b0-eaecd2ca17b4', name='Node2', path=('__pregel_pull', 'Node2'), error=None, interrupts=(), state=None, result={'lnode': 'node_2', 'count': 1}),)) \n",
      "\n",
      "StateSnapshot(values={'lnode': 'node_2', 'scratch': 'hi', 'count': 2}, next=('Node1',), config={'configurable': {'thread_id': '2', 'checkpoint_ns': '', 'checkpoint_id': '1effc7ea-24c3-6af4-8002-2fb7d004613b'}}, metadata={'source': 'loop', 'writes': {'Node2': {'lnode': 'node_2', 'count': 1}}, 'thread_id': '2', 'step': 2, 'parents': {}}, created_at='2025-03-09T00:37:09.075794+00:00', parent_config={'configurable': {'thread_id': '2', 'checkpoint_ns': '', 'checkpoint_id': '1effc7ea-24be-63c0-8001-ed0ece2391c9'}}, tasks=(PregelTask(id='e0b33678-cff2-9116-fe0e-6fd48b1845e1', name='Node1', path=('__pregel_pull', 'Node1'), error=None, interrupts=(), state=None, result={'lnode': 'node_1', 'count': 1}),)) \n",
      "\n",
      "StateSnapshot(values={'lnode': 'node_1', 'scratch': 'hi', 'count': 1}, next=('Node2',), config={'configurable': {'thread_id': '2', 'checkpoint_ns': '', 'checkpoint_id': '1effc7ea-24be-63c0-8001-ed0ece2391c9'}}, metadata={'source': 'loop', 'writes': {'Node1': {'lnode': 'node_1', 'count': 1}}, 'thread_id': '2', 'step': 1, 'parents': {}}, created_at='2025-03-09T00:37:09.073566+00:00', parent_config={'configurable': {'thread_id': '2', 'checkpoint_ns': '', 'checkpoint_id': '1effc7ea-24b9-6c94-8000-91f95acb739a'}}, tasks=(PregelTask(id='b39e17c8-27e5-2647-916e-0e5d56e08163', name='Node2', path=('__pregel_pull', 'Node2'), error=None, interrupts=(), state=None, result={'lnode': 'node_2', 'count': 1}),)) \n",
      "\n",
      "StateSnapshot(values={'scratch': 'hi', 'count': 0}, next=('Node1',), config={'configurable': {'thread_id': '2', 'checkpoint_ns': '', 'checkpoint_id': '1effc7ea-24b9-6c94-8000-91f95acb739a'}}, metadata={'source': 'loop', 'writes': None, 'thread_id': '2', 'step': 0, 'parents': {}}, created_at='2025-03-09T00:37:09.071749+00:00', parent_config={'configurable': {'thread_id': '2', 'checkpoint_ns': '', 'checkpoint_id': '1effc7ea-24b3-6240-bfff-f76b099f7f1b'}}, tasks=(PregelTask(id='b106c6bf-e0a9-68bb-573b-ff4a5eee6966', name='Node1', path=('__pregel_pull', 'Node1'), error=None, interrupts=(), state=None, result={'lnode': 'node_1', 'count': 1}),)) \n",
      "\n",
      "StateSnapshot(values={'count': 0}, next=('__start__',), config={'configurable': {'thread_id': '2', 'checkpoint_ns': '', 'checkpoint_id': '1effc7ea-24b3-6240-bfff-f76b099f7f1b'}}, metadata={'source': 'input', 'writes': {'__start__': {'count': 0, 'scratch': 'hi'}}, 'thread_id': '2', 'step': -1, 'parents': {}}, created_at='2025-03-09T00:37:09.069037+00:00', parent_config=None, tasks=(PregelTask(id='203ec6d8-c249-fcb3-ae77-8e436375fad5', name='__start__', path=('__pregel_pull', '__start__'), error=None, interrupts=(), state=None, result={'count': 0, 'scratch': 'hi'}),)) \n",
      "\n"
     ]
    }
   ],
   "source": [
    "for state in graph.get_state_history(thread2):\n",
    "    print(state,\"\\n\")"
   ]
  }
 ],
 "metadata": {
  "kernelspec": {
   "display_name": "yolo",
   "language": "python",
   "name": "python3"
  },
  "language_info": {
   "codemirror_mode": {
    "name": "ipython",
    "version": 3
   },
   "file_extension": ".py",
   "mimetype": "text/x-python",
   "name": "python",
   "nbconvert_exporter": "python",
   "pygments_lexer": "ipython3",
   "version": "3.10.16"
  }
 },
 "nbformat": 4,
 "nbformat_minor": 5
}
